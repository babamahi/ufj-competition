{
 "cells": [
  {
   "cell_type": "code",
   "execution_count": 18,
   "id": "dd8163e0",
   "metadata": {},
   "outputs": [],
   "source": [
    "from sklearn.linear_model import LogisticRegression\n",
    "import pandas as pd\n",
    "import numpy as np\n",
    "import matplotlib.pyplot as plt"
   ]
  },
  {
   "cell_type": "code",
   "execution_count": 19,
   "id": "12eed59c",
   "metadata": {},
   "outputs": [],
   "source": [
    "###各データのパス###\n",
    "# 訓練用データ\n",
    "train_path = './competition/' + 'train' + '.csv'\n",
    "# テストデータ\n",
    "test_path = './competition/' + 'test' + '.csv'\n",
    "# 提出用データ\n",
    "submit_path = './competition/' + 'submit_sample' + '.csv'"
   ]
  },
  {
   "cell_type": "markdown",
   "id": "bacaac99",
   "metadata": {},
   "source": [
    "### 1.訓練用データの確認"
   ]
  },
  {
   "cell_type": "code",
   "execution_count": 20,
   "id": "4dd8bbe6",
   "metadata": {},
   "outputs": [
    {
     "name": "stdout",
     "output_type": "stream",
     "text": [
      "         dateid      y week  soldout           name   kcal   remarks event  \\\n",
      "0    2014-04-01  125.0  Tue        1          メンチカツ  377.0       NaN   NaN   \n",
      "1    2014-04-02   99.0  Wed        0           肉じゃが  380.0       NaN   NaN   \n",
      "2    2014-04-03  100.0  Thu        1             酢豚  390.0       NaN   NaN   \n",
      "3    2014-04-04   90.0  Fri        1     和風ソースハンバーグ  350.0       NaN   NaN   \n",
      "4    2014-04-07  107.0  Mon        0        青梗菜牛肉炒め  387.0       NaN   NaN   \n",
      "..          ...    ...  ...      ...            ...    ...       ...   ...   \n",
      "332  2015-08-21  137.0  Fri        0         チキンカレー    NaN  お楽しみメニュー   NaN   \n",
      "333  2015-09-01   80.0  Tue        1     自家製手作りトンカツ  423.0    弁当種類増↓   NaN   \n",
      "334  2015-09-02   74.0  Wed        0       チーズメンチカツ  463.0       NaN   NaN   \n",
      "335  2015-09-03   66.0  Thu        1  鶏肉黒胡椒焼きおろしソース  420.0       NaN   NaN   \n",
      "336  2015-09-04   60.0  Fri        1         汁なし担担麺  435.0       NaN   NaN   \n",
      "\n",
      "     payday       weather  precipitation  temperature  \n",
      "0       NaN         晴時々薄曇            0.0         13.9  \n",
      "1       NaN         薄曇一時晴            0.0         15.2  \n",
      "2       NaN            大雨           65.0         13.8  \n",
      "3       NaN  晴時々曇一時雨、雷を伴う           40.0         15.3  \n",
      "4       NaN        晴後一時薄曇            0.0         11.4  \n",
      "..      ...           ...            ...          ...  \n",
      "332     NaN         曇後一時雨            2.5         26.0  \n",
      "333     NaN      雨後曇、雷を伴う           12.0         23.7  \n",
      "334     NaN        曇時々雨後晴            5.5         26.9  \n",
      "335     NaN         曇後一時雨            1.5         25.7  \n",
      "336     NaN    曇後一時雨、雷を伴う           14.0         24.7  \n",
      "\n",
      "[337 rows x 12 columns]\n",
      "(337, 12)\n",
      "<class 'pandas.core.frame.DataFrame'>\n",
      "RangeIndex: 337 entries, 0 to 336\n",
      "Data columns (total 12 columns):\n",
      " #   Column         Non-Null Count  Dtype  \n",
      "---  ------         --------------  -----  \n",
      " 0   dateid         337 non-null    object \n",
      " 1   y              337 non-null    float64\n",
      " 2   week           337 non-null    object \n",
      " 3   soldout        337 non-null    int64  \n",
      " 4   name           337 non-null    object \n",
      " 5   kcal           304 non-null    float64\n",
      " 6   remarks        49 non-null     object \n",
      " 7   event          28 non-null     object \n",
      " 8   payday         17 non-null     float64\n",
      " 9   weather        337 non-null    object \n",
      " 10  precipitation  337 non-null    float64\n",
      " 11  temperature    337 non-null    float64\n",
      "dtypes: float64(5), int64(1), object(6)\n",
      "memory usage: 31.7+ KB\n",
      "None\n"
     ]
    }
   ],
   "source": [
    "train_data = pd.read_csv(train_path)\n",
    "print(train_data)\n",
    "print(train_data.shape)\n",
    "print(train_data.info())"
   ]
  },
  {
   "cell_type": "code",
   "execution_count": 21,
   "id": "3d53a2ff",
   "metadata": {},
   "outputs": [
    {
     "data": {
      "text/plain": [
       "count    337.000000\n",
       "mean       5.376855\n",
       "std       14.342239\n",
       "min        0.000000\n",
       "25%        0.000000\n",
       "50%        0.000000\n",
       "75%        4.500000\n",
       "max      123.500000\n",
       "Name: precipitation, dtype: float64"
      ]
     },
     "execution_count": 21,
     "metadata": {},
     "output_type": "execute_result"
    }
   ],
   "source": [
    "train_data['precipitation'].describe()"
   ]
  },
  {
   "cell_type": "code",
   "execution_count": 4,
   "id": "919153c6",
   "metadata": {},
   "outputs": [
    {
     "name": "stdout",
     "output_type": "stream",
     "text": [
      "object\n"
     ]
    }
   ],
   "source": [
    "print(train_data['dateid'].dtypes)"
   ]
  },
  {
   "cell_type": "code",
   "execution_count": 5,
   "id": "9b0fb161",
   "metadata": {},
   "outputs": [],
   "source": [
    "### object型からdatetime64[ns]\n",
    "train_data['Last UpDated'] = pd.to_datetime(train_data['dateid'])"
   ]
  },
  {
   "cell_type": "code",
   "execution_count": 6,
   "id": "43b73fcd",
   "metadata": {},
   "outputs": [
    {
     "name": "stdout",
     "output_type": "stream",
     "text": [
      "0     2014-04-01\n",
      "1     2014-04-02\n",
      "2     2014-04-03\n",
      "3     2014-04-04\n",
      "4     2014-04-07\n",
      "         ...    \n",
      "332   2015-08-21\n",
      "333   2015-09-01\n",
      "334   2015-09-02\n",
      "335   2015-09-03\n",
      "336   2015-09-04\n",
      "Name: Last UpDated, Length: 337, dtype: datetime64[ns]\n"
     ]
    }
   ],
   "source": [
    "print(train_data['Last UpDated'])"
   ]
  },
  {
   "cell_type": "code",
   "execution_count": 7,
   "id": "3120567e",
   "metadata": {},
   "outputs": [],
   "source": [
    "#'年'の取得\n",
    "train_data['year'] = train_data['Last UpDated'].dt.year\n",
    "# '月'の取得\n",
    "train_data['month'] = train_data['Last UpDated'].dt.month\n",
    "#'日'の取得\n",
    "train_data['day'] = train_data['Last UpDated'].dt.day"
   ]
  },
  {
   "cell_type": "code",
   "execution_count": 8,
   "id": "ab69d456",
   "metadata": {},
   "outputs": [
    {
     "name": "stdout",
     "output_type": "stream",
     "text": [
      "         dateid      y week  soldout           name   kcal   remarks event  \\\n",
      "0    2014-04-01  125.0  Tue        1          メンチカツ  377.0       NaN   NaN   \n",
      "1    2014-04-02   99.0  Wed        0           肉じゃが  380.0       NaN   NaN   \n",
      "2    2014-04-03  100.0  Thu        1             酢豚  390.0       NaN   NaN   \n",
      "3    2014-04-04   90.0  Fri        1     和風ソースハンバーグ  350.0       NaN   NaN   \n",
      "4    2014-04-07  107.0  Mon        0        青梗菜牛肉炒め  387.0       NaN   NaN   \n",
      "..          ...    ...  ...      ...            ...    ...       ...   ...   \n",
      "332  2015-08-21  137.0  Fri        0         チキンカレー    NaN  お楽しみメニュー   NaN   \n",
      "333  2015-09-01   80.0  Tue        1     自家製手作りトンカツ  423.0    弁当種類増↓   NaN   \n",
      "334  2015-09-02   74.0  Wed        0       チーズメンチカツ  463.0       NaN   NaN   \n",
      "335  2015-09-03   66.0  Thu        1  鶏肉黒胡椒焼きおろしソース  420.0       NaN   NaN   \n",
      "336  2015-09-04   60.0  Fri        1         汁なし担担麺  435.0       NaN   NaN   \n",
      "\n",
      "     payday       weather  precipitation  temperature Last UpDated  year  \\\n",
      "0       NaN         晴時々薄曇            0.0         13.9   2014-04-01  2014   \n",
      "1       NaN         薄曇一時晴            0.0         15.2   2014-04-02  2014   \n",
      "2       NaN            大雨           65.0         13.8   2014-04-03  2014   \n",
      "3       NaN  晴時々曇一時雨、雷を伴う           40.0         15.3   2014-04-04  2014   \n",
      "4       NaN        晴後一時薄曇            0.0         11.4   2014-04-07  2014   \n",
      "..      ...           ...            ...          ...          ...   ...   \n",
      "332     NaN         曇後一時雨            2.5         26.0   2015-08-21  2015   \n",
      "333     NaN      雨後曇、雷を伴う           12.0         23.7   2015-09-01  2015   \n",
      "334     NaN        曇時々雨後晴            5.5         26.9   2015-09-02  2015   \n",
      "335     NaN         曇後一時雨            1.5         25.7   2015-09-03  2015   \n",
      "336     NaN    曇後一時雨、雷を伴う           14.0         24.7   2015-09-04  2015   \n",
      "\n",
      "     month  day  \n",
      "0        4    1  \n",
      "1        4    2  \n",
      "2        4    3  \n",
      "3        4    4  \n",
      "4        4    7  \n",
      "..     ...  ...  \n",
      "332      8   21  \n",
      "333      9    1  \n",
      "334      9    2  \n",
      "335      9    3  \n",
      "336      9    4  \n",
      "\n",
      "[337 rows x 16 columns]\n"
     ]
    }
   ],
   "source": [
    "print(train_data)"
   ]
  },
  {
   "cell_type": "code",
   "execution_count": 9,
   "id": "db7bbddb",
   "metadata": {},
   "outputs": [
    {
     "data": {
      "text/html": [
       "<div>\n",
       "<style scoped>\n",
       "    .dataframe tbody tr th:only-of-type {\n",
       "        vertical-align: middle;\n",
       "    }\n",
       "\n",
       "    .dataframe tbody tr th {\n",
       "        vertical-align: top;\n",
       "    }\n",
       "\n",
       "    .dataframe thead th {\n",
       "        text-align: right;\n",
       "    }\n",
       "</style>\n",
       "<table border=\"1\" class=\"dataframe\">\n",
       "  <thead>\n",
       "    <tr style=\"text-align: right;\">\n",
       "      <th></th>\n",
       "      <th>dateid</th>\n",
       "      <th>y</th>\n",
       "      <th>week</th>\n",
       "      <th>soldout</th>\n",
       "      <th>name</th>\n",
       "      <th>kcal</th>\n",
       "      <th>remarks</th>\n",
       "      <th>event</th>\n",
       "      <th>payday</th>\n",
       "      <th>weather</th>\n",
       "      <th>precipitation</th>\n",
       "      <th>temperature</th>\n",
       "      <th>year</th>\n",
       "      <th>month</th>\n",
       "      <th>day</th>\n",
       "    </tr>\n",
       "  </thead>\n",
       "  <tbody>\n",
       "    <tr>\n",
       "      <th>0</th>\n",
       "      <td>2014-04-01</td>\n",
       "      <td>125.0</td>\n",
       "      <td>Tue</td>\n",
       "      <td>1</td>\n",
       "      <td>メンチカツ</td>\n",
       "      <td>377.0</td>\n",
       "      <td>NaN</td>\n",
       "      <td>NaN</td>\n",
       "      <td>NaN</td>\n",
       "      <td>晴時々薄曇</td>\n",
       "      <td>0.0</td>\n",
       "      <td>13.9</td>\n",
       "      <td>2014</td>\n",
       "      <td>4</td>\n",
       "      <td>1</td>\n",
       "    </tr>\n",
       "    <tr>\n",
       "      <th>1</th>\n",
       "      <td>2014-04-02</td>\n",
       "      <td>99.0</td>\n",
       "      <td>Wed</td>\n",
       "      <td>0</td>\n",
       "      <td>肉じゃが</td>\n",
       "      <td>380.0</td>\n",
       "      <td>NaN</td>\n",
       "      <td>NaN</td>\n",
       "      <td>NaN</td>\n",
       "      <td>薄曇一時晴</td>\n",
       "      <td>0.0</td>\n",
       "      <td>15.2</td>\n",
       "      <td>2014</td>\n",
       "      <td>4</td>\n",
       "      <td>2</td>\n",
       "    </tr>\n",
       "    <tr>\n",
       "      <th>2</th>\n",
       "      <td>2014-04-03</td>\n",
       "      <td>100.0</td>\n",
       "      <td>Thu</td>\n",
       "      <td>1</td>\n",
       "      <td>酢豚</td>\n",
       "      <td>390.0</td>\n",
       "      <td>NaN</td>\n",
       "      <td>NaN</td>\n",
       "      <td>NaN</td>\n",
       "      <td>大雨</td>\n",
       "      <td>65.0</td>\n",
       "      <td>13.8</td>\n",
       "      <td>2014</td>\n",
       "      <td>4</td>\n",
       "      <td>3</td>\n",
       "    </tr>\n",
       "    <tr>\n",
       "      <th>3</th>\n",
       "      <td>2014-04-04</td>\n",
       "      <td>90.0</td>\n",
       "      <td>Fri</td>\n",
       "      <td>1</td>\n",
       "      <td>和風ソースハンバーグ</td>\n",
       "      <td>350.0</td>\n",
       "      <td>NaN</td>\n",
       "      <td>NaN</td>\n",
       "      <td>NaN</td>\n",
       "      <td>晴時々曇一時雨、雷を伴う</td>\n",
       "      <td>40.0</td>\n",
       "      <td>15.3</td>\n",
       "      <td>2014</td>\n",
       "      <td>4</td>\n",
       "      <td>4</td>\n",
       "    </tr>\n",
       "    <tr>\n",
       "      <th>4</th>\n",
       "      <td>2014-04-07</td>\n",
       "      <td>107.0</td>\n",
       "      <td>Mon</td>\n",
       "      <td>0</td>\n",
       "      <td>青梗菜牛肉炒め</td>\n",
       "      <td>387.0</td>\n",
       "      <td>NaN</td>\n",
       "      <td>NaN</td>\n",
       "      <td>NaN</td>\n",
       "      <td>晴後一時薄曇</td>\n",
       "      <td>0.0</td>\n",
       "      <td>11.4</td>\n",
       "      <td>2014</td>\n",
       "      <td>4</td>\n",
       "      <td>7</td>\n",
       "    </tr>\n",
       "  </tbody>\n",
       "</table>\n",
       "</div>"
      ],
      "text/plain": [
       "       dateid      y week  soldout        name   kcal remarks event  payday  \\\n",
       "0  2014-04-01  125.0  Tue        1       メンチカツ  377.0     NaN   NaN     NaN   \n",
       "1  2014-04-02   99.0  Wed        0        肉じゃが  380.0     NaN   NaN     NaN   \n",
       "2  2014-04-03  100.0  Thu        1          酢豚  390.0     NaN   NaN     NaN   \n",
       "3  2014-04-04   90.0  Fri        1  和風ソースハンバーグ  350.0     NaN   NaN     NaN   \n",
       "4  2014-04-07  107.0  Mon        0     青梗菜牛肉炒め  387.0     NaN   NaN     NaN   \n",
       "\n",
       "        weather  precipitation  temperature  year  month  day  \n",
       "0         晴時々薄曇            0.0         13.9  2014      4    1  \n",
       "1         薄曇一時晴            0.0         15.2  2014      4    2  \n",
       "2            大雨           65.0         13.8  2014      4    3  \n",
       "3  晴時々曇一時雨、雷を伴う           40.0         15.3  2014      4    4  \n",
       "4        晴後一時薄曇            0.0         11.4  2014      4    7  "
      ]
     },
     "execution_count": 9,
     "metadata": {},
     "output_type": "execute_result"
    }
   ],
   "source": [
    "train_data = train_data.drop(['Last UpDated'],axis=1)\n",
    "train_data.head()"
   ]
  },
  {
   "cell_type": "code",
   "execution_count": 10,
   "id": "a1a18adc",
   "metadata": {},
   "outputs": [
    {
     "name": "stdout",
     "output_type": "stream",
     "text": [
      "<class 'pandas.core.frame.DataFrame'>\n",
      "RangeIndex: 337 entries, 0 to 336\n",
      "Data columns (total 15 columns):\n",
      " #   Column         Non-Null Count  Dtype  \n",
      "---  ------         --------------  -----  \n",
      " 0   dateid         337 non-null    object \n",
      " 1   y              337 non-null    float64\n",
      " 2   week           337 non-null    object \n",
      " 3   soldout        337 non-null    int64  \n",
      " 4   name           337 non-null    object \n",
      " 5   kcal           304 non-null    float64\n",
      " 6   remarks        49 non-null     object \n",
      " 7   event          28 non-null     object \n",
      " 8   payday         17 non-null     float64\n",
      " 9   weather        337 non-null    object \n",
      " 10  precipitation  337 non-null    float64\n",
      " 11  temperature    337 non-null    float64\n",
      " 12  year           337 non-null    int64  \n",
      " 13  month          337 non-null    int64  \n",
      " 14  day            337 non-null    int64  \n",
      "dtypes: float64(5), int64(4), object(6)\n",
      "memory usage: 39.6+ KB\n",
      "None\n"
     ]
    }
   ],
   "source": [
    "print(train_data.info())"
   ]
  },
  {
   "cell_type": "code",
   "execution_count": 15,
   "id": "d5a1357a",
   "metadata": {},
   "outputs": [
    {
     "name": "stdout",
     "output_type": "stream",
     "text": [
      "7     44\n",
      "6     43\n",
      "4     41\n",
      "5     38\n",
      "8     31\n",
      "9     24\n",
      "10    22\n",
      "3     22\n",
      "12    19\n",
      "11    18\n",
      "2     18\n",
      "1     17\n",
      "Name: month, dtype: int64\n"
     ]
    }
   ],
   "source": [
    "print(train_data['month'].value_counts())"
   ]
  },
  {
   "cell_type": "code",
   "execution_count": 55,
   "id": "7e944666",
   "metadata": {},
   "outputs": [],
   "source": [
    "test_data['Last UpDated'] = pd.to_datetime(test_data['dateid'])"
   ]
  },
  {
   "cell_type": "code",
   "execution_count": 56,
   "id": "82939b1a",
   "metadata": {},
   "outputs": [],
   "source": [
    "#'年'の取得\n",
    "test_data['year'] = test_data['Last UpDated'].dt.year\n",
    "# '月'の取得\n",
    "test_data['month'] = test_data['Last UpDated'].dt.month\n",
    "#'日'の取得\n",
    "test_data['day'] = test_data['Last UpDated'].dt.day"
   ]
  },
  {
   "cell_type": "code",
   "execution_count": 59,
   "id": "48f23be1",
   "metadata": {},
   "outputs": [
    {
     "name": "stdout",
     "output_type": "stream",
     "text": [
      "     1   2   3   4   5   9   11  12\n",
      "0     0   0   0   0   0   1   0   0\n",
      "1     0   0   0   0   0   1   0   0\n",
      "2     0   0   0   0   0   1   0   0\n",
      "3     0   0   0   0   0   1   0   0\n",
      "4     0   0   0   0   0   1   0   0\n",
      "..   ..  ..  ..  ..  ..  ..  ..  ..\n",
      "139   0   0   0   0   1   0   0   0\n",
      "140   0   0   0   0   1   0   0   0\n",
      "141   0   0   0   0   1   0   0   0\n",
      "142   0   0   0   0   1   0   0   0\n",
      "143   0   0   0   0   1   0   0   0\n",
      "\n",
      "[144 rows x 8 columns]\n"
     ]
    }
   ],
   "source": [
    "print(pd.get_dummies(test_data['month']))"
   ]
  },
  {
   "cell_type": "code",
   "execution_count": 16,
   "id": "984001c8",
   "metadata": {},
   "outputs": [
    {
     "data": {
      "text/html": [
       "<div>\n",
       "<style scoped>\n",
       "    .dataframe tbody tr th:only-of-type {\n",
       "        vertical-align: middle;\n",
       "    }\n",
       "\n",
       "    .dataframe tbody tr th {\n",
       "        vertical-align: top;\n",
       "    }\n",
       "\n",
       "    .dataframe thead th {\n",
       "        text-align: right;\n",
       "    }\n",
       "</style>\n",
       "<table border=\"1\" class=\"dataframe\">\n",
       "  <thead>\n",
       "    <tr style=\"text-align: right;\">\n",
       "      <th></th>\n",
       "      <th>y</th>\n",
       "      <th>soldout</th>\n",
       "      <th>kcal</th>\n",
       "      <th>payday</th>\n",
       "      <th>precipitation</th>\n",
       "      <th>temperature</th>\n",
       "      <th>year</th>\n",
       "      <th>month</th>\n",
       "      <th>day</th>\n",
       "    </tr>\n",
       "  </thead>\n",
       "  <tbody>\n",
       "    <tr>\n",
       "      <th>count</th>\n",
       "      <td>337.000000</td>\n",
       "      <td>337.000000</td>\n",
       "      <td>304.000000</td>\n",
       "      <td>17.0</td>\n",
       "      <td>337.000000</td>\n",
       "      <td>337.000000</td>\n",
       "      <td>337.000000</td>\n",
       "      <td>337.000000</td>\n",
       "      <td>337.000000</td>\n",
       "    </tr>\n",
       "    <tr>\n",
       "      <th>mean</th>\n",
       "      <td>65.192878</td>\n",
       "      <td>0.462908</td>\n",
       "      <td>419.394737</td>\n",
       "      <td>1.0</td>\n",
       "      <td>5.376855</td>\n",
       "      <td>18.520772</td>\n",
       "      <td>2014.462908</td>\n",
       "      <td>6.376855</td>\n",
       "      <td>15.287834</td>\n",
       "    </tr>\n",
       "    <tr>\n",
       "      <th>std</th>\n",
       "      <td>20.645712</td>\n",
       "      <td>0.499364</td>\n",
       "      <td>25.126126</td>\n",
       "      <td>0.0</td>\n",
       "      <td>14.342239</td>\n",
       "      <td>7.708158</td>\n",
       "      <td>0.499364</td>\n",
       "      <td>2.955594</td>\n",
       "      <td>8.739123</td>\n",
       "    </tr>\n",
       "    <tr>\n",
       "      <th>min</th>\n",
       "      <td>25.000000</td>\n",
       "      <td>0.000000</td>\n",
       "      <td>324.000000</td>\n",
       "      <td>1.0</td>\n",
       "      <td>0.000000</td>\n",
       "      <td>2.000000</td>\n",
       "      <td>2014.000000</td>\n",
       "      <td>1.000000</td>\n",
       "      <td>1.000000</td>\n",
       "    </tr>\n",
       "    <tr>\n",
       "      <th>25%</th>\n",
       "      <td>53.000000</td>\n",
       "      <td>0.000000</td>\n",
       "      <td>409.750000</td>\n",
       "      <td>1.0</td>\n",
       "      <td>0.000000</td>\n",
       "      <td>12.300000</td>\n",
       "      <td>2014.000000</td>\n",
       "      <td>4.000000</td>\n",
       "      <td>8.000000</td>\n",
       "    </tr>\n",
       "    <tr>\n",
       "      <th>50%</th>\n",
       "      <td>62.000000</td>\n",
       "      <td>0.000000</td>\n",
       "      <td>424.000000</td>\n",
       "      <td>1.0</td>\n",
       "      <td>0.000000</td>\n",
       "      <td>20.300000</td>\n",
       "      <td>2014.000000</td>\n",
       "      <td>6.000000</td>\n",
       "      <td>16.000000</td>\n",
       "    </tr>\n",
       "    <tr>\n",
       "      <th>75%</th>\n",
       "      <td>72.000000</td>\n",
       "      <td>1.000000</td>\n",
       "      <td>435.000000</td>\n",
       "      <td>1.0</td>\n",
       "      <td>4.500000</td>\n",
       "      <td>24.000000</td>\n",
       "      <td>2015.000000</td>\n",
       "      <td>8.000000</td>\n",
       "      <td>23.000000</td>\n",
       "    </tr>\n",
       "    <tr>\n",
       "      <th>max</th>\n",
       "      <td>137.000000</td>\n",
       "      <td>1.000000</td>\n",
       "      <td>463.000000</td>\n",
       "      <td>1.0</td>\n",
       "      <td>123.500000</td>\n",
       "      <td>31.500000</td>\n",
       "      <td>2015.000000</td>\n",
       "      <td>12.000000</td>\n",
       "      <td>31.000000</td>\n",
       "    </tr>\n",
       "  </tbody>\n",
       "</table>\n",
       "</div>"
      ],
      "text/plain": [
       "                y     soldout        kcal  payday  precipitation  temperature  \\\n",
       "count  337.000000  337.000000  304.000000    17.0     337.000000   337.000000   \n",
       "mean    65.192878    0.462908  419.394737     1.0       5.376855    18.520772   \n",
       "std     20.645712    0.499364   25.126126     0.0      14.342239     7.708158   \n",
       "min     25.000000    0.000000  324.000000     1.0       0.000000     2.000000   \n",
       "25%     53.000000    0.000000  409.750000     1.0       0.000000    12.300000   \n",
       "50%     62.000000    0.000000  424.000000     1.0       0.000000    20.300000   \n",
       "75%     72.000000    1.000000  435.000000     1.0       4.500000    24.000000   \n",
       "max    137.000000    1.000000  463.000000     1.0     123.500000    31.500000   \n",
       "\n",
       "              year       month         day  \n",
       "count   337.000000  337.000000  337.000000  \n",
       "mean   2014.462908    6.376855   15.287834  \n",
       "std       0.499364    2.955594    8.739123  \n",
       "min    2014.000000    1.000000    1.000000  \n",
       "25%    2014.000000    4.000000    8.000000  \n",
       "50%    2014.000000    6.000000   16.000000  \n",
       "75%    2015.000000    8.000000   23.000000  \n",
       "max    2015.000000   12.000000   31.000000  "
      ]
     },
     "execution_count": 16,
     "metadata": {},
     "output_type": "execute_result"
    }
   ],
   "source": [
    "train_data.describe()"
   ]
  },
  {
   "cell_type": "code",
   "execution_count": 18,
   "id": "fe535252",
   "metadata": {},
   "outputs": [
    {
     "data": {
      "text/plain": [
       "4     23\n",
       "6     11\n",
       "5     10\n",
       "2      9\n",
       "3      9\n",
       "8      7\n",
       "7      6\n",
       "9      3\n",
       "1      3\n",
       "11     2\n",
       "10     1\n",
       "12     1\n",
       "Name: month, dtype: int64"
      ]
     },
     "execution_count": 18,
     "metadata": {},
     "output_type": "execute_result"
    }
   ],
   "source": [
    "## yが72以上\n",
    "train_data[train_data['y'] >= 72]['month'].value_counts()"
   ]
  },
  {
   "cell_type": "code",
   "execution_count": 15,
   "id": "4777681e",
   "metadata": {},
   "outputs": [
    {
     "data": {
      "text/plain": [
       "16    13\n",
       "3     13\n",
       "2     13\n",
       "9     13\n",
       "10    13\n",
       "17    13\n",
       "1     12\n",
       "19    12\n",
       "18    12\n",
       "22    12\n",
       "4     12\n",
       "8     12\n",
       "11    11\n",
       "7     11\n",
       "23    11\n",
       "25    11\n",
       "26    11\n",
       "20    11\n",
       "12    11\n",
       "15    10\n",
       "6     10\n",
       "27    10\n",
       "30    10\n",
       "28    10\n",
       "24    10\n",
       "21    10\n",
       "13     9\n",
       "14     9\n",
       "29     9\n",
       "5      9\n",
       "31     4\n",
       "Name: day, dtype: int64"
      ]
     },
     "execution_count": 15,
     "metadata": {},
     "output_type": "execute_result"
    }
   ],
   "source": [
    "train_data['day'].value_counts()"
   ]
  },
  {
   "cell_type": "code",
   "execution_count": 17,
   "id": "8178178d",
   "metadata": {},
   "outputs": [
    {
     "data": {
      "text/html": [
       "<div>\n",
       "<style scoped>\n",
       "    .dataframe tbody tr th:only-of-type {\n",
       "        vertical-align: middle;\n",
       "    }\n",
       "\n",
       "    .dataframe tbody tr th {\n",
       "        vertical-align: top;\n",
       "    }\n",
       "\n",
       "    .dataframe thead th {\n",
       "        text-align: right;\n",
       "    }\n",
       "</style>\n",
       "<table border=\"1\" class=\"dataframe\">\n",
       "  <thead>\n",
       "    <tr style=\"text-align: right;\">\n",
       "      <th></th>\n",
       "      <th>y</th>\n",
       "      <th>soldout</th>\n",
       "      <th>kcal</th>\n",
       "      <th>payday</th>\n",
       "      <th>precipitation</th>\n",
       "      <th>temperature</th>\n",
       "      <th>year</th>\n",
       "      <th>month</th>\n",
       "    </tr>\n",
       "    <tr>\n",
       "      <th>day</th>\n",
       "      <th></th>\n",
       "      <th></th>\n",
       "      <th></th>\n",
       "      <th></th>\n",
       "      <th></th>\n",
       "      <th></th>\n",
       "      <th></th>\n",
       "      <th></th>\n",
       "    </tr>\n",
       "  </thead>\n",
       "  <tbody>\n",
       "    <tr>\n",
       "      <th>1</th>\n",
       "      <td>802.0</td>\n",
       "      <td>7</td>\n",
       "      <td>4937.0</td>\n",
       "      <td>0.0</td>\n",
       "      <td>106.0</td>\n",
       "      <td>248.3</td>\n",
       "      <td>24173</td>\n",
       "      <td>86</td>\n",
       "    </tr>\n",
       "    <tr>\n",
       "      <th>2</th>\n",
       "      <td>844.0</td>\n",
       "      <td>6</td>\n",
       "      <td>5509.0</td>\n",
       "      <td>0.0</td>\n",
       "      <td>8.0</td>\n",
       "      <td>243.0</td>\n",
       "      <td>26188</td>\n",
       "      <td>84</td>\n",
       "    </tr>\n",
       "    <tr>\n",
       "      <th>3</th>\n",
       "      <td>809.0</td>\n",
       "      <td>7</td>\n",
       "      <td>5073.0</td>\n",
       "      <td>0.0</td>\n",
       "      <td>152.5</td>\n",
       "      <td>247.3</td>\n",
       "      <td>26189</td>\n",
       "      <td>87</td>\n",
       "    </tr>\n",
       "    <tr>\n",
       "      <th>4</th>\n",
       "      <td>772.0</td>\n",
       "      <td>7</td>\n",
       "      <td>4629.0</td>\n",
       "      <td>0.0</td>\n",
       "      <td>82.5</td>\n",
       "      <td>234.5</td>\n",
       "      <td>24173</td>\n",
       "      <td>85</td>\n",
       "    </tr>\n",
       "    <tr>\n",
       "      <th>5</th>\n",
       "      <td>522.0</td>\n",
       "      <td>7</td>\n",
       "      <td>3367.0</td>\n",
       "      <td>0.0</td>\n",
       "      <td>54.0</td>\n",
       "      <td>164.5</td>\n",
       "      <td>18130</td>\n",
       "      <td>65</td>\n",
       "    </tr>\n",
       "    <tr>\n",
       "      <th>6</th>\n",
       "      <td>599.0</td>\n",
       "      <td>8</td>\n",
       "      <td>3806.0</td>\n",
       "      <td>0.0</td>\n",
       "      <td>270.0</td>\n",
       "      <td>180.1</td>\n",
       "      <td>20146</td>\n",
       "      <td>60</td>\n",
       "    </tr>\n",
       "    <tr>\n",
       "      <th>7</th>\n",
       "      <td>864.0</td>\n",
       "      <td>4</td>\n",
       "      <td>3768.0</td>\n",
       "      <td>0.0</td>\n",
       "      <td>11.5</td>\n",
       "      <td>206.2</td>\n",
       "      <td>22159</td>\n",
       "      <td>70</td>\n",
       "    </tr>\n",
       "    <tr>\n",
       "      <th>8</th>\n",
       "      <td>896.0</td>\n",
       "      <td>4</td>\n",
       "      <td>4094.0</td>\n",
       "      <td>2.0</td>\n",
       "      <td>33.5</td>\n",
       "      <td>213.7</td>\n",
       "      <td>24173</td>\n",
       "      <td>78</td>\n",
       "    </tr>\n",
       "    <tr>\n",
       "      <th>9</th>\n",
       "      <td>805.0</td>\n",
       "      <td>7</td>\n",
       "      <td>5492.0</td>\n",
       "      <td>2.0</td>\n",
       "      <td>83.5</td>\n",
       "      <td>197.7</td>\n",
       "      <td>26188</td>\n",
       "      <td>76</td>\n",
       "    </tr>\n",
       "    <tr>\n",
       "      <th>10</th>\n",
       "      <td>936.0</td>\n",
       "      <td>4</td>\n",
       "      <td>4191.0</td>\n",
       "      <td>13.0</td>\n",
       "      <td>100.5</td>\n",
       "      <td>230.0</td>\n",
       "      <td>26188</td>\n",
       "      <td>89</td>\n",
       "    </tr>\n",
       "    <tr>\n",
       "      <th>11</th>\n",
       "      <td>753.0</td>\n",
       "      <td>5</td>\n",
       "      <td>3751.0</td>\n",
       "      <td>0.0</td>\n",
       "      <td>23.0</td>\n",
       "      <td>214.7</td>\n",
       "      <td>22158</td>\n",
       "      <td>79</td>\n",
       "    </tr>\n",
       "    <tr>\n",
       "      <th>12</th>\n",
       "      <td>842.0</td>\n",
       "      <td>3</td>\n",
       "      <td>3366.0</td>\n",
       "      <td>0.0</td>\n",
       "      <td>83.5</td>\n",
       "      <td>200.3</td>\n",
       "      <td>22159</td>\n",
       "      <td>75</td>\n",
       "    </tr>\n",
       "    <tr>\n",
       "      <th>13</th>\n",
       "      <td>739.0</td>\n",
       "      <td>4</td>\n",
       "      <td>3006.0</td>\n",
       "      <td>0.0</td>\n",
       "      <td>43.5</td>\n",
       "      <td>141.3</td>\n",
       "      <td>18132</td>\n",
       "      <td>44</td>\n",
       "    </tr>\n",
       "    <tr>\n",
       "      <th>14</th>\n",
       "      <td>589.0</td>\n",
       "      <td>6</td>\n",
       "      <td>3769.0</td>\n",
       "      <td>0.0</td>\n",
       "      <td>36.5</td>\n",
       "      <td>172.0</td>\n",
       "      <td>18130</td>\n",
       "      <td>54</td>\n",
       "    </tr>\n",
       "    <tr>\n",
       "      <th>15</th>\n",
       "      <td>575.0</td>\n",
       "      <td>5</td>\n",
       "      <td>4140.0</td>\n",
       "      <td>0.0</td>\n",
       "      <td>47.0</td>\n",
       "      <td>182.1</td>\n",
       "      <td>20145</td>\n",
       "      <td>61</td>\n",
       "    </tr>\n",
       "    <tr>\n",
       "      <th>16</th>\n",
       "      <td>888.0</td>\n",
       "      <td>4</td>\n",
       "      <td>4595.0</td>\n",
       "      <td>0.0</td>\n",
       "      <td>122.5</td>\n",
       "      <td>231.1</td>\n",
       "      <td>26188</td>\n",
       "      <td>76</td>\n",
       "    </tr>\n",
       "    <tr>\n",
       "      <th>17</th>\n",
       "      <td>721.0</td>\n",
       "      <td>5</td>\n",
       "      <td>5445.0</td>\n",
       "      <td>0.0</td>\n",
       "      <td>66.0</td>\n",
       "      <td>236.0</td>\n",
       "      <td>26188</td>\n",
       "      <td>89</td>\n",
       "    </tr>\n",
       "    <tr>\n",
       "      <th>18</th>\n",
       "      <td>718.0</td>\n",
       "      <td>7</td>\n",
       "      <td>4930.0</td>\n",
       "      <td>0.0</td>\n",
       "      <td>17.0</td>\n",
       "      <td>217.9</td>\n",
       "      <td>24173</td>\n",
       "      <td>81</td>\n",
       "    </tr>\n",
       "    <tr>\n",
       "      <th>19</th>\n",
       "      <td>736.0</td>\n",
       "      <td>8</td>\n",
       "      <td>4628.0</td>\n",
       "      <td>0.0</td>\n",
       "      <td>20.0</td>\n",
       "      <td>206.9</td>\n",
       "      <td>24174</td>\n",
       "      <td>76</td>\n",
       "    </tr>\n",
       "    <tr>\n",
       "      <th>20</th>\n",
       "      <td>647.0</td>\n",
       "      <td>5</td>\n",
       "      <td>4643.0</td>\n",
       "      <td>0.0</td>\n",
       "      <td>36.5</td>\n",
       "      <td>196.5</td>\n",
       "      <td>22160</td>\n",
       "      <td>63</td>\n",
       "    </tr>\n",
       "    <tr>\n",
       "      <th>21</th>\n",
       "      <td>833.0</td>\n",
       "      <td>4</td>\n",
       "      <td>3390.0</td>\n",
       "      <td>0.0</td>\n",
       "      <td>75.5</td>\n",
       "      <td>187.6</td>\n",
       "      <td>20145</td>\n",
       "      <td>63</td>\n",
       "    </tr>\n",
       "    <tr>\n",
       "      <th>22</th>\n",
       "      <td>799.0</td>\n",
       "      <td>6</td>\n",
       "      <td>4151.0</td>\n",
       "      <td>0.0</td>\n",
       "      <td>60.0</td>\n",
       "      <td>229.8</td>\n",
       "      <td>24173</td>\n",
       "      <td>78</td>\n",
       "    </tr>\n",
       "    <tr>\n",
       "      <th>23</th>\n",
       "      <td>657.0</td>\n",
       "      <td>4</td>\n",
       "      <td>4557.0</td>\n",
       "      <td>0.0</td>\n",
       "      <td>57.0</td>\n",
       "      <td>198.6</td>\n",
       "      <td>22160</td>\n",
       "      <td>55</td>\n",
       "    </tr>\n",
       "    <tr>\n",
       "      <th>24</th>\n",
       "      <td>575.0</td>\n",
       "      <td>6</td>\n",
       "      <td>3751.0</td>\n",
       "      <td>0.0</td>\n",
       "      <td>27.5</td>\n",
       "      <td>183.9</td>\n",
       "      <td>20144</td>\n",
       "      <td>66</td>\n",
       "    </tr>\n",
       "    <tr>\n",
       "      <th>25</th>\n",
       "      <td>687.0</td>\n",
       "      <td>5</td>\n",
       "      <td>3851.0</td>\n",
       "      <td>0.0</td>\n",
       "      <td>21.0</td>\n",
       "      <td>202.6</td>\n",
       "      <td>22158</td>\n",
       "      <td>73</td>\n",
       "    </tr>\n",
       "    <tr>\n",
       "      <th>26</th>\n",
       "      <td>726.0</td>\n",
       "      <td>3</td>\n",
       "      <td>3778.0</td>\n",
       "      <td>0.0</td>\n",
       "      <td>79.5</td>\n",
       "      <td>178.1</td>\n",
       "      <td>22159</td>\n",
       "      <td>68</td>\n",
       "    </tr>\n",
       "    <tr>\n",
       "      <th>27</th>\n",
       "      <td>653.0</td>\n",
       "      <td>2</td>\n",
       "      <td>3795.0</td>\n",
       "      <td>0.0</td>\n",
       "      <td>50.0</td>\n",
       "      <td>194.4</td>\n",
       "      <td>20145</td>\n",
       "      <td>60</td>\n",
       "    </tr>\n",
       "    <tr>\n",
       "      <th>28</th>\n",
       "      <td>590.0</td>\n",
       "      <td>7</td>\n",
       "      <td>4173.0</td>\n",
       "      <td>0.0</td>\n",
       "      <td>7.0</td>\n",
       "      <td>197.7</td>\n",
       "      <td>20144</td>\n",
       "      <td>62</td>\n",
       "    </tr>\n",
       "    <tr>\n",
       "      <th>29</th>\n",
       "      <td>490.0</td>\n",
       "      <td>4</td>\n",
       "      <td>3843.0</td>\n",
       "      <td>0.0</td>\n",
       "      <td>9.5</td>\n",
       "      <td>189.5</td>\n",
       "      <td>18130</td>\n",
       "      <td>58</td>\n",
       "    </tr>\n",
       "    <tr>\n",
       "      <th>30</th>\n",
       "      <td>649.0</td>\n",
       "      <td>2</td>\n",
       "      <td>3826.0</td>\n",
       "      <td>0.0</td>\n",
       "      <td>27.5</td>\n",
       "      <td>220.6</td>\n",
       "      <td>20144</td>\n",
       "      <td>61</td>\n",
       "    </tr>\n",
       "    <tr>\n",
       "      <th>31</th>\n",
       "      <td>254.0</td>\n",
       "      <td>0</td>\n",
       "      <td>1242.0</td>\n",
       "      <td>0.0</td>\n",
       "      <td>0.0</td>\n",
       "      <td>94.6</td>\n",
       "      <td>8058</td>\n",
       "      <td>27</td>\n",
       "    </tr>\n",
       "  </tbody>\n",
       "</table>\n",
       "</div>"
      ],
      "text/plain": [
       "         y  soldout    kcal  payday  precipitation  temperature   year  month\n",
       "day                                                                          \n",
       "1    802.0        7  4937.0     0.0          106.0        248.3  24173     86\n",
       "2    844.0        6  5509.0     0.0            8.0        243.0  26188     84\n",
       "3    809.0        7  5073.0     0.0          152.5        247.3  26189     87\n",
       "4    772.0        7  4629.0     0.0           82.5        234.5  24173     85\n",
       "5    522.0        7  3367.0     0.0           54.0        164.5  18130     65\n",
       "6    599.0        8  3806.0     0.0          270.0        180.1  20146     60\n",
       "7    864.0        4  3768.0     0.0           11.5        206.2  22159     70\n",
       "8    896.0        4  4094.0     2.0           33.5        213.7  24173     78\n",
       "9    805.0        7  5492.0     2.0           83.5        197.7  26188     76\n",
       "10   936.0        4  4191.0    13.0          100.5        230.0  26188     89\n",
       "11   753.0        5  3751.0     0.0           23.0        214.7  22158     79\n",
       "12   842.0        3  3366.0     0.0           83.5        200.3  22159     75\n",
       "13   739.0        4  3006.0     0.0           43.5        141.3  18132     44\n",
       "14   589.0        6  3769.0     0.0           36.5        172.0  18130     54\n",
       "15   575.0        5  4140.0     0.0           47.0        182.1  20145     61\n",
       "16   888.0        4  4595.0     0.0          122.5        231.1  26188     76\n",
       "17   721.0        5  5445.0     0.0           66.0        236.0  26188     89\n",
       "18   718.0        7  4930.0     0.0           17.0        217.9  24173     81\n",
       "19   736.0        8  4628.0     0.0           20.0        206.9  24174     76\n",
       "20   647.0        5  4643.0     0.0           36.5        196.5  22160     63\n",
       "21   833.0        4  3390.0     0.0           75.5        187.6  20145     63\n",
       "22   799.0        6  4151.0     0.0           60.0        229.8  24173     78\n",
       "23   657.0        4  4557.0     0.0           57.0        198.6  22160     55\n",
       "24   575.0        6  3751.0     0.0           27.5        183.9  20144     66\n",
       "25   687.0        5  3851.0     0.0           21.0        202.6  22158     73\n",
       "26   726.0        3  3778.0     0.0           79.5        178.1  22159     68\n",
       "27   653.0        2  3795.0     0.0           50.0        194.4  20145     60\n",
       "28   590.0        7  4173.0     0.0            7.0        197.7  20144     62\n",
       "29   490.0        4  3843.0     0.0            9.5        189.5  18130     58\n",
       "30   649.0        2  3826.0     0.0           27.5        220.6  20144     61\n",
       "31   254.0        0  1242.0     0.0            0.0         94.6   8058     27"
      ]
     },
     "execution_count": 17,
     "metadata": {},
     "output_type": "execute_result"
    }
   ],
   "source": [
    "train_data.groupby('day').sum()"
   ]
  },
  {
   "cell_type": "code",
   "execution_count": 14,
   "id": "af722bff",
   "metadata": {},
   "outputs": [
    {
     "data": {
      "image/png": "[encoded data removed]",
      "text/plain": [
       "<Figure size 640x480 with 1 Axes>"
      ]
     },
     "metadata": {},
     "output_type": "display_data"
    }
   ],
   "source": [
    "plt.scatter(train_data['day'],train_data['y'])\n",
    "plt.xlabel('day')\n",
    "plt.ylabel('y')\n",
    "plt.show()"
   ]
  },
  {
   "cell_type": "markdown",
   "id": "bddebe6b",
   "metadata": {},
   "source": [
    "#### 天気の情報を確認"
   ]
  },
  {
   "cell_type": "code",
   "execution_count": 37,
   "id": "ce16dd4c",
   "metadata": {},
   "outputs": [
    {
     "name": "stdout",
     "output_type": "stream",
     "text": [
      "晴                 51\n",
      "快晴                32\n",
      "曇                 23\n",
      "薄曇                22\n",
      "曇時々雨              13\n",
      "                  ..\n",
      "曇一時晴後時々雨           1\n",
      "晴後一時雨、雷を伴う         1\n",
      "晴後一時雨、雷・ひょうを伴う     1\n",
      "雨後曇一時晴             1\n",
      "曇時々雨後晴             1\n",
      "Name: weather, Length: 62, dtype: int64\n"
     ]
    }
   ],
   "source": [
    "## 訓練用データについて\n",
    "print(train_data['weather'].value_counts())"
   ]
  },
  {
   "cell_type": "code",
   "execution_count": 20,
   "id": "e9cf639d",
   "metadata": {},
   "outputs": [],
   "source": [
    "### テスト用データについて\n",
    "test_data = pd.read_csv(test_path)"
   ]
  },
  {
   "cell_type": "code",
   "execution_count": 36,
   "id": "af2e68b1",
   "metadata": {},
   "outputs": [
    {
     "name": "stdout",
     "output_type": "stream",
     "text": [
      "快晴               18\n",
      "晴                13\n",
      "曇                12\n",
      "晴一時曇              7\n",
      "曇一時晴              6\n",
      "曇一時雨              5\n",
      "晴後薄曇              5\n",
      "曇後一時晴             4\n",
      "晴一時薄曇             4\n",
      "曇時々雨              4\n",
      "雨後曇               3\n",
      "曇後晴               3\n",
      "雨時々曇              3\n",
      "曇時々晴              3\n",
      "曇後雨               3\n",
      "薄曇一時晴             3\n",
      "晴時々曇              3\n",
      "晴後一時薄曇            3\n",
      "雨一時曇              3\n",
      "晴後曇               3\n",
      "曇後一時雨             2\n",
      "雨後時々曇             2\n",
      "薄曇時々晴             2\n",
      "晴後時々曇             2\n",
      "薄曇後晴              2\n",
      "大雨後一時曇            2\n",
      "曇後時々雨             2\n",
      "雨                 2\n",
      "晴時々薄曇             2\n",
      "大雨                2\n",
      "晴後一時曇             2\n",
      "曇時々雨一時晴           1\n",
      "大雨、雷を伴う           1\n",
      "薄曇                1\n",
      "晴後雨時々曇            1\n",
      "曇一時雨後一時晴          1\n",
      "雨後一時曇             1\n",
      "曇一時晴後時々雨          1\n",
      "大雨後時々晴、みぞれを伴う     1\n",
      "雨一時みぞれ後時々曇        1\n",
      "雨後時々曇、雷を伴う        1\n",
      "曇後時々晴             1\n",
      "大雨後晴時々曇           1\n",
      "大雨時々曇             1\n",
      "薄曇後時々晴            1\n",
      "Name: weather, dtype: int64\n"
     ]
    }
   ],
   "source": [
    "print(test_data['weather'].value_counts())"
   ]
  },
  {
   "cell_type": "markdown",
   "id": "5b97ec3d",
   "metadata": {},
   "source": [
    "### イベント"
   ]
  },
  {
   "cell_type": "code",
   "execution_count": 38,
   "id": "88726b3a",
   "metadata": {},
   "outputs": [
    {
     "data": {
      "text/plain": [
       "お楽しみメニュー          28\n",
       "料理長のこだわりメニュー       7\n",
       "コンビニ改装             4\n",
       "料理長イチオシ！           2\n",
       "今月のイチオシ!           2\n",
       "今月のこだわりメニュー        2\n",
       "スペシャルメニュー          1\n",
       "近隣に飲食店複合ビルオープン     1\n",
       "料理長イチオシ!           1\n",
       "弁当種類増↓             1\n",
       "Name: remarks, dtype: int64"
      ]
     },
     "execution_count": 38,
     "metadata": {},
     "output_type": "execute_result"
    }
   ],
   "source": [
    "train_data['remarks'].value_counts()"
   ]
  },
  {
   "cell_type": "code",
   "execution_count": 39,
   "id": "d7c94195",
   "metadata": {},
   "outputs": [
    {
     "data": {
      "text/plain": [
       "お楽しみメニュー       15\n",
       "人気のおすすめメニュー     1\n",
       "Name: remarks, dtype: int64"
      ]
     },
     "execution_count": 39,
     "metadata": {},
     "output_type": "execute_result"
    }
   ],
   "source": [
    "test_data['remarks'].value_counts()"
   ]
  },
  {
   "cell_type": "markdown",
   "id": "7e6c8979",
   "metadata": {},
   "source": [
    "### 特記事項"
   ]
  },
  {
   "cell_type": "code",
   "execution_count": 40,
   "id": "4b7a3419",
   "metadata": {},
   "outputs": [
    {
     "data": {
      "text/plain": [
       "ママの会             14\n",
       "キャリアアップ支援セミナー    14\n",
       "Name: event, dtype: int64"
      ]
     },
     "execution_count": 40,
     "metadata": {},
     "output_type": "execute_result"
    }
   ],
   "source": [
    "train_data['event'].value_counts()"
   ]
  },
  {
   "cell_type": "code",
   "execution_count": 41,
   "id": "49ccf882",
   "metadata": {},
   "outputs": [
    {
     "data": {
      "text/plain": [
       "ママの会             8\n",
       "キャリアアップ支援セミナー    6\n",
       "Name: event, dtype: int64"
      ]
     },
     "execution_count": 41,
     "metadata": {},
     "output_type": "execute_result"
    }
   ],
   "source": [
    "test_data['event'].value_counts()"
   ]
  },
  {
   "cell_type": "markdown",
   "id": "1be7fa10",
   "metadata": {},
   "source": [
    "### メインメニューに関して"
   ]
  },
  {
   "cell_type": "code",
   "execution_count": 49,
   "id": "ab329cec",
   "metadata": {},
   "outputs": [
    {
     "name": "stdout",
     "output_type": "stream",
     "text": [
      "メンチカツ          9\n",
      "タンドリーチキン       7\n",
      "カレーライス         6\n",
      "親子煮            6\n",
      "豚キムチ炒め         6\n",
      "              ..\n",
      "鶏肉の山賊焼き        1\n",
      "ハンバーグデミソース     1\n",
      "ぶりレモンペッパー焼き    1\n",
      "チキンフリカッセ       1\n",
      "汁なし担担麺         1\n",
      "Name: name, Length: 213, dtype: int64\n"
     ]
    }
   ],
   "source": [
    "a = train_data['name'].value_counts()\n",
    "print(a)"
   ]
  },
  {
   "cell_type": "code",
   "execution_count": 43,
   "id": "471d1664",
   "metadata": {},
   "outputs": [
    {
     "data": {
      "text/plain": [
       "チキンカレー             7\n",
       "ポークカレー             7\n",
       "鶏肉の唐揚げ             5\n",
       "酢豚                 4\n",
       "油淋鶏                4\n",
       "                  ..\n",
       "えびフライ×2本           1\n",
       "おろしハンバーグソースと       1\n",
       "チキンのガーリックバターソース    1\n",
       "焼き肉ビビンバ            1\n",
       "ぶり照り焼き・根菜添え        1\n",
       "Name: name, Length: 106, dtype: int64"
      ]
     },
     "execution_count": 43,
     "metadata": {},
     "output_type": "execute_result"
    }
   ],
   "source": [
    "test_data['name'].value_counts()"
   ]
  },
  {
   "cell_type": "code",
   "execution_count": 60,
   "id": "d6341e0e",
   "metadata": {},
   "outputs": [
    {
     "name": "stderr",
     "output_type": "stream",
     "text": [
      "C:\\Users\\baba\\anaconda3\\lib\\site-packages\\IPython\\core\\pylabtools.py:151: UserWarning: Glyph 12513 (\\N{KATAKANA LETTER ME}) missing from current font.\n",
      "  fig.canvas.print_figure(bytes_io, **kw)\n",
      "C:\\Users\\baba\\anaconda3\\lib\\site-packages\\IPython\\core\\pylabtools.py:151: UserWarning: Glyph 12531 (\\N{KATAKANA LETTER N}) missing from current font.\n",
      "  fig.canvas.print_figure(bytes_io, **kw)\n",
      "C:\\Users\\baba\\anaconda3\\lib\\site-packages\\IPython\\core\\pylabtools.py:151: UserWarning: Glyph 12481 (\\N{KATAKANA LETTER TI}) missing from current font.\n",
      "  fig.canvas.print_figure(bytes_io, **kw)\n",
      "C:\\Users\\baba\\anaconda3\\lib\\site-packages\\IPython\\core\\pylabtools.py:151: UserWarning: Glyph 12459 (\\N{KATAKANA LETTER KA}) missing from current font.\n",
      "  fig.canvas.print_figure(bytes_io, **kw)\n",
      "C:\\Users\\baba\\anaconda3\\lib\\site-packages\\IPython\\core\\pylabtools.py:151: UserWarning: Glyph 12484 (\\N{KATAKANA LETTER TU}) missing from current font.\n",
      "  fig.canvas.print_figure(bytes_io, **kw)\n",
      "C:\\Users\\baba\\anaconda3\\lib\\site-packages\\IPython\\core\\pylabtools.py:151: UserWarning: Glyph 12479 (\\N{KATAKANA LETTER TA}) missing from current font.\n",
      "  fig.canvas.print_figure(bytes_io, **kw)\n",
      "C:\\Users\\baba\\anaconda3\\lib\\site-packages\\IPython\\core\\pylabtools.py:151: UserWarning: Glyph 12489 (\\N{KATAKANA LETTER DO}) missing from current font.\n",
      "  fig.canvas.print_figure(bytes_io, **kw)\n",
      "C:\\Users\\baba\\anaconda3\\lib\\site-packages\\IPython\\core\\pylabtools.py:151: UserWarning: Glyph 12522 (\\N{KATAKANA LETTER RI}) missing from current font.\n",
      "  fig.canvas.print_figure(bytes_io, **kw)\n",
      "C:\\Users\\baba\\anaconda3\\lib\\site-packages\\IPython\\core\\pylabtools.py:151: UserWarning: Glyph 12540 (\\N{KATAKANA-HIRAGANA PROLONGED SOUND MARK}) missing from current font.\n",
      "  fig.canvas.print_figure(bytes_io, **kw)\n",
      "C:\\Users\\baba\\anaconda3\\lib\\site-packages\\IPython\\core\\pylabtools.py:151: UserWarning: Glyph 12461 (\\N{KATAKANA LETTER KI}) missing from current font.\n",
      "  fig.canvas.print_figure(bytes_io, **kw)\n",
      "C:\\Users\\baba\\anaconda3\\lib\\site-packages\\IPython\\core\\pylabtools.py:151: UserWarning: Glyph 12524 (\\N{KATAKANA LETTER RE}) missing from current font.\n",
      "  fig.canvas.print_figure(bytes_io, **kw)\n",
      "C:\\Users\\baba\\anaconda3\\lib\\site-packages\\IPython\\core\\pylabtools.py:151: UserWarning: Glyph 12521 (\\N{KATAKANA LETTER RA}) missing from current font.\n",
      "  fig.canvas.print_figure(bytes_io, **kw)\n",
      "C:\\Users\\baba\\anaconda3\\lib\\site-packages\\IPython\\core\\pylabtools.py:151: UserWarning: Glyph 12452 (\\N{KATAKANA LETTER I}) missing from current font.\n",
      "  fig.canvas.print_figure(bytes_io, **kw)\n",
      "C:\\Users\\baba\\anaconda3\\lib\\site-packages\\IPython\\core\\pylabtools.py:151: UserWarning: Glyph 12473 (\\N{KATAKANA LETTER SU}) missing from current font.\n",
      "  fig.canvas.print_figure(bytes_io, **kw)\n",
      "C:\\Users\\baba\\anaconda3\\lib\\site-packages\\IPython\\core\\pylabtools.py:151: UserWarning: Glyph 35242 (\\N{CJK UNIFIED IDEOGRAPH-89AA}) missing from current font.\n",
      "  fig.canvas.print_figure(bytes_io, **kw)\n",
      "C:\\Users\\baba\\anaconda3\\lib\\site-packages\\IPython\\core\\pylabtools.py:151: UserWarning: Glyph 23376 (\\N{CJK UNIFIED IDEOGRAPH-5B50}) missing from current font.\n",
      "  fig.canvas.print_figure(bytes_io, **kw)\n",
      "C:\\Users\\baba\\anaconda3\\lib\\site-packages\\IPython\\core\\pylabtools.py:151: UserWarning: Glyph 29038 (\\N{CJK UNIFIED IDEOGRAPH-716E}) missing from current font.\n",
      "  fig.canvas.print_figure(bytes_io, **kw)\n",
      "C:\\Users\\baba\\anaconda3\\lib\\site-packages\\IPython\\core\\pylabtools.py:151: UserWarning: Glyph 35930 (\\N{CJK UNIFIED IDEOGRAPH-8C5A}) missing from current font.\n",
      "  fig.canvas.print_figure(bytes_io, **kw)\n",
      "C:\\Users\\baba\\anaconda3\\lib\\site-packages\\IPython\\core\\pylabtools.py:151: UserWarning: Glyph 12512 (\\N{KATAKANA LETTER MU}) missing from current font.\n",
      "  fig.canvas.print_figure(bytes_io, **kw)\n",
      "C:\\Users\\baba\\anaconda3\\lib\\site-packages\\IPython\\core\\pylabtools.py:151: UserWarning: Glyph 28818 (\\N{CJK UNIFIED IDEOGRAPH-7092}) missing from current font.\n",
      "  fig.canvas.print_figure(bytes_io, **kw)\n",
      "C:\\Users\\baba\\anaconda3\\lib\\site-packages\\IPython\\core\\pylabtools.py:151: UserWarning: Glyph 12417 (\\N{HIRAGANA LETTER ME}) missing from current font.\n",
      "  fig.canvas.print_figure(bytes_io, **kw)\n",
      "C:\\Users\\baba\\anaconda3\\lib\\site-packages\\IPython\\core\\pylabtools.py:151: UserWarning: Glyph 12509 (\\N{KATAKANA LETTER PO}) missing from current font.\n",
      "  fig.canvas.print_figure(bytes_io, **kw)\n",
      "C:\\Users\\baba\\anaconda3\\lib\\site-packages\\IPython\\core\\pylabtools.py:151: UserWarning: Glyph 12463 (\\N{KATAKANA LETTER KU}) missing from current font.\n",
      "  fig.canvas.print_figure(bytes_io, **kw)\n",
      "C:\\Users\\baba\\anaconda3\\lib\\site-packages\\IPython\\core\\pylabtools.py:151: UserWarning: Glyph 40635 (\\N{CJK UNIFIED IDEOGRAPH-9EBB}) missing from current font.\n",
      "  fig.canvas.print_figure(bytes_io, **kw)\n",
      "C:\\Users\\baba\\anaconda3\\lib\\site-packages\\IPython\\core\\pylabtools.py:151: UserWarning: Glyph 23110 (\\N{CJK UNIFIED IDEOGRAPH-5A46}) missing from current font.\n",
      "  fig.canvas.print_figure(bytes_io, **kw)\n",
      "C:\\Users\\baba\\anaconda3\\lib\\site-packages\\IPython\\core\\pylabtools.py:151: UserWarning: Glyph 35910 (\\N{CJK UNIFIED IDEOGRAPH-8C46}) missing from current font.\n",
      "  fig.canvas.print_figure(bytes_io, **kw)\n",
      "C:\\Users\\baba\\anaconda3\\lib\\site-packages\\IPython\\core\\pylabtools.py:151: UserWarning: Glyph 33104 (\\N{CJK UNIFIED IDEOGRAPH-8150}) missing from current font.\n",
      "  fig.canvas.print_figure(bytes_io, **kw)\n",
      "C:\\Users\\baba\\anaconda3\\lib\\site-packages\\IPython\\core\\pylabtools.py:151: UserWarning: Glyph 32905 (\\N{CJK UNIFIED IDEOGRAPH-8089}) missing from current font.\n",
      "  fig.canvas.print_figure(bytes_io, **kw)\n",
      "C:\\Users\\baba\\anaconda3\\lib\\site-packages\\IPython\\core\\pylabtools.py:151: UserWarning: Glyph 12398 (\\N{HIRAGANA LETTER NO}) missing from current font.\n",
      "  fig.canvas.print_figure(bytes_io, **kw)\n",
      "C:\\Users\\baba\\anaconda3\\lib\\site-packages\\IPython\\core\\pylabtools.py:151: UserWarning: Glyph 12510 (\\N{KATAKANA LETTER MA}) missing from current font.\n",
      "  fig.canvas.print_figure(bytes_io, **kw)\n",
      "C:\\Users\\baba\\anaconda3\\lib\\site-packages\\IPython\\core\\pylabtools.py:151: UserWarning: Glyph 28988 (\\N{CJK UNIFIED IDEOGRAPH-713C}) missing from current font.\n",
      "  fig.canvas.print_figure(bytes_io, **kw)\n",
      "C:\\Users\\baba\\anaconda3\\lib\\site-packages\\IPython\\core\\pylabtools.py:151: UserWarning: Glyph 12365 (\\N{HIRAGANA LETTER KI}) missing from current font.\n",
      "  fig.canvas.print_figure(bytes_io, **kw)\n",
      "C:\\Users\\baba\\anaconda3\\lib\\site-packages\\IPython\\core\\pylabtools.py:151: UserWarning: Glyph 29983 (\\N{CJK UNIFIED IDEOGRAPH-751F}) missing from current font.\n",
      "  fig.canvas.print_figure(bytes_io, **kw)\n",
      "C:\\Users\\baba\\anaconda3\\lib\\site-packages\\IPython\\core\\pylabtools.py:151: UserWarning: Glyph 23004 (\\N{CJK UNIFIED IDEOGRAPH-59DC}) missing from current font.\n",
      "  fig.canvas.print_figure(bytes_io, **kw)\n",
      "C:\\Users\\baba\\anaconda3\\lib\\site-packages\\IPython\\core\\pylabtools.py:151: UserWarning: Glyph 40335 (\\N{CJK UNIFIED IDEOGRAPH-9D8F}) missing from current font.\n",
      "  fig.canvas.print_figure(bytes_io, **kw)\n",
      "C:\\Users\\baba\\anaconda3\\lib\\site-packages\\IPython\\core\\pylabtools.py:151: UserWarning: Glyph 21776 (\\N{CJK UNIFIED IDEOGRAPH-5510}) missing from current font.\n",
      "  fig.canvas.print_figure(bytes_io, **kw)\n",
      "C:\\Users\\baba\\anaconda3\\lib\\site-packages\\IPython\\core\\pylabtools.py:151: UserWarning: Glyph 25562 (\\N{CJK UNIFIED IDEOGRAPH-63DA}) missing from current font.\n",
      "  fig.canvas.print_figure(bytes_io, **kw)\n",
      "C:\\Users\\baba\\anaconda3\\lib\\site-packages\\IPython\\core\\pylabtools.py:151: UserWarning: Glyph 12370 (\\N{HIRAGANA LETTER GE}) missing from current font.\n",
      "  fig.canvas.print_figure(bytes_io, **kw)\n",
      "C:\\Users\\baba\\anaconda3\\lib\\site-packages\\IPython\\core\\pylabtools.py:151: UserWarning: Glyph 26611 (\\N{CJK UNIFIED IDEOGRAPH-67F3}) missing from current font.\n",
      "  fig.canvas.print_figure(bytes_io, **kw)\n",
      "C:\\Users\\baba\\anaconda3\\lib\\site-packages\\IPython\\core\\pylabtools.py:151: UserWarning: Glyph 24029 (\\N{CJK UNIFIED IDEOGRAPH-5DDD}) missing from current font.\n",
      "  fig.canvas.print_figure(bytes_io, **kw)\n",
      "C:\\Users\\baba\\anaconda3\\lib\\site-packages\\IPython\\core\\pylabtools.py:151: UserWarning: Glyph 12474 (\\N{KATAKANA LETTER ZU}) missing from current font.\n",
      "  fig.canvas.print_figure(bytes_io, **kw)\n",
      "C:\\Users\\baba\\anaconda3\\lib\\site-packages\\IPython\\core\\pylabtools.py:151: UserWarning: Glyph 12456 (\\N{KATAKANA LETTER E}) missing from current font.\n",
      "  fig.canvas.print_figure(bytes_io, **kw)\n",
      "C:\\Users\\baba\\anaconda3\\lib\\site-packages\\IPython\\core\\pylabtools.py:151: UserWarning: Glyph 12499 (\\N{KATAKANA LETTER BI}) missing from current font.\n",
      "  fig.canvas.print_figure(bytes_io, **kw)\n",
      "C:\\Users\\baba\\anaconda3\\lib\\site-packages\\IPython\\core\\pylabtools.py:151: UserWarning: Glyph 12501 (\\N{KATAKANA LETTER HU}) missing from current font.\n",
      "  fig.canvas.print_figure(bytes_io, **kw)\n",
      "C:\\Users\\baba\\anaconda3\\lib\\site-packages\\IPython\\core\\pylabtools.py:151: UserWarning: Glyph 25163 (\\N{CJK UNIFIED IDEOGRAPH-624B}) missing from current font.\n",
      "  fig.canvas.print_figure(bytes_io, **kw)\n",
      "C:\\Users\\baba\\anaconda3\\lib\\site-packages\\IPython\\core\\pylabtools.py:151: UserWarning: Glyph 20316 (\\N{CJK UNIFIED IDEOGRAPH-4F5C}) missing from current font.\n",
      "  fig.canvas.print_figure(bytes_io, **kw)\n",
      "C:\\Users\\baba\\anaconda3\\lib\\site-packages\\IPython\\core\\pylabtools.py:151: UserWarning: Glyph 12426 (\\N{HIRAGANA LETTER RI}) missing from current font.\n",
      "  fig.canvas.print_figure(bytes_io, **kw)\n",
      "C:\\Users\\baba\\anaconda3\\lib\\site-packages\\IPython\\core\\pylabtools.py:151: UserWarning: Glyph 12472 (\\N{KATAKANA LETTER ZI}) missing from current font.\n",
      "  fig.canvas.print_figure(bytes_io, **kw)\n",
      "C:\\Users\\baba\\anaconda3\\lib\\site-packages\\IPython\\core\\pylabtools.py:151: UserWarning: Glyph 12515 (\\N{KATAKANA LETTER SMALL YA}) missing from current font.\n",
      "  fig.canvas.print_figure(bytes_io, **kw)\n",
      "C:\\Users\\baba\\anaconda3\\lib\\site-packages\\IPython\\core\\pylabtools.py:151: UserWarning: Glyph 12458 (\\N{KATAKANA LETTER O}) missing from current font.\n",
      "  fig.canvas.print_figure(bytes_io, **kw)\n",
      "C:\\Users\\baba\\anaconda3\\lib\\site-packages\\IPython\\core\\pylabtools.py:151: UserWarning: Glyph 12525 (\\N{KATAKANA LETTER RO}) missing from current font.\n",
      "  fig.canvas.print_figure(bytes_io, **kw)\n",
      "C:\\Users\\baba\\anaconda3\\lib\\site-packages\\IPython\\core\\pylabtools.py:151: UserWarning: Glyph 37218 (\\N{CJK UNIFIED IDEOGRAPH-9162}) missing from current font.\n",
      "  fig.canvas.print_figure(bytes_io, **kw)\n",
      "C:\\Users\\baba\\anaconda3\\lib\\site-packages\\IPython\\core\\pylabtools.py:151: UserWarning: Glyph 22633 (\\N{CJK UNIFIED IDEOGRAPH-5869}) missing from current font.\n",
      "  fig.canvas.print_figure(bytes_io, **kw)\n",
      "C:\\Users\\baba\\anaconda3\\lib\\site-packages\\IPython\\core\\pylabtools.py:151: UserWarning: Glyph 30333 (\\N{CJK UNIFIED IDEOGRAPH-767D}) missing from current font.\n",
      "  fig.canvas.print_figure(bytes_io, **kw)\n",
      "C:\\Users\\baba\\anaconda3\\lib\\site-packages\\IPython\\core\\pylabtools.py:151: UserWarning: Glyph 36523 (\\N{CJK UNIFIED IDEOGRAPH-8EAB}) missing from current font.\n",
      "  fig.canvas.print_figure(bytes_io, **kw)\n",
      "C:\\Users\\baba\\anaconda3\\lib\\site-packages\\IPython\\core\\pylabtools.py:151: UserWarning: Glyph 39770 (\\N{CJK UNIFIED IDEOGRAPH-9B5A}) missing from current font.\n",
      "  fig.canvas.print_figure(bytes_io, **kw)\n",
      "C:\\Users\\baba\\anaconda3\\lib\\site-packages\\IPython\\core\\pylabtools.py:151: UserWarning: Glyph 12491 (\\N{KATAKANA LETTER NI}) missing from current font.\n",
      "  fig.canvas.print_figure(bytes_io, **kw)\n",
      "C:\\Users\\baba\\anaconda3\\lib\\site-packages\\IPython\\core\\pylabtools.py:151: UserWarning: Glyph 12523 (\\N{KATAKANA LETTER RU}) missing from current font.\n",
      "  fig.canvas.print_figure(bytes_io, **kw)\n",
      "C:\\Users\\baba\\anaconda3\\lib\\site-packages\\IPython\\core\\pylabtools.py:151: UserWarning: Glyph 12496 (\\N{KATAKANA LETTER BA}) missing from current font.\n",
      "  fig.canvas.print_figure(bytes_io, **kw)\n",
      "C:\\Users\\baba\\anaconda3\\lib\\site-packages\\IPython\\core\\pylabtools.py:151: UserWarning: Glyph 12505 (\\N{KATAKANA LETTER BE}) missing from current font.\n",
      "  fig.canvas.print_figure(bytes_io, **kw)\n",
      "C:\\Users\\baba\\anaconda3\\lib\\site-packages\\IPython\\core\\pylabtools.py:151: UserWarning: Glyph 12517 (\\N{KATAKANA LETTER SMALL YU}) missing from current font.\n",
      "  fig.canvas.print_figure(bytes_io, **kw)\n",
      "C:\\Users\\baba\\anaconda3\\lib\\site-packages\\IPython\\core\\pylabtools.py:151: UserWarning: Glyph 29275 (\\N{CJK UNIFIED IDEOGRAPH-725B}) missing from current font.\n",
      "  fig.canvas.print_figure(bytes_io, **kw)\n",
      "C:\\Users\\baba\\anaconda3\\lib\\site-packages\\IPython\\core\\pylabtools.py:151: UserWarning: Glyph 20028 (\\N{CJK UNIFIED IDEOGRAPH-4E3C}) missing from current font.\n",
      "  fig.canvas.print_figure(bytes_io, **kw)\n",
      "C:\\Users\\baba\\anaconda3\\lib\\site-packages\\IPython\\core\\pylabtools.py:151: UserWarning: Glyph 39080 (\\N{CJK UNIFIED IDEOGRAPH-98A8}) missing from current font.\n",
      "  fig.canvas.print_figure(bytes_io, **kw)\n",
      "C:\\Users\\baba\\anaconda3\\lib\\site-packages\\IPython\\core\\pylabtools.py:151: UserWarning: Glyph 12376 (\\N{HIRAGANA LETTER ZI}) missing from current font.\n",
      "  fig.canvas.print_figure(bytes_io, **kw)\n",
      "C:\\Users\\baba\\anaconda3\\lib\\site-packages\\IPython\\core\\pylabtools.py:151: UserWarning: Glyph 12419 (\\N{HIRAGANA LETTER SMALL YA}) missing from current font.\n",
      "  fig.canvas.print_figure(bytes_io, **kw)\n",
      "C:\\Users\\baba\\anaconda3\\lib\\site-packages\\IPython\\core\\pylabtools.py:151: UserWarning: Glyph 12364 (\\N{HIRAGANA LETTER GA}) missing from current font.\n",
      "  fig.canvas.print_figure(bytes_io, **kw)\n",
      "C:\\Users\\baba\\anaconda3\\lib\\site-packages\\IPython\\core\\pylabtools.py:151: UserWarning: Glyph 33258 (\\N{CJK UNIFIED IDEOGRAPH-81EA}) missing from current font.\n",
      "  fig.canvas.print_figure(bytes_io, **kw)\n",
      "C:\\Users\\baba\\anaconda3\\lib\\site-packages\\IPython\\core\\pylabtools.py:151: UserWarning: Glyph 23478 (\\N{CJK UNIFIED IDEOGRAPH-5BB6}) missing from current font.\n",
      "  fig.canvas.print_figure(bytes_io, **kw)\n",
      "C:\\Users\\baba\\anaconda3\\lib\\site-packages\\IPython\\core\\pylabtools.py:151: UserWarning: Glyph 35069 (\\N{CJK UNIFIED IDEOGRAPH-88FD}) missing from current font.\n",
      "  fig.canvas.print_figure(bytes_io, **kw)\n",
      "C:\\Users\\baba\\anaconda3\\lib\\site-packages\\IPython\\core\\pylabtools.py:151: UserWarning: Glyph 12488 (\\N{KATAKANA LETTER TO}) missing from current font.\n",
      "  fig.canvas.print_figure(bytes_io, **kw)\n",
      "C:\\Users\\baba\\anaconda3\\lib\\site-packages\\IPython\\core\\pylabtools.py:151: UserWarning: Glyph 21619 (\\N{CJK UNIFIED IDEOGRAPH-5473}) missing from current font.\n",
      "  fig.canvas.print_figure(bytes_io, **kw)\n",
      "C:\\Users\\baba\\anaconda3\\lib\\site-packages\\IPython\\core\\pylabtools.py:151: UserWarning: Glyph 22092 (\\N{CJK UNIFIED IDEOGRAPH-564C}) missing from current font.\n",
      "  fig.canvas.print_figure(bytes_io, **kw)\n",
      "C:\\Users\\baba\\anaconda3\\lib\\site-packages\\IPython\\core\\pylabtools.py:151: UserWarning: Glyph 28460 (\\N{CJK UNIFIED IDEOGRAPH-6F2C}) missing from current font.\n",
      "  fig.canvas.print_figure(bytes_io, **kw)\n",
      "C:\\Users\\baba\\anaconda3\\lib\\site-packages\\IPython\\core\\pylabtools.py:151: UserWarning: Glyph 12369 (\\N{HIRAGANA LETTER KE}) missing from current font.\n",
      "  fig.canvas.print_figure(bytes_io, **kw)\n",
      "C:\\Users\\baba\\anaconda3\\lib\\site-packages\\IPython\\core\\pylabtools.py:151: UserWarning: Glyph 12460 (\\N{KATAKANA LETTER GA}) missing from current font.\n",
      "  fig.canvas.print_figure(bytes_io, **kw)\n",
      "C:\\Users\\baba\\anaconda3\\lib\\site-packages\\IPython\\core\\pylabtools.py:151: UserWarning: Glyph 12494 (\\N{KATAKANA LETTER NO}) missing from current font.\n",
      "  fig.canvas.print_figure(bytes_io, **kw)\n",
      "C:\\Users\\baba\\anaconda3\\lib\\site-packages\\IPython\\core\\pylabtools.py:151: UserWarning: Glyph 12471 (\\N{KATAKANA LETTER SI}) missing from current font.\n",
      "  fig.canvas.print_figure(bytes_io, **kw)\n",
      "C:\\Users\\baba\\anaconda3\\lib\\site-packages\\IPython\\core\\pylabtools.py:151: UserWarning: Glyph 27833 (\\N{CJK UNIFIED IDEOGRAPH-6CB9}) missing from current font.\n",
      "  fig.canvas.print_figure(bytes_io, **kw)\n",
      "C:\\Users\\baba\\anaconda3\\lib\\site-packages\\IPython\\core\\pylabtools.py:151: UserWarning: Glyph 28107 (\\N{CJK UNIFIED IDEOGRAPH-6DCB}) missing from current font.\n",
      "  fig.canvas.print_figure(bytes_io, **kw)\n",
      "C:\\Users\\baba\\anaconda3\\lib\\site-packages\\IPython\\core\\pylabtools.py:151: UserWarning: Glyph 37326 (\\N{CJK UNIFIED IDEOGRAPH-91CE}) missing from current font.\n",
      "  fig.canvas.print_figure(bytes_io, **kw)\n",
      "C:\\Users\\baba\\anaconda3\\lib\\site-packages\\IPython\\core\\pylabtools.py:151: UserWarning: Glyph 33756 (\\N{CJK UNIFIED IDEOGRAPH-83DC}) missing from current font.\n",
      "  fig.canvas.print_figure(bytes_io, **kw)\n",
      "C:\\Users\\baba\\anaconda3\\lib\\site-packages\\IPython\\core\\pylabtools.py:151: UserWarning: Glyph 29976 (\\N{CJK UNIFIED IDEOGRAPH-7518}) missing from current font.\n",
      "  fig.canvas.print_figure(bytes_io, **kw)\n",
      "C:\\Users\\baba\\anaconda3\\lib\\site-packages\\IPython\\core\\pylabtools.py:151: UserWarning: Glyph 21644 (\\N{CJK UNIFIED IDEOGRAPH-548C}) missing from current font.\n",
      "  fig.canvas.print_figure(bytes_io, **kw)\n",
      "C:\\Users\\baba\\anaconda3\\lib\\site-packages\\IPython\\core\\pylabtools.py:151: UserWarning: Glyph 12495 (\\N{KATAKANA LETTER HA}) missing from current font.\n",
      "  fig.canvas.print_figure(bytes_io, **kw)\n",
      "C:\\Users\\baba\\anaconda3\\lib\\site-packages\\IPython\\core\\pylabtools.py:151: UserWarning: Glyph 12464 (\\N{KATAKANA LETTER GU}) missing from current font.\n",
      "  fig.canvas.print_figure(bytes_io, **kw)\n",
      "C:\\Users\\baba\\anaconda3\\lib\\site-packages\\IPython\\core\\pylabtools.py:151: UserWarning: Glyph 12511 (\\N{KATAKANA LETTER MI}) missing from current font.\n",
      "  fig.canvas.print_figure(bytes_io, **kw)\n",
      "C:\\Users\\baba\\anaconda3\\lib\\site-packages\\IPython\\core\\pylabtools.py:151: UserWarning: Glyph 12483 (\\N{KATAKANA LETTER SMALL TU}) missing from current font.\n",
      "  fig.canvas.print_figure(bytes_io, **kw)\n",
      "C:\\Users\\baba\\anaconda3\\lib\\site-packages\\IPython\\core\\pylabtools.py:151: UserWarning: Glyph 12377 (\\N{HIRAGANA LETTER SU}) missing from current font.\n",
      "  fig.canvas.print_figure(bytes_io, **kw)\n",
      "C:\\Users\\baba\\anaconda3\\lib\\site-packages\\IPython\\core\\pylabtools.py:151: UserWarning: Glyph 28810 (\\N{CJK UNIFIED IDEOGRAPH-708A}) missing from current font.\n",
      "  fig.canvas.print_figure(bytes_io, **kw)\n",
      "C:\\Users\\baba\\anaconda3\\lib\\site-packages\\IPython\\core\\pylabtools.py:151: UserWarning: Glyph 36796 (\\N{CJK UNIFIED IDEOGRAPH-8FBC}) missing from current font.\n",
      "  fig.canvas.print_figure(bytes_io, **kw)\n",
      "C:\\Users\\baba\\anaconda3\\lib\\site-packages\\IPython\\core\\pylabtools.py:151: UserWarning: Glyph 12415 (\\N{HIRAGANA LETTER MI}) missing from current font.\n",
      "  fig.canvas.print_figure(bytes_io, **kw)\n",
      "C:\\Users\\baba\\anaconda3\\lib\\site-packages\\IPython\\core\\pylabtools.py:151: UserWarning: Glyph 12372 (\\N{HIRAGANA LETTER GO}) missing from current font.\n",
      "  fig.canvas.print_figure(bytes_io, **kw)\n",
      "C:\\Users\\baba\\anaconda3\\lib\\site-packages\\IPython\\core\\pylabtools.py:151: UserWarning: Glyph 39151 (\\N{CJK UNIFIED IDEOGRAPH-98EF}) missing from current font.\n",
      "  fig.canvas.print_figure(bytes_io, **kw)\n",
      "C:\\Users\\baba\\anaconda3\\lib\\site-packages\\IPython\\core\\pylabtools.py:151: UserWarning: Glyph 21402 (\\N{CJK UNIFIED IDEOGRAPH-539A}) missing from current font.\n",
      "  fig.canvas.print_figure(bytes_io, **kw)\n",
      "C:\\Users\\baba\\anaconda3\\lib\\site-packages\\IPython\\core\\pylabtools.py:151: UserWarning: Glyph 20999 (\\N{CJK UNIFIED IDEOGRAPH-5207}) missing from current font.\n",
      "  fig.canvas.print_figure(bytes_io, **kw)\n",
      "C:\\Users\\baba\\anaconda3\\lib\\site-packages\\IPython\\core\\pylabtools.py:151: UserWarning: Glyph 20013 (\\N{CJK UNIFIED IDEOGRAPH-4E2D}) missing from current font.\n",
      "  fig.canvas.print_figure(bytes_io, **kw)\n",
      "C:\\Users\\baba\\anaconda3\\lib\\site-packages\\IPython\\core\\pylabtools.py:151: UserWarning: Glyph 33775 (\\N{CJK UNIFIED IDEOGRAPH-83EF}) missing from current font.\n",
      "  fig.canvas.print_figure(bytes_io, **kw)\n",
      "C:\\Users\\baba\\anaconda3\\lib\\site-packages\\IPython\\core\\pylabtools.py:151: UserWarning: Glyph 12469 (\\N{KATAKANA LETTER SA}) missing from current font.\n",
      "  fig.canvas.print_figure(bytes_io, **kw)\n",
      "C:\\Users\\baba\\anaconda3\\lib\\site-packages\\IPython\\core\\pylabtools.py:151: UserWarning: Glyph 12514 (\\N{KATAKANA LETTER MO}) missing from current font.\n",
      "  fig.canvas.print_figure(bytes_io, **kw)\n",
      "C:\\Users\\baba\\anaconda3\\lib\\site-packages\\IPython\\core\\pylabtools.py:151: UserWarning: Glyph 12539 (\\N{KATAKANA MIDDLE DOT}) missing from current font.\n",
      "  fig.canvas.print_figure(bytes_io, **kw)\n",
      "C:\\Users\\baba\\anaconda3\\lib\\site-packages\\IPython\\core\\pylabtools.py:151: UserWarning: Glyph 12467 (\\N{KATAKANA LETTER KO}) missing from current font.\n",
      "  fig.canvas.print_figure(bytes_io, **kw)\n",
      "C:\\Users\\baba\\anaconda3\\lib\\site-packages\\IPython\\core\\pylabtools.py:151: UserWarning: Glyph 12362 (\\N{HIRAGANA LETTER O}) missing from current font.\n",
      "  fig.canvas.print_figure(bytes_io, **kw)\n",
      "C:\\Users\\baba\\anaconda3\\lib\\site-packages\\IPython\\core\\pylabtools.py:151: UserWarning: Glyph 12429 (\\N{HIRAGANA LETTER RO}) missing from current font.\n",
      "  fig.canvas.print_figure(bytes_io, **kw)\n",
      "C:\\Users\\baba\\anaconda3\\lib\\site-packages\\IPython\\core\\pylabtools.py:151: UserWarning: Glyph 12375 (\\N{HIRAGANA LETTER SI}) missing from current font.\n",
      "  fig.canvas.print_figure(bytes_io, **kw)\n",
      "C:\\Users\\baba\\anaconda3\\lib\\site-packages\\IPython\\core\\pylabtools.py:151: UserWarning: Glyph 12477 (\\N{KATAKANA LETTER SO}) missing from current font.\n",
      "  fig.canvas.print_figure(bytes_io, **kw)\n",
      "C:\\Users\\baba\\anaconda3\\lib\\site-packages\\IPython\\core\\pylabtools.py:151: UserWarning: Glyph 20843 (\\N{CJK UNIFIED IDEOGRAPH-516B}) missing from current font.\n",
      "  fig.canvas.print_figure(bytes_io, **kw)\n",
      "C:\\Users\\baba\\anaconda3\\lib\\site-packages\\IPython\\core\\pylabtools.py:151: UserWarning: Glyph 23453 (\\N{CJK UNIFIED IDEOGRAPH-5B9D}) missing from current font.\n",
      "  fig.canvas.print_figure(bytes_io, **kw)\n",
      "C:\\Users\\baba\\anaconda3\\lib\\site-packages\\IPython\\core\\pylabtools.py:151: UserWarning: Glyph 36763 (\\N{CJK UNIFIED IDEOGRAPH-8F9B}) missing from current font.\n",
      "  fig.canvas.print_figure(bytes_io, **kw)\n",
      "C:\\Users\\baba\\anaconda3\\lib\\site-packages\\IPython\\core\\pylabtools.py:151: UserWarning: Glyph 33394 (\\N{CJK UNIFIED IDEOGRAPH-8272}) missing from current font.\n",
      "  fig.canvas.print_figure(bytes_io, **kw)\n",
      "C:\\Users\\baba\\anaconda3\\lib\\site-packages\\IPython\\core\\pylabtools.py:151: UserWarning: Glyph 24425 (\\N{CJK UNIFIED IDEOGRAPH-5F69}) missing from current font.\n",
      "  fig.canvas.print_figure(bytes_io, **kw)\n",
      "C:\\Users\\baba\\anaconda3\\lib\\site-packages\\IPython\\core\\pylabtools.py:151: UserWarning: Glyph 12392 (\\N{HIRAGANA LETTER TO}) missing from current font.\n",
      "  fig.canvas.print_figure(bytes_io, **kw)\n",
      "C:\\Users\\baba\\anaconda3\\lib\\site-packages\\IPython\\core\\pylabtools.py:151: UserWarning: Glyph 40658 (\\N{CJK UNIFIED IDEOGRAPH-9ED2}) missing from current font.\n",
      "  fig.canvas.print_figure(bytes_io, **kw)\n",
      "C:\\Users\\baba\\anaconda3\\lib\\site-packages\\IPython\\core\\pylabtools.py:151: UserWarning: Glyph 12354 (\\N{HIRAGANA LETTER A}) missing from current font.\n",
      "  fig.canvas.print_figure(bytes_io, **kw)\n",
      "C:\\Users\\baba\\anaconda3\\lib\\site-packages\\IPython\\core\\pylabtools.py:151: UserWarning: Glyph 12435 (\\N{HIRAGANA LETTER N}) missing from current font.\n",
      "  fig.canvas.print_figure(bytes_io, **kw)\n",
      "C:\\Users\\baba\\anaconda3\\lib\\site-packages\\IPython\\core\\pylabtools.py:151: UserWarning: Glyph 12465 (\\N{KATAKANA LETTER KE}) missing from current font.\n",
      "  fig.canvas.print_figure(bytes_io, **kw)\n",
      "C:\\Users\\baba\\anaconda3\\lib\\site-packages\\IPython\\core\\pylabtools.py:151: UserWarning: Glyph 23665 (\\N{CJK UNIFIED IDEOGRAPH-5C71}) missing from current font.\n",
      "  fig.canvas.print_figure(bytes_io, **kw)\n",
      "C:\\Users\\baba\\anaconda3\\lib\\site-packages\\IPython\\core\\pylabtools.py:151: UserWarning: Glyph 36042 (\\N{CJK UNIFIED IDEOGRAPH-8CCA}) missing from current font.\n",
      "  fig.canvas.print_figure(bytes_io, **kw)\n",
      "C:\\Users\\baba\\anaconda3\\lib\\site-packages\\IPython\\core\\pylabtools.py:151: UserWarning: Glyph 12508 (\\N{KATAKANA LETTER BO}) missing from current font.\n",
      "  fig.canvas.print_figure(bytes_io, **kw)\n",
      "C:\\Users\\baba\\anaconda3\\lib\\site-packages\\IPython\\core\\pylabtools.py:151: UserWarning: Glyph 33540 (\\N{CJK UNIFIED IDEOGRAPH-8304}) missing from current font.\n",
      "  fig.canvas.print_figure(bytes_io, **kw)\n",
      "C:\\Users\\baba\\anaconda3\\lib\\site-packages\\IPython\\core\\pylabtools.py:151: UserWarning: Glyph 22799 (\\N{CJK UNIFIED IDEOGRAPH-590F}) missing from current font.\n",
      "  fig.canvas.print_figure(bytes_io, **kw)\n",
      "C:\\Users\\baba\\anaconda3\\lib\\site-packages\\IPython\\core\\pylabtools.py:151: UserWarning: Glyph 12490 (\\N{KATAKANA LETTER NA}) missing from current font.\n",
      "  fig.canvas.print_figure(bytes_io, **kw)\n",
      "C:\\Users\\baba\\anaconda3\\lib\\site-packages\\IPython\\core\\pylabtools.py:151: UserWarning: Glyph 26085 (\\N{CJK UNIFIED IDEOGRAPH-65E5}) missing from current font.\n",
      "  fig.canvas.print_figure(bytes_io, **kw)\n",
      "C:\\Users\\baba\\anaconda3\\lib\\site-packages\\IPython\\core\\pylabtools.py:151: UserWarning: Glyph 12381 (\\N{HIRAGANA LETTER SO}) missing from current font.\n",
      "  fig.canvas.print_figure(bytes_io, **kw)\n",
      "C:\\Users\\baba\\anaconda3\\lib\\site-packages\\IPython\\core\\pylabtools.py:151: UserWarning: Glyph 12400 (\\N{HIRAGANA LETTER BA}) missing from current font.\n",
      "  fig.canvas.print_figure(bytes_io, **kw)\n",
      "C:\\Users\\baba\\anaconda3\\lib\\site-packages\\IPython\\core\\pylabtools.py:151: UserWarning: Glyph 12360 (\\N{HIRAGANA LETTER E}) missing from current font.\n",
      "  fig.canvas.print_figure(bytes_io, **kw)\n",
      "C:\\Users\\baba\\anaconda3\\lib\\site-packages\\IPython\\core\\pylabtools.py:151: UserWarning: Glyph 12403 (\\N{HIRAGANA LETTER BI}) missing from current font.\n",
      "  fig.canvas.print_figure(bytes_io, **kw)\n",
      "C:\\Users\\baba\\anaconda3\\lib\\site-packages\\IPython\\core\\pylabtools.py:151: UserWarning: Glyph 26757 (\\N{CJK UNIFIED IDEOGRAPH-6885}) missing from current font.\n",
      "  fig.canvas.print_figure(bytes_io, **kw)\n",
      "C:\\Users\\baba\\anaconda3\\lib\\site-packages\\IPython\\core\\pylabtools.py:151: UserWarning: Glyph 36196 (\\N{CJK UNIFIED IDEOGRAPH-8D64}) missing from current font.\n",
      "  fig.canvas.print_figure(bytes_io, **kw)\n",
      "C:\\Users\\baba\\anaconda3\\lib\\site-packages\\IPython\\core\\pylabtools.py:151: UserWarning: Glyph 12527 (\\N{KATAKANA LETTER WA}) missing from current font.\n",
      "  fig.canvas.print_figure(bytes_io, **kw)\n",
      "C:\\Users\\baba\\anaconda3\\lib\\site-packages\\IPython\\core\\pylabtools.py:151: UserWarning: Glyph 12486 (\\N{KATAKANA LETTER TE}) missing from current font.\n",
      "  fig.canvas.print_figure(bytes_io, **kw)\n",
      "C:\\Users\\baba\\anaconda3\\lib\\site-packages\\IPython\\core\\pylabtools.py:151: UserWarning: Glyph 12394 (\\N{HIRAGANA LETTER NA}) missing from current font.\n",
      "  fig.canvas.print_figure(bytes_io, **kw)\n",
      "C:\\Users\\baba\\anaconda3\\lib\\site-packages\\IPython\\core\\pylabtools.py:151: UserWarning: Glyph 12516 (\\N{KATAKANA LETTER YA}) missing from current font.\n",
      "  fig.canvas.print_figure(bytes_io, **kw)\n",
      "C:\\Users\\baba\\anaconda3\\lib\\site-packages\\IPython\\core\\pylabtools.py:151: UserWarning: Glyph 12406 (\\N{HIRAGANA LETTER BU}) missing from current font.\n",
      "  fig.canvas.print_figure(bytes_io, **kw)\n",
      "C:\\Users\\baba\\anaconda3\\lib\\site-packages\\IPython\\core\\pylabtools.py:151: UserWarning: Glyph 29031 (\\N{CJK UNIFIED IDEOGRAPH-7167}) missing from current font.\n",
      "  fig.canvas.print_figure(bytes_io, **kw)\n",
      "C:\\Users\\baba\\anaconda3\\lib\\site-packages\\IPython\\core\\pylabtools.py:151: UserWarning: Glyph 26681 (\\N{CJK UNIFIED IDEOGRAPH-6839}) missing from current font.\n",
      "  fig.canvas.print_figure(bytes_io, **kw)\n",
      "C:\\Users\\baba\\anaconda3\\lib\\site-packages\\IPython\\core\\pylabtools.py:151: UserWarning: Glyph 39321 (\\N{CJK UNIFIED IDEOGRAPH-9999}) missing from current font.\n",
      "  fig.canvas.print_figure(bytes_io, **kw)\n",
      "C:\\Users\\baba\\anaconda3\\lib\\site-packages\\IPython\\core\\pylabtools.py:151: UserWarning: Glyph 33609 (\\N{CJK UNIFIED IDEOGRAPH-8349}) missing from current font.\n",
      "  fig.canvas.print_figure(bytes_io, **kw)\n",
      "C:\\Users\\baba\\anaconda3\\lib\\site-packages\\IPython\\core\\pylabtools.py:151: UserWarning: Glyph 32993 (\\N{CJK UNIFIED IDEOGRAPH-80E1}) missing from current font.\n",
      "  fig.canvas.print_figure(bytes_io, **kw)\n",
      "C:\\Users\\baba\\anaconda3\\lib\\site-packages\\IPython\\core\\pylabtools.py:151: UserWarning: Glyph 26898 (\\N{CJK UNIFIED IDEOGRAPH-6912}) missing from current font.\n",
      "  fig.canvas.print_figure(bytes_io, **kw)\n",
      "C:\\Users\\baba\\anaconda3\\lib\\site-packages\\IPython\\core\\pylabtools.py:151: UserWarning: Glyph 12500 (\\N{KATAKANA LETTER PI}) missing from current font.\n",
      "  fig.canvas.print_figure(bytes_io, **kw)\n",
      "C:\\Users\\baba\\anaconda3\\lib\\site-packages\\IPython\\core\\pylabtools.py:151: UserWarning: Glyph 28023 (\\N{CJK UNIFIED IDEOGRAPH-6D77}) missing from current font.\n",
      "  fig.canvas.print_figure(bytes_io, **kw)\n",
      "C:\\Users\\baba\\anaconda3\\lib\\site-packages\\IPython\\core\\pylabtools.py:151: UserWarning: Glyph 32769 (\\N{CJK UNIFIED IDEOGRAPH-8001}) missing from current font.\n",
      "  fig.canvas.print_figure(bytes_io, **kw)\n",
      "C:\\Users\\baba\\anaconda3\\lib\\site-packages\\IPython\\core\\pylabtools.py:151: UserWarning: Glyph 22825 (\\N{CJK UNIFIED IDEOGRAPH-5929}) missing from current font.\n",
      "  fig.canvas.print_figure(bytes_io, **kw)\n",
      "C:\\Users\\baba\\anaconda3\\lib\\site-packages\\IPython\\core\\pylabtools.py:151: UserWarning: Glyph 12407 (\\N{HIRAGANA LETTER PU}) missing from current font.\n",
      "  fig.canvas.print_figure(bytes_io, **kw)\n",
      "C:\\Users\\baba\\anaconda3\\lib\\site-packages\\IPython\\core\\pylabtools.py:151: UserWarning: Glyph 12425 (\\N{HIRAGANA LETTER RA}) missing from current font.\n",
      "  fig.canvas.print_figure(bytes_io, **kw)\n",
      "C:\\Users\\baba\\anaconda3\\lib\\site-packages\\IPython\\core\\pylabtools.py:151: UserWarning: Glyph 12383 (\\N{HIRAGANA LETTER TA}) missing from current font.\n",
      "  fig.canvas.print_figure(bytes_io, **kw)\n",
      "C:\\Users\\baba\\anaconda3\\lib\\site-packages\\IPython\\core\\pylabtools.py:151: UserWarning: Glyph 31452 (\\N{CJK UNIFIED IDEOGRAPH-7ADC}) missing from current font.\n",
      "  fig.canvas.print_figure(bytes_io, **kw)\n",
      "C:\\Users\\baba\\anaconda3\\lib\\site-packages\\IPython\\core\\pylabtools.py:151: UserWarning: Glyph 30000 (\\N{CJK UNIFIED IDEOGRAPH-7530}) missing from current font.\n",
      "  fig.canvas.print_figure(bytes_io, **kw)\n",
      "C:\\Users\\baba\\anaconda3\\lib\\site-packages\\IPython\\core\\pylabtools.py:151: UserWarning: Glyph 12371 (\\N{HIRAGANA LETTER KO}) missing from current font.\n",
      "  fig.canvas.print_figure(bytes_io, **kw)\n",
      "C:\\Users\\baba\\anaconda3\\lib\\site-packages\\IPython\\core\\pylabtools.py:151: UserWarning: Glyph 12487 (\\N{KATAKANA LETTER DE}) missing from current font.\n",
      "  fig.canvas.print_figure(bytes_io, **kw)\n",
      "C:\\Users\\baba\\anaconda3\\lib\\site-packages\\IPython\\core\\pylabtools.py:151: UserWarning: Glyph 12363 (\\N{HIRAGANA LETTER KA}) missing from current font.\n",
      "  fig.canvas.print_figure(bytes_io, **kw)\n",
      "C:\\Users\\baba\\anaconda3\\lib\\site-packages\\IPython\\core\\pylabtools.py:151: UserWarning: Glyph 39894 (\\N{CJK UNIFIED IDEOGRAPH-9BD6}) missing from current font.\n",
      "  fig.canvas.print_figure(bytes_io, **kw)\n",
      "C:\\Users\\baba\\anaconda3\\lib\\site-packages\\IPython\\core\\pylabtools.py:151: UserWarning: Glyph 29305 (\\N{CJK UNIFIED IDEOGRAPH-7279}) missing from current font.\n",
      "  fig.canvas.print_figure(bytes_io, **kw)\n",
      "C:\\Users\\baba\\anaconda3\\lib\\site-packages\\IPython\\core\\pylabtools.py:151: UserWarning: Glyph 12468 (\\N{KATAKANA LETTER GO}) missing from current font.\n",
      "  fig.canvas.print_figure(bytes_io, **kw)\n",
      "C:\\Users\\baba\\anaconda3\\lib\\site-packages\\IPython\\core\\pylabtools.py:151: UserWarning: Glyph 12503 (\\N{KATAKANA LETTER PU}) missing from current font.\n",
      "  fig.canvas.print_figure(bytes_io, **kw)\n",
      "C:\\Users\\baba\\anaconda3\\lib\\site-packages\\IPython\\core\\pylabtools.py:151: UserWarning: Glyph 12395 (\\N{HIRAGANA LETTER NI}) missing from current font.\n",
      "  fig.canvas.print_figure(bytes_io, **kw)\n",
      "C:\\Users\\baba\\anaconda3\\lib\\site-packages\\IPython\\core\\pylabtools.py:151: UserWarning: Glyph 29577 (\\N{CJK UNIFIED IDEOGRAPH-7389}) missing from current font.\n",
      "  fig.canvas.print_figure(bytes_io, **kw)\n",
      "C:\\Users\\baba\\anaconda3\\lib\\site-packages\\IPython\\core\\pylabtools.py:151: UserWarning: Glyph 12428 (\\N{HIRAGANA LETTER RE}) missing from current font.\n",
      "  fig.canvas.print_figure(bytes_io, **kw)\n",
      "C:\\Users\\baba\\anaconda3\\lib\\site-packages\\IPython\\core\\pylabtools.py:151: UserWarning: Glyph 12520 (\\N{KATAKANA LETTER YO}) missing from current font.\n",
      "  fig.canvas.print_figure(bytes_io, **kw)\n",
      "C:\\Users\\baba\\anaconda3\\lib\\site-packages\\IPython\\core\\pylabtools.py:151: UserWarning: Glyph 22238 (\\N{CJK UNIFIED IDEOGRAPH-56DE}) missing from current font.\n",
      "  fig.canvas.print_figure(bytes_io, **kw)\n",
      "C:\\Users\\baba\\anaconda3\\lib\\site-packages\\IPython\\core\\pylabtools.py:151: UserWarning: Glyph 37707 (\\N{CJK UNIFIED IDEOGRAPH-934B}) missing from current font.\n",
      "  fig.canvas.print_figure(bytes_io, **kw)\n",
      "C:\\Users\\baba\\anaconda3\\lib\\site-packages\\IPython\\core\\pylabtools.py:151: UserWarning: Glyph 12506 (\\N{KATAKANA LETTER PE}) missing from current font.\n",
      "  fig.canvas.print_figure(bytes_io, **kw)\n",
      "C:\\Users\\baba\\anaconda3\\lib\\site-packages\\IPython\\core\\pylabtools.py:151: UserWarning: Glyph 12497 (\\N{KATAKANA LETTER PA}) missing from current font.\n",
      "  fig.canvas.print_figure(bytes_io, **kw)\n",
      "C:\\Users\\baba\\anaconda3\\lib\\site-packages\\IPython\\core\\pylabtools.py:151: UserWarning: Glyph 12388 (\\N{HIRAGANA LETTER TU}) missing from current font.\n",
      "  fig.canvas.print_figure(bytes_io, **kw)\n",
      "C:\\Users\\baba\\anaconda3\\lib\\site-packages\\IPython\\core\\pylabtools.py:151: UserWarning: Glyph 12373 (\\N{HIRAGANA LETTER SA}) missing from current font.\n",
      "  fig.canvas.print_figure(bytes_io, **kw)\n",
      "C:\\Users\\baba\\anaconda3\\lib\\site-packages\\IPython\\core\\pylabtools.py:151: UserWarning: Glyph 12420 (\\N{HIRAGANA LETTER YA}) missing from current font.\n",
      "  fig.canvas.print_figure(bytes_io, **kw)\n",
      "C:\\Users\\baba\\anaconda3\\lib\\site-packages\\IPython\\core\\pylabtools.py:151: UserWarning: Glyph 23436 (\\N{CJK UNIFIED IDEOGRAPH-5B8C}) missing from current font.\n",
      "  fig.canvas.print_figure(bytes_io, **kw)\n",
      "C:\\Users\\baba\\anaconda3\\lib\\site-packages\\IPython\\core\\pylabtools.py:151: UserWarning: Glyph 29087 (\\N{CJK UNIFIED IDEOGRAPH-719F}) missing from current font.\n",
      "  fig.canvas.print_figure(bytes_io, **kw)\n",
      "C:\\Users\\baba\\anaconda3\\lib\\site-packages\\IPython\\core\\pylabtools.py:151: UserWarning: Glyph 12507 (\\N{KATAKANA LETTER HO}) missing from current font.\n",
      "  fig.canvas.print_figure(bytes_io, **kw)\n",
      "C:\\Users\\baba\\anaconda3\\lib\\site-packages\\IPython\\core\\pylabtools.py:151: UserWarning: Glyph 12387 (\\N{HIRAGANA LETTER SMALL TU}) missing from current font.\n",
      "  fig.canvas.print_figure(bytes_io, **kw)\n",
      "C:\\Users\\baba\\anaconda3\\lib\\site-packages\\IPython\\core\\pylabtools.py:151: UserWarning: Glyph 33469 (\\N{CJK UNIFIED IDEOGRAPH-82BD}) missing from current font.\n",
      "  fig.canvas.print_figure(bytes_io, **kw)\n",
      "C:\\Users\\baba\\anaconda3\\lib\\site-packages\\IPython\\core\\pylabtools.py:151: UserWarning: Glyph 39201 (\\N{CJK UNIFIED IDEOGRAPH-9921}) missing from current font.\n",
      "  fig.canvas.print_figure(bytes_io, **kw)\n",
      "C:\\Users\\baba\\anaconda3\\lib\\site-packages\\IPython\\core\\pylabtools.py:151: UserWarning: Glyph 12455 (\\N{KATAKANA LETTER SMALL E}) missing from current font.\n",
      "  fig.canvas.print_figure(bytes_io, **kw)\n",
      "C:\\Users\\baba\\anaconda3\\lib\\site-packages\\IPython\\core\\pylabtools.py:151: UserWarning: Glyph 38867 (\\N{CJK UNIFIED IDEOGRAPH-97D3}) missing from current font.\n",
      "  fig.canvas.print_figure(bytes_io, **kw)\n",
      "C:\\Users\\baba\\anaconda3\\lib\\site-packages\\IPython\\core\\pylabtools.py:151: UserWarning: Glyph 22269 (\\N{CJK UNIFIED IDEOGRAPH-56FD}) missing from current font.\n",
      "  fig.canvas.print_figure(bytes_io, **kw)\n",
      "C:\\Users\\baba\\anaconda3\\lib\\site-packages\\IPython\\core\\pylabtools.py:151: UserWarning: Glyph 12450 (\\N{KATAKANA LETTER A}) missing from current font.\n",
      "  fig.canvas.print_figure(bytes_io, **kw)\n",
      "C:\\Users\\baba\\anaconda3\\lib\\site-packages\\IPython\\core\\pylabtools.py:151: UserWarning: Glyph 21335 (\\N{CJK UNIFIED IDEOGRAPH-5357}) missing from current font.\n",
      "  fig.canvas.print_figure(bytes_io, **kw)\n",
      "C:\\Users\\baba\\anaconda3\\lib\\site-packages\\IPython\\core\\pylabtools.py:151: UserWarning: Glyph 34542 (\\N{CJK UNIFIED IDEOGRAPH-86EE}) missing from current font.\n",
      "  fig.canvas.print_figure(bytes_io, **kw)\n",
      "C:\\Users\\baba\\anaconda3\\lib\\site-packages\\IPython\\core\\pylabtools.py:151: UserWarning: Glyph 20919 (\\N{CJK UNIFIED IDEOGRAPH-51B7}) missing from current font.\n",
      "  fig.canvas.print_figure(bytes_io, **kw)\n",
      "C:\\Users\\baba\\anaconda3\\lib\\site-packages\\IPython\\core\\pylabtools.py:151: UserWarning: Glyph 12462 (\\N{KATAKANA LETTER GI}) missing from current font.\n",
      "  fig.canvas.print_figure(bytes_io, **kw)\n",
      "C:\\Users\\baba\\anaconda3\\lib\\site-packages\\IPython\\core\\pylabtools.py:151: UserWarning: Glyph 12397 (\\N{HIRAGANA LETTER NE}) missing from current font.\n",
      "  fig.canvas.print_figure(bytes_io, **kw)\n",
      "C:\\Users\\baba\\anaconda3\\lib\\site-packages\\IPython\\core\\pylabtools.py:151: UserWarning: Glyph 12366 (\\N{HIRAGANA LETTER GI}) missing from current font.\n",
      "  fig.canvas.print_figure(bytes_io, **kw)\n",
      "C:\\Users\\baba\\anaconda3\\lib\\site-packages\\IPython\\core\\pylabtools.py:151: UserWarning: Glyph 12356 (\\N{HIRAGANA LETTER I}) missing from current font.\n",
      "  fig.canvas.print_figure(bytes_io, **kw)\n",
      "C:\\Users\\baba\\anaconda3\\lib\\site-packages\\IPython\\core\\pylabtools.py:151: UserWarning: Glyph 38738 (\\N{CJK UNIFIED IDEOGRAPH-9752}) missing from current font.\n",
      "  fig.canvas.print_figure(bytes_io, **kw)\n",
      "C:\\Users\\baba\\anaconda3\\lib\\site-packages\\IPython\\core\\pylabtools.py:151: UserWarning: Glyph 26775 (\\N{CJK UNIFIED IDEOGRAPH-6897}) missing from current font.\n",
      "  fig.canvas.print_figure(bytes_io, **kw)\n",
      "C:\\Users\\baba\\anaconda3\\lib\\site-packages\\IPython\\core\\pylabtools.py:151: UserWarning: Glyph 22243 (\\N{CJK UNIFIED IDEOGRAPH-56E3}) missing from current font.\n",
      "  fig.canvas.print_figure(bytes_io, **kw)\n",
      "C:\\Users\\baba\\anaconda3\\lib\\site-packages\\IPython\\core\\pylabtools.py:151: UserWarning: Glyph 32114 (\\N{CJK UNIFIED IDEOGRAPH-7D72}) missing from current font.\n",
      "  fig.canvas.print_figure(bytes_io, **kw)\n",
      "C:\\Users\\baba\\anaconda3\\lib\\site-packages\\IPython\\core\\pylabtools.py:151: UserWarning: Glyph 31565 (\\N{CJK UNIFIED IDEOGRAPH-7B4D}) missing from current font.\n",
      "  fig.canvas.print_figure(bytes_io, **kw)\n",
      "C:\\Users\\baba\\anaconda3\\lib\\site-packages\\IPython\\core\\pylabtools.py:151: UserWarning: Glyph 12402 (\\N{HIRAGANA LETTER HI}) missing from current font.\n",
      "  fig.canvas.print_figure(bytes_io, **kw)\n",
      "C:\\Users\\baba\\anaconda3\\lib\\site-packages\\IPython\\core\\pylabtools.py:151: UserWarning: Glyph 12502 (\\N{KATAKANA LETTER BU}) missing from current font.\n",
      "  fig.canvas.print_figure(bytes_io, **kw)\n",
      "C:\\Users\\baba\\anaconda3\\lib\\site-packages\\IPython\\core\\pylabtools.py:151: UserWarning: Glyph 28155 (\\N{CJK UNIFIED IDEOGRAPH-6DFB}) missing from current font.\n",
      "  fig.canvas.print_figure(bytes_io, **kw)\n",
      "C:\\Users\\baba\\anaconda3\\lib\\site-packages\\IPython\\core\\pylabtools.py:151: UserWarning: Glyph 27835 (\\N{CJK UNIFIED IDEOGRAPH-6CBB}) missing from current font.\n",
      "  fig.canvas.print_figure(bytes_io, **kw)\n",
      "C:\\Users\\baba\\anaconda3\\lib\\site-packages\\IPython\\core\\pylabtools.py:151: UserWarning: Glyph 37096 (\\N{CJK UNIFIED IDEOGRAPH-90E8}) missing from current font.\n",
      "  fig.canvas.print_figure(bytes_io, **kw)\n",
      "C:\\Users\\baba\\anaconda3\\lib\\site-packages\\IPython\\core\\pylabtools.py:151: UserWarning: Glyph 26149 (\\N{CJK UNIFIED IDEOGRAPH-6625}) missing from current font.\n",
      "  fig.canvas.print_figure(bytes_io, **kw)\n",
      "C:\\Users\\baba\\anaconda3\\lib\\site-packages\\IPython\\core\\pylabtools.py:151: UserWarning: Glyph 38632 (\\N{CJK UNIFIED IDEOGRAPH-96E8}) missing from current font.\n",
      "  fig.canvas.print_figure(bytes_io, **kw)\n",
      "C:\\Users\\baba\\anaconda3\\lib\\site-packages\\IPython\\core\\pylabtools.py:151: UserWarning: Glyph 33509 (\\N{CJK UNIFIED IDEOGRAPH-82E5}) missing from current font.\n",
      "  fig.canvas.print_figure(bytes_io, **kw)\n",
      "C:\\Users\\baba\\anaconda3\\lib\\site-packages\\IPython\\core\\pylabtools.py:151: UserWarning: Glyph 21253 (\\N{CJK UNIFIED IDEOGRAPH-5305}) missing from current font.\n",
      "  fig.canvas.print_figure(bytes_io, **kw)\n",
      "C:\\Users\\baba\\anaconda3\\lib\\site-packages\\IPython\\core\\pylabtools.py:151: UserWarning: Glyph 12498 (\\N{KATAKANA LETTER HI}) missing from current font.\n",
      "  fig.canvas.print_figure(bytes_io, **kw)\n",
      "C:\\Users\\baba\\anaconda3\\lib\\site-packages\\IPython\\core\\pylabtools.py:151: UserWarning: Glyph 25405 (\\N{CJK UNIFIED IDEOGRAPH-633D}) missing from current font.\n",
      "  fig.canvas.print_figure(bytes_io, **kw)\n",
      "C:\\Users\\baba\\anaconda3\\lib\\site-packages\\IPython\\core\\pylabtools.py:151: UserWarning: Glyph 12399 (\\N{HIRAGANA LETTER HA}) missing from current font.\n",
      "  fig.canvas.print_figure(bytes_io, **kw)\n",
      "C:\\Users\\baba\\anaconda3\\lib\\site-packages\\IPython\\core\\pylabtools.py:151: UserWarning: Glyph 31569 (\\N{CJK UNIFIED IDEOGRAPH-7B51}) missing from current font.\n",
      "  fig.canvas.print_figure(bytes_io, **kw)\n",
      "C:\\Users\\baba\\anaconda3\\lib\\site-packages\\IPython\\core\\pylabtools.py:151: UserWarning: Glyph 21069 (\\N{CJK UNIFIED IDEOGRAPH-524D}) missing from current font.\n",
      "  fig.canvas.print_figure(bytes_io, **kw)\n",
      "C:\\Users\\baba\\anaconda3\\lib\\site-packages\\IPython\\core\\pylabtools.py:151: UserWarning: Glyph 12396 (\\N{HIRAGANA LETTER NU}) missing from current font.\n",
      "  fig.canvas.print_figure(bytes_io, **kw)\n",
      "C:\\Users\\baba\\anaconda3\\lib\\site-packages\\IPython\\core\\pylabtools.py:151: UserWarning: Glyph 12358 (\\N{HIRAGANA LETTER U}) missing from current font.\n",
      "  fig.canvas.print_figure(bytes_io, **kw)\n",
      "C:\\Users\\baba\\anaconda3\\lib\\site-packages\\IPython\\core\\pylabtools.py:151: UserWarning: Glyph 12393 (\\N{HIRAGANA LETTER DO}) missing from current font.\n",
      "  fig.canvas.print_figure(bytes_io, **kw)\n",
      "C:\\Users\\baba\\anaconda3\\lib\\site-packages\\IPython\\core\\pylabtools.py:151: UserWarning: Glyph 65288 (\\N{FULLWIDTH LEFT PARENTHESIS}) missing from current font.\n",
      "  fig.canvas.print_figure(bytes_io, **kw)\n",
      "C:\\Users\\baba\\anaconda3\\lib\\site-packages\\IPython\\core\\pylabtools.py:151: UserWarning: Glyph 65289 (\\N{FULLWIDTH RIGHT PARENTHESIS}) missing from current font.\n",
      "  fig.canvas.print_figure(bytes_io, **kw)\n",
      "C:\\Users\\baba\\anaconda3\\lib\\site-packages\\IPython\\core\\pylabtools.py:151: UserWarning: Glyph 27915 (\\N{CJK UNIFIED IDEOGRAPH-6D0B}) missing from current font.\n",
      "  fig.canvas.print_figure(bytes_io, **kw)\n",
      "C:\\Users\\baba\\anaconda3\\lib\\site-packages\\IPython\\core\\pylabtools.py:151: UserWarning: Glyph 39135 (\\N{CJK UNIFIED IDEOGRAPH-98DF}) missing from current font.\n",
      "  fig.canvas.print_figure(bytes_io, **kw)\n",
      "C:\\Users\\baba\\anaconda3\\lib\\site-packages\\IPython\\core\\pylabtools.py:151: UserWarning: Glyph 23627 (\\N{CJK UNIFIED IDEOGRAPH-5C4B}) missing from current font.\n",
      "  fig.canvas.print_figure(bytes_io, **kw)\n",
      "C:\\Users\\baba\\anaconda3\\lib\\site-packages\\IPython\\core\\pylabtools.py:151: UserWarning: Glyph 12470 (\\N{KATAKANA LETTER ZA}) missing from current font.\n",
      "  fig.canvas.print_figure(bytes_io, **kw)\n",
      "C:\\Users\\baba\\anaconda3\\lib\\site-packages\\IPython\\core\\pylabtools.py:151: UserWarning: Glyph 21517 (\\N{CJK UNIFIED IDEOGRAPH-540D}) missing from current font.\n",
      "  fig.canvas.print_figure(bytes_io, **kw)\n",
      "C:\\Users\\baba\\anaconda3\\lib\\site-packages\\IPython\\core\\pylabtools.py:151: UserWarning: Glyph 21476 (\\N{CJK UNIFIED IDEOGRAPH-53E4}) missing from current font.\n",
      "  fig.canvas.print_figure(bytes_io, **kw)\n",
      "C:\\Users\\baba\\anaconda3\\lib\\site-packages\\IPython\\core\\pylabtools.py:151: UserWarning: Glyph 12475 (\\N{KATAKANA LETTER SE}) missing from current font.\n",
      "  fig.canvas.print_figure(bytes_io, **kw)\n",
      "C:\\Users\\baba\\anaconda3\\lib\\site-packages\\IPython\\core\\pylabtools.py:151: UserWarning: Glyph 27713 (\\N{CJK UNIFIED IDEOGRAPH-6C41}) missing from current font.\n",
      "  fig.canvas.print_figure(bytes_io, **kw)\n",
      "C:\\Users\\baba\\anaconda3\\lib\\site-packages\\IPython\\core\\pylabtools.py:151: UserWarning: Glyph 25285 (\\N{CJK UNIFIED IDEOGRAPH-62C5}) missing from current font.\n",
      "  fig.canvas.print_figure(bytes_io, **kw)\n",
      "C:\\Users\\baba\\anaconda3\\lib\\site-packages\\IPython\\core\\pylabtools.py:151: UserWarning: Glyph 40634 (\\N{CJK UNIFIED IDEOGRAPH-9EBA}) missing from current font.\n",
      "  fig.canvas.print_figure(bytes_io, **kw)\n"
     ]
    },
    {
     "data": {
      "image/png": "[encoded data removed]",
      "text/plain": [
       "<Figure size 500x500 with 1 Axes>"
      ]
     },
     "metadata": {},
     "output_type": "display_data"
    }
   ],
   "source": [
    "plt.figure(figsize = (5,5))\n",
    "counts = train_data['name'].value_counts()\n",
    "counts.plot.bar()\n",
    "plt.show()"
   ]
  },
  {
   "cell_type": "code",
   "execution_count": 149,
   "id": "fe0dfdb5",
   "metadata": {},
   "outputs": [
    {
     "data": {
      "image/png": "[encoded data removed]",
      "text/plain": [
       "<Figure size 640x480 with 1 Axes>"
      ]
     },
     "metadata": {},
     "output_type": "display_data"
    }
   ],
   "source": [
    "### y(販売数)のデータ分布を確認→yが目的変数\n",
    "y_var = train_data['y']\n",
    "y_var.plot.hist(title = 'y')\n",
    "plt.show()"
   ]
  },
  {
   "cell_type": "code",
   "execution_count": 150,
   "id": "4031dab6",
   "metadata": {},
   "outputs": [
    {
     "name": "stdout",
     "output_type": "stream",
     "text": [
      "count    337.000000\n",
      "mean      65.192878\n",
      "std       20.645712\n",
      "min       25.000000\n",
      "25%       53.000000\n",
      "50%       62.000000\n",
      "75%       72.000000\n",
      "max      137.000000\n",
      "Name: y, dtype: float64\n"
     ]
    }
   ],
   "source": [
    "print(y_var.describe())"
   ]
  },
  {
   "cell_type": "code",
   "execution_count": 151,
   "id": "dd3fc7b2",
   "metadata": {},
   "outputs": [
    {
     "name": "stdout",
     "output_type": "stream",
     "text": [
      "dateid             0\n",
      "y                  0\n",
      "week               0\n",
      "soldout            0\n",
      "name               0\n",
      "kcal              33\n",
      "remarks          288\n",
      "event            309\n",
      "payday           320\n",
      "weather            0\n",
      "precipitation      0\n",
      "temperature        0\n",
      "dtype: int64\n"
     ]
    }
   ],
   "source": [
    "### 欠損値の確認(kcal:33，remarks:288, event:309, payday:320)→4つのcolumnの欠損値が確認できた\n",
    "print(train_data.isnull().sum())"
   ]
  },
  {
   "cell_type": "code",
   "execution_count": 152,
   "id": "cab4d640",
   "metadata": {
    "scrolled": true
   },
   "outputs": [
    {
     "name": "stdout",
     "output_type": "stream",
     "text": [
      "420.0    27\n",
      "430.0    21\n",
      "435.0    13\n",
      "450.0    13\n",
      "400.0    13\n",
      "         ..\n",
      "388.0     1\n",
      "324.0     1\n",
      "401.0     1\n",
      "355.0     1\n",
      "463.0     1\n",
      "Name: kcal, Length: 81, dtype: int64\n",
      "--------------------------------\n",
      "お楽しみメニュー          28\n",
      "料理長のこだわりメニュー       7\n",
      "コンビニ改装             4\n",
      "料理長イチオシ！           2\n",
      "今月のイチオシ!           2\n",
      "今月のこだわりメニュー        2\n",
      "スペシャルメニュー          1\n",
      "近隣に飲食店複合ビルオープン     1\n",
      "料理長イチオシ!           1\n",
      "弁当種類増↓             1\n",
      "Name: remarks, dtype: int64\n",
      "--------------------------------\n",
      "ママの会             14\n",
      "キャリアアップ支援セミナー    14\n",
      "Name: event, dtype: int64\n",
      "--------------------------------\n",
      "1.0    17\n",
      "Name: payday, dtype: int64\n"
     ]
    }
   ],
   "source": [
    "## kcal(float64)の欠損値→　①平均値で補完する、②前後の値を比較して補完する\n",
    "print(train_data['kcal'].value_counts())\n",
    "print('--------------------------------')\n",
    "### remarks(objects)の欠損値　→　'特になし'で補完する(一応)\n",
    "print(train_data['remarks'].value_counts())\n",
    "print('--------------------------------')\n",
    "## event(objects)の欠損値　→　'特になし'で補完する\n",
    "print(train_data['event'].value_counts())\n",
    "print('--------------------------------')\n",
    "## payday(float64)の欠損値　→　給料日の以外は0.0とする\n",
    "print(train_data['payday'].value_counts())"
   ]
  },
  {
   "cell_type": "markdown",
   "id": "c217d3f2",
   "metadata": {},
   "source": [
    "### 2.欠損値の補完および削除"
   ]
  },
  {
   "cell_type": "code",
   "execution_count": 153,
   "id": "909ec2a3",
   "metadata": {},
   "outputs": [
    {
     "name": "stdout",
     "output_type": "stream",
     "text": [
      "                y     soldout        kcal  payday  precipitation  temperature\n",
      "count  337.000000  337.000000  304.000000    17.0     337.000000   337.000000\n",
      "mean    65.192878    0.462908  419.394737     1.0       5.376855    18.520772\n",
      "std     20.645712    0.499364   25.126126     0.0      14.342239     7.708158\n",
      "min     25.000000    0.000000  324.000000     1.0       0.000000     2.000000\n",
      "25%     53.000000    0.000000  409.750000     1.0       0.000000    12.300000\n",
      "50%     62.000000    0.000000  424.000000     1.0       0.000000    20.300000\n",
      "75%     72.000000    1.000000  435.000000     1.0       4.500000    24.000000\n",
      "max    137.000000    1.000000  463.000000     1.0     123.500000    31.500000\n"
     ]
    }
   ],
   "source": [
    "print(train_data.describe())"
   ]
  },
  {
   "cell_type": "code",
   "execution_count": 154,
   "id": "3805f4f5",
   "metadata": {
    "scrolled": true
   },
   "outputs": [
    {
     "data": {
      "image/png": "[encoded data removed]",
      "text/plain": [
       "<Figure size 640x480 with 1 Axes>"
      ]
     },
     "metadata": {},
     "output_type": "display_data"
    }
   ],
   "source": [
    "### 'kcal'のデータ分布確認→平均，中央値あたりの分布が多い→'kcal'の欠損値は平均値で補完\n",
    "kcal_var = train_data['kcal']\n",
    "kcal_var.plot.hist(title = 'kcal')\n",
    "plt.show()"
   ]
  },
  {
   "cell_type": "code",
   "execution_count": 51,
   "id": "f06837fd",
   "metadata": {},
   "outputs": [],
   "source": [
    "### 訓練用データの欠損値の補完(バージョン1)\n",
    "train_data['kcal_h'] = train_data['kcal'].fillna(method = 'ffill')\n",
    "train_data = train_data.fillna({'payday': 0.0, 'remarks':'特になし', 'event' : '特になし'})"
   ]
  },
  {
   "cell_type": "code",
   "execution_count": 434,
   "id": "307940d8",
   "metadata": {},
   "outputs": [
    {
     "name": "stdout",
     "output_type": "stream",
     "text": [
      "         dateid      y week  soldout           name   kcal   remarks event  \\\n",
      "0    2014-04-01  125.0  Tue        1          メンチカツ  377.0      特になし  特になし   \n",
      "1    2014-04-02   99.0  Wed        0           肉じゃが  380.0      特になし  特になし   \n",
      "2    2014-04-03  100.0  Thu        1             酢豚  390.0      特になし  特になし   \n",
      "3    2014-04-04   90.0  Fri        1     和風ソースハンバーグ  350.0      特になし  特になし   \n",
      "4    2014-04-07  107.0  Mon        0        青梗菜牛肉炒め  387.0      特になし  特になし   \n",
      "..          ...    ...  ...      ...            ...    ...       ...   ...   \n",
      "332  2015-08-21  137.0  Fri        0         チキンカレー    NaN  お楽しみメニュー  特になし   \n",
      "333  2015-09-01   80.0  Tue        1     自家製手作りトンカツ  423.0    弁当種類増↓  特になし   \n",
      "334  2015-09-02   74.0  Wed        0       チーズメンチカツ  463.0      特になし  特になし   \n",
      "335  2015-09-03   66.0  Thu        1  鶏肉黒胡椒焼きおろしソース  420.0      特になし  特になし   \n",
      "336  2015-09-04   60.0  Fri        1         汁なし担担麺  435.0      特になし  特になし   \n",
      "\n",
      "     payday       weather  precipitation  temperature  kcal_h  \n",
      "0       0.0         晴時々薄曇            0.0         13.9   377.0  \n",
      "1       0.0         薄曇一時晴            0.0         15.2   380.0  \n",
      "2       0.0            大雨           65.0         13.8   390.0  \n",
      "3       0.0  晴時々曇一時雨、雷を伴う           40.0         15.3   350.0  \n",
      "4       0.0        晴後一時薄曇            0.0         11.4   387.0  \n",
      "..      ...           ...            ...          ...     ...  \n",
      "332     0.0         曇後一時雨            2.5         26.0   418.0  \n",
      "333     0.0      雨後曇、雷を伴う           12.0         23.7   423.0  \n",
      "334     0.0        曇時々雨後晴            5.5         26.9   463.0  \n",
      "335     0.0         曇後一時雨            1.5         25.7   420.0  \n",
      "336     0.0    曇後一時雨、雷を伴う           14.0         24.7   435.0  \n",
      "\n",
      "[337 rows x 13 columns]\n"
     ]
    }
   ],
   "source": [
    "print(train_data)"
   ]
  },
  {
   "cell_type": "code",
   "execution_count": 157,
   "id": "6c74de3e",
   "metadata": {},
   "outputs": [
    {
     "name": "stdout",
     "output_type": "stream",
     "text": [
      "         dateid      y week  soldout           name   kcal   remarks event  \\\n",
      "0    2014-04-01  125.0  Tue        1          メンチカツ  377.0      特になし  特になし   \n",
      "1    2014-04-02   99.0  Wed        0           肉じゃが  380.0      特になし  特になし   \n",
      "2    2014-04-03  100.0  Thu        1             酢豚  390.0      特になし  特になし   \n",
      "3    2014-04-04   90.0  Fri        1     和風ソースハンバーグ  350.0      特になし  特になし   \n",
      "4    2014-04-07  107.0  Mon        0        青梗菜牛肉炒め  387.0      特になし  特になし   \n",
      "..          ...    ...  ...      ...            ...    ...       ...   ...   \n",
      "332  2015-08-21  137.0  Fri        0         チキンカレー    NaN  お楽しみメニュー  特になし   \n",
      "333  2015-09-01   80.0  Tue        1     自家製手作りトンカツ  423.0    弁当種類増↓  特になし   \n",
      "334  2015-09-02   74.0  Wed        0       チーズメンチカツ  463.0      特になし  特になし   \n",
      "335  2015-09-03   66.0  Thu        1  鶏肉黒胡椒焼きおろしソース  420.0      特になし  特になし   \n",
      "336  2015-09-04   60.0  Fri        1         汁なし担担麺  435.0      特になし  特になし   \n",
      "\n",
      "     payday       weather  precipitation  temperature  kcal_h  \n",
      "0       0.0         晴時々薄曇            0.0         13.9   377.0  \n",
      "1       0.0         薄曇一時晴            0.0         15.2   380.0  \n",
      "2       0.0            大雨           65.0         13.8   390.0  \n",
      "3       0.0  晴時々曇一時雨、雷を伴う           40.0         15.3   350.0  \n",
      "4       0.0        晴後一時薄曇            0.0         11.4   387.0  \n",
      "..      ...           ...            ...          ...     ...  \n",
      "332     0.0         曇後一時雨            2.5         26.0   418.0  \n",
      "333     0.0      雨後曇、雷を伴う           12.0         23.7   423.0  \n",
      "334     0.0        曇時々雨後晴            5.5         26.9   463.0  \n",
      "335     0.0         曇後一時雨            1.5         25.7   420.0  \n",
      "336     0.0    曇後一時雨、雷を伴う           14.0         24.7   435.0  \n",
      "\n",
      "[337 rows x 13 columns]\n"
     ]
    }
   ],
   "source": [
    "print(train_data)"
   ]
  },
  {
   "cell_type": "code",
   "execution_count": 158,
   "id": "fa08010d",
   "metadata": {},
   "outputs": [
    {
     "name": "stdout",
     "output_type": "stream",
     "text": [
      "dateid            0\n",
      "y                 0\n",
      "week              0\n",
      "soldout           0\n",
      "name              0\n",
      "kcal             33\n",
      "remarks           0\n",
      "event             0\n",
      "payday            0\n",
      "weather           0\n",
      "precipitation     0\n",
      "temperature       0\n",
      "kcal_h            0\n",
      "dtype: int64\n"
     ]
    }
   ],
   "source": [
    "print(train_data.isnull().sum())"
   ]
  },
  {
   "cell_type": "markdown",
   "id": "d60a8eba",
   "metadata": {},
   "source": [
    "### 3.量的データ間の相関を確認"
   ]
  },
  {
   "cell_type": "markdown",
   "id": "795290c5",
   "metadata": {},
   "source": [
    "#### 日付と販売数(目的変数)の関係→　相関はありそう(4月から9月まであるので、グルーピングして値を求めて比較するのもよさそう)"
   ]
  },
  {
   "cell_type": "code",
   "execution_count": 159,
   "id": "55dbdd0c",
   "metadata": {},
   "outputs": [
    {
     "name": "stdout",
     "output_type": "stream",
     "text": [
      "(337,)\n",
      "['2014-04-01' '2014-04-02' '2014-04-03' '2014-04-04' '2014-04-07'\n",
      " '2014-04-08' '2014-04-09']\n"
     ]
    }
   ],
   "source": [
    "print(train_data['dateid'].values.astype(str).shape)\n",
    "print(train_data['dateid'].values.astype(str)[0:7])"
   ]
  },
  {
   "cell_type": "code",
   "execution_count": 160,
   "id": "476a8962",
   "metadata": {},
   "outputs": [
    {
     "data": {
      "image/png": "[encoded data removed]",
      "text/plain": [
       "<Figure size 500x500 with 1 Axes>"
      ]
     },
     "metadata": {},
     "output_type": "display_data"
    }
   ],
   "source": [
    "plt.figure(figsize = (5,5))\n",
    "X = train_data['dateid'].values.astype(str)[:10]\n",
    "Y = train_data['y'].values[:10]\n",
    "plt.bar(X,Y)\n",
    "plt.show()"
   ]
  },
  {
   "cell_type": "code",
   "execution_count": 161,
   "id": "928368e9",
   "metadata": {},
   "outputs": [
    {
     "name": "stdout",
     "output_type": "stream",
     "text": [
      "                      y   soldout      kcal    payday  precipitation  \\\n",
      "y              1.000000 -0.041884 -0.055984  0.115569       0.079831   \n",
      "soldout       -0.041884  1.000000  0.054086 -0.078024       0.100651   \n",
      "kcal          -0.055984  0.054086  1.000000  0.004891       0.013642   \n",
      "payday         0.115569 -0.078024  0.004891  1.000000       0.010029   \n",
      "precipitation  0.079831  0.100651  0.013642  0.010029       1.000000   \n",
      "temperature   -0.063523 -0.037300 -0.209328 -0.016124      -0.018038   \n",
      "kcal_h        -0.041236  0.043685  1.000000  0.018531       0.018809   \n",
      "\n",
      "               temperature    kcal_h  \n",
      "y                -0.063523 -0.041236  \n",
      "soldout          -0.037300  0.043685  \n",
      "kcal             -0.209328  1.000000  \n",
      "payday           -0.016124  0.018531  \n",
      "precipitation    -0.018038  0.018809  \n",
      "temperature       1.000000 -0.190540  \n",
      "kcal_h           -0.190540  1.000000  \n"
     ]
    }
   ],
   "source": [
    "# 相関係数の算出\n",
    "print(train_data.corr())"
   ]
  },
  {
   "cell_type": "markdown",
   "id": "40aee5f2",
   "metadata": {},
   "source": [
    "#### 3-1 降水量と販売数(目的変数)の関係  →　散布図で確認する"
   ]
  },
  {
   "cell_type": "code",
   "execution_count": 162,
   "id": "735eac48",
   "metadata": {},
   "outputs": [
    {
     "data": {
      "image/png": "[encoded data removed]",
      "text/plain": [
       "<Figure size 640x480 with 1 Axes>"
      ]
     },
     "metadata": {},
     "output_type": "display_data"
    }
   ],
   "source": [
    "### 降水量のデータは考慮しなくてもいいかも\n",
    "plt.scatter(train_data['precipitation'],train_data['y'])\n",
    "plt.xlabel('precipitation')\n",
    "plt.ylabel('y')\n",
    "plt.show()"
   ]
  },
  {
   "cell_type": "markdown",
   "id": "da012a16",
   "metadata": {},
   "source": [
    "#### 3-2 気温と販売数(目的変数)の関係  →　散布図で確認する"
   ]
  },
  {
   "cell_type": "code",
   "execution_count": 163,
   "id": "a11eac88",
   "metadata": {},
   "outputs": [
    {
     "data": {
      "image/png": "[encoded data removed]",
      "text/plain": [
       "<Figure size 640x480 with 1 Axes>"
      ]
     },
     "metadata": {},
     "output_type": "display_data"
    }
   ],
   "source": [
    "### 気温と販売数の関係→　なにかしら関係がありそう\n",
    "plt.scatter(train_data['temperature'],train_data['y'])\n",
    "plt.xlabel('temperature')\n",
    "plt.ylabel('y')\n",
    "plt.show()"
   ]
  },
  {
   "cell_type": "markdown",
   "id": "99688929",
   "metadata": {},
   "source": [
    "#### 3-3 降水量のデータ分布を可視化　→　外れ値が存在"
   ]
  },
  {
   "cell_type": "code",
   "execution_count": 164,
   "id": "8857bd5f",
   "metadata": {},
   "outputs": [
    {
     "data": {
      "text/plain": [
       "<AxesSubplot:title={'center':'precipitation'}, ylabel='Frequency'>"
      ]
     },
     "execution_count": 164,
     "metadata": {},
     "output_type": "execute_result"
    },
    {
     "data": {
      "image/png": "[encoded data removed]",
      "text/plain": [
       "<Figure size 640x480 with 1 Axes>"
      ]
     },
     "metadata": {},
     "output_type": "display_data"
    }
   ],
   "source": [
    "precipitation_var = train_data['precipitation']\n",
    "precipitation_var.plot.hist(title = 'precipitation')"
   ]
  },
  {
   "cell_type": "markdown",
   "id": "dc1beb2e",
   "metadata": {},
   "source": [
    "#### 3-4 気温のデータ分布を可視化"
   ]
  },
  {
   "cell_type": "code",
   "execution_count": 22,
   "id": "4b10763e",
   "metadata": {},
   "outputs": [
    {
     "data": {
      "text/plain": [
       "count    337.000000\n",
       "mean      18.520772\n",
       "std        7.708158\n",
       "min        2.000000\n",
       "25%       12.300000\n",
       "50%       20.300000\n",
       "75%       24.000000\n",
       "max       31.500000\n",
       "Name: temperature, dtype: float64"
      ]
     },
     "execution_count": 22,
     "metadata": {},
     "output_type": "execute_result"
    }
   ],
   "source": [
    "train_data['temperature'].describe()"
   ]
  },
  {
   "cell_type": "code",
   "execution_count": 165,
   "id": "b80398bd",
   "metadata": {},
   "outputs": [
    {
     "data": {
      "text/plain": [
       "<AxesSubplot:title={'center':'temperature'}, ylabel='Frequency'>"
      ]
     },
     "execution_count": 165,
     "metadata": {},
     "output_type": "execute_result"
    },
    {
     "data": {
      "image/png": "[encoded data removed]",
      "text/plain": [
       "<Figure size 640x480 with 1 Axes>"
      ]
     },
     "metadata": {},
     "output_type": "display_data"
    }
   ],
   "source": [
    "temperature_var = train_data['temperature']\n",
    "temperature_var.plot.hist(title = 'temperature')"
   ]
  },
  {
   "cell_type": "markdown",
   "id": "df430d29",
   "metadata": {},
   "source": [
    "#### 3-5 おかずのカロリーと販売数の関係"
   ]
  },
  {
   "cell_type": "code",
   "execution_count": 53,
   "id": "28a982ad",
   "metadata": {},
   "outputs": [
    {
     "data": {
      "image/png": "[encoded data removed]",
      "text/plain": [
       "<Figure size 640x480 with 1 Axes>"
      ]
     },
     "metadata": {},
     "output_type": "display_data"
    }
   ],
   "source": [
    "plt.scatter(train_data['kcal_h'],train_data['y'])\n",
    "plt.xlabel('kcal')\n",
    "plt.ylabel('y')\n",
    "plt.show()"
   ]
  },
  {
   "cell_type": "code",
   "execution_count": 99,
   "id": "211e0add",
   "metadata": {
    "scrolled": true
   },
   "outputs": [
    {
     "data": {
      "image/png": "[encoded data removed]",
      "text/plain": [
       "<Figure size 640x480 with 1 Axes>"
      ]
     },
     "metadata": {},
     "output_type": "display_data"
    }
   ],
   "source": [
    "kcal_h_var = train_data['kcal_h']\n",
    "kcal_h_var.plot.hist(title = 'kcal_h')\n",
    "plt.show()"
   ]
  },
  {
   "cell_type": "markdown",
   "id": "bf00a038",
   "metadata": {},
   "source": [
    "#### 給料日フラグと販売量の関係(棒グラフ)"
   ]
  },
  {
   "cell_type": "code",
   "execution_count": 112,
   "id": "4eafc268",
   "metadata": {},
   "outputs": [
    {
     "data": {
      "image/png": "[encoded data removed]",
      "text/plain": [
       "<Figure size 640x480 with 1 Axes>"
      ]
     },
     "metadata": {},
     "output_type": "display_data"
    }
   ],
   "source": [
    "X = train_data['payday'].values\n",
    "Y = train_data['y'].values\n",
    "plt.bar(X,Y)\n",
    "plt.show()"
   ]
  },
  {
   "cell_type": "code",
   "execution_count": 168,
   "id": "af132732",
   "metadata": {},
   "outputs": [
    {
     "data": {
      "text/html": [
       "<div>\n",
       "<style scoped>\n",
       "    .dataframe tbody tr th:only-of-type {\n",
       "        vertical-align: middle;\n",
       "    }\n",
       "\n",
       "    .dataframe tbody tr th {\n",
       "        vertical-align: top;\n",
       "    }\n",
       "\n",
       "    .dataframe thead th {\n",
       "        text-align: right;\n",
       "    }\n",
       "</style>\n",
       "<table border=\"1\" class=\"dataframe\">\n",
       "  <thead>\n",
       "    <tr style=\"text-align: right;\">\n",
       "      <th></th>\n",
       "      <th>y</th>\n",
       "      <th>soldout</th>\n",
       "      <th>kcal</th>\n",
       "      <th>payday</th>\n",
       "      <th>precipitation</th>\n",
       "      <th>temperature</th>\n",
       "      <th>kcal_h</th>\n",
       "    </tr>\n",
       "  </thead>\n",
       "  <tbody>\n",
       "    <tr>\n",
       "      <th>y</th>\n",
       "      <td>1.000000</td>\n",
       "      <td>-0.041884</td>\n",
       "      <td>-0.055984</td>\n",
       "      <td>0.115569</td>\n",
       "      <td>0.079831</td>\n",
       "      <td>-0.063523</td>\n",
       "      <td>-0.041236</td>\n",
       "    </tr>\n",
       "    <tr>\n",
       "      <th>soldout</th>\n",
       "      <td>-0.041884</td>\n",
       "      <td>1.000000</td>\n",
       "      <td>0.054086</td>\n",
       "      <td>-0.078024</td>\n",
       "      <td>0.100651</td>\n",
       "      <td>-0.037300</td>\n",
       "      <td>0.043685</td>\n",
       "    </tr>\n",
       "    <tr>\n",
       "      <th>kcal</th>\n",
       "      <td>-0.055984</td>\n",
       "      <td>0.054086</td>\n",
       "      <td>1.000000</td>\n",
       "      <td>0.004891</td>\n",
       "      <td>0.013642</td>\n",
       "      <td>-0.209328</td>\n",
       "      <td>1.000000</td>\n",
       "    </tr>\n",
       "    <tr>\n",
       "      <th>payday</th>\n",
       "      <td>0.115569</td>\n",
       "      <td>-0.078024</td>\n",
       "      <td>0.004891</td>\n",
       "      <td>1.000000</td>\n",
       "      <td>0.010029</td>\n",
       "      <td>-0.016124</td>\n",
       "      <td>0.018531</td>\n",
       "    </tr>\n",
       "    <tr>\n",
       "      <th>precipitation</th>\n",
       "      <td>0.079831</td>\n",
       "      <td>0.100651</td>\n",
       "      <td>0.013642</td>\n",
       "      <td>0.010029</td>\n",
       "      <td>1.000000</td>\n",
       "      <td>-0.018038</td>\n",
       "      <td>0.018809</td>\n",
       "    </tr>\n",
       "    <tr>\n",
       "      <th>temperature</th>\n",
       "      <td>-0.063523</td>\n",
       "      <td>-0.037300</td>\n",
       "      <td>-0.209328</td>\n",
       "      <td>-0.016124</td>\n",
       "      <td>-0.018038</td>\n",
       "      <td>1.000000</td>\n",
       "      <td>-0.190540</td>\n",
       "    </tr>\n",
       "    <tr>\n",
       "      <th>kcal_h</th>\n",
       "      <td>-0.041236</td>\n",
       "      <td>0.043685</td>\n",
       "      <td>1.000000</td>\n",
       "      <td>0.018531</td>\n",
       "      <td>0.018809</td>\n",
       "      <td>-0.190540</td>\n",
       "      <td>1.000000</td>\n",
       "    </tr>\n",
       "  </tbody>\n",
       "</table>\n",
       "</div>"
      ],
      "text/plain": [
       "                      y   soldout      kcal    payday  precipitation  \\\n",
       "y              1.000000 -0.041884 -0.055984  0.115569       0.079831   \n",
       "soldout       -0.041884  1.000000  0.054086 -0.078024       0.100651   \n",
       "kcal          -0.055984  0.054086  1.000000  0.004891       0.013642   \n",
       "payday         0.115569 -0.078024  0.004891  1.000000       0.010029   \n",
       "precipitation  0.079831  0.100651  0.013642  0.010029       1.000000   \n",
       "temperature   -0.063523 -0.037300 -0.209328 -0.016124      -0.018038   \n",
       "kcal_h        -0.041236  0.043685  1.000000  0.018531       0.018809   \n",
       "\n",
       "               temperature    kcal_h  \n",
       "y                -0.063523 -0.041236  \n",
       "soldout          -0.037300  0.043685  \n",
       "kcal             -0.209328  1.000000  \n",
       "payday           -0.016124  0.018531  \n",
       "precipitation    -0.018038  0.018809  \n",
       "temperature       1.000000 -0.190540  \n",
       "kcal_h           -0.190540  1.000000  "
      ]
     },
     "execution_count": 168,
     "metadata": {},
     "output_type": "execute_result"
    }
   ],
   "source": [
    "train_data.corr()"
   ]
  },
  {
   "cell_type": "markdown",
   "id": "499c51cb",
   "metadata": {},
   "source": [
    "### 4.質的データとの相関関係"
   ]
  },
  {
   "cell_type": "markdown",
   "id": "749cc204",
   "metadata": {},
   "source": [
    "### 箱ひげ図による確認"
   ]
  },
  {
   "cell_type": "code",
   "execution_count": 62,
   "id": "31636e11",
   "metadata": {},
   "outputs": [],
   "source": [
    "import seaborn as sns"
   ]
  },
  {
   "cell_type": "markdown",
   "id": "44f78dfb",
   "metadata": {},
   "source": [
    "### 曜日と販売数の関係"
   ]
  },
  {
   "cell_type": "code",
   "execution_count": 103,
   "id": "43971bee",
   "metadata": {},
   "outputs": [
    {
     "name": "stderr",
     "output_type": "stream",
     "text": [
      "C:\\Users\\baba\\anaconda3\\lib\\site-packages\\seaborn\\_decorators.py:36: FutureWarning: Pass the following variables as keyword args: x, y. From version 0.12, the only valid positional argument will be `data`, and passing other arguments without an explicit keyword will result in an error or misinterpretation.\n",
      "  warnings.warn(\n"
     ]
    },
    {
     "data": {
      "text/plain": [
       "<AxesSubplot:xlabel='week', ylabel='y'>"
      ]
     },
     "execution_count": 103,
     "metadata": {},
     "output_type": "execute_result"
    },
    {
     "data": {
      "image/png": "[encoded data removed]",
      "text/plain": [
       "<Figure size 640x480 with 1 Axes>"
      ]
     },
     "metadata": {},
     "output_type": "display_data"
    }
   ],
   "source": [
    "sns.boxplot('week','y', data = train_data)"
   ]
  },
  {
   "cell_type": "markdown",
   "id": "87235692",
   "metadata": {},
   "source": [
    "### 天気と販売数の関係"
   ]
  },
  {
   "cell_type": "code",
   "execution_count": 169,
   "id": "6ead3969",
   "metadata": {},
   "outputs": [
    {
     "name": "stderr",
     "output_type": "stream",
     "text": [
      "C:\\Users\\baba\\anaconda3\\lib\\site-packages\\seaborn\\_decorators.py:36: FutureWarning: Pass the following variables as keyword args: x, y. From version 0.12, the only valid positional argument will be `data`, and passing other arguments without an explicit keyword will result in an error or misinterpretation.\n",
      "  warnings.warn(\n"
     ]
    },
    {
     "data": {
      "text/plain": [
       "<AxesSubplot:xlabel='weather', ylabel='y'>"
      ]
     },
     "execution_count": 169,
     "metadata": {},
     "output_type": "execute_result"
    },
    {
     "name": "stderr",
     "output_type": "stream",
     "text": [
      "C:\\Users\\baba\\anaconda3\\lib\\site-packages\\IPython\\core\\pylabtools.py:151: UserWarning: Glyph 26228 (\\N{CJK UNIFIED IDEOGRAPH-6674}) missing from current font.\n",
      "  fig.canvas.print_figure(bytes_io, **kw)\n",
      "C:\\Users\\baba\\anaconda3\\lib\\site-packages\\IPython\\core\\pylabtools.py:151: UserWarning: Glyph 26178 (\\N{CJK UNIFIED IDEOGRAPH-6642}) missing from current font.\n",
      "  fig.canvas.print_figure(bytes_io, **kw)\n",
      "C:\\Users\\baba\\anaconda3\\lib\\site-packages\\IPython\\core\\pylabtools.py:151: UserWarning: Glyph 12293 (\\N{IDEOGRAPHIC ITERATION MARK}) missing from current font.\n",
      "  fig.canvas.print_figure(bytes_io, **kw)\n",
      "C:\\Users\\baba\\anaconda3\\lib\\site-packages\\IPython\\core\\pylabtools.py:151: UserWarning: Glyph 34180 (\\N{CJK UNIFIED IDEOGRAPH-8584}) missing from current font.\n",
      "  fig.canvas.print_figure(bytes_io, **kw)\n",
      "C:\\Users\\baba\\anaconda3\\lib\\site-packages\\IPython\\core\\pylabtools.py:151: UserWarning: Glyph 26311 (\\N{CJK UNIFIED IDEOGRAPH-66C7}) missing from current font.\n",
      "  fig.canvas.print_figure(bytes_io, **kw)\n",
      "C:\\Users\\baba\\anaconda3\\lib\\site-packages\\IPython\\core\\pylabtools.py:151: UserWarning: Glyph 19968 (\\N{CJK UNIFIED IDEOGRAPH-4E00}) missing from current font.\n",
      "  fig.canvas.print_figure(bytes_io, **kw)\n",
      "C:\\Users\\baba\\anaconda3\\lib\\site-packages\\IPython\\core\\pylabtools.py:151: UserWarning: Glyph 22823 (\\N{CJK UNIFIED IDEOGRAPH-5927}) missing from current font.\n",
      "  fig.canvas.print_figure(bytes_io, **kw)\n",
      "C:\\Users\\baba\\anaconda3\\lib\\site-packages\\IPython\\core\\pylabtools.py:151: UserWarning: Glyph 38632 (\\N{CJK UNIFIED IDEOGRAPH-96E8}) missing from current font.\n",
      "  fig.canvas.print_figure(bytes_io, **kw)\n",
      "C:\\Users\\baba\\anaconda3\\lib\\site-packages\\IPython\\core\\pylabtools.py:151: UserWarning: Glyph 12289 (\\N{IDEOGRAPHIC COMMA}) missing from current font.\n",
      "  fig.canvas.print_figure(bytes_io, **kw)\n",
      "C:\\Users\\baba\\anaconda3\\lib\\site-packages\\IPython\\core\\pylabtools.py:151: UserWarning: Glyph 38647 (\\N{CJK UNIFIED IDEOGRAPH-96F7}) missing from current font.\n",
      "  fig.canvas.print_figure(bytes_io, **kw)\n",
      "C:\\Users\\baba\\anaconda3\\lib\\site-packages\\IPython\\core\\pylabtools.py:151: UserWarning: Glyph 12434 (\\N{HIRAGANA LETTER WO}) missing from current font.\n",
      "  fig.canvas.print_figure(bytes_io, **kw)\n",
      "C:\\Users\\baba\\anaconda3\\lib\\site-packages\\IPython\\core\\pylabtools.py:151: UserWarning: Glyph 20276 (\\N{CJK UNIFIED IDEOGRAPH-4F34}) missing from current font.\n",
      "  fig.canvas.print_figure(bytes_io, **kw)\n",
      "C:\\Users\\baba\\anaconda3\\lib\\site-packages\\IPython\\core\\pylabtools.py:151: UserWarning: Glyph 12358 (\\N{HIRAGANA LETTER U}) missing from current font.\n",
      "  fig.canvas.print_figure(bytes_io, **kw)\n",
      "C:\\Users\\baba\\anaconda3\\lib\\site-packages\\IPython\\core\\pylabtools.py:151: UserWarning: Glyph 24460 (\\N{CJK UNIFIED IDEOGRAPH-5F8C}) missing from current font.\n",
      "  fig.canvas.print_figure(bytes_io, **kw)\n",
      "C:\\Users\\baba\\anaconda3\\lib\\site-packages\\IPython\\core\\pylabtools.py:151: UserWarning: Glyph 24555 (\\N{CJK UNIFIED IDEOGRAPH-5FEB}) missing from current font.\n",
      "  fig.canvas.print_figure(bytes_io, **kw)\n",
      "C:\\Users\\baba\\anaconda3\\lib\\site-packages\\IPython\\core\\pylabtools.py:151: UserWarning: Glyph 12539 (\\N{KATAKANA MIDDLE DOT}) missing from current font.\n",
      "  fig.canvas.print_figure(bytes_io, **kw)\n",
      "C:\\Users\\baba\\anaconda3\\lib\\site-packages\\IPython\\core\\pylabtools.py:151: UserWarning: Glyph 12402 (\\N{HIRAGANA LETTER HI}) missing from current font.\n",
      "  fig.canvas.print_figure(bytes_io, **kw)\n",
      "C:\\Users\\baba\\anaconda3\\lib\\site-packages\\IPython\\core\\pylabtools.py:151: UserWarning: Glyph 12423 (\\N{HIRAGANA LETTER SMALL YO}) missing from current font.\n",
      "  fig.canvas.print_figure(bytes_io, **kw)\n",
      "C:\\Users\\baba\\anaconda3\\lib\\site-packages\\IPython\\core\\pylabtools.py:151: UserWarning: Glyph 38634 (\\N{CJK UNIFIED IDEOGRAPH-96EA}) missing from current font.\n",
      "  fig.canvas.print_figure(bytes_io, **kw)\n",
      "C:\\Users\\baba\\anaconda3\\lib\\site-packages\\IPython\\core\\pylabtools.py:151: UserWarning: Glyph 12415 (\\N{HIRAGANA LETTER MI}) missing from current font.\n",
      "  fig.canvas.print_figure(bytes_io, **kw)\n",
      "C:\\Users\\baba\\anaconda3\\lib\\site-packages\\IPython\\core\\pylabtools.py:151: UserWarning: Glyph 12382 (\\N{HIRAGANA LETTER ZO}) missing from current font.\n",
      "  fig.canvas.print_figure(bytes_io, **kw)\n",
      "C:\\Users\\baba\\anaconda3\\lib\\site-packages\\IPython\\core\\pylabtools.py:151: UserWarning: Glyph 12428 (\\N{HIRAGANA LETTER RE}) missing from current font.\n",
      "  fig.canvas.print_figure(bytes_io, **kw)\n"
     ]
    },
    {
     "data": {
      "image/png": "[encoded data removed]",
      "text/plain": [
       "<Figure size 640x480 with 1 Axes>"
      ]
     },
     "metadata": {},
     "output_type": "display_data"
    }
   ],
   "source": [
    "#### データ数が多すぎるので、学習には用いない(仮) →　データを加工する必要がある\n",
    "sns.boxplot('weather','y', data = train_data)"
   ]
  },
  {
   "cell_type": "markdown",
   "id": "448ea6e5",
   "metadata": {},
   "source": [
    "### メインメニューと販売数の関係"
   ]
  },
  {
   "cell_type": "code",
   "execution_count": 63,
   "id": "5173aac3",
   "metadata": {},
   "outputs": [
    {
     "name": "stderr",
     "output_type": "stream",
     "text": [
      "C:\\Users\\baba\\anaconda3\\lib\\site-packages\\seaborn\\_decorators.py:36: FutureWarning: Pass the following variables as keyword args: x, y. From version 0.12, the only valid positional argument will be `data`, and passing other arguments without an explicit keyword will result in an error or misinterpretation.\n",
      "  warnings.warn(\n",
      "C:\\Users\\baba\\anaconda3\\lib\\site-packages\\IPython\\core\\pylabtools.py:151: UserWarning: Glyph 12513 (\\N{KATAKANA LETTER ME}) missing from current font.\n",
      "  fig.canvas.print_figure(bytes_io, **kw)\n",
      "C:\\Users\\baba\\anaconda3\\lib\\site-packages\\IPython\\core\\pylabtools.py:151: UserWarning: Glyph 12531 (\\N{KATAKANA LETTER N}) missing from current font.\n",
      "  fig.canvas.print_figure(bytes_io, **kw)\n",
      "C:\\Users\\baba\\anaconda3\\lib\\site-packages\\IPython\\core\\pylabtools.py:151: UserWarning: Glyph 12481 (\\N{KATAKANA LETTER TI}) missing from current font.\n",
      "  fig.canvas.print_figure(bytes_io, **kw)\n",
      "C:\\Users\\baba\\anaconda3\\lib\\site-packages\\IPython\\core\\pylabtools.py:151: UserWarning: Glyph 12459 (\\N{KATAKANA LETTER KA}) missing from current font.\n",
      "  fig.canvas.print_figure(bytes_io, **kw)\n",
      "C:\\Users\\baba\\anaconda3\\lib\\site-packages\\IPython\\core\\pylabtools.py:151: UserWarning: Glyph 12484 (\\N{KATAKANA LETTER TU}) missing from current font.\n",
      "  fig.canvas.print_figure(bytes_io, **kw)\n",
      "C:\\Users\\baba\\anaconda3\\lib\\site-packages\\IPython\\core\\pylabtools.py:151: UserWarning: Glyph 32905 (\\N{CJK UNIFIED IDEOGRAPH-8089}) missing from current font.\n",
      "  fig.canvas.print_figure(bytes_io, **kw)\n",
      "C:\\Users\\baba\\anaconda3\\lib\\site-packages\\IPython\\core\\pylabtools.py:151: UserWarning: Glyph 12376 (\\N{HIRAGANA LETTER ZI}) missing from current font.\n",
      "  fig.canvas.print_figure(bytes_io, **kw)\n",
      "C:\\Users\\baba\\anaconda3\\lib\\site-packages\\IPython\\core\\pylabtools.py:151: UserWarning: Glyph 12419 (\\N{HIRAGANA LETTER SMALL YA}) missing from current font.\n",
      "  fig.canvas.print_figure(bytes_io, **kw)\n",
      "C:\\Users\\baba\\anaconda3\\lib\\site-packages\\IPython\\core\\pylabtools.py:151: UserWarning: Glyph 12364 (\\N{HIRAGANA LETTER GA}) missing from current font.\n",
      "  fig.canvas.print_figure(bytes_io, **kw)\n",
      "C:\\Users\\baba\\anaconda3\\lib\\site-packages\\IPython\\core\\pylabtools.py:151: UserWarning: Glyph 37218 (\\N{CJK UNIFIED IDEOGRAPH-9162}) missing from current font.\n",
      "  fig.canvas.print_figure(bytes_io, **kw)\n",
      "C:\\Users\\baba\\anaconda3\\lib\\site-packages\\IPython\\core\\pylabtools.py:151: UserWarning: Glyph 35930 (\\N{CJK UNIFIED IDEOGRAPH-8C5A}) missing from current font.\n",
      "  fig.canvas.print_figure(bytes_io, **kw)\n",
      "C:\\Users\\baba\\anaconda3\\lib\\site-packages\\IPython\\core\\pylabtools.py:151: UserWarning: Glyph 21644 (\\N{CJK UNIFIED IDEOGRAPH-548C}) missing from current font.\n",
      "  fig.canvas.print_figure(bytes_io, **kw)\n",
      "C:\\Users\\baba\\anaconda3\\lib\\site-packages\\IPython\\core\\pylabtools.py:151: UserWarning: Glyph 39080 (\\N{CJK UNIFIED IDEOGRAPH-98A8}) missing from current font.\n",
      "  fig.canvas.print_figure(bytes_io, **kw)\n",
      "C:\\Users\\baba\\anaconda3\\lib\\site-packages\\IPython\\core\\pylabtools.py:151: UserWarning: Glyph 12477 (\\N{KATAKANA LETTER SO}) missing from current font.\n",
      "  fig.canvas.print_figure(bytes_io, **kw)\n",
      "C:\\Users\\baba\\anaconda3\\lib\\site-packages\\IPython\\core\\pylabtools.py:151: UserWarning: Glyph 12540 (\\N{KATAKANA-HIRAGANA PROLONGED SOUND MARK}) missing from current font.\n",
      "  fig.canvas.print_figure(bytes_io, **kw)\n",
      "C:\\Users\\baba\\anaconda3\\lib\\site-packages\\IPython\\core\\pylabtools.py:151: UserWarning: Glyph 12473 (\\N{KATAKANA LETTER SU}) missing from current font.\n",
      "  fig.canvas.print_figure(bytes_io, **kw)\n",
      "C:\\Users\\baba\\anaconda3\\lib\\site-packages\\IPython\\core\\pylabtools.py:151: UserWarning: Glyph 12495 (\\N{KATAKANA LETTER HA}) missing from current font.\n",
      "  fig.canvas.print_figure(bytes_io, **kw)\n",
      "C:\\Users\\baba\\anaconda3\\lib\\site-packages\\IPython\\core\\pylabtools.py:151: UserWarning: Glyph 12496 (\\N{KATAKANA LETTER BA}) missing from current font.\n",
      "  fig.canvas.print_figure(bytes_io, **kw)\n",
      "C:\\Users\\baba\\anaconda3\\lib\\site-packages\\IPython\\core\\pylabtools.py:151: UserWarning: Glyph 12464 (\\N{KATAKANA LETTER GU}) missing from current font.\n",
      "  fig.canvas.print_figure(bytes_io, **kw)\n",
      "C:\\Users\\baba\\anaconda3\\lib\\site-packages\\IPython\\core\\pylabtools.py:151: UserWarning: Glyph 38738 (\\N{CJK UNIFIED IDEOGRAPH-9752}) missing from current font.\n",
      "  fig.canvas.print_figure(bytes_io, **kw)\n",
      "C:\\Users\\baba\\anaconda3\\lib\\site-packages\\IPython\\core\\pylabtools.py:151: UserWarning: Glyph 26775 (\\N{CJK UNIFIED IDEOGRAPH-6897}) missing from current font.\n",
      "  fig.canvas.print_figure(bytes_io, **kw)\n",
      "C:\\Users\\baba\\anaconda3\\lib\\site-packages\\IPython\\core\\pylabtools.py:151: UserWarning: Glyph 33756 (\\N{CJK UNIFIED IDEOGRAPH-83DC}) missing from current font.\n",
      "  fig.canvas.print_figure(bytes_io, **kw)\n",
      "C:\\Users\\baba\\anaconda3\\lib\\site-packages\\IPython\\core\\pylabtools.py:151: UserWarning: Glyph 29275 (\\N{CJK UNIFIED IDEOGRAPH-725B}) missing from current font.\n",
      "  fig.canvas.print_figure(bytes_io, **kw)\n",
      "C:\\Users\\baba\\anaconda3\\lib\\site-packages\\IPython\\core\\pylabtools.py:151: UserWarning: Glyph 28818 (\\N{CJK UNIFIED IDEOGRAPH-7092}) missing from current font.\n",
      "  fig.canvas.print_figure(bytes_io, **kw)\n",
      "C:\\Users\\baba\\anaconda3\\lib\\site-packages\\IPython\\core\\pylabtools.py:151: UserWarning: Glyph 12417 (\\N{HIRAGANA LETTER ME}) missing from current font.\n",
      "  fig.canvas.print_figure(bytes_io, **kw)\n",
      "C:\\Users\\baba\\anaconda3\\lib\\site-packages\\IPython\\core\\pylabtools.py:151: UserWarning: Glyph 22243 (\\N{CJK UNIFIED IDEOGRAPH-56E3}) missing from current font.\n",
      "  fig.canvas.print_figure(bytes_io, **kw)\n",
      "C:\\Users\\baba\\anaconda3\\lib\\site-packages\\IPython\\core\\pylabtools.py:151: UserWarning: Glyph 23376 (\\N{CJK UNIFIED IDEOGRAPH-5B50}) missing from current font.\n",
      "  fig.canvas.print_figure(bytes_io, **kw)\n",
      "C:\\Users\\baba\\anaconda3\\lib\\site-packages\\IPython\\core\\pylabtools.py:151: UserWarning: Glyph 12398 (\\N{HIRAGANA LETTER NO}) missing from current font.\n",
      "  fig.canvas.print_figure(bytes_io, **kw)\n",
      "C:\\Users\\baba\\anaconda3\\lib\\site-packages\\IPython\\core\\pylabtools.py:151: UserWarning: Glyph 12471 (\\N{KATAKANA LETTER SI}) missing from current font.\n",
      "  fig.canvas.print_figure(bytes_io, **kw)\n",
      "C:\\Users\\baba\\anaconda3\\lib\\site-packages\\IPython\\core\\pylabtools.py:151: UserWarning: Glyph 12517 (\\N{KATAKANA LETTER SMALL YU}) missing from current font.\n",
      "  fig.canvas.print_figure(bytes_io, **kw)\n",
      "C:\\Users\\baba\\anaconda3\\lib\\site-packages\\IPython\\core\\pylabtools.py:151: UserWarning: Glyph 26898 (\\N{CJK UNIFIED IDEOGRAPH-6912}) missing from current font.\n",
      "  fig.canvas.print_figure(bytes_io, **kw)\n",
      "C:\\Users\\baba\\anaconda3\\lib\\site-packages\\IPython\\core\\pylabtools.py:151: UserWarning: Glyph 32114 (\\N{CJK UNIFIED IDEOGRAPH-7D72}) missing from current font.\n",
      "  fig.canvas.print_figure(bytes_io, **kw)\n",
      "C:\\Users\\baba\\anaconda3\\lib\\site-packages\\IPython\\core\\pylabtools.py:151: UserWarning: Glyph 40335 (\\N{CJK UNIFIED IDEOGRAPH-9D8F}) missing from current font.\n",
      "  fig.canvas.print_figure(bytes_io, **kw)\n",
      "C:\\Users\\baba\\anaconda3\\lib\\site-packages\\IPython\\core\\pylabtools.py:151: UserWarning: Glyph 21776 (\\N{CJK UNIFIED IDEOGRAPH-5510}) missing from current font.\n",
      "  fig.canvas.print_figure(bytes_io, **kw)\n",
      "C:\\Users\\baba\\anaconda3\\lib\\site-packages\\IPython\\core\\pylabtools.py:151: UserWarning: Glyph 25562 (\\N{CJK UNIFIED IDEOGRAPH-63DA}) missing from current font.\n",
      "  fig.canvas.print_figure(bytes_io, **kw)\n",
      "C:\\Users\\baba\\anaconda3\\lib\\site-packages\\IPython\\core\\pylabtools.py:151: UserWarning: Glyph 12370 (\\N{HIRAGANA LETTER GE}) missing from current font.\n",
      "  fig.canvas.print_figure(bytes_io, **kw)\n",
      "C:\\Users\\baba\\anaconda3\\lib\\site-packages\\IPython\\core\\pylabtools.py:151: UserWarning: Glyph 12362 (\\N{HIRAGANA LETTER O}) missing from current font.\n",
      "  fig.canvas.print_figure(bytes_io, **kw)\n",
      "C:\\Users\\baba\\anaconda3\\lib\\site-packages\\IPython\\core\\pylabtools.py:151: UserWarning: Glyph 12429 (\\N{HIRAGANA LETTER RO}) missing from current font.\n",
      "  fig.canvas.print_figure(bytes_io, **kw)\n",
      "C:\\Users\\baba\\anaconda3\\lib\\site-packages\\IPython\\core\\pylabtools.py:151: UserWarning: Glyph 12375 (\\N{HIRAGANA LETTER SI}) missing from current font.\n",
      "  fig.canvas.print_figure(bytes_io, **kw)\n",
      "C:\\Users\\baba\\anaconda3\\lib\\site-packages\\IPython\\core\\pylabtools.py:151: UserWarning: Glyph 12461 (\\N{KATAKANA LETTER KI}) missing from current font.\n",
      "  fig.canvas.print_figure(bytes_io, **kw)\n",
      "C:\\Users\\baba\\anaconda3\\lib\\site-packages\\IPython\\core\\pylabtools.py:151: UserWarning: Glyph 12524 (\\N{KATAKANA LETTER RE}) missing from current font.\n",
      "  fig.canvas.print_figure(bytes_io, **kw)\n",
      "C:\\Users\\baba\\anaconda3\\lib\\site-packages\\IPython\\core\\pylabtools.py:151: UserWarning: Glyph 12499 (\\N{KATAKANA LETTER BI}) missing from current font.\n",
      "  fig.canvas.print_figure(bytes_io, **kw)\n",
      "C:\\Users\\baba\\anaconda3\\lib\\site-packages\\IPython\\core\\pylabtools.py:151: UserWarning: Glyph 12501 (\\N{KATAKANA LETTER HU}) missing from current font.\n",
      "  fig.canvas.print_figure(bytes_io, **kw)\n",
      "C:\\Users\\baba\\anaconda3\\lib\\site-packages\\IPython\\core\\pylabtools.py:151: UserWarning: Glyph 12488 (\\N{KATAKANA LETTER TO}) missing from current font.\n",
      "  fig.canvas.print_figure(bytes_io, **kw)\n",
      "C:\\Users\\baba\\anaconda3\\lib\\site-packages\\IPython\\core\\pylabtools.py:151: UserWarning: Glyph 12510 (\\N{KATAKANA LETTER MA}) missing from current font.\n",
      "  fig.canvas.print_figure(bytes_io, **kw)\n",
      "C:\\Users\\baba\\anaconda3\\lib\\site-packages\\IPython\\core\\pylabtools.py:151: UserWarning: Glyph 29038 (\\N{CJK UNIFIED IDEOGRAPH-716E}) missing from current font.\n",
      "  fig.canvas.print_figure(bytes_io, **kw)\n",
      "C:\\Users\\baba\\anaconda3\\lib\\site-packages\\IPython\\core\\pylabtools.py:151: UserWarning: Glyph 12509 (\\N{KATAKANA LETTER PO}) missing from current font.\n",
      "  fig.canvas.print_figure(bytes_io, **kw)\n",
      "C:\\Users\\baba\\anaconda3\\lib\\site-packages\\IPython\\core\\pylabtools.py:151: UserWarning: Glyph 12463 (\\N{KATAKANA LETTER KU}) missing from current font.\n",
      "  fig.canvas.print_figure(bytes_io, **kw)\n",
      "C:\\Users\\baba\\anaconda3\\lib\\site-packages\\IPython\\core\\pylabtools.py:151: UserWarning: Glyph 29983 (\\N{CJK UNIFIED IDEOGRAPH-751F}) missing from current font.\n",
      "  fig.canvas.print_figure(bytes_io, **kw)\n",
      "C:\\Users\\baba\\anaconda3\\lib\\site-packages\\IPython\\core\\pylabtools.py:151: UserWarning: Glyph 23004 (\\N{CJK UNIFIED IDEOGRAPH-59DC}) missing from current font.\n",
      "  fig.canvas.print_figure(bytes_io, **kw)\n",
      "C:\\Users\\baba\\anaconda3\\lib\\site-packages\\IPython\\core\\pylabtools.py:151: UserWarning: Glyph 28988 (\\N{CJK UNIFIED IDEOGRAPH-713C}) missing from current font.\n",
      "  fig.canvas.print_figure(bytes_io, **kw)\n",
      "C:\\Users\\baba\\anaconda3\\lib\\site-packages\\IPython\\core\\pylabtools.py:151: UserWarning: Glyph 12365 (\\N{HIRAGANA LETTER KI}) missing from current font.\n",
      "  fig.canvas.print_figure(bytes_io, **kw)\n",
      "C:\\Users\\baba\\anaconda3\\lib\\site-packages\\IPython\\core\\pylabtools.py:151: UserWarning: Glyph 12452 (\\N{KATAKANA LETTER I}) missing from current font.\n",
      "  fig.canvas.print_figure(bytes_io, **kw)\n",
      "C:\\Users\\baba\\anaconda3\\lib\\site-packages\\IPython\\core\\pylabtools.py:151: UserWarning: Glyph 37326 (\\N{CJK UNIFIED IDEOGRAPH-91CE}) missing from current font.\n",
      "  fig.canvas.print_figure(bytes_io, **kw)\n",
      "C:\\Users\\baba\\anaconda3\\lib\\site-packages\\IPython\\core\\pylabtools.py:151: UserWarning: Glyph 12354 (\\N{HIRAGANA LETTER A}) missing from current font.\n",
      "  fig.canvas.print_figure(bytes_io, **kw)\n",
      "C:\\Users\\baba\\anaconda3\\lib\\site-packages\\IPython\\core\\pylabtools.py:151: UserWarning: Glyph 12435 (\\N{HIRAGANA LETTER N}) missing from current font.\n",
      "  fig.canvas.print_figure(bytes_io, **kw)\n",
      "C:\\Users\\baba\\anaconda3\\lib\\site-packages\\IPython\\core\\pylabtools.py:151: UserWarning: Glyph 12363 (\\N{HIRAGANA LETTER KA}) missing from current font.\n",
      "  fig.canvas.print_figure(bytes_io, **kw)\n",
      "C:\\Users\\baba\\anaconda3\\lib\\site-packages\\IPython\\core\\pylabtools.py:151: UserWarning: Glyph 12369 (\\N{HIRAGANA LETTER KE}) missing from current font.\n",
      "  fig.canvas.print_figure(bytes_io, **kw)\n",
      "C:\\Users\\baba\\anaconda3\\lib\\site-packages\\IPython\\core\\pylabtools.py:151: UserWarning: Glyph 20028 (\\N{CJK UNIFIED IDEOGRAPH-4E3C}) missing from current font.\n",
      "  fig.canvas.print_figure(bytes_io, **kw)\n",
      "C:\\Users\\baba\\anaconda3\\lib\\site-packages\\IPython\\core\\pylabtools.py:151: UserWarning: Glyph 21619 (\\N{CJK UNIFIED IDEOGRAPH-5473}) missing from current font.\n",
      "  fig.canvas.print_figure(bytes_io, **kw)\n",
      "C:\\Users\\baba\\anaconda3\\lib\\site-packages\\IPython\\core\\pylabtools.py:151: UserWarning: Glyph 22092 (\\N{CJK UNIFIED IDEOGRAPH-564C}) missing from current font.\n",
      "  fig.canvas.print_figure(bytes_io, **kw)\n",
      "C:\\Users\\baba\\anaconda3\\lib\\site-packages\\IPython\\core\\pylabtools.py:151: UserWarning: Glyph 28460 (\\N{CJK UNIFIED IDEOGRAPH-6F2C}) missing from current font.\n",
      "  fig.canvas.print_figure(bytes_io, **kw)\n",
      "C:\\Users\\baba\\anaconda3\\lib\\site-packages\\IPython\\core\\pylabtools.py:151: UserWarning: Glyph 31565 (\\N{CJK UNIFIED IDEOGRAPH-7B4D}) missing from current font.\n",
      "  fig.canvas.print_figure(bytes_io, **kw)\n",
      "C:\\Users\\baba\\anaconda3\\lib\\site-packages\\IPython\\core\\pylabtools.py:151: UserWarning: Glyph 12508 (\\N{KATAKANA LETTER BO}) missing from current font.\n",
      "  fig.canvas.print_figure(bytes_io, **kw)\n",
      "C:\\Users\\baba\\anaconda3\\lib\\site-packages\\IPython\\core\\pylabtools.py:151: UserWarning: Glyph 35910 (\\N{CJK UNIFIED IDEOGRAPH-8C46}) missing from current font.\n",
      "  fig.canvas.print_figure(bytes_io, **kw)\n",
      "C:\\Users\\baba\\anaconda3\\lib\\site-packages\\IPython\\core\\pylabtools.py:151: UserWarning: Glyph 33104 (\\N{CJK UNIFIED IDEOGRAPH-8150}) missing from current font.\n",
      "  fig.canvas.print_figure(bytes_io, **kw)\n",
      "C:\\Users\\baba\\anaconda3\\lib\\site-packages\\IPython\\core\\pylabtools.py:151: UserWarning: Glyph 25163 (\\N{CJK UNIFIED IDEOGRAPH-624B}) missing from current font.\n",
      "  fig.canvas.print_figure(bytes_io, **kw)\n",
      "C:\\Users\\baba\\anaconda3\\lib\\site-packages\\IPython\\core\\pylabtools.py:151: UserWarning: Glyph 20316 (\\N{CJK UNIFIED IDEOGRAPH-4F5C}) missing from current font.\n",
      "  fig.canvas.print_figure(bytes_io, **kw)\n",
      "C:\\Users\\baba\\anaconda3\\lib\\site-packages\\IPython\\core\\pylabtools.py:151: UserWarning: Glyph 12426 (\\N{HIRAGANA LETTER RI}) missing from current font.\n",
      "  fig.canvas.print_figure(bytes_io, **kw)\n",
      "C:\\Users\\baba\\anaconda3\\lib\\site-packages\\IPython\\core\\pylabtools.py:151: UserWarning: Glyph 12402 (\\N{HIRAGANA LETTER HI}) missing from current font.\n",
      "  fig.canvas.print_figure(bytes_io, **kw)\n",
      "C:\\Users\\baba\\anaconda3\\lib\\site-packages\\IPython\\core\\pylabtools.py:151: UserWarning: Glyph 12428 (\\N{HIRAGANA LETTER RE}) missing from current font.\n",
      "  fig.canvas.print_figure(bytes_io, **kw)\n",
      "C:\\Users\\baba\\anaconda3\\lib\\site-packages\\IPython\\core\\pylabtools.py:151: UserWarning: Glyph 12388 (\\N{HIRAGANA LETTER TU}) missing from current font.\n",
      "  fig.canvas.print_figure(bytes_io, **kw)\n",
      "C:\\Users\\baba\\anaconda3\\lib\\site-packages\\IPython\\core\\pylabtools.py:151: UserWarning: Glyph 29031 (\\N{CJK UNIFIED IDEOGRAPH-7167}) missing from current font.\n",
      "  fig.canvas.print_figure(bytes_io, **kw)\n",
      "C:\\Users\\baba\\anaconda3\\lib\\site-packages\\IPython\\core\\pylabtools.py:151: UserWarning: Glyph 12520 (\\N{KATAKANA LETTER YO}) missing from current font.\n",
      "  fig.canvas.print_figure(bytes_io, **kw)\n",
      "C:\\Users\\baba\\anaconda3\\lib\\site-packages\\IPython\\core\\pylabtools.py:151: UserWarning: Glyph 20013 (\\N{CJK UNIFIED IDEOGRAPH-4E2D}) missing from current font.\n",
      "  fig.canvas.print_figure(bytes_io, **kw)\n",
      "C:\\Users\\baba\\anaconda3\\lib\\site-packages\\IPython\\core\\pylabtools.py:151: UserWarning: Glyph 33775 (\\N{CJK UNIFIED IDEOGRAPH-83EF}) missing from current font.\n",
      "  fig.canvas.print_figure(bytes_io, **kw)\n",
      "C:\\Users\\baba\\anaconda3\\lib\\site-packages\\IPython\\core\\pylabtools.py:151: UserWarning: Glyph 12479 (\\N{KATAKANA LETTER TA}) missing from current font.\n",
      "  fig.canvas.print_figure(bytes_io, **kw)\n",
      "C:\\Users\\baba\\anaconda3\\lib\\site-packages\\IPython\\core\\pylabtools.py:151: UserWarning: Glyph 12489 (\\N{KATAKANA LETTER DO}) missing from current font.\n",
      "  fig.canvas.print_figure(bytes_io, **kw)\n",
      "C:\\Users\\baba\\anaconda3\\lib\\site-packages\\IPython\\core\\pylabtools.py:151: UserWarning: Glyph 12522 (\\N{KATAKANA LETTER RI}) missing from current font.\n",
      "  fig.canvas.print_figure(bytes_io, **kw)\n",
      "C:\\Users\\baba\\anaconda3\\lib\\site-packages\\IPython\\core\\pylabtools.py:151: UserWarning: Glyph 33540 (\\N{CJK UNIFIED IDEOGRAPH-8304}) missing from current font.\n",
      "  fig.canvas.print_figure(bytes_io, **kw)\n",
      "C:\\Users\\baba\\anaconda3\\lib\\site-packages\\IPython\\core\\pylabtools.py:151: UserWarning: Glyph 22825 (\\N{CJK UNIFIED IDEOGRAPH-5929}) missing from current font.\n",
      "  fig.canvas.print_figure(bytes_io, **kw)\n",
      "C:\\Users\\baba\\anaconda3\\lib\\site-packages\\IPython\\core\\pylabtools.py:151: UserWarning: Glyph 12407 (\\N{HIRAGANA LETTER PU}) missing from current font.\n",
      "  fig.canvas.print_figure(bytes_io, **kw)\n",
      "C:\\Users\\baba\\anaconda3\\lib\\site-packages\\IPython\\core\\pylabtools.py:151: UserWarning: Glyph 12425 (\\N{HIRAGANA LETTER RA}) missing from current font.\n",
      "  fig.canvas.print_figure(bytes_io, **kw)\n",
      "C:\\Users\\baba\\anaconda3\\lib\\site-packages\\IPython\\core\\pylabtools.py:151: UserWarning: Glyph 12371 (\\N{HIRAGANA LETTER KO}) missing from current font.\n",
      "  fig.canvas.print_figure(bytes_io, **kw)\n",
      "C:\\Users\\baba\\anaconda3\\lib\\site-packages\\IPython\\core\\pylabtools.py:151: UserWarning: Glyph 30333 (\\N{CJK UNIFIED IDEOGRAPH-767D}) missing from current font.\n",
      "  fig.canvas.print_figure(bytes_io, **kw)\n",
      "C:\\Users\\baba\\anaconda3\\lib\\site-packages\\IPython\\core\\pylabtools.py:151: UserWarning: Glyph 36523 (\\N{CJK UNIFIED IDEOGRAPH-8EAB}) missing from current font.\n",
      "  fig.canvas.print_figure(bytes_io, **kw)\n",
      "C:\\Users\\baba\\anaconda3\\lib\\site-packages\\IPython\\core\\pylabtools.py:151: UserWarning: Glyph 39770 (\\N{CJK UNIFIED IDEOGRAPH-9B5A}) missing from current font.\n",
      "  fig.canvas.print_figure(bytes_io, **kw)\n",
      "C:\\Users\\baba\\anaconda3\\lib\\site-packages\\IPython\\core\\pylabtools.py:151: UserWarning: Glyph 39201 (\\N{CJK UNIFIED IDEOGRAPH-9921}) missing from current font.\n",
      "  fig.canvas.print_figure(bytes_io, **kw)\n",
      "C:\\Users\\baba\\anaconda3\\lib\\site-packages\\IPython\\core\\pylabtools.py:151: UserWarning: Glyph 12392 (\\N{HIRAGANA LETTER TO}) missing from current font.\n",
      "  fig.canvas.print_figure(bytes_io, **kw)\n",
      "C:\\Users\\baba\\anaconda3\\lib\\site-packages\\IPython\\core\\pylabtools.py:151: UserWarning: Glyph 12500 (\\N{KATAKANA LETTER PI}) missing from current font.\n",
      "  fig.canvas.print_figure(bytes_io, **kw)\n",
      "C:\\Users\\baba\\anaconda3\\lib\\site-packages\\IPython\\core\\pylabtools.py:151: UserWarning: Glyph 36763 (\\N{CJK UNIFIED IDEOGRAPH-8F9B}) missing from current font.\n",
      "  fig.canvas.print_figure(bytes_io, **kw)\n",
      "C:\\Users\\baba\\anaconda3\\lib\\site-packages\\IPython\\core\\pylabtools.py:151: UserWarning: Glyph 12474 (\\N{KATAKANA LETTER ZU}) missing from current font.\n",
      "  fig.canvas.print_figure(bytes_io, **kw)\n",
      "C:\\Users\\baba\\anaconda3\\lib\\site-packages\\IPython\\core\\pylabtools.py:151: UserWarning: Glyph 12469 (\\N{KATAKANA LETTER SA}) missing from current font.\n",
      "  fig.canvas.print_figure(bytes_io, **kw)\n",
      "C:\\Users\\baba\\anaconda3\\lib\\site-packages\\IPython\\core\\pylabtools.py:151: UserWarning: Glyph 12514 (\\N{KATAKANA LETTER MO}) missing from current font.\n",
      "  fig.canvas.print_figure(bytes_io, **kw)\n",
      "C:\\Users\\baba\\anaconda3\\lib\\site-packages\\IPython\\core\\pylabtools.py:151: UserWarning: Glyph 12512 (\\N{KATAKANA LETTER MU}) missing from current font.\n",
      "  fig.canvas.print_figure(bytes_io, **kw)\n",
      "C:\\Users\\baba\\anaconda3\\lib\\site-packages\\IPython\\core\\pylabtools.py:151: UserWarning: Glyph 12491 (\\N{KATAKANA LETTER NI}) missing from current font.\n",
      "  fig.canvas.print_figure(bytes_io, **kw)\n",
      "C:\\Users\\baba\\anaconda3\\lib\\site-packages\\IPython\\core\\pylabtools.py:151: UserWarning: Glyph 12456 (\\N{KATAKANA LETTER E}) missing from current font.\n",
      "  fig.canvas.print_figure(bytes_io, **kw)\n",
      "C:\\Users\\baba\\anaconda3\\lib\\site-packages\\IPython\\core\\pylabtools.py:151: UserWarning: Glyph 12523 (\\N{KATAKANA LETTER RU}) missing from current font.\n",
      "  fig.canvas.print_figure(bytes_io, **kw)\n",
      "C:\\Users\\baba\\anaconda3\\lib\\site-packages\\IPython\\core\\pylabtools.py:151: UserWarning: Glyph 33394 (\\N{CJK UNIFIED IDEOGRAPH-8272}) missing from current font.\n",
      "  fig.canvas.print_figure(bytes_io, **kw)\n",
      "C:\\Users\\baba\\anaconda3\\lib\\site-packages\\IPython\\core\\pylabtools.py:151: UserWarning: Glyph 12467 (\\N{KATAKANA LETTER KO}) missing from current font.\n",
      "  fig.canvas.print_figure(bytes_io, **kw)\n",
      "C:\\Users\\baba\\anaconda3\\lib\\site-packages\\IPython\\core\\pylabtools.py:151: UserWarning: Glyph 12525 (\\N{KATAKANA LETTER RO}) missing from current font.\n",
      "  fig.canvas.print_figure(bytes_io, **kw)\n",
      "C:\\Users\\baba\\anaconda3\\lib\\site-packages\\IPython\\core\\pylabtools.py:151: UserWarning: Glyph 12483 (\\N{KATAKANA LETTER SMALL TU}) missing from current font.\n",
      "  fig.canvas.print_figure(bytes_io, **kw)\n",
      "C:\\Users\\baba\\anaconda3\\lib\\site-packages\\IPython\\core\\pylabtools.py:151: UserWarning: Glyph 12465 (\\N{KATAKANA LETTER KE}) missing from current font.\n",
      "  fig.canvas.print_figure(bytes_io, **kw)\n",
      "C:\\Users\\baba\\anaconda3\\lib\\site-packages\\IPython\\core\\pylabtools.py:151: UserWarning: Glyph 12490 (\\N{KATAKANA LETTER NA}) missing from current font.\n",
      "  fig.canvas.print_figure(bytes_io, **kw)\n",
      "C:\\Users\\baba\\anaconda3\\lib\\site-packages\\IPython\\core\\pylabtools.py:151: UserWarning: Glyph 12377 (\\N{HIRAGANA LETTER SU}) missing from current font.\n",
      "  fig.canvas.print_figure(bytes_io, **kw)\n",
      "C:\\Users\\baba\\anaconda3\\lib\\site-packages\\IPython\\core\\pylabtools.py:151: UserWarning: Glyph 12356 (\\N{HIRAGANA LETTER I}) missing from current font.\n",
      "  fig.canvas.print_figure(bytes_io, **kw)\n",
      "C:\\Users\\baba\\anaconda3\\lib\\site-packages\\IPython\\core\\pylabtools.py:151: UserWarning: Glyph 12515 (\\N{KATAKANA LETTER SMALL YA}) missing from current font.\n",
      "  fig.canvas.print_figure(bytes_io, **kw)\n",
      "C:\\Users\\baba\\anaconda3\\lib\\site-packages\\IPython\\core\\pylabtools.py:151: UserWarning: Glyph 12503 (\\N{KATAKANA LETTER PU}) missing from current font.\n",
      "  fig.canvas.print_figure(bytes_io, **kw)\n",
      "C:\\Users\\baba\\anaconda3\\lib\\site-packages\\IPython\\core\\pylabtools.py:151: UserWarning: Glyph 12468 (\\N{KATAKANA LETTER GO}) missing from current font.\n",
      "  fig.canvas.print_figure(bytes_io, **kw)\n",
      "C:\\Users\\baba\\anaconda3\\lib\\site-packages\\IPython\\core\\pylabtools.py:151: UserWarning: Glyph 12516 (\\N{KATAKANA LETTER YA}) missing from current font.\n",
      "  fig.canvas.print_figure(bytes_io, **kw)\n",
      "C:\\Users\\baba\\anaconda3\\lib\\site-packages\\IPython\\core\\pylabtools.py:151: UserWarning: Glyph 12383 (\\N{HIRAGANA LETTER TA}) missing from current font.\n",
      "  fig.canvas.print_figure(bytes_io, **kw)\n",
      "C:\\Users\\baba\\anaconda3\\lib\\site-packages\\IPython\\core\\pylabtools.py:151: UserWarning: Glyph 12387 (\\N{HIRAGANA LETTER SMALL TU}) missing from current font.\n",
      "  fig.canvas.print_figure(bytes_io, **kw)\n",
      "C:\\Users\\baba\\anaconda3\\lib\\site-packages\\IPython\\core\\pylabtools.py:151: UserWarning: Glyph 12505 (\\N{KATAKANA LETTER BE}) missing from current font.\n",
      "  fig.canvas.print_figure(bytes_io, **kw)\n",
      "C:\\Users\\baba\\anaconda3\\lib\\site-packages\\IPython\\core\\pylabtools.py:151: UserWarning: Glyph 12521 (\\N{KATAKANA LETTER RA}) missing from current font.\n",
      "  fig.canvas.print_figure(bytes_io, **kw)\n",
      "C:\\Users\\baba\\anaconda3\\lib\\site-packages\\IPython\\core\\pylabtools.py:151: UserWarning: Glyph 33469 (\\N{CJK UNIFIED IDEOGRAPH-82BD}) missing from current font.\n",
      "  fig.canvas.print_figure(bytes_io, **kw)\n",
      "C:\\Users\\baba\\anaconda3\\lib\\site-packages\\IPython\\core\\pylabtools.py:151: UserWarning: Glyph 12455 (\\N{KATAKANA LETTER SMALL E}) missing from current font.\n",
      "  fig.canvas.print_figure(bytes_io, **kw)\n",
      "C:\\Users\\baba\\anaconda3\\lib\\site-packages\\IPython\\core\\pylabtools.py:151: UserWarning: Glyph 12486 (\\N{KATAKANA LETTER TE}) missing from current font.\n",
      "  fig.canvas.print_figure(bytes_io, **kw)\n",
      "C:\\Users\\baba\\anaconda3\\lib\\site-packages\\IPython\\core\\pylabtools.py:151: UserWarning: Glyph 38867 (\\N{CJK UNIFIED IDEOGRAPH-97D3}) missing from current font.\n",
      "  fig.canvas.print_figure(bytes_io, **kw)\n",
      "C:\\Users\\baba\\anaconda3\\lib\\site-packages\\IPython\\core\\pylabtools.py:151: UserWarning: Glyph 22269 (\\N{CJK UNIFIED IDEOGRAPH-56FD}) missing from current font.\n",
      "  fig.canvas.print_figure(bytes_io, **kw)\n",
      "C:\\Users\\baba\\anaconda3\\lib\\site-packages\\IPython\\core\\pylabtools.py:151: UserWarning: Glyph 12460 (\\N{KATAKANA LETTER GA}) missing from current font.\n",
      "  fig.canvas.print_figure(bytes_io, **kw)\n",
      "C:\\Users\\baba\\anaconda3\\lib\\site-packages\\IPython\\core\\pylabtools.py:151: UserWarning: Glyph 12494 (\\N{KATAKANA LETTER NO}) missing from current font.\n",
      "  fig.canvas.print_figure(bytes_io, **kw)\n",
      "C:\\Users\\baba\\anaconda3\\lib\\site-packages\\IPython\\core\\pylabtools.py:151: UserWarning: Glyph 12450 (\\N{KATAKANA LETTER A}) missing from current font.\n",
      "  fig.canvas.print_figure(bytes_io, **kw)\n",
      "C:\\Users\\baba\\anaconda3\\lib\\site-packages\\IPython\\core\\pylabtools.py:151: UserWarning: Glyph 12472 (\\N{KATAKANA LETTER ZI}) missing from current font.\n",
      "  fig.canvas.print_figure(bytes_io, **kw)\n",
      "C:\\Users\\baba\\anaconda3\\lib\\site-packages\\IPython\\core\\pylabtools.py:151: UserWarning: Glyph 21335 (\\N{CJK UNIFIED IDEOGRAPH-5357}) missing from current font.\n",
      "  fig.canvas.print_figure(bytes_io, **kw)\n",
      "C:\\Users\\baba\\anaconda3\\lib\\site-packages\\IPython\\core\\pylabtools.py:151: UserWarning: Glyph 34542 (\\N{CJK UNIFIED IDEOGRAPH-86EE}) missing from current font.\n",
      "  fig.canvas.print_figure(bytes_io, **kw)\n",
      "C:\\Users\\baba\\anaconda3\\lib\\site-packages\\IPython\\core\\pylabtools.py:151: UserWarning: Glyph 28810 (\\N{CJK UNIFIED IDEOGRAPH-708A}) missing from current font.\n",
      "  fig.canvas.print_figure(bytes_io, **kw)\n",
      "C:\\Users\\baba\\anaconda3\\lib\\site-packages\\IPython\\core\\pylabtools.py:151: UserWarning: Glyph 36796 (\\N{CJK UNIFIED IDEOGRAPH-8FBC}) missing from current font.\n",
      "  fig.canvas.print_figure(bytes_io, **kw)\n",
      "C:\\Users\\baba\\anaconda3\\lib\\site-packages\\IPython\\core\\pylabtools.py:151: UserWarning: Glyph 12415 (\\N{HIRAGANA LETTER MI}) missing from current font.\n",
      "  fig.canvas.print_figure(bytes_io, **kw)\n",
      "C:\\Users\\baba\\anaconda3\\lib\\site-packages\\IPython\\core\\pylabtools.py:151: UserWarning: Glyph 12372 (\\N{HIRAGANA LETTER GO}) missing from current font.\n",
      "  fig.canvas.print_figure(bytes_io, **kw)\n",
      "C:\\Users\\baba\\anaconda3\\lib\\site-packages\\IPython\\core\\pylabtools.py:151: UserWarning: Glyph 39151 (\\N{CJK UNIFIED IDEOGRAPH-98EF}) missing from current font.\n",
      "  fig.canvas.print_figure(bytes_io, **kw)\n",
      "C:\\Users\\baba\\anaconda3\\lib\\site-packages\\IPython\\core\\pylabtools.py:151: UserWarning: Glyph 20919 (\\N{CJK UNIFIED IDEOGRAPH-51B7}) missing from current font.\n",
      "  fig.canvas.print_figure(bytes_io, **kw)\n",
      "C:\\Users\\baba\\anaconda3\\lib\\site-packages\\IPython\\core\\pylabtools.py:151: UserWarning: Glyph 12406 (\\N{HIRAGANA LETTER BU}) missing from current font.\n",
      "  fig.canvas.print_figure(bytes_io, **kw)\n",
      "C:\\Users\\baba\\anaconda3\\lib\\site-packages\\IPython\\core\\pylabtools.py:151: UserWarning: Glyph 22633 (\\N{CJK UNIFIED IDEOGRAPH-5869}) missing from current font.\n",
      "  fig.canvas.print_figure(bytes_io, **kw)\n",
      "C:\\Users\\baba\\anaconda3\\lib\\site-packages\\IPython\\core\\pylabtools.py:151: UserWarning: Glyph 22799 (\\N{CJK UNIFIED IDEOGRAPH-590F}) missing from current font.\n",
      "  fig.canvas.print_figure(bytes_io, **kw)\n",
      "C:\\Users\\baba\\anaconda3\\lib\\site-packages\\IPython\\core\\pylabtools.py:151: UserWarning: Glyph 29976 (\\N{CJK UNIFIED IDEOGRAPH-7518}) missing from current font.\n",
      "  fig.canvas.print_figure(bytes_io, **kw)\n",
      "C:\\Users\\baba\\anaconda3\\lib\\site-packages\\IPython\\core\\pylabtools.py:151: UserWarning: Glyph 12462 (\\N{KATAKANA LETTER GI}) missing from current font.\n",
      "  fig.canvas.print_figure(bytes_io, **kw)\n",
      "C:\\Users\\baba\\anaconda3\\lib\\site-packages\\IPython\\core\\pylabtools.py:151: UserWarning: Glyph 12397 (\\N{HIRAGANA LETTER NE}) missing from current font.\n",
      "  fig.canvas.print_figure(bytes_io, **kw)\n",
      "C:\\Users\\baba\\anaconda3\\lib\\site-packages\\IPython\\core\\pylabtools.py:151: UserWarning: Glyph 12366 (\\N{HIRAGANA LETTER GI}) missing from current font.\n",
      "  fig.canvas.print_figure(bytes_io, **kw)\n",
      "C:\\Users\\baba\\anaconda3\\lib\\site-packages\\IPython\\core\\pylabtools.py:151: UserWarning: Glyph 12502 (\\N{KATAKANA LETTER BU}) missing from current font.\n",
      "  fig.canvas.print_figure(bytes_io, **kw)\n",
      "C:\\Users\\baba\\anaconda3\\lib\\site-packages\\IPython\\core\\pylabtools.py:151: UserWarning: Glyph 28155 (\\N{CJK UNIFIED IDEOGRAPH-6DFB}) missing from current font.\n",
      "  fig.canvas.print_figure(bytes_io, **kw)\n",
      "C:\\Users\\baba\\anaconda3\\lib\\site-packages\\IPython\\core\\pylabtools.py:151: UserWarning: Glyph 12360 (\\N{HIRAGANA LETTER E}) missing from current font.\n",
      "  fig.canvas.print_figure(bytes_io, **kw)\n",
      "C:\\Users\\baba\\anaconda3\\lib\\site-packages\\IPython\\core\\pylabtools.py:151: UserWarning: Glyph 12458 (\\N{KATAKANA LETTER O}) missing from current font.\n",
      "  fig.canvas.print_figure(bytes_io, **kw)\n",
      "C:\\Users\\baba\\anaconda3\\lib\\site-packages\\IPython\\core\\pylabtools.py:151: UserWarning: Glyph 20843 (\\N{CJK UNIFIED IDEOGRAPH-516B}) missing from current font.\n",
      "  fig.canvas.print_figure(bytes_io, **kw)\n",
      "C:\\Users\\baba\\anaconda3\\lib\\site-packages\\IPython\\core\\pylabtools.py:151: UserWarning: Glyph 23453 (\\N{CJK UNIFIED IDEOGRAPH-5B9D}) missing from current font.\n",
      "  fig.canvas.print_figure(bytes_io, **kw)\n",
      "C:\\Users\\baba\\anaconda3\\lib\\site-packages\\IPython\\core\\pylabtools.py:151: UserWarning: Glyph 12420 (\\N{HIRAGANA LETTER YA}) missing from current font.\n",
      "  fig.canvas.print_figure(bytes_io, **kw)\n",
      "C:\\Users\\baba\\anaconda3\\lib\\site-packages\\IPython\\core\\pylabtools.py:151: UserWarning: Glyph 12396 (\\N{HIRAGANA LETTER NU}) missing from current font.\n",
      "  fig.canvas.print_figure(bytes_io, **kw)\n",
      "C:\\Users\\baba\\anaconda3\\lib\\site-packages\\IPython\\core\\pylabtools.py:151: UserWarning: Glyph 12358 (\\N{HIRAGANA LETTER U}) missing from current font.\n",
      "  fig.canvas.print_figure(bytes_io, **kw)\n",
      "C:\\Users\\baba\\anaconda3\\lib\\site-packages\\IPython\\core\\pylabtools.py:151: UserWarning: Glyph 12393 (\\N{HIRAGANA LETTER DO}) missing from current font.\n",
      "  fig.canvas.print_figure(bytes_io, **kw)\n",
      "C:\\Users\\baba\\anaconda3\\lib\\site-packages\\IPython\\core\\pylabtools.py:151: UserWarning: Glyph 12539 (\\N{KATAKANA MIDDLE DOT}) missing from current font.\n",
      "  fig.canvas.print_figure(bytes_io, **kw)\n",
      "C:\\Users\\baba\\anaconda3\\lib\\site-packages\\IPython\\core\\pylabtools.py:151: UserWarning: Glyph 65288 (\\N{FULLWIDTH LEFT PARENTHESIS}) missing from current font.\n",
      "  fig.canvas.print_figure(bytes_io, **kw)\n",
      "C:\\Users\\baba\\anaconda3\\lib\\site-packages\\IPython\\core\\pylabtools.py:151: UserWarning: Glyph 12487 (\\N{KATAKANA LETTER DE}) missing from current font.\n",
      "  fig.canvas.print_figure(bytes_io, **kw)\n",
      "C:\\Users\\baba\\anaconda3\\lib\\site-packages\\IPython\\core\\pylabtools.py:151: UserWarning: Glyph 12511 (\\N{KATAKANA LETTER MI}) missing from current font.\n",
      "  fig.canvas.print_figure(bytes_io, **kw)\n",
      "C:\\Users\\baba\\anaconda3\\lib\\site-packages\\IPython\\core\\pylabtools.py:151: UserWarning: Glyph 65289 (\\N{FULLWIDTH RIGHT PARENTHESIS}) missing from current font.\n",
      "  fig.canvas.print_figure(bytes_io, **kw)\n",
      "C:\\Users\\baba\\anaconda3\\lib\\site-packages\\IPython\\core\\pylabtools.py:151: UserWarning: Glyph 39321 (\\N{CJK UNIFIED IDEOGRAPH-9999}) missing from current font.\n",
      "  fig.canvas.print_figure(bytes_io, **kw)\n",
      "C:\\Users\\baba\\anaconda3\\lib\\site-packages\\IPython\\core\\pylabtools.py:151: UserWarning: Glyph 33609 (\\N{CJK UNIFIED IDEOGRAPH-8349}) missing from current font.\n",
      "  fig.canvas.print_figure(bytes_io, **kw)\n",
      "C:\\Users\\baba\\anaconda3\\lib\\site-packages\\IPython\\core\\pylabtools.py:151: UserWarning: Glyph 21402 (\\N{CJK UNIFIED IDEOGRAPH-539A}) missing from current font.\n",
      "  fig.canvas.print_figure(bytes_io, **kw)\n",
      "C:\\Users\\baba\\anaconda3\\lib\\site-packages\\IPython\\core\\pylabtools.py:151: UserWarning: Glyph 20999 (\\N{CJK UNIFIED IDEOGRAPH-5207}) missing from current font.\n",
      "  fig.canvas.print_figure(bytes_io, **kw)\n",
      "C:\\Users\\baba\\anaconda3\\lib\\site-packages\\IPython\\core\\pylabtools.py:151: UserWarning: Glyph 27915 (\\N{CJK UNIFIED IDEOGRAPH-6D0B}) missing from current font.\n",
      "  fig.canvas.print_figure(bytes_io, **kw)\n",
      "C:\\Users\\baba\\anaconda3\\lib\\site-packages\\IPython\\core\\pylabtools.py:151: UserWarning: Glyph 39135 (\\N{CJK UNIFIED IDEOGRAPH-98DF}) missing from current font.\n",
      "  fig.canvas.print_figure(bytes_io, **kw)\n",
      "C:\\Users\\baba\\anaconda3\\lib\\site-packages\\IPython\\core\\pylabtools.py:151: UserWarning: Glyph 23627 (\\N{CJK UNIFIED IDEOGRAPH-5C4B}) missing from current font.\n",
      "  fig.canvas.print_figure(bytes_io, **kw)\n",
      "C:\\Users\\baba\\anaconda3\\lib\\site-packages\\IPython\\core\\pylabtools.py:151: UserWarning: Glyph 12373 (\\N{HIRAGANA LETTER SA}) missing from current font.\n",
      "  fig.canvas.print_figure(bytes_io, **kw)\n",
      "C:\\Users\\baba\\anaconda3\\lib\\site-packages\\IPython\\core\\pylabtools.py:151: UserWarning: Glyph 12470 (\\N{KATAKANA LETTER ZA}) missing from current font.\n",
      "  fig.canvas.print_figure(bytes_io, **kw)\n",
      "C:\\Users\\baba\\anaconda3\\lib\\site-packages\\IPython\\core\\pylabtools.py:151: UserWarning: Glyph 37096 (\\N{CJK UNIFIED IDEOGRAPH-90E8}) missing from current font.\n",
      "  fig.canvas.print_figure(bytes_io, **kw)\n",
      "C:\\Users\\baba\\anaconda3\\lib\\site-packages\\IPython\\core\\pylabtools.py:151: UserWarning: Glyph 32993 (\\N{CJK UNIFIED IDEOGRAPH-80E1}) missing from current font.\n",
      "  fig.canvas.print_figure(bytes_io, **kw)\n",
      "C:\\Users\\baba\\anaconda3\\lib\\site-packages\\IPython\\core\\pylabtools.py:151: UserWarning: Glyph 40635 (\\N{CJK UNIFIED IDEOGRAPH-9EBB}) missing from current font.\n",
      "  fig.canvas.print_figure(bytes_io, **kw)\n",
      "C:\\Users\\baba\\anaconda3\\lib\\site-packages\\IPython\\core\\pylabtools.py:151: UserWarning: Glyph 21517 (\\N{CJK UNIFIED IDEOGRAPH-540D}) missing from current font.\n",
      "  fig.canvas.print_figure(bytes_io, **kw)\n",
      "C:\\Users\\baba\\anaconda3\\lib\\site-packages\\IPython\\core\\pylabtools.py:151: UserWarning: Glyph 21476 (\\N{CJK UNIFIED IDEOGRAPH-53E4}) missing from current font.\n",
      "  fig.canvas.print_figure(bytes_io, **kw)\n",
      "C:\\Users\\baba\\anaconda3\\lib\\site-packages\\IPython\\core\\pylabtools.py:151: UserWarning: Glyph 35242 (\\N{CJK UNIFIED IDEOGRAPH-89AA}) missing from current font.\n",
      "  fig.canvas.print_figure(bytes_io, **kw)\n",
      "C:\\Users\\baba\\anaconda3\\lib\\site-packages\\IPython\\core\\pylabtools.py:151: UserWarning: Glyph 23665 (\\N{CJK UNIFIED IDEOGRAPH-5C71}) missing from current font.\n",
      "  fig.canvas.print_figure(bytes_io, **kw)\n",
      "C:\\Users\\baba\\anaconda3\\lib\\site-packages\\IPython\\core\\pylabtools.py:151: UserWarning: Glyph 36042 (\\N{CJK UNIFIED IDEOGRAPH-8CCA}) missing from current font.\n",
      "  fig.canvas.print_figure(bytes_io, **kw)\n",
      "C:\\Users\\baba\\anaconda3\\lib\\site-packages\\IPython\\core\\pylabtools.py:151: UserWarning: Glyph 12506 (\\N{KATAKANA LETTER PE}) missing from current font.\n",
      "  fig.canvas.print_figure(bytes_io, **kw)\n",
      "C:\\Users\\baba\\anaconda3\\lib\\site-packages\\IPython\\core\\pylabtools.py:151: UserWarning: Glyph 12497 (\\N{KATAKANA LETTER PA}) missing from current font.\n",
      "  fig.canvas.print_figure(bytes_io, **kw)\n",
      "C:\\Users\\baba\\anaconda3\\lib\\site-packages\\IPython\\core\\pylabtools.py:151: UserWarning: Glyph 12475 (\\N{KATAKANA LETTER SE}) missing from current font.\n",
      "  fig.canvas.print_figure(bytes_io, **kw)\n",
      "C:\\Users\\baba\\anaconda3\\lib\\site-packages\\IPython\\core\\pylabtools.py:151: UserWarning: Glyph 31569 (\\N{CJK UNIFIED IDEOGRAPH-7B51}) missing from current font.\n",
      "  fig.canvas.print_figure(bytes_io, **kw)\n",
      "C:\\Users\\baba\\anaconda3\\lib\\site-packages\\IPython\\core\\pylabtools.py:151: UserWarning: Glyph 21069 (\\N{CJK UNIFIED IDEOGRAPH-524D}) missing from current font.\n",
      "  fig.canvas.print_figure(bytes_io, **kw)\n",
      "C:\\Users\\baba\\anaconda3\\lib\\site-packages\\IPython\\core\\pylabtools.py:151: UserWarning: Glyph 29577 (\\N{CJK UNIFIED IDEOGRAPH-7389}) missing from current font.\n",
      "  fig.canvas.print_figure(bytes_io, **kw)\n",
      "C:\\Users\\baba\\anaconda3\\lib\\site-packages\\IPython\\core\\pylabtools.py:151: UserWarning: Glyph 23110 (\\N{CJK UNIFIED IDEOGRAPH-5A46}) missing from current font.\n",
      "  fig.canvas.print_figure(bytes_io, **kw)\n",
      "C:\\Users\\baba\\anaconda3\\lib\\site-packages\\IPython\\core\\pylabtools.py:151: UserWarning: Glyph 26149 (\\N{CJK UNIFIED IDEOGRAPH-6625}) missing from current font.\n",
      "  fig.canvas.print_figure(bytes_io, **kw)\n",
      "C:\\Users\\baba\\anaconda3\\lib\\site-packages\\IPython\\core\\pylabtools.py:151: UserWarning: Glyph 38632 (\\N{CJK UNIFIED IDEOGRAPH-96E8}) missing from current font.\n",
      "  fig.canvas.print_figure(bytes_io, **kw)\n",
      "C:\\Users\\baba\\anaconda3\\lib\\site-packages\\IPython\\core\\pylabtools.py:151: UserWarning: Glyph 12381 (\\N{HIRAGANA LETTER SO}) missing from current font.\n",
      "  fig.canvas.print_figure(bytes_io, **kw)\n",
      "C:\\Users\\baba\\anaconda3\\lib\\site-packages\\IPython\\core\\pylabtools.py:151: UserWarning: Glyph 23436 (\\N{CJK UNIFIED IDEOGRAPH-5B8C}) missing from current font.\n",
      "  fig.canvas.print_figure(bytes_io, **kw)\n",
      "C:\\Users\\baba\\anaconda3\\lib\\site-packages\\IPython\\core\\pylabtools.py:151: UserWarning: Glyph 29087 (\\N{CJK UNIFIED IDEOGRAPH-719F}) missing from current font.\n",
      "  fig.canvas.print_figure(bytes_io, **kw)\n",
      "C:\\Users\\baba\\anaconda3\\lib\\site-packages\\IPython\\core\\pylabtools.py:151: UserWarning: Glyph 12507 (\\N{KATAKANA LETTER HO}) missing from current font.\n",
      "  fig.canvas.print_figure(bytes_io, **kw)\n",
      "C:\\Users\\baba\\anaconda3\\lib\\site-packages\\IPython\\core\\pylabtools.py:151: UserWarning: Glyph 33509 (\\N{CJK UNIFIED IDEOGRAPH-82E5}) missing from current font.\n",
      "  fig.canvas.print_figure(bytes_io, **kw)\n",
      "C:\\Users\\baba\\anaconda3\\lib\\site-packages\\IPython\\core\\pylabtools.py:151: UserWarning: Glyph 26757 (\\N{CJK UNIFIED IDEOGRAPH-6885}) missing from current font.\n",
      "  fig.canvas.print_figure(bytes_io, **kw)\n",
      "C:\\Users\\baba\\anaconda3\\lib\\site-packages\\IPython\\core\\pylabtools.py:151: UserWarning: Glyph 21253 (\\N{CJK UNIFIED IDEOGRAPH-5305}) missing from current font.\n",
      "  fig.canvas.print_figure(bytes_io, **kw)\n",
      "C:\\Users\\baba\\anaconda3\\lib\\site-packages\\IPython\\core\\pylabtools.py:151: UserWarning: Glyph 12498 (\\N{KATAKANA LETTER HI}) missing from current font.\n",
      "  fig.canvas.print_figure(bytes_io, **kw)\n",
      "C:\\Users\\baba\\anaconda3\\lib\\site-packages\\IPython\\core\\pylabtools.py:151: UserWarning: Glyph 26611 (\\N{CJK UNIFIED IDEOGRAPH-67F3}) missing from current font.\n",
      "  fig.canvas.print_figure(bytes_io, **kw)\n",
      "C:\\Users\\baba\\anaconda3\\lib\\site-packages\\IPython\\core\\pylabtools.py:151: UserWarning: Glyph 24029 (\\N{CJK UNIFIED IDEOGRAPH-5DDD}) missing from current font.\n",
      "  fig.canvas.print_figure(bytes_io, **kw)\n",
      "C:\\Users\\baba\\anaconda3\\lib\\site-packages\\IPython\\core\\pylabtools.py:151: UserWarning: Glyph 40658 (\\N{CJK UNIFIED IDEOGRAPH-9ED2}) missing from current font.\n",
      "  fig.canvas.print_figure(bytes_io, **kw)\n",
      "C:\\Users\\baba\\anaconda3\\lib\\site-packages\\IPython\\core\\pylabtools.py:151: UserWarning: Glyph 24425 (\\N{CJK UNIFIED IDEOGRAPH-5F69}) missing from current font.\n",
      "  fig.canvas.print_figure(bytes_io, **kw)\n",
      "C:\\Users\\baba\\anaconda3\\lib\\site-packages\\IPython\\core\\pylabtools.py:151: UserWarning: Glyph 12394 (\\N{HIRAGANA LETTER NA}) missing from current font.\n",
      "  fig.canvas.print_figure(bytes_io, **kw)\n",
      "C:\\Users\\baba\\anaconda3\\lib\\site-packages\\IPython\\core\\pylabtools.py:151: UserWarning: Glyph 25405 (\\N{CJK UNIFIED IDEOGRAPH-633D}) missing from current font.\n",
      "  fig.canvas.print_figure(bytes_io, **kw)\n",
      "C:\\Users\\baba\\anaconda3\\lib\\site-packages\\IPython\\core\\pylabtools.py:151: UserWarning: Glyph 12399 (\\N{HIRAGANA LETTER HA}) missing from current font.\n",
      "  fig.canvas.print_figure(bytes_io, **kw)\n",
      "C:\\Users\\baba\\anaconda3\\lib\\site-packages\\IPython\\core\\pylabtools.py:151: UserWarning: Glyph 27835 (\\N{CJK UNIFIED IDEOGRAPH-6CBB}) missing from current font.\n",
      "  fig.canvas.print_figure(bytes_io, **kw)\n",
      "C:\\Users\\baba\\anaconda3\\lib\\site-packages\\IPython\\core\\pylabtools.py:151: UserWarning: Glyph 12403 (\\N{HIRAGANA LETTER BI}) missing from current font.\n",
      "  fig.canvas.print_figure(bytes_io, **kw)\n",
      "C:\\Users\\baba\\anaconda3\\lib\\site-packages\\IPython\\core\\pylabtools.py:151: UserWarning: Glyph 28023 (\\N{CJK UNIFIED IDEOGRAPH-6D77}) missing from current font.\n",
      "  fig.canvas.print_figure(bytes_io, **kw)\n",
      "C:\\Users\\baba\\anaconda3\\lib\\site-packages\\IPython\\core\\pylabtools.py:151: UserWarning: Glyph 32769 (\\N{CJK UNIFIED IDEOGRAPH-8001}) missing from current font.\n",
      "  fig.canvas.print_figure(bytes_io, **kw)\n",
      "C:\\Users\\baba\\anaconda3\\lib\\site-packages\\IPython\\core\\pylabtools.py:151: UserWarning: Glyph 26681 (\\N{CJK UNIFIED IDEOGRAPH-6839}) missing from current font.\n",
      "  fig.canvas.print_figure(bytes_io, **kw)\n",
      "C:\\Users\\baba\\anaconda3\\lib\\site-packages\\IPython\\core\\pylabtools.py:151: UserWarning: Glyph 33258 (\\N{CJK UNIFIED IDEOGRAPH-81EA}) missing from current font.\n",
      "  fig.canvas.print_figure(bytes_io, **kw)\n",
      "C:\\Users\\baba\\anaconda3\\lib\\site-packages\\IPython\\core\\pylabtools.py:151: UserWarning: Glyph 23478 (\\N{CJK UNIFIED IDEOGRAPH-5BB6}) missing from current font.\n",
      "  fig.canvas.print_figure(bytes_io, **kw)\n",
      "C:\\Users\\baba\\anaconda3\\lib\\site-packages\\IPython\\core\\pylabtools.py:151: UserWarning: Glyph 35069 (\\N{CJK UNIFIED IDEOGRAPH-88FD}) missing from current font.\n",
      "  fig.canvas.print_figure(bytes_io, **kw)\n",
      "C:\\Users\\baba\\anaconda3\\lib\\site-packages\\IPython\\core\\pylabtools.py:151: UserWarning: Glyph 26085 (\\N{CJK UNIFIED IDEOGRAPH-65E5}) missing from current font.\n",
      "  fig.canvas.print_figure(bytes_io, **kw)\n",
      "C:\\Users\\baba\\anaconda3\\lib\\site-packages\\IPython\\core\\pylabtools.py:151: UserWarning: Glyph 36196 (\\N{CJK UNIFIED IDEOGRAPH-8D64}) missing from current font.\n",
      "  fig.canvas.print_figure(bytes_io, **kw)\n",
      "C:\\Users\\baba\\anaconda3\\lib\\site-packages\\IPython\\core\\pylabtools.py:151: UserWarning: Glyph 12527 (\\N{KATAKANA LETTER WA}) missing from current font.\n",
      "  fig.canvas.print_figure(bytes_io, **kw)\n",
      "C:\\Users\\baba\\anaconda3\\lib\\site-packages\\IPython\\core\\pylabtools.py:151: UserWarning: Glyph 22238 (\\N{CJK UNIFIED IDEOGRAPH-56DE}) missing from current font.\n",
      "  fig.canvas.print_figure(bytes_io, **kw)\n",
      "C:\\Users\\baba\\anaconda3\\lib\\site-packages\\IPython\\core\\pylabtools.py:151: UserWarning: Glyph 37707 (\\N{CJK UNIFIED IDEOGRAPH-934B}) missing from current font.\n",
      "  fig.canvas.print_figure(bytes_io, **kw)\n",
      "C:\\Users\\baba\\anaconda3\\lib\\site-packages\\IPython\\core\\pylabtools.py:151: UserWarning: Glyph 27833 (\\N{CJK UNIFIED IDEOGRAPH-6CB9}) missing from current font.\n",
      "  fig.canvas.print_figure(bytes_io, **kw)\n",
      "C:\\Users\\baba\\anaconda3\\lib\\site-packages\\IPython\\core\\pylabtools.py:151: UserWarning: Glyph 28107 (\\N{CJK UNIFIED IDEOGRAPH-6DCB}) missing from current font.\n",
      "  fig.canvas.print_figure(bytes_io, **kw)\n",
      "C:\\Users\\baba\\anaconda3\\lib\\site-packages\\IPython\\core\\pylabtools.py:151: UserWarning: Glyph 12395 (\\N{HIRAGANA LETTER NI}) missing from current font.\n",
      "  fig.canvas.print_figure(bytes_io, **kw)\n",
      "C:\\Users\\baba\\anaconda3\\lib\\site-packages\\IPython\\core\\pylabtools.py:151: UserWarning: Glyph 39894 (\\N{CJK UNIFIED IDEOGRAPH-9BD6}) missing from current font.\n",
      "  fig.canvas.print_figure(bytes_io, **kw)\n",
      "C:\\Users\\baba\\anaconda3\\lib\\site-packages\\IPython\\core\\pylabtools.py:151: UserWarning: Glyph 31452 (\\N{CJK UNIFIED IDEOGRAPH-7ADC}) missing from current font.\n",
      "  fig.canvas.print_figure(bytes_io, **kw)\n",
      "C:\\Users\\baba\\anaconda3\\lib\\site-packages\\IPython\\core\\pylabtools.py:151: UserWarning: Glyph 30000 (\\N{CJK UNIFIED IDEOGRAPH-7530}) missing from current font.\n",
      "  fig.canvas.print_figure(bytes_io, **kw)\n",
      "C:\\Users\\baba\\anaconda3\\lib\\site-packages\\IPython\\core\\pylabtools.py:151: UserWarning: Glyph 29305 (\\N{CJK UNIFIED IDEOGRAPH-7279}) missing from current font.\n",
      "  fig.canvas.print_figure(bytes_io, **kw)\n",
      "C:\\Users\\baba\\anaconda3\\lib\\site-packages\\IPython\\core\\pylabtools.py:151: UserWarning: Glyph 12400 (\\N{HIRAGANA LETTER BA}) missing from current font.\n",
      "  fig.canvas.print_figure(bytes_io, **kw)\n",
      "C:\\Users\\baba\\anaconda3\\lib\\site-packages\\IPython\\core\\pylabtools.py:151: UserWarning: Glyph 27713 (\\N{CJK UNIFIED IDEOGRAPH-6C41}) missing from current font.\n",
      "  fig.canvas.print_figure(bytes_io, **kw)\n",
      "C:\\Users\\baba\\anaconda3\\lib\\site-packages\\IPython\\core\\pylabtools.py:151: UserWarning: Glyph 25285 (\\N{CJK UNIFIED IDEOGRAPH-62C5}) missing from current font.\n",
      "  fig.canvas.print_figure(bytes_io, **kw)\n",
      "C:\\Users\\baba\\anaconda3\\lib\\site-packages\\IPython\\core\\pylabtools.py:151: UserWarning: Glyph 40634 (\\N{CJK UNIFIED IDEOGRAPH-9EBA}) missing from current font.\n",
      "  fig.canvas.print_figure(bytes_io, **kw)\n"
     ]
    },
    {
     "data": {
      "image/png": "[encoded data removed]",
      "text/plain": [
       "<Figure size 640x480 with 1 Axes>"
      ]
     },
     "metadata": {},
     "output_type": "display_data"
    }
   ],
   "source": [
    "counts = train_data['name'].value_counts()\n",
    "#counts.plot.bar()\n",
    "sns.boxplot('name','y', data = train_data)\n",
    "plt.show()"
   ]
  },
  {
   "cell_type": "markdown",
   "id": "34332d3e",
   "metadata": {},
   "source": [
    "### 特記事項と販売数の関係"
   ]
  },
  {
   "cell_type": "code",
   "execution_count": 109,
   "id": "b09e8640",
   "metadata": {},
   "outputs": [
    {
     "name": "stderr",
     "output_type": "stream",
     "text": [
      "C:\\Users\\baba\\anaconda3\\lib\\site-packages\\seaborn\\_decorators.py:36: FutureWarning: Pass the following variables as keyword args: x, y. From version 0.12, the only valid positional argument will be `data`, and passing other arguments without an explicit keyword will result in an error or misinterpretation.\n",
      "  warnings.warn(\n"
     ]
    },
    {
     "data": {
      "text/plain": [
       "<AxesSubplot:xlabel='remarks', ylabel='y'>"
      ]
     },
     "execution_count": 109,
     "metadata": {},
     "output_type": "execute_result"
    },
    {
     "name": "stderr",
     "output_type": "stream",
     "text": [
      "C:\\Users\\baba\\anaconda3\\lib\\site-packages\\IPython\\core\\pylabtools.py:151: UserWarning: Glyph 29305 (\\N{CJK UNIFIED IDEOGRAPH-7279}) missing from current font.\n",
      "  fig.canvas.print_figure(bytes_io, **kw)\n",
      "C:\\Users\\baba\\anaconda3\\lib\\site-packages\\IPython\\core\\pylabtools.py:151: UserWarning: Glyph 12395 (\\N{HIRAGANA LETTER NI}) missing from current font.\n",
      "  fig.canvas.print_figure(bytes_io, **kw)\n",
      "C:\\Users\\baba\\anaconda3\\lib\\site-packages\\IPython\\core\\pylabtools.py:151: UserWarning: Glyph 12394 (\\N{HIRAGANA LETTER NA}) missing from current font.\n",
      "  fig.canvas.print_figure(bytes_io, **kw)\n",
      "C:\\Users\\baba\\anaconda3\\lib\\site-packages\\IPython\\core\\pylabtools.py:151: UserWarning: Glyph 12375 (\\N{HIRAGANA LETTER SI}) missing from current font.\n",
      "  fig.canvas.print_figure(bytes_io, **kw)\n",
      "C:\\Users\\baba\\anaconda3\\lib\\site-packages\\IPython\\core\\pylabtools.py:151: UserWarning: Glyph 12362 (\\N{HIRAGANA LETTER O}) missing from current font.\n",
      "  fig.canvas.print_figure(bytes_io, **kw)\n",
      "C:\\Users\\baba\\anaconda3\\lib\\site-packages\\IPython\\core\\pylabtools.py:151: UserWarning: Glyph 27005 (\\N{CJK UNIFIED IDEOGRAPH-697D}) missing from current font.\n",
      "  fig.canvas.print_figure(bytes_io, **kw)\n",
      "C:\\Users\\baba\\anaconda3\\lib\\site-packages\\IPython\\core\\pylabtools.py:151: UserWarning: Glyph 12415 (\\N{HIRAGANA LETTER MI}) missing from current font.\n",
      "  fig.canvas.print_figure(bytes_io, **kw)\n",
      "C:\\Users\\baba\\anaconda3\\lib\\site-packages\\IPython\\core\\pylabtools.py:151: UserWarning: Glyph 12513 (\\N{KATAKANA LETTER ME}) missing from current font.\n",
      "  fig.canvas.print_figure(bytes_io, **kw)\n",
      "C:\\Users\\baba\\anaconda3\\lib\\site-packages\\IPython\\core\\pylabtools.py:151: UserWarning: Glyph 12491 (\\N{KATAKANA LETTER NI}) missing from current font.\n",
      "  fig.canvas.print_figure(bytes_io, **kw)\n",
      "C:\\Users\\baba\\anaconda3\\lib\\site-packages\\IPython\\core\\pylabtools.py:151: UserWarning: Glyph 12517 (\\N{KATAKANA LETTER SMALL YU}) missing from current font.\n",
      "  fig.canvas.print_figure(bytes_io, **kw)\n",
      "C:\\Users\\baba\\anaconda3\\lib\\site-packages\\IPython\\core\\pylabtools.py:151: UserWarning: Glyph 12540 (\\N{KATAKANA-HIRAGANA PROLONGED SOUND MARK}) missing from current font.\n",
      "  fig.canvas.print_figure(bytes_io, **kw)\n",
      "C:\\Users\\baba\\anaconda3\\lib\\site-packages\\IPython\\core\\pylabtools.py:151: UserWarning: Glyph 26009 (\\N{CJK UNIFIED IDEOGRAPH-6599}) missing from current font.\n",
      "  fig.canvas.print_figure(bytes_io, **kw)\n",
      "C:\\Users\\baba\\anaconda3\\lib\\site-packages\\IPython\\core\\pylabtools.py:151: UserWarning: Glyph 29702 (\\N{CJK UNIFIED IDEOGRAPH-7406}) missing from current font.\n",
      "  fig.canvas.print_figure(bytes_io, **kw)\n",
      "C:\\Users\\baba\\anaconda3\\lib\\site-packages\\IPython\\core\\pylabtools.py:151: UserWarning: Glyph 38263 (\\N{CJK UNIFIED IDEOGRAPH-9577}) missing from current font.\n",
      "  fig.canvas.print_figure(bytes_io, **kw)\n",
      "C:\\Users\\baba\\anaconda3\\lib\\site-packages\\IPython\\core\\pylabtools.py:151: UserWarning: Glyph 12398 (\\N{HIRAGANA LETTER NO}) missing from current font.\n",
      "  fig.canvas.print_figure(bytes_io, **kw)\n",
      "C:\\Users\\baba\\anaconda3\\lib\\site-packages\\IPython\\core\\pylabtools.py:151: UserWarning: Glyph 12371 (\\N{HIRAGANA LETTER KO}) missing from current font.\n",
      "  fig.canvas.print_figure(bytes_io, **kw)\n",
      "C:\\Users\\baba\\anaconda3\\lib\\site-packages\\IPython\\core\\pylabtools.py:151: UserWarning: Glyph 12384 (\\N{HIRAGANA LETTER DA}) missing from current font.\n",
      "  fig.canvas.print_figure(bytes_io, **kw)\n",
      "C:\\Users\\baba\\anaconda3\\lib\\site-packages\\IPython\\core\\pylabtools.py:151: UserWarning: Glyph 12431 (\\N{HIRAGANA LETTER WA}) missing from current font.\n",
      "  fig.canvas.print_figure(bytes_io, **kw)\n",
      "C:\\Users\\baba\\anaconda3\\lib\\site-packages\\IPython\\core\\pylabtools.py:151: UserWarning: Glyph 12426 (\\N{HIRAGANA LETTER RI}) missing from current font.\n",
      "  fig.canvas.print_figure(bytes_io, **kw)\n",
      "C:\\Users\\baba\\anaconda3\\lib\\site-packages\\IPython\\core\\pylabtools.py:151: UserWarning: Glyph 12473 (\\N{KATAKANA LETTER SU}) missing from current font.\n",
      "  fig.canvas.print_figure(bytes_io, **kw)\n",
      "C:\\Users\\baba\\anaconda3\\lib\\site-packages\\IPython\\core\\pylabtools.py:151: UserWarning: Glyph 12506 (\\N{KATAKANA LETTER PE}) missing from current font.\n",
      "  fig.canvas.print_figure(bytes_io, **kw)\n",
      "C:\\Users\\baba\\anaconda3\\lib\\site-packages\\IPython\\core\\pylabtools.py:151: UserWarning: Glyph 12471 (\\N{KATAKANA LETTER SI}) missing from current font.\n",
      "  fig.canvas.print_figure(bytes_io, **kw)\n",
      "C:\\Users\\baba\\anaconda3\\lib\\site-packages\\IPython\\core\\pylabtools.py:151: UserWarning: Glyph 12515 (\\N{KATAKANA LETTER SMALL YA}) missing from current font.\n",
      "  fig.canvas.print_figure(bytes_io, **kw)\n",
      "C:\\Users\\baba\\anaconda3\\lib\\site-packages\\IPython\\core\\pylabtools.py:151: UserWarning: Glyph 12523 (\\N{KATAKANA LETTER RU}) missing from current font.\n",
      "  fig.canvas.print_figure(bytes_io, **kw)\n",
      "C:\\Users\\baba\\anaconda3\\lib\\site-packages\\IPython\\core\\pylabtools.py:151: UserWarning: Glyph 36817 (\\N{CJK UNIFIED IDEOGRAPH-8FD1}) missing from current font.\n",
      "  fig.canvas.print_figure(bytes_io, **kw)\n",
      "C:\\Users\\baba\\anaconda3\\lib\\site-packages\\IPython\\core\\pylabtools.py:151: UserWarning: Glyph 38563 (\\N{CJK UNIFIED IDEOGRAPH-96A3}) missing from current font.\n",
      "  fig.canvas.print_figure(bytes_io, **kw)\n",
      "C:\\Users\\baba\\anaconda3\\lib\\site-packages\\IPython\\core\\pylabtools.py:151: UserWarning: Glyph 39154 (\\N{CJK UNIFIED IDEOGRAPH-98F2}) missing from current font.\n",
      "  fig.canvas.print_figure(bytes_io, **kw)\n",
      "C:\\Users\\baba\\anaconda3\\lib\\site-packages\\IPython\\core\\pylabtools.py:151: UserWarning: Glyph 39135 (\\N{CJK UNIFIED IDEOGRAPH-98DF}) missing from current font.\n",
      "  fig.canvas.print_figure(bytes_io, **kw)\n",
      "C:\\Users\\baba\\anaconda3\\lib\\site-packages\\IPython\\core\\pylabtools.py:151: UserWarning: Glyph 24215 (\\N{CJK UNIFIED IDEOGRAPH-5E97}) missing from current font.\n",
      "  fig.canvas.print_figure(bytes_io, **kw)\n",
      "C:\\Users\\baba\\anaconda3\\lib\\site-packages\\IPython\\core\\pylabtools.py:151: UserWarning: Glyph 35079 (\\N{CJK UNIFIED IDEOGRAPH-8907}) missing from current font.\n",
      "  fig.canvas.print_figure(bytes_io, **kw)\n",
      "C:\\Users\\baba\\anaconda3\\lib\\site-packages\\IPython\\core\\pylabtools.py:151: UserWarning: Glyph 21512 (\\N{CJK UNIFIED IDEOGRAPH-5408}) missing from current font.\n",
      "  fig.canvas.print_figure(bytes_io, **kw)\n",
      "C:\\Users\\baba\\anaconda3\\lib\\site-packages\\IPython\\core\\pylabtools.py:151: UserWarning: Glyph 12499 (\\N{KATAKANA LETTER BI}) missing from current font.\n",
      "  fig.canvas.print_figure(bytes_io, **kw)\n",
      "C:\\Users\\baba\\anaconda3\\lib\\site-packages\\IPython\\core\\pylabtools.py:151: UserWarning: Glyph 12458 (\\N{KATAKANA LETTER O}) missing from current font.\n",
      "  fig.canvas.print_figure(bytes_io, **kw)\n",
      "C:\\Users\\baba\\anaconda3\\lib\\site-packages\\IPython\\core\\pylabtools.py:151: UserWarning: Glyph 12503 (\\N{KATAKANA LETTER PU}) missing from current font.\n",
      "  fig.canvas.print_figure(bytes_io, **kw)\n",
      "C:\\Users\\baba\\anaconda3\\lib\\site-packages\\IPython\\core\\pylabtools.py:151: UserWarning: Glyph 12531 (\\N{KATAKANA LETTER N}) missing from current font.\n",
      "  fig.canvas.print_figure(bytes_io, **kw)\n",
      "C:\\Users\\baba\\anaconda3\\lib\\site-packages\\IPython\\core\\pylabtools.py:151: UserWarning: Glyph 12452 (\\N{KATAKANA LETTER I}) missing from current font.\n",
      "  fig.canvas.print_figure(bytes_io, **kw)\n",
      "C:\\Users\\baba\\anaconda3\\lib\\site-packages\\IPython\\core\\pylabtools.py:151: UserWarning: Glyph 12481 (\\N{KATAKANA LETTER TI}) missing from current font.\n",
      "  fig.canvas.print_figure(bytes_io, **kw)\n",
      "C:\\Users\\baba\\anaconda3\\lib\\site-packages\\IPython\\core\\pylabtools.py:151: UserWarning: Glyph 65281 (\\N{FULLWIDTH EXCLAMATION MARK}) missing from current font.\n",
      "  fig.canvas.print_figure(bytes_io, **kw)\n",
      "C:\\Users\\baba\\anaconda3\\lib\\site-packages\\IPython\\core\\pylabtools.py:151: UserWarning: Glyph 20170 (\\N{CJK UNIFIED IDEOGRAPH-4ECA}) missing from current font.\n",
      "  fig.canvas.print_figure(bytes_io, **kw)\n",
      "C:\\Users\\baba\\anaconda3\\lib\\site-packages\\IPython\\core\\pylabtools.py:151: UserWarning: Glyph 26376 (\\N{CJK UNIFIED IDEOGRAPH-6708}) missing from current font.\n",
      "  fig.canvas.print_figure(bytes_io, **kw)\n",
      "C:\\Users\\baba\\anaconda3\\lib\\site-packages\\IPython\\core\\pylabtools.py:151: UserWarning: Glyph 12467 (\\N{KATAKANA LETTER KO}) missing from current font.\n",
      "  fig.canvas.print_figure(bytes_io, **kw)\n",
      "C:\\Users\\baba\\anaconda3\\lib\\site-packages\\IPython\\core\\pylabtools.py:151: UserWarning: Glyph 25913 (\\N{CJK UNIFIED IDEOGRAPH-6539}) missing from current font.\n",
      "  fig.canvas.print_figure(bytes_io, **kw)\n",
      "C:\\Users\\baba\\anaconda3\\lib\\site-packages\\IPython\\core\\pylabtools.py:151: UserWarning: Glyph 35013 (\\N{CJK UNIFIED IDEOGRAPH-88C5}) missing from current font.\n",
      "  fig.canvas.print_figure(bytes_io, **kw)\n",
      "C:\\Users\\baba\\anaconda3\\lib\\site-packages\\IPython\\core\\pylabtools.py:151: UserWarning: Glyph 24321 (\\N{CJK UNIFIED IDEOGRAPH-5F01}) missing from current font.\n",
      "  fig.canvas.print_figure(bytes_io, **kw)\n",
      "C:\\Users\\baba\\anaconda3\\lib\\site-packages\\IPython\\core\\pylabtools.py:151: UserWarning: Glyph 24403 (\\N{CJK UNIFIED IDEOGRAPH-5F53}) missing from current font.\n",
      "  fig.canvas.print_figure(bytes_io, **kw)\n",
      "C:\\Users\\baba\\anaconda3\\lib\\site-packages\\IPython\\core\\pylabtools.py:151: UserWarning: Glyph 31278 (\\N{CJK UNIFIED IDEOGRAPH-7A2E}) missing from current font.\n",
      "  fig.canvas.print_figure(bytes_io, **kw)\n",
      "C:\\Users\\baba\\anaconda3\\lib\\site-packages\\IPython\\core\\pylabtools.py:151: UserWarning: Glyph 39006 (\\N{CJK UNIFIED IDEOGRAPH-985E}) missing from current font.\n",
      "  fig.canvas.print_figure(bytes_io, **kw)\n",
      "C:\\Users\\baba\\anaconda3\\lib\\site-packages\\IPython\\core\\pylabtools.py:151: UserWarning: Glyph 22679 (\\N{CJK UNIFIED IDEOGRAPH-5897}) missing from current font.\n",
      "  fig.canvas.print_figure(bytes_io, **kw)\n"
     ]
    },
    {
     "data": {
      "image/png": "[encoded data removed]",
      "text/plain": [
       "<Figure size 640x480 with 1 Axes>"
      ]
     },
     "metadata": {},
     "output_type": "display_data"
    }
   ],
   "source": [
    "sns.boxplot('remarks','y', data = train_data)"
   ]
  },
  {
   "cell_type": "markdown",
   "id": "b302705c",
   "metadata": {},
   "source": [
    "### 社内イベントと販売数の関係"
   ]
  },
  {
   "cell_type": "code",
   "execution_count": 111,
   "id": "e09e2d3c",
   "metadata": {},
   "outputs": [
    {
     "name": "stderr",
     "output_type": "stream",
     "text": [
      "C:\\Users\\baba\\anaconda3\\lib\\site-packages\\seaborn\\_decorators.py:36: FutureWarning: Pass the following variables as keyword args: x, y. From version 0.12, the only valid positional argument will be `data`, and passing other arguments without an explicit keyword will result in an error or misinterpretation.\n",
      "  warnings.warn(\n",
      "C:\\Users\\baba\\anaconda3\\lib\\site-packages\\IPython\\core\\pylabtools.py:151: UserWarning: Glyph 29305 (\\N{CJK UNIFIED IDEOGRAPH-7279}) missing from current font.\n",
      "  fig.canvas.print_figure(bytes_io, **kw)\n",
      "C:\\Users\\baba\\anaconda3\\lib\\site-packages\\IPython\\core\\pylabtools.py:151: UserWarning: Glyph 12395 (\\N{HIRAGANA LETTER NI}) missing from current font.\n",
      "  fig.canvas.print_figure(bytes_io, **kw)\n",
      "C:\\Users\\baba\\anaconda3\\lib\\site-packages\\IPython\\core\\pylabtools.py:151: UserWarning: Glyph 12394 (\\N{HIRAGANA LETTER NA}) missing from current font.\n",
      "  fig.canvas.print_figure(bytes_io, **kw)\n",
      "C:\\Users\\baba\\anaconda3\\lib\\site-packages\\IPython\\core\\pylabtools.py:151: UserWarning: Glyph 12375 (\\N{HIRAGANA LETTER SI}) missing from current font.\n",
      "  fig.canvas.print_figure(bytes_io, **kw)\n",
      "C:\\Users\\baba\\anaconda3\\lib\\site-packages\\IPython\\core\\pylabtools.py:151: UserWarning: Glyph 12510 (\\N{KATAKANA LETTER MA}) missing from current font.\n",
      "  fig.canvas.print_figure(bytes_io, **kw)\n",
      "C:\\Users\\baba\\anaconda3\\lib\\site-packages\\IPython\\core\\pylabtools.py:151: UserWarning: Glyph 12398 (\\N{HIRAGANA LETTER NO}) missing from current font.\n",
      "  fig.canvas.print_figure(bytes_io, **kw)\n",
      "C:\\Users\\baba\\anaconda3\\lib\\site-packages\\IPython\\core\\pylabtools.py:151: UserWarning: Glyph 20250 (\\N{CJK UNIFIED IDEOGRAPH-4F1A}) missing from current font.\n",
      "  fig.canvas.print_figure(bytes_io, **kw)\n",
      "C:\\Users\\baba\\anaconda3\\lib\\site-packages\\IPython\\core\\pylabtools.py:151: UserWarning: Glyph 12461 (\\N{KATAKANA LETTER KI}) missing from current font.\n",
      "  fig.canvas.print_figure(bytes_io, **kw)\n",
      "C:\\Users\\baba\\anaconda3\\lib\\site-packages\\IPython\\core\\pylabtools.py:151: UserWarning: Glyph 12515 (\\N{KATAKANA LETTER SMALL YA}) missing from current font.\n",
      "  fig.canvas.print_figure(bytes_io, **kw)\n",
      "C:\\Users\\baba\\anaconda3\\lib\\site-packages\\IPython\\core\\pylabtools.py:151: UserWarning: Glyph 12522 (\\N{KATAKANA LETTER RI}) missing from current font.\n",
      "  fig.canvas.print_figure(bytes_io, **kw)\n",
      "C:\\Users\\baba\\anaconda3\\lib\\site-packages\\IPython\\core\\pylabtools.py:151: UserWarning: Glyph 12450 (\\N{KATAKANA LETTER A}) missing from current font.\n",
      "  fig.canvas.print_figure(bytes_io, **kw)\n",
      "C:\\Users\\baba\\anaconda3\\lib\\site-packages\\IPython\\core\\pylabtools.py:151: UserWarning: Glyph 12483 (\\N{KATAKANA LETTER SMALL TU}) missing from current font.\n",
      "  fig.canvas.print_figure(bytes_io, **kw)\n",
      "C:\\Users\\baba\\anaconda3\\lib\\site-packages\\IPython\\core\\pylabtools.py:151: UserWarning: Glyph 12503 (\\N{KATAKANA LETTER PU}) missing from current font.\n",
      "  fig.canvas.print_figure(bytes_io, **kw)\n",
      "C:\\Users\\baba\\anaconda3\\lib\\site-packages\\IPython\\core\\pylabtools.py:151: UserWarning: Glyph 25903 (\\N{CJK UNIFIED IDEOGRAPH-652F}) missing from current font.\n",
      "  fig.canvas.print_figure(bytes_io, **kw)\n",
      "C:\\Users\\baba\\anaconda3\\lib\\site-packages\\IPython\\core\\pylabtools.py:151: UserWarning: Glyph 25588 (\\N{CJK UNIFIED IDEOGRAPH-63F4}) missing from current font.\n",
      "  fig.canvas.print_figure(bytes_io, **kw)\n",
      "C:\\Users\\baba\\anaconda3\\lib\\site-packages\\IPython\\core\\pylabtools.py:151: UserWarning: Glyph 12475 (\\N{KATAKANA LETTER SE}) missing from current font.\n",
      "  fig.canvas.print_figure(bytes_io, **kw)\n",
      "C:\\Users\\baba\\anaconda3\\lib\\site-packages\\IPython\\core\\pylabtools.py:151: UserWarning: Glyph 12511 (\\N{KATAKANA LETTER MI}) missing from current font.\n",
      "  fig.canvas.print_figure(bytes_io, **kw)\n",
      "C:\\Users\\baba\\anaconda3\\lib\\site-packages\\IPython\\core\\pylabtools.py:151: UserWarning: Glyph 12490 (\\N{KATAKANA LETTER NA}) missing from current font.\n",
      "  fig.canvas.print_figure(bytes_io, **kw)\n",
      "C:\\Users\\baba\\anaconda3\\lib\\site-packages\\IPython\\core\\pylabtools.py:151: UserWarning: Glyph 12540 (\\N{KATAKANA-HIRAGANA PROLONGED SOUND MARK}) missing from current font.\n",
      "  fig.canvas.print_figure(bytes_io, **kw)\n"
     ]
    },
    {
     "data": {
      "image/png": "[encoded data removed]",
      "text/plain": [
       "<Figure size 640x480 with 1 Axes>"
      ]
     },
     "metadata": {},
     "output_type": "display_data"
    }
   ],
   "source": [
    "sns.boxplot('event','y', data = train_data)\n",
    "plt.show()"
   ]
  },
  {
   "cell_type": "markdown",
   "id": "8465b13c",
   "metadata": {},
   "source": [
    "## データの前処理"
   ]
  },
  {
   "cell_type": "code",
   "execution_count": 444,
   "id": "9a1695ae",
   "metadata": {},
   "outputs": [
    {
     "name": "stdout",
     "output_type": "stream",
     "text": [
      "         dateid      y week  soldout           name   kcal   remarks event  \\\n",
      "0    2014-04-01  125.0  Tue        1          メンチカツ  377.0      特になし  特になし   \n",
      "1    2014-04-02   99.0  Wed        0           肉じゃが  380.0      特になし  特になし   \n",
      "2    2014-04-03  100.0  Thu        1             酢豚  390.0      特になし  特になし   \n",
      "3    2014-04-04   90.0  Fri        1     和風ソースハンバーグ  350.0      特になし  特になし   \n",
      "4    2014-04-07  107.0  Mon        0        青梗菜牛肉炒め  387.0      特になし  特になし   \n",
      "..          ...    ...  ...      ...            ...    ...       ...   ...   \n",
      "332  2015-08-21  137.0  Fri        0         チキンカレー    NaN  お楽しみメニュー  特になし   \n",
      "333  2015-09-01   80.0  Tue        1     自家製手作りトンカツ  423.0    弁当種類増↓  特になし   \n",
      "334  2015-09-02   74.0  Wed        0       チーズメンチカツ  463.0      特になし  特になし   \n",
      "335  2015-09-03   66.0  Thu        1  鶏肉黒胡椒焼きおろしソース  420.0      特になし  特になし   \n",
      "336  2015-09-04   60.0  Fri        1         汁なし担担麺  435.0      特になし  特になし   \n",
      "\n",
      "     payday       weather  precipitation  temperature  kcal_h  \n",
      "0       0.0         晴時々薄曇            0.0         13.9   377.0  \n",
      "1       0.0         薄曇一時晴            0.0         15.2   380.0  \n",
      "2       0.0            大雨           65.0         13.8   390.0  \n",
      "3       0.0  晴時々曇一時雨、雷を伴う           40.0         15.3   350.0  \n",
      "4       0.0        晴後一時薄曇            0.0         11.4   387.0  \n",
      "..      ...           ...            ...          ...     ...  \n",
      "332     0.0         曇後一時雨            2.5         26.0   418.0  \n",
      "333     0.0      雨後曇、雷を伴う           12.0         23.7   423.0  \n",
      "334     0.0        曇時々雨後晴            5.5         26.9   463.0  \n",
      "335     0.0         曇後一時雨            1.5         25.7   420.0  \n",
      "336     0.0    曇後一時雨、雷を伴う           14.0         24.7   435.0  \n",
      "\n",
      "[337 rows x 13 columns]\n"
     ]
    }
   ],
   "source": [
    "print(train_data)"
   ]
  },
  {
   "cell_type": "code",
   "execution_count": 475,
   "id": "b77ca474",
   "metadata": {},
   "outputs": [],
   "source": [
    "X = train_data[:139]"
   ]
  },
  {
   "cell_type": "code",
   "execution_count": 476,
   "id": "c3bd7ae2",
   "metadata": {},
   "outputs": [
    {
     "name": "stdout",
     "output_type": "stream",
     "text": [
      "         dateid      y week  soldout        name   kcal   remarks event  \\\n",
      "0    2014-04-01  125.0  Tue        1       メンチカツ  377.0      特になし  特になし   \n",
      "1    2014-04-02   99.0  Wed        0        肉じゃが  380.0      特になし  特になし   \n",
      "2    2014-04-03  100.0  Thu        1          酢豚  390.0      特になし  特になし   \n",
      "3    2014-04-04   90.0  Fri        1  和風ソースハンバーグ  350.0      特になし  特になし   \n",
      "4    2014-04-07  107.0  Mon        0     青梗菜牛肉炒め  387.0      特になし  特になし   \n",
      "..          ...    ...  ...      ...         ...    ...       ...   ...   \n",
      "134  2014-10-20   56.0  Mon        1         豚柳川  426.0      特になし  特になし   \n",
      "135  2014-10-21   63.0  Tue        0     ポーク生姜焼き  410.0      特になし  特になし   \n",
      "136  2014-10-22   66.0  Wed        1        麻婆豆腐  415.0      特になし  特になし   \n",
      "137  2014-10-23   46.0  Thu        1   ビーフストロガノフ  428.0      特になし  特になし   \n",
      "138  2014-10-24   71.0  Fri        0        唐揚げ丼    NaN  お楽しみメニュー  特になし   \n",
      "\n",
      "     payday       weather  precipitation  temperature  kcal_h  \n",
      "0       0.0         晴時々薄曇            0.0         13.9   377.0  \n",
      "1       0.0         薄曇一時晴            0.0         15.2   380.0  \n",
      "2       0.0            大雨           65.0         13.8   390.0  \n",
      "3       0.0  晴時々曇一時雨、雷を伴う           40.0         15.3   350.0  \n",
      "4       0.0        晴後一時薄曇            0.0         11.4   387.0  \n",
      "..      ...           ...            ...          ...     ...  \n",
      "134     0.0        晴後曇一時雨            0.0         19.4   426.0  \n",
      "135     0.0           雨後曇            1.0         19.0   410.0  \n",
      "136     0.0             雨           26.0         16.1   415.0  \n",
      "137     0.0          雨時々曇            5.5         14.3   428.0  \n",
      "138     0.0          晴一時曇            0.0         16.7   428.0  \n",
      "\n",
      "[139 rows x 13 columns]\n"
     ]
    }
   ],
   "source": [
    "print(X)"
   ]
  },
  {
   "cell_type": "code",
   "execution_count": 477,
   "id": "5104d6d2",
   "metadata": {},
   "outputs": [],
   "source": [
    "X = X.drop(['y','kcal','payday'],axis = 1)"
   ]
  },
  {
   "cell_type": "code",
   "execution_count": 478,
   "id": "fdf794dd",
   "metadata": {},
   "outputs": [
    {
     "name": "stdout",
     "output_type": "stream",
     "text": [
      "         dateid week  soldout        name   remarks event       weather  \\\n",
      "0    2014-04-01  Tue        1       メンチカツ      特になし  特になし         晴時々薄曇   \n",
      "1    2014-04-02  Wed        0        肉じゃが      特になし  特になし         薄曇一時晴   \n",
      "2    2014-04-03  Thu        1          酢豚      特になし  特になし            大雨   \n",
      "3    2014-04-04  Fri        1  和風ソースハンバーグ      特になし  特になし  晴時々曇一時雨、雷を伴う   \n",
      "4    2014-04-07  Mon        0     青梗菜牛肉炒め      特になし  特になし        晴後一時薄曇   \n",
      "..          ...  ...      ...         ...       ...   ...           ...   \n",
      "134  2014-10-20  Mon        1         豚柳川      特になし  特になし        晴後曇一時雨   \n",
      "135  2014-10-21  Tue        0     ポーク生姜焼き      特になし  特になし           雨後曇   \n",
      "136  2014-10-22  Wed        1        麻婆豆腐      特になし  特になし             雨   \n",
      "137  2014-10-23  Thu        1   ビーフストロガノフ      特になし  特になし          雨時々曇   \n",
      "138  2014-10-24  Fri        0        唐揚げ丼  お楽しみメニュー  特になし          晴一時曇   \n",
      "\n",
      "     precipitation  temperature  kcal_h  \n",
      "0              0.0         13.9   377.0  \n",
      "1              0.0         15.2   380.0  \n",
      "2             65.0         13.8   390.0  \n",
      "3             40.0         15.3   350.0  \n",
      "4              0.0         11.4   387.0  \n",
      "..             ...          ...     ...  \n",
      "134            0.0         19.4   426.0  \n",
      "135            1.0         19.0   410.0  \n",
      "136           26.0         16.1   415.0  \n",
      "137            5.5         14.3   428.0  \n",
      "138            0.0         16.7   428.0  \n",
      "\n",
      "[139 rows x 10 columns]\n"
     ]
    }
   ],
   "source": [
    "print(X)"
   ]
  },
  {
   "cell_type": "code",
   "execution_count": 479,
   "id": "700dda54",
   "metadata": {},
   "outputs": [],
   "source": [
    "# ダミー変数化(質的データ)\n",
    "X = pd.get_dummies(X)"
   ]
  },
  {
   "cell_type": "code",
   "execution_count": 480,
   "id": "76eaf77e",
   "metadata": {
    "scrolled": true
   },
   "outputs": [
    {
     "name": "stdout",
     "output_type": "stream",
     "text": [
      "     soldout  precipitation  temperature  kcal_h  dateid_2014-04-01  \\\n",
      "0          1            0.0         13.9   377.0                  1   \n",
      "1          0            0.0         15.2   380.0                  0   \n",
      "2          1           65.0         13.8   390.0                  0   \n",
      "3          1           40.0         15.3   350.0                  0   \n",
      "4          0            0.0         11.4   387.0                  0   \n",
      "..       ...            ...          ...     ...                ...   \n",
      "134        1            0.0         19.4   426.0                  0   \n",
      "135        0            1.0         19.0   410.0                  0   \n",
      "136        1           26.0         16.1   415.0                  0   \n",
      "137        1            5.5         14.3   428.0                  0   \n",
      "138        0            0.0         16.7   428.0                  0   \n",
      "\n",
      "     dateid_2014-04-02  dateid_2014-04-03  dateid_2014-04-04  \\\n",
      "0                    0                  0                  0   \n",
      "1                    1                  0                  0   \n",
      "2                    0                  1                  0   \n",
      "3                    0                  0                  1   \n",
      "4                    0                  0                  0   \n",
      "..                 ...                ...                ...   \n",
      "134                  0                  0                  0   \n",
      "135                  0                  0                  0   \n",
      "136                  0                  0                  0   \n",
      "137                  0                  0                  0   \n",
      "138                  0                  0                  0   \n",
      "\n",
      "     dateid_2014-04-07  dateid_2014-04-08  ...  weather_薄曇一時晴  weather_薄曇後晴  \\\n",
      "0                    0                  0  ...              0             0   \n",
      "1                    0                  0  ...              1             0   \n",
      "2                    0                  0  ...              0             0   \n",
      "3                    0                  0  ...              0             0   \n",
      "4                    1                  0  ...              0             0   \n",
      "..                 ...                ...  ...            ...           ...   \n",
      "134                  0                  0  ...              0             0   \n",
      "135                  0                  0  ...              0             0   \n",
      "136                  0                  0  ...              0             0   \n",
      "137                  0                  0  ...              0             0   \n",
      "138                  0                  0  ...              0             0   \n",
      "\n",
      "     weather_薄曇時々晴  weather_雨  weather_雨一時曇  weather_雨後一時曇  weather_雨後時々曇  \\\n",
      "0                0          0             0              0              0   \n",
      "1                0          0             0              0              0   \n",
      "2                0          0             0              0              0   \n",
      "3                0          0             0              0              0   \n",
      "4                0          0             0              0              0   \n",
      "..             ...        ...           ...            ...            ...   \n",
      "134              0          0             0              0              0   \n",
      "135              0          0             0              0              0   \n",
      "136              0          1             0              0              0   \n",
      "137              0          0             0              0              0   \n",
      "138              0          0             0              0              0   \n",
      "\n",
      "     weather_雨後曇  weather_雨後曇一時晴  weather_雨時々曇  \n",
      "0              0               0             0  \n",
      "1              0               0             0  \n",
      "2              0               0             0  \n",
      "3              0               0             0  \n",
      "4              0               0             0  \n",
      "..           ...             ...           ...  \n",
      "134            0               0             0  \n",
      "135            1               0             0  \n",
      "136            0               0             0  \n",
      "137            0               0             1  \n",
      "138            0               0             0  \n",
      "\n",
      "[139 rows x 311 columns]\n"
     ]
    }
   ],
   "source": [
    "print(X)"
   ]
  },
  {
   "cell_type": "code",
   "execution_count": 424,
   "id": "66a5402b",
   "metadata": {},
   "outputs": [
    {
     "name": "stdout",
     "output_type": "stream",
     "text": [
      "0      125.0\n",
      "1       99.0\n",
      "2      100.0\n",
      "3       90.0\n",
      "4      107.0\n",
      "       ...  \n",
      "332    137.0\n",
      "333     80.0\n",
      "334     74.0\n",
      "335     66.0\n",
      "336     60.0\n",
      "Name: y, Length: 337, dtype: float64\n"
     ]
    }
   ],
   "source": [
    "y = train_data['y']\n",
    "print(y)"
   ]
  },
  {
   "cell_type": "code",
   "execution_count": 425,
   "id": "fc00071a",
   "metadata": {},
   "outputs": [],
   "source": [
    "X = X.values\n",
    "y = y.values"
   ]
  },
  {
   "cell_type": "code",
   "execution_count": 426,
   "id": "36a8463e",
   "metadata": {},
   "outputs": [],
   "source": [
    "from sklearn.model_selection import train_test_split"
   ]
  },
  {
   "cell_type": "code",
   "execution_count": 427,
   "id": "0944fc6d",
   "metadata": {},
   "outputs": [],
   "source": [
    "X_train, X_test, y_train, y_test = train_test_split(X, y, test_size = 0.2,random_state=43)"
   ]
  },
  {
   "cell_type": "code",
   "execution_count": 428,
   "id": "8f95e339",
   "metadata": {},
   "outputs": [],
   "source": [
    "from sklearn.linear_model import LinearRegression as LR"
   ]
  },
  {
   "cell_type": "code",
   "execution_count": 429,
   "id": "0865390f",
   "metadata": {},
   "outputs": [
    {
     "data": {
      "text/html": [
       "<style>#sk-container-id-22 {color: black;background-color: white;}#sk-container-id-22 pre{padding: 0;}#sk-container-id-22 div.sk-toggleable {background-color: white;}#sk-container-id-22 label.sk-toggleable__label {cursor: pointer;display: block;width: 100%;margin-bottom: 0;padding: 0.3em;box-sizing: border-box;text-align: center;}#sk-container-id-22 label.sk-toggleable__label-arrow:before {content: \"▸\";float: left;margin-right: 0.25em;color: #696969;}#sk-container-id-22 label.sk-toggleable__label-arrow:hover:before {color: black;}#sk-container-id-22 div.sk-estimator:hover label.sk-toggleable__label-arrow:before {color: black;}#sk-container-id-22 div.sk-toggleable__content {max-height: 0;max-width: 0;overflow: hidden;text-align: left;background-color: #f0f8ff;}#sk-container-id-22 div.sk-toggleable__content pre {margin: 0.2em;color: black;border-radius: 0.25em;background-color: #f0f8ff;}#sk-container-id-22 input.sk-toggleable__control:checked~div.sk-toggleable__content {max-height: 200px;max-width: 100%;overflow: auto;}#sk-container-id-22 input.sk-toggleable__control:checked~label.sk-toggleable__label-arrow:before {content: \"▾\";}#sk-container-id-22 div.sk-estimator input.sk-toggleable__control:checked~label.sk-toggleable__label {background-color: #d4ebff;}#sk-container-id-22 div.sk-label input.sk-toggleable__control:checked~label.sk-toggleable__label {background-color: #d4ebff;}#sk-container-id-22 input.sk-hidden--visually {border: 0;clip: rect(1px 1px 1px 1px);clip: rect(1px, 1px, 1px, 1px);height: 1px;margin: -1px;overflow: hidden;padding: 0;position: absolute;width: 1px;}#sk-container-id-22 div.sk-estimator {font-family: monospace;background-color: #f0f8ff;border: 1px dotted black;border-radius: 0.25em;box-sizing: border-box;margin-bottom: 0.5em;}#sk-container-id-22 div.sk-estimator:hover {background-color: #d4ebff;}#sk-container-id-22 div.sk-parallel-item::after {content: \"\";width: 100%;border-bottom: 1px solid gray;flex-grow: 1;}#sk-container-id-22 div.sk-label:hover label.sk-toggleable__label {background-color: #d4ebff;}#sk-container-id-22 div.sk-serial::before {content: \"\";position: absolute;border-left: 1px solid gray;box-sizing: border-box;top: 0;bottom: 0;left: 50%;z-index: 0;}#sk-container-id-22 div.sk-serial {display: flex;flex-direction: column;align-items: center;background-color: white;padding-right: 0.2em;padding-left: 0.2em;position: relative;}#sk-container-id-22 div.sk-item {position: relative;z-index: 1;}#sk-container-id-22 div.sk-parallel {display: flex;align-items: stretch;justify-content: center;background-color: white;position: relative;}#sk-container-id-22 div.sk-item::before, #sk-container-id-22 div.sk-parallel-item::before {content: \"\";position: absolute;border-left: 1px solid gray;box-sizing: border-box;top: 0;bottom: 0;left: 50%;z-index: -1;}#sk-container-id-22 div.sk-parallel-item {display: flex;flex-direction: column;z-index: 1;position: relative;background-color: white;}#sk-container-id-22 div.sk-parallel-item:first-child::after {align-self: flex-end;width: 50%;}#sk-container-id-22 div.sk-parallel-item:last-child::after {align-self: flex-start;width: 50%;}#sk-container-id-22 div.sk-parallel-item:only-child::after {width: 0;}#sk-container-id-22 div.sk-dashed-wrapped {border: 1px dashed gray;margin: 0 0.4em 0.5em 0.4em;box-sizing: border-box;padding-bottom: 0.4em;background-color: white;}#sk-container-id-22 div.sk-label label {font-family: monospace;font-weight: bold;display: inline-block;line-height: 1.2em;}#sk-container-id-22 div.sk-label-container {text-align: center;}#sk-container-id-22 div.sk-container {/* jupyter's `normalize.less` sets `[hidden] { display: none; }` but bootstrap.min.css set `[hidden] { display: none !important; }` so we also need the `!important` here to be able to override the default hidden behavior on the sphinx rendered scikit-learn.org. See: https://github.com/scikit-learn/scikit-learn/issues/21755 */display: inline-block !important;position: relative;}#sk-container-id-22 div.sk-text-repr-fallback {display: none;}</style><div id=\"sk-container-id-22\" class=\"sk-top-container\"><div class=\"sk-text-repr-fallback\"><pre>LinearRegression()</pre><b>In a Jupyter environment, please rerun this cell to show the HTML representation or trust the notebook. <br />On GitHub, the HTML representation is unable to render, please try loading this page with nbviewer.org.</b></div><div class=\"sk-container\" hidden><div class=\"sk-item\"><div class=\"sk-estimator sk-toggleable\"><input class=\"sk-toggleable__control sk-hidden--visually\" id=\"sk-estimator-id-22\" type=\"checkbox\" checked><label for=\"sk-estimator-id-22\" class=\"sk-toggleable__label sk-toggleable__label-arrow\">LinearRegression</label><div class=\"sk-toggleable__content\"><pre>LinearRegression()</pre></div></div></div></div></div>"
      ],
      "text/plain": [
       "LinearRegression()"
      ]
     },
     "execution_count": 429,
     "metadata": {},
     "output_type": "execute_result"
    }
   ],
   "source": [
    "model = LR()\n",
    "model.fit(X_train,y_train)"
   ]
  },
  {
   "cell_type": "code",
   "execution_count": 430,
   "id": "d507b4f4",
   "metadata": {},
   "outputs": [],
   "source": [
    "from sklearn.metrics import mean_squared_error as MSE"
   ]
  },
  {
   "cell_type": "code",
   "execution_count": 431,
   "id": "7ca5eff0",
   "metadata": {},
   "outputs": [
    {
     "name": "stdout",
     "output_type": "stream",
     "text": [
      "4.684516495619741\n",
      "254032053976.7312\n"
     ]
    }
   ],
   "source": [
    "#予測値の算出\n",
    "y_pred_train = model.predict(X_train)\n",
    "y_pred_test = model.predict(X_test)\n",
    "#MSEの算出\n",
    "mse_train = MSE(y_train, y_pred_train)\n",
    "mse_test = MSE(y_test, y_pred_test)\n",
    "#RMSEの算出\n",
    "rmse_train = np.sqrt(mse_train)\n",
    "rmse_test = np.sqrt(mse_test)\n",
    "#RMSEの表示\n",
    "print(rmse_train)\n",
    "print(rmse_test)"
   ]
  },
  {
   "cell_type": "code",
   "execution_count": 391,
   "id": "12718022",
   "metadata": {},
   "outputs": [],
   "source": [
    "from sklearn.ensemble import RandomForestRegressor"
   ]
  },
  {
   "cell_type": "code",
   "execution_count": 392,
   "id": "8baf7505",
   "metadata": {},
   "outputs": [],
   "source": [
    "params = {\"n_estimators\": [10, 50,100, 300, 500,1000], \n",
    "          \"max_depth\": [3,5,10,15, 20,None], \n",
    "          \"max_features\": [\"sqrt\", \"log2\",None]}"
   ]
  },
  {
   "cell_type": "code",
   "execution_count": 393,
   "id": "1f4086a8",
   "metadata": {},
   "outputs": [],
   "source": [
    "from sklearn.model_selection import GridSearchCV"
   ]
  },
  {
   "cell_type": "code",
   "execution_count": 394,
   "id": "1dc4e7a8",
   "metadata": {},
   "outputs": [],
   "source": [
    "model2 = RandomForestRegressor(random_state = 30)"
   ]
  },
  {
   "cell_type": "code",
   "execution_count": 395,
   "id": "3762aefd",
   "metadata": {},
   "outputs": [],
   "source": [
    "model3 = GridSearchCV(model2, params,scoring=\"neg_mean_squared_error\")"
   ]
  },
  {
   "cell_type": "code",
   "execution_count": 396,
   "id": "88942861",
   "metadata": {},
   "outputs": [
    {
     "name": "stdout",
     "output_type": "stream",
     "text": [
      "{'max_depth': 15, 'max_features': None, 'n_estimators': 50}\n"
     ]
    }
   ],
   "source": [
    "model3.fit(X_train[:144],y_train[:144])\n",
    "print(model3.best_params_)"
   ]
  },
  {
   "cell_type": "code",
   "execution_count": 397,
   "id": "ec5428a6",
   "metadata": {},
   "outputs": [],
   "source": [
    "forest = model3.best_estimator_"
   ]
  },
  {
   "cell_type": "code",
   "execution_count": 398,
   "id": "b56f06b9",
   "metadata": {},
   "outputs": [
    {
     "name": "stdout",
     "output_type": "stream",
     "text": [
      "11.212415300377447\n",
      "14.176209589113345\n"
     ]
    }
   ],
   "source": [
    "#予測値の算出\n",
    "y_pred_train = forest.predict(X_train)\n",
    "y_pred_test = forest.predict(X_test)\n",
    "#MSEの算出\n",
    "mse_train = MSE(y_train, y_pred_train)\n",
    "mse_test = MSE(y_test, y_pred_test)\n",
    "#RMSEの算出\n",
    "rmse_train = np.sqrt(mse_train)\n",
    "rmse_test = np.sqrt(mse_test)\n",
    "#RMSEの表示\n",
    "print(rmse_train)\n",
    "print(rmse_test)"
   ]
  },
  {
   "cell_type": "markdown",
   "id": "e37d3c18",
   "metadata": {},
   "source": [
    "#### 評価データの読み込み"
   ]
  },
  {
   "cell_type": "code",
   "execution_count": 325,
   "id": "697c17ee",
   "metadata": {},
   "outputs": [
    {
     "name": "stdout",
     "output_type": "stream",
     "text": [
      "         dateid week  soldout            name   kcal   remarks event  payday  \\\n",
      "0    2015-09-07  Mon        0       豚肉の柚子胡椒炒め  428.0       NaN   NaN     NaN   \n",
      "1    2015-09-08  Tue        0         鶏肉の塩麹焼き  420.0       NaN   NaN     NaN   \n",
      "2    2015-09-09  Wed        0       サバの味醂干し焼き  456.0       NaN   NaN     NaN   \n",
      "3    2015-09-10  Thu        1            塩唐揚げ  439.0       NaN   NaN     1.0   \n",
      "4    2015-09-11  Fri        0  カレーライス(ポークカレー)    NaN  お楽しみメニュー   NaN     NaN   \n",
      "..          ...  ...      ...             ...    ...       ...   ...     ...   \n",
      "139  2016-05-19  Thu        1        豚肉ザーサイ豆腐  490.0       NaN   NaN     NaN   \n",
      "140  2016-05-20  Fri        1          キーマカレー  485.0       NaN  ママの会     NaN   \n",
      "141  2016-05-23  Mon        0         鶏肉の照り焼き  505.0       NaN   NaN     NaN   \n",
      "142  2016-05-24  Tue        1         海鮮チリソース  485.0       NaN   NaN     NaN   \n",
      "143  2016-05-25  Wed        0     ぶり照り焼き・根菜添え  508.0       NaN   NaN     NaN   \n",
      "\n",
      "     weather  precipitation  temperature  \n",
      "0       雨時々曇           19.0         23.0  \n",
      "1         大雨           65.5         20.0  \n",
      "2    大雨、雷を伴う          156.5         22.4  \n",
      "3       雨一時曇           50.0         21.8  \n",
      "4       晴一時曇            0.0         23.9  \n",
      "..       ...            ...          ...  \n",
      "139     晴後薄曇            0.0         19.3  \n",
      "140        曇            0.0         17.2  \n",
      "141   薄曇後時々晴            0.0         23.5  \n",
      "142    薄曇一時晴            0.0         23.4  \n",
      "143        曇            0.0         22.2  \n",
      "\n",
      "[144 rows x 11 columns]\n"
     ]
    }
   ],
   "source": [
    "test_data = pd.read_csv(test_path)\n",
    "print(test_data)"
   ]
  },
  {
   "cell_type": "code",
   "execution_count": 326,
   "id": "ad1e55b3",
   "metadata": {},
   "outputs": [
    {
     "name": "stdout",
     "output_type": "stream",
     "text": [
      "<class 'pandas.core.frame.DataFrame'>\n",
      "RangeIndex: 144 entries, 0 to 143\n",
      "Data columns (total 11 columns):\n",
      " #   Column         Non-Null Count  Dtype  \n",
      "---  ------         --------------  -----  \n",
      " 0   dateid         144 non-null    object \n",
      " 1   week           144 non-null    object \n",
      " 2   soldout        144 non-null    int64  \n",
      " 3   name           144 non-null    object \n",
      " 4   kcal           128 non-null    float64\n",
      " 5   remarks        16 non-null     object \n",
      " 6   event          14 non-null     object \n",
      " 7   payday         8 non-null      float64\n",
      " 8   weather        144 non-null    object \n",
      " 9   precipitation  144 non-null    float64\n",
      " 10  temperature    144 non-null    float64\n",
      "dtypes: float64(4), int64(1), object(6)\n",
      "memory usage: 12.5+ KB\n",
      "None\n"
     ]
    }
   ],
   "source": [
    "print(test_data.info())"
   ]
  },
  {
   "cell_type": "code",
   "execution_count": 327,
   "id": "a65d6cb8",
   "metadata": {},
   "outputs": [],
   "source": [
    "test_data['kcal_h'] = test_data['kcal'].fillna(method = 'ffill')\n",
    "test_data = test_data.drop(['kcal','payday'],axis = 1)"
   ]
  },
  {
   "cell_type": "code",
   "execution_count": 330,
   "id": "b5e9c83f",
   "metadata": {},
   "outputs": [
    {
     "name": "stdout",
     "output_type": "stream",
     "text": [
      "<class 'pandas.core.frame.DataFrame'>\n",
      "RangeIndex: 144 entries, 0 to 143\n",
      "Data columns (total 10 columns):\n",
      " #   Column         Non-Null Count  Dtype  \n",
      "---  ------         --------------  -----  \n",
      " 0   dateid         144 non-null    object \n",
      " 1   week           144 non-null    object \n",
      " 2   soldout        144 non-null    int64  \n",
      " 3   name           144 non-null    object \n",
      " 4   remarks        144 non-null    object \n",
      " 5   event          144 non-null    object \n",
      " 6   weather        144 non-null    object \n",
      " 7   precipitation  144 non-null    float64\n",
      " 8   temperature    144 non-null    float64\n",
      " 9   kcal_h         144 non-null    float64\n",
      "dtypes: float64(3), int64(1), object(6)\n",
      "memory usage: 11.4+ KB\n",
      "None\n"
     ]
    }
   ],
   "source": [
    "print(test_data.info())"
   ]
  },
  {
   "cell_type": "code",
   "execution_count": 329,
   "id": "3f7dd34f",
   "metadata": {},
   "outputs": [],
   "source": [
    "test_data = test_data.fillna({'remarks':'特になし', 'event' : '特になし'})"
   ]
  },
  {
   "cell_type": "code",
   "execution_count": 331,
   "id": "b2f3fee4",
   "metadata": {},
   "outputs": [],
   "source": [
    "# ダミー変数化(質的データ)\n",
    "test_data = pd.get_dummies(test_data)"
   ]
  },
  {
   "cell_type": "code",
   "execution_count": 418,
   "id": "965dd109",
   "metadata": {},
   "outputs": [
    {
     "name": "stdout",
     "output_type": "stream",
     "text": [
      "Index(['dateid', 'week', 'soldout', 'name', 'kcal', 'remarks', 'event',\n",
      "       'payday', 'weather', 'precipitation', 'temperature'],\n",
      "      dtype='object')\n"
     ]
    }
   ],
   "source": [
    "print(test_data.columns)"
   ]
  },
  {
   "cell_type": "code",
   "execution_count": 332,
   "id": "92853943",
   "metadata": {},
   "outputs": [],
   "source": [
    "test = test_data.values"
   ]
  }
 ],
 "metadata": {
  "kernelspec": {
   "display_name": "Python 3 (ipykernel)",
   "language": "python",
   "name": "python3"
  },
  "language_info": {
   "codemirror_mode": {
    "name": "ipython",
    "version": 3
   },
   "file_extension": ".py",
   "mimetype": "text/x-python",
   "name": "python",
   "nbconvert_exporter": "python",
   "pygments_lexer": "ipython3",
   "version": "3.9.13"
  }
 },
 "nbformat": 4,
 "nbformat_minor": 5
}
