{
 "cells": [
  {
   "cell_type": "code",
   "execution_count": 1,
   "id": "d9711518",
   "metadata": {},
   "outputs": [],
   "source": [
    "import pandas as pd\n",
    "import numpy as np\n",
    "import matplotlib.pyplot as plt\n",
    "from sklearn.preprocessing import LabelEncoder\n",
    "from sklearn.linear_model import LinearRegression as LR\n",
    "from sklearn.metrics import mean_squared_error as MSE\n",
    "from sklearn.ensemble import RandomForestRegressor\n",
    "from sklearn.model_selection import GridSearchCV"
   ]
  },
  {
   "cell_type": "code",
   "execution_count": 2,
   "id": "272c0446",
   "metadata": {},
   "outputs": [],
   "source": [
    "from sklearn.model_selection import train_test_split"
   ]
  },
  {
   "cell_type": "code",
   "execution_count": 34,
   "id": "f9a33592",
   "metadata": {},
   "outputs": [],
   "source": [
    "import seaborn as sns; sns.set()\n",
    "import lightgbm as lgb"
   ]
  },
  {
   "cell_type": "code",
   "execution_count": 35,
   "id": "5720fbfb",
   "metadata": {},
   "outputs": [],
   "source": [
    "###各データのパス###\n",
    "# 訓練用データ\n",
    "train_path = './competition/' + 'train' + '.csv'\n",
    "# テストデータ\n",
    "test_path = './competition/' + 'test' + '.csv'\n",
    "# 提出用データ\n",
    "submit_path = './competition/' + 'submit_sample' + '.csv'"
   ]
  },
  {
   "cell_type": "code",
   "execution_count": 36,
   "id": "044ec00c",
   "metadata": {},
   "outputs": [],
   "source": [
    "le = LabelEncoder()"
   ]
  },
  {
   "cell_type": "code",
   "execution_count": 37,
   "id": "ccea7e44",
   "metadata": {},
   "outputs": [],
   "source": [
    "# 訓練用データの読み込み\n",
    "train_df = pd.read_csv(train_path)"
   ]
  },
  {
   "cell_type": "code",
   "execution_count": 38,
   "id": "1649233d",
   "metadata": {},
   "outputs": [
    {
     "name": "stdout",
     "output_type": "stream",
     "text": [
      "<class 'pandas.core.frame.DataFrame'>\n",
      "RangeIndex: 337 entries, 0 to 336\n",
      "Data columns (total 12 columns):\n",
      " #   Column         Non-Null Count  Dtype  \n",
      "---  ------         --------------  -----  \n",
      " 0   dateid         337 non-null    object \n",
      " 1   y              337 non-null    float64\n",
      " 2   week           337 non-null    object \n",
      " 3   soldout        337 non-null    int64  \n",
      " 4   name           337 non-null    object \n",
      " 5   kcal           304 non-null    float64\n",
      " 6   remarks        49 non-null     object \n",
      " 7   event          28 non-null     object \n",
      " 8   payday         17 non-null     float64\n",
      " 9   weather        337 non-null    object \n",
      " 10  precipitation  337 non-null    float64\n",
      " 11  temperature    337 non-null    float64\n",
      "dtypes: float64(5), int64(1), object(6)\n",
      "memory usage: 31.7+ KB\n"
     ]
    }
   ],
   "source": [
    "train_df.info()"
   ]
  },
  {
   "cell_type": "code",
   "execution_count": 39,
   "id": "7ac6cfcc",
   "metadata": {},
   "outputs": [],
   "source": [
    "### 特徴量重要度を棒グラフでプロットする関数\n",
    "def plot_feature_importance(df):\n",
    "    n_features = len(df)\n",
    "    df_plot = df.sort_values('importance')\n",
    "    f_importance_plot = df_plot['importance'].values\n",
    "    plt.barth(range(n_features), f_importance_plot, align='center')\n",
    "    cols_plot = df_plot['feature'].values\n",
    "    plt.yticks(np.arange(n_features), cols_plot)\n",
    "    plt.xlabel('Feature importance')\n",
    "    plt.ylabel('Feature')"
   ]
  },
  {
   "cell_type": "code",
   "execution_count": 40,
   "id": "845daf50",
   "metadata": {},
   "outputs": [],
   "source": [
    "train_df = train_df.fillna({'remarks':'特になし', 'event' : '特になし'})"
   ]
  },
  {
   "cell_type": "code",
   "execution_count": 41,
   "id": "12b6c491",
   "metadata": {},
   "outputs": [],
   "source": [
    "## 天気をカテゴリ変数とする\n",
    "le = le.fit(train_df['weather'])\n",
    "train_df['weather'] = le.transform(train_df['weather'])\n",
    "train_df['weather'] = train_df['weather'].astype('category')"
   ]
  },
  {
   "cell_type": "code",
   "execution_count": 42,
   "id": "6d09576a",
   "metadata": {},
   "outputs": [
    {
     "data": {
      "text/plain": [
       "pandas.core.series.Series"
      ]
     },
     "execution_count": 42,
     "metadata": {},
     "output_type": "execute_result"
    }
   ],
   "source": [
    "type(train_df['weather'])"
   ]
  },
  {
   "cell_type": "code",
   "execution_count": 43,
   "id": "e1cf636e",
   "metadata": {},
   "outputs": [],
   "source": [
    "## メインメニュー名をカテゴリ化\n",
    "le_2 = le.fit(train_df['name'])\n",
    "train_df['name'] = le_2.transform(train_df['name'])\n",
    "train_df['name'] = train_df['name'].astype('category')"
   ]
  },
  {
   "cell_type": "code",
   "execution_count": 44,
   "id": "3c0fbcac",
   "metadata": {},
   "outputs": [],
   "source": [
    "train_df.loc[train_df.remarks != '特になし','remarks']= 1\n",
    "train_df.loc[train_df.remarks == '特になし','remarks']= 0"
   ]
  },
  {
   "cell_type": "code",
   "execution_count": 45,
   "id": "b557e4cb",
   "metadata": {},
   "outputs": [],
   "source": [
    "train_df['remarks'] = train_df['remarks'].astype('category')"
   ]
  },
  {
   "cell_type": "code",
   "execution_count": 46,
   "id": "f1921ff9",
   "metadata": {},
   "outputs": [
    {
     "name": "stdout",
     "output_type": "stream",
     "text": [
      "<class 'pandas.core.frame.DataFrame'>\n",
      "RangeIndex: 337 entries, 0 to 336\n",
      "Data columns (total 12 columns):\n",
      " #   Column         Non-Null Count  Dtype   \n",
      "---  ------         --------------  -----   \n",
      " 0   dateid         337 non-null    object  \n",
      " 1   y              337 non-null    float64 \n",
      " 2   week           337 non-null    object  \n",
      " 3   soldout        337 non-null    int64   \n",
      " 4   name           337 non-null    category\n",
      " 5   kcal           304 non-null    float64 \n",
      " 6   remarks        337 non-null    category\n",
      " 7   event          337 non-null    object  \n",
      " 8   payday         17 non-null     float64 \n",
      " 9   weather        337 non-null    category\n",
      " 10  precipitation  337 non-null    float64 \n",
      " 11  temperature    337 non-null    float64 \n",
      "dtypes: category(3), float64(5), int64(1), object(3)\n",
      "memory usage: 37.6+ KB\n"
     ]
    }
   ],
   "source": [
    "train_df.info()"
   ]
  },
  {
   "cell_type": "code",
   "execution_count": 47,
   "id": "b407e9b4",
   "metadata": {},
   "outputs": [],
   "source": [
    "X = train_df.drop(['dateid','y'],axis = 1)\n",
    "## 週データのダミー変数化(ワンホット)\n",
    "X = pd.get_dummies(X,columns=['week'])\n",
    "##13時開始お弁当持ち込み可の社内イベント'のダミー変数化(ワンホット)\n",
    "X = pd.get_dummies(X,columns=['event'])\n",
    "#X_feature = X"
   ]
  },
  {
   "cell_type": "code",
   "execution_count": 48,
   "id": "2aff48fc",
   "metadata": {},
   "outputs": [
    {
     "name": "stdout",
     "output_type": "stream",
     "text": [
      "<class 'pandas.core.frame.DataFrame'>\n",
      "RangeIndex: 337 entries, 0 to 336\n",
      "Data columns (total 16 columns):\n",
      " #   Column               Non-Null Count  Dtype   \n",
      "---  ------               --------------  -----   \n",
      " 0   soldout              337 non-null    int64   \n",
      " 1   name                 337 non-null    category\n",
      " 2   kcal                 304 non-null    float64 \n",
      " 3   remarks              337 non-null    category\n",
      " 4   payday               17 non-null     float64 \n",
      " 5   weather              337 non-null    category\n",
      " 6   precipitation        337 non-null    float64 \n",
      " 7   temperature          337 non-null    float64 \n",
      " 8   week_Fri             337 non-null    uint8   \n",
      " 9   week_Mon             337 non-null    uint8   \n",
      " 10  week_Thu             337 non-null    uint8   \n",
      " 11  week_Tue             337 non-null    uint8   \n",
      " 12  week_Wed             337 non-null    uint8   \n",
      " 13  event_キャリアアップ支援セミナー  337 non-null    uint8   \n",
      " 14  event_ママの会           337 non-null    uint8   \n",
      " 15  event_特になし           337 non-null    uint8   \n",
      "dtypes: category(3), float64(4), int64(1), uint8(8)\n",
      "memory usage: 29.7 KB\n"
     ]
    }
   ],
   "source": [
    "X_feature.info()"
   ]
  },
  {
   "cell_type": "code",
   "execution_count": 49,
   "id": "0e40f341",
   "metadata": {},
   "outputs": [],
   "source": [
    "#X = X_feature.values\n",
    "#y = train_df['y'].values"
   ]
  },
  {
   "cell_type": "code",
   "execution_count": 50,
   "id": "b3df8bb0",
   "metadata": {},
   "outputs": [],
   "source": [
    "## 時系列順になるようにtrain_test_split →　学習データとテストデータに分割\n",
    "X_train,X_test, y_train,y_test = train_test_split(X, y, test_size=0.2, shuffle=False,random_state = 1030)"
   ]
  },
  {
   "cell_type": "markdown",
   "id": "c17c8938",
   "metadata": {},
   "source": [
    "### 学習データを用いて時系列分割検証"
   ]
  },
  {
   "cell_type": "code",
   "execution_count": 52,
   "id": "773b677a",
   "metadata": {},
   "outputs": [],
   "source": [
    "## 学習用データでの予測値を保存するデータフレームの初期化\n",
    "df_train_preds = pd.DataFrame({'y_train': y_train})"
   ]
  },
  {
   "cell_type": "code",
   "execution_count": 53,
   "id": "60c0b796",
   "metadata": {},
   "outputs": [],
   "source": [
    "## 検証用データでの予測値を保存するデータフレームの初期化\n",
    "df_eval_preds = pd.DataFrame({'y_eval' : [],\n",
    "                              'y_eval_pred' : [] })"
   ]
  },
  {
   "cell_type": "code",
   "execution_count": 54,
   "id": "7566938f",
   "metadata": {},
   "outputs": [],
   "source": [
    "df_test_preds = pd.DataFrame({'y_test': y_test})"
   ]
  },
  {
   "cell_type": "code",
   "execution_count": 55,
   "id": "a4cc308e",
   "metadata": {},
   "outputs": [],
   "source": [
    "df_test_preds.reset_index(inplace = True, drop=True)"
   ]
  },
  {
   "cell_type": "code",
   "execution_count": 56,
   "id": "aafe3454",
   "metadata": {},
   "outputs": [],
   "source": [
    "## RMSEを保存するデータフレームの初期化\n",
    "df_RMSE = pd.DataFrame({'train':[], 'eval': [], 'test':[]})"
   ]
  },
  {
   "cell_type": "code",
   "execution_count": 57,
   "id": "eeb5cf4f",
   "metadata": {},
   "outputs": [],
   "source": [
    "### ラウンド数の初期化\n",
    "round_no = 0"
   ]
  },
  {
   "cell_type": "code",
   "execution_count": 58,
   "id": "01aae058",
   "metadata": {},
   "outputs": [],
   "source": [
    "## 学習データの数だけの数列\n",
    "row_no_list = list(range(len(y_train)))"
   ]
  },
  {
   "cell_type": "code",
   "execution_count": 59,
   "id": "b9869c63",
   "metadata": {},
   "outputs": [],
   "source": [
    "from sklearn.model_selection import TimeSeriesSplit"
   ]
  },
  {
   "cell_type": "code",
   "execution_count": 60,
   "id": "849d5b53",
   "metadata": {},
   "outputs": [],
   "source": [
    "tscv = TimeSeriesSplit(n_splits = 5)"
   ]
  },
  {
   "cell_type": "code",
   "execution_count": 69,
   "id": "7e89e756",
   "metadata": {},
   "outputs": [
    {
     "name": "stdout",
     "output_type": "stream",
     "text": [
      "TRAIN: [ 0  1  2  3  4  5  6  7  8  9 10 11 12 13 14 15 16 17 18 19 20 21 22 23\n",
      " 24 25 26 27 28 29 30 31 32 33 34 35 36 37 38 39 40 41 42 43 44 45 46 47\n",
      " 48 49 50 51 52 53 54 55 56] TEST: [ 57  58  59  60  61  62  63  64  65  66  67  68  69  70  71  72  73  74\n",
      "  75  76  77  78  79  80  81  82  83  84  85  86  87  88  89  90  91  92\n",
      "  93  94  95  96  97  98  99 100 101 102 103 104 105 106 107 108 109 110\n",
      " 111 112]\n",
      "TRAIN: [  0   1   2   3   4   5   6   7   8   9  10  11  12  13  14  15  16  17\n",
      "  18  19  20  21  22  23  24  25  26  27  28  29  30  31  32  33  34  35\n",
      "  36  37  38  39  40  41  42  43  44  45  46  47  48  49  50  51  52  53\n",
      "  54  55  56  57  58  59  60  61  62  63  64  65  66  67  68  69  70  71\n",
      "  72  73  74  75  76  77  78  79  80  81  82  83  84  85  86  87  88  89\n",
      "  90  91  92  93  94  95  96  97  98  99 100 101 102 103 104 105 106 107\n",
      " 108 109 110 111 112] TEST: [113 114 115 116 117 118 119 120 121 122 123 124 125 126 127 128 129 130\n",
      " 131 132 133 134 135 136 137 138 139 140 141 142 143 144 145 146 147 148\n",
      " 149 150 151 152 153 154 155 156 157 158 159 160 161 162 163 164 165 166\n",
      " 167 168]\n",
      "TRAIN: [  0   1   2   3   4   5   6   7   8   9  10  11  12  13  14  15  16  17\n",
      "  18  19  20  21  22  23  24  25  26  27  28  29  30  31  32  33  34  35\n",
      "  36  37  38  39  40  41  42  43  44  45  46  47  48  49  50  51  52  53\n",
      "  54  55  56  57  58  59  60  61  62  63  64  65  66  67  68  69  70  71\n",
      "  72  73  74  75  76  77  78  79  80  81  82  83  84  85  86  87  88  89\n",
      "  90  91  92  93  94  95  96  97  98  99 100 101 102 103 104 105 106 107\n",
      " 108 109 110 111 112 113 114 115 116 117 118 119 120 121 122 123 124 125\n",
      " 126 127 128 129 130 131 132 133 134 135 136 137 138 139 140 141 142 143\n",
      " 144 145 146 147 148 149 150 151 152 153 154 155 156 157 158 159 160 161\n",
      " 162 163 164 165 166 167 168] TEST: [169 170 171 172 173 174 175 176 177 178 179 180 181 182 183 184 185 186\n",
      " 187 188 189 190 191 192 193 194 195 196 197 198 199 200 201 202 203 204\n",
      " 205 206 207 208 209 210 211 212 213 214 215 216 217 218 219 220 221 222\n",
      " 223 224]\n",
      "TRAIN: [  0   1   2   3   4   5   6   7   8   9  10  11  12  13  14  15  16  17\n",
      "  18  19  20  21  22  23  24  25  26  27  28  29  30  31  32  33  34  35\n",
      "  36  37  38  39  40  41  42  43  44  45  46  47  48  49  50  51  52  53\n",
      "  54  55  56  57  58  59  60  61  62  63  64  65  66  67  68  69  70  71\n",
      "  72  73  74  75  76  77  78  79  80  81  82  83  84  85  86  87  88  89\n",
      "  90  91  92  93  94  95  96  97  98  99 100 101 102 103 104 105 106 107\n",
      " 108 109 110 111 112 113 114 115 116 117 118 119 120 121 122 123 124 125\n",
      " 126 127 128 129 130 131 132 133 134 135 136 137 138 139 140 141 142 143\n",
      " 144 145 146 147 148 149 150 151 152 153 154 155 156 157 158 159 160 161\n",
      " 162 163 164 165 166 167 168 169 170 171 172 173 174 175 176 177 178 179\n",
      " 180 181 182 183 184 185 186 187 188 189 190 191 192 193 194 195 196 197\n",
      " 198 199 200 201 202 203 204 205 206 207 208 209 210 211 212 213 214 215\n",
      " 216 217 218 219 220 221 222 223 224] TEST: [225 226 227 228 229 230 231 232 233 234 235 236 237 238 239 240 241 242\n",
      " 243 244 245 246 247 248 249 250 251 252 253 254 255 256 257 258 259 260\n",
      " 261 262 263 264 265 266 267 268 269 270 271 272 273 274 275 276 277 278\n",
      " 279 280]\n",
      "TRAIN: [  0   1   2   3   4   5   6   7   8   9  10  11  12  13  14  15  16  17\n",
      "  18  19  20  21  22  23  24  25  26  27  28  29  30  31  32  33  34  35\n",
      "  36  37  38  39  40  41  42  43  44  45  46  47  48  49  50  51  52  53\n",
      "  54  55  56  57  58  59  60  61  62  63  64  65  66  67  68  69  70  71\n",
      "  72  73  74  75  76  77  78  79  80  81  82  83  84  85  86  87  88  89\n",
      "  90  91  92  93  94  95  96  97  98  99 100 101 102 103 104 105 106 107\n",
      " 108 109 110 111 112 113 114 115 116 117 118 119 120 121 122 123 124 125\n",
      " 126 127 128 129 130 131 132 133 134 135 136 137 138 139 140 141 142 143\n",
      " 144 145 146 147 148 149 150 151 152 153 154 155 156 157 158 159 160 161\n",
      " 162 163 164 165 166 167 168 169 170 171 172 173 174 175 176 177 178 179\n",
      " 180 181 182 183 184 185 186 187 188 189 190 191 192 193 194 195 196 197\n",
      " 198 199 200 201 202 203 204 205 206 207 208 209 210 211 212 213 214 215\n",
      " 216 217 218 219 220 221 222 223 224 225 226 227 228 229 230 231 232 233\n",
      " 234 235 236 237 238 239 240 241 242 243 244 245 246 247 248 249 250 251\n",
      " 252 253 254 255 256 257 258 259 260 261 262 263 264 265 266 267 268 269\n",
      " 270 271 272 273 274 275 276 277 278 279 280] TEST: [281 282 283 284 285 286 287 288 289 290 291 292 293 294 295 296 297 298\n",
      " 299 300 301 302 303 304 305 306 307 308 309 310 311 312 313 314 315 316\n",
      " 317 318 319 320 321 322 323 324 325 326 327 328 329 330 331 332 333 334\n",
      " 335 336]\n"
     ]
    }
   ],
   "source": [
    "for train_index, eval_index in tscv.split(X):\n",
    "    print(\"TRAIN:\",train_index, \"TEST:\", eval_index)"
   ]
  },
  {
   "cell_type": "code",
   "execution_count": null,
   "id": "0bd471b0",
   "metadata": {},
   "outputs": [],
   "source": [
    "### モデルのアンサンブル(保存した予測値を使用)\n",
    "train_preds_ave = df_train_preds.iloc[:, 1:].mean(axis=1).to_numpy()\n",
    "test_preds_ave = df_test_preds.iloc[:, 1:].mean(axis=1).to_numpy()\n",
    "\n",
    "### RMSE を計算\n",
    "train_preds_ave_RMSE_score = np.sqrt(MSE(y_train, train_preds_ave))\n",
    "test_preds_ave_RMSE_score = np.sqrtMSE((y_test, test_preds_ave))\n",
    "print('RMSE train: %.5f, test: %.5f'%(train_preds_ave_RMSE_score, test_preds_ave_RMSE_score))"
   ]
  }
 ],
 "metadata": {
  "kernelspec": {
   "display_name": "Python 3 (ipykernel)",
   "language": "python",
   "name": "python3"
  },
  "language_info": {
   "codemirror_mode": {
    "name": "ipython",
    "version": 3
   },
   "file_extension": ".py",
   "mimetype": "text/x-python",
   "name": "python",
   "nbconvert_exporter": "python",
   "pygments_lexer": "ipython3",
   "version": "3.9.13"
  }
 },
 "nbformat": 4,
 "nbformat_minor": 5
}
