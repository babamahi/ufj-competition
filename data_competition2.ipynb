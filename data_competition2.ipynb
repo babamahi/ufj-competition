{
 "cells": [
  {
   "cell_type": "code",
   "execution_count": 10,
   "id": "99ac9e15",
   "metadata": {},
   "outputs": [],
   "source": [
    "import pandas as pd\n",
    "import numpy as np\n",
    "import matplotlib.pyplot as plt"
   ]
  },
  {
   "cell_type": "code",
   "execution_count": 2,
   "id": "0199b3e5",
   "metadata": {},
   "outputs": [],
   "source": [
    "###各データのパス###\n",
    "# 訓練用データ\n",
    "train_path = './competition/' + 'train' + '.csv'\n",
    "# テストデータ\n",
    "test_path = './competition/' + 'test' + '.csv'\n",
    "# 提出用データ\n",
    "submit_path = './competition/' + 'submit_sample' + '.csv'"
   ]
  },
  {
   "cell_type": "code",
   "execution_count": 3,
   "id": "5d3669c2",
   "metadata": {},
   "outputs": [],
   "source": [
    "# 訓練用データの読み込み\n",
    "train_df = pd.read_csv(train_path)"
   ]
  },
  {
   "cell_type": "code",
   "execution_count": 4,
   "id": "69b696bd",
   "metadata": {},
   "outputs": [
    {
     "name": "stdout",
     "output_type": "stream",
     "text": [
      "         dateid      y week  soldout           name   kcal   remarks event  \\\n",
      "0    2014-04-01  125.0  Tue        1          メンチカツ  377.0       NaN   NaN   \n",
      "1    2014-04-02   99.0  Wed        0           肉じゃが  380.0       NaN   NaN   \n",
      "2    2014-04-03  100.0  Thu        1             酢豚  390.0       NaN   NaN   \n",
      "3    2014-04-04   90.0  Fri        1     和風ソースハンバーグ  350.0       NaN   NaN   \n",
      "4    2014-04-07  107.0  Mon        0        青梗菜牛肉炒め  387.0       NaN   NaN   \n",
      "..          ...    ...  ...      ...            ...    ...       ...   ...   \n",
      "332  2015-08-21  137.0  Fri        0         チキンカレー    NaN  お楽しみメニュー   NaN   \n",
      "333  2015-09-01   80.0  Tue        1     自家製手作りトンカツ  423.0    弁当種類増↓   NaN   \n",
      "334  2015-09-02   74.0  Wed        0       チーズメンチカツ  463.0       NaN   NaN   \n",
      "335  2015-09-03   66.0  Thu        1  鶏肉黒胡椒焼きおろしソース  420.0       NaN   NaN   \n",
      "336  2015-09-04   60.0  Fri        1         汁なし担担麺  435.0       NaN   NaN   \n",
      "\n",
      "     payday       weather  precipitation  temperature  \n",
      "0       NaN         晴時々薄曇            0.0         13.9  \n",
      "1       NaN         薄曇一時晴            0.0         15.2  \n",
      "2       NaN            大雨           65.0         13.8  \n",
      "3       NaN  晴時々曇一時雨、雷を伴う           40.0         15.3  \n",
      "4       NaN        晴後一時薄曇            0.0         11.4  \n",
      "..      ...           ...            ...          ...  \n",
      "332     NaN         曇後一時雨            2.5         26.0  \n",
      "333     NaN      雨後曇、雷を伴う           12.0         23.7  \n",
      "334     NaN        曇時々雨後晴            5.5         26.9  \n",
      "335     NaN         曇後一時雨            1.5         25.7  \n",
      "336     NaN    曇後一時雨、雷を伴う           14.0         24.7  \n",
      "\n",
      "[337 rows x 12 columns]\n"
     ]
    }
   ],
   "source": [
    "print(train_df)"
   ]
  },
  {
   "cell_type": "markdown",
   "id": "ba64195f",
   "metadata": {},
   "source": [
    "### 欠損値処理"
   ]
  },
  {
   "cell_type": "code",
   "execution_count": 5,
   "id": "af14fc51",
   "metadata": {},
   "outputs": [
    {
     "name": "stdout",
     "output_type": "stream",
     "text": [
      "dateid             0\n",
      "y                  0\n",
      "week               0\n",
      "soldout            0\n",
      "name               0\n",
      "kcal              33\n",
      "remarks          288\n",
      "event            309\n",
      "payday           320\n",
      "weather            0\n",
      "precipitation      0\n",
      "temperature        0\n",
      "dtype: int64\n"
     ]
    }
   ],
   "source": [
    "### 欠損値の確認(kcal:33，remarks:288, event:309, payday:320)→4つのcolumnの欠損値が確認できた\n",
    "print(train_df.isnull().sum())"
   ]
  },
  {
   "cell_type": "code",
   "execution_count": 6,
   "id": "e9e7ef20",
   "metadata": {},
   "outputs": [
    {
     "name": "stdout",
     "output_type": "stream",
     "text": [
      "420.0    27\n",
      "430.0    21\n",
      "435.0    13\n",
      "450.0    13\n",
      "400.0    13\n",
      "         ..\n",
      "388.0     1\n",
      "324.0     1\n",
      "401.0     1\n",
      "355.0     1\n",
      "463.0     1\n",
      "Name: kcal, Length: 81, dtype: int64\n",
      "--------------------------------\n",
      "お楽しみメニュー          28\n",
      "料理長のこだわりメニュー       7\n",
      "コンビニ改装             4\n",
      "料理長イチオシ！           2\n",
      "今月のイチオシ!           2\n",
      "今月のこだわりメニュー        2\n",
      "スペシャルメニュー          1\n",
      "近隣に飲食店複合ビルオープン     1\n",
      "料理長イチオシ!           1\n",
      "弁当種類増↓             1\n",
      "Name: remarks, dtype: int64\n",
      "--------------------------------\n",
      "ママの会             14\n",
      "キャリアアップ支援セミナー    14\n",
      "Name: event, dtype: int64\n",
      "--------------------------------\n",
      "1.0    17\n",
      "Name: payday, dtype: int64\n"
     ]
    }
   ],
   "source": [
    "## kcal(float64)の欠損値→　①平均値で補完する、②前後の値を比較して補完する\n",
    "print(train_df['kcal'].value_counts())\n",
    "print('--------------------------------')\n",
    "### remarks(objects)の欠損値　→　'特になし'で補完する(一応)\n",
    "print(train_df['remarks'].value_counts())\n",
    "print('--------------------------------')\n",
    "## event(objects)の欠損値　→　'特になし'で補完する\n",
    "print(train_df['event'].value_counts())\n",
    "print('--------------------------------')\n",
    "## payday(float64)の欠損値　→　給料日の以外は0.0とする\n",
    "print(train_df['payday'].value_counts())"
   ]
  },
  {
   "cell_type": "code",
   "execution_count": 7,
   "id": "654f4ceb",
   "metadata": {},
   "outputs": [],
   "source": [
    "### 訓練用データの欠損値の補完(バージョン1)\n",
    "train_df['kcal'] = train_df['kcal'].fillna(method = 'ffill')\n",
    "train_df = train_df.fillna({'payday': 0.0, 'remarks':'特になし', 'event' : '特になし'})"
   ]
  },
  {
   "cell_type": "code",
   "execution_count": 11,
   "id": "1a406d27",
   "metadata": {},
   "outputs": [
    {
     "data": {
      "text/html": [
       "<div>\n",
       "<style scoped>\n",
       "    .dataframe tbody tr th:only-of-type {\n",
       "        vertical-align: middle;\n",
       "    }\n",
       "\n",
       "    .dataframe tbody tr th {\n",
       "        vertical-align: top;\n",
       "    }\n",
       "\n",
       "    .dataframe thead th {\n",
       "        text-align: right;\n",
       "    }\n",
       "</style>\n",
       "<table border=\"1\" class=\"dataframe\">\n",
       "  <thead>\n",
       "    <tr style=\"text-align: right;\">\n",
       "      <th></th>\n",
       "      <th>dateid</th>\n",
       "      <th>y</th>\n",
       "      <th>week</th>\n",
       "      <th>soldout</th>\n",
       "      <th>name</th>\n",
       "      <th>kcal</th>\n",
       "      <th>remarks</th>\n",
       "      <th>event</th>\n",
       "      <th>payday</th>\n",
       "      <th>weather</th>\n",
       "      <th>precipitation</th>\n",
       "      <th>temperature</th>\n",
       "    </tr>\n",
       "  </thead>\n",
       "  <tbody>\n",
       "    <tr>\n",
       "      <th>0</th>\n",
       "      <td>2014-04-01</td>\n",
       "      <td>125.0</td>\n",
       "      <td>Tue</td>\n",
       "      <td>1</td>\n",
       "      <td>メンチカツ</td>\n",
       "      <td>377.0</td>\n",
       "      <td>特になし</td>\n",
       "      <td>特になし</td>\n",
       "      <td>0.0</td>\n",
       "      <td>晴時々薄曇</td>\n",
       "      <td>0.0</td>\n",
       "      <td>13.9</td>\n",
       "    </tr>\n",
       "    <tr>\n",
       "      <th>1</th>\n",
       "      <td>2014-04-02</td>\n",
       "      <td>99.0</td>\n",
       "      <td>Wed</td>\n",
       "      <td>0</td>\n",
       "      <td>肉じゃが</td>\n",
       "      <td>380.0</td>\n",
       "      <td>特になし</td>\n",
       "      <td>特になし</td>\n",
       "      <td>0.0</td>\n",
       "      <td>薄曇一時晴</td>\n",
       "      <td>0.0</td>\n",
       "      <td>15.2</td>\n",
       "    </tr>\n",
       "    <tr>\n",
       "      <th>2</th>\n",
       "      <td>2014-04-03</td>\n",
       "      <td>100.0</td>\n",
       "      <td>Thu</td>\n",
       "      <td>1</td>\n",
       "      <td>酢豚</td>\n",
       "      <td>390.0</td>\n",
       "      <td>特になし</td>\n",
       "      <td>特になし</td>\n",
       "      <td>0.0</td>\n",
       "      <td>大雨</td>\n",
       "      <td>65.0</td>\n",
       "      <td>13.8</td>\n",
       "    </tr>\n",
       "    <tr>\n",
       "      <th>3</th>\n",
       "      <td>2014-04-04</td>\n",
       "      <td>90.0</td>\n",
       "      <td>Fri</td>\n",
       "      <td>1</td>\n",
       "      <td>和風ソースハンバーグ</td>\n",
       "      <td>350.0</td>\n",
       "      <td>特になし</td>\n",
       "      <td>特になし</td>\n",
       "      <td>0.0</td>\n",
       "      <td>晴時々曇一時雨、雷を伴う</td>\n",
       "      <td>40.0</td>\n",
       "      <td>15.3</td>\n",
       "    </tr>\n",
       "    <tr>\n",
       "      <th>4</th>\n",
       "      <td>2014-04-07</td>\n",
       "      <td>107.0</td>\n",
       "      <td>Mon</td>\n",
       "      <td>0</td>\n",
       "      <td>青梗菜牛肉炒め</td>\n",
       "      <td>387.0</td>\n",
       "      <td>特になし</td>\n",
       "      <td>特になし</td>\n",
       "      <td>0.0</td>\n",
       "      <td>晴後一時薄曇</td>\n",
       "      <td>0.0</td>\n",
       "      <td>11.4</td>\n",
       "    </tr>\n",
       "    <tr>\n",
       "      <th>...</th>\n",
       "      <td>...</td>\n",
       "      <td>...</td>\n",
       "      <td>...</td>\n",
       "      <td>...</td>\n",
       "      <td>...</td>\n",
       "      <td>...</td>\n",
       "      <td>...</td>\n",
       "      <td>...</td>\n",
       "      <td>...</td>\n",
       "      <td>...</td>\n",
       "      <td>...</td>\n",
       "      <td>...</td>\n",
       "    </tr>\n",
       "    <tr>\n",
       "      <th>332</th>\n",
       "      <td>2015-08-21</td>\n",
       "      <td>137.0</td>\n",
       "      <td>Fri</td>\n",
       "      <td>0</td>\n",
       "      <td>チキンカレー</td>\n",
       "      <td>418.0</td>\n",
       "      <td>お楽しみメニュー</td>\n",
       "      <td>特になし</td>\n",
       "      <td>0.0</td>\n",
       "      <td>曇後一時雨</td>\n",
       "      <td>2.5</td>\n",
       "      <td>26.0</td>\n",
       "    </tr>\n",
       "    <tr>\n",
       "      <th>333</th>\n",
       "      <td>2015-09-01</td>\n",
       "      <td>80.0</td>\n",
       "      <td>Tue</td>\n",
       "      <td>1</td>\n",
       "      <td>自家製手作りトンカツ</td>\n",
       "      <td>423.0</td>\n",
       "      <td>弁当種類増↓</td>\n",
       "      <td>特になし</td>\n",
       "      <td>0.0</td>\n",
       "      <td>雨後曇、雷を伴う</td>\n",
       "      <td>12.0</td>\n",
       "      <td>23.7</td>\n",
       "    </tr>\n",
       "    <tr>\n",
       "      <th>334</th>\n",
       "      <td>2015-09-02</td>\n",
       "      <td>74.0</td>\n",
       "      <td>Wed</td>\n",
       "      <td>0</td>\n",
       "      <td>チーズメンチカツ</td>\n",
       "      <td>463.0</td>\n",
       "      <td>特になし</td>\n",
       "      <td>特になし</td>\n",
       "      <td>0.0</td>\n",
       "      <td>曇時々雨後晴</td>\n",
       "      <td>5.5</td>\n",
       "      <td>26.9</td>\n",
       "    </tr>\n",
       "    <tr>\n",
       "      <th>335</th>\n",
       "      <td>2015-09-03</td>\n",
       "      <td>66.0</td>\n",
       "      <td>Thu</td>\n",
       "      <td>1</td>\n",
       "      <td>鶏肉黒胡椒焼きおろしソース</td>\n",
       "      <td>420.0</td>\n",
       "      <td>特になし</td>\n",
       "      <td>特になし</td>\n",
       "      <td>0.0</td>\n",
       "      <td>曇後一時雨</td>\n",
       "      <td>1.5</td>\n",
       "      <td>25.7</td>\n",
       "    </tr>\n",
       "    <tr>\n",
       "      <th>336</th>\n",
       "      <td>2015-09-04</td>\n",
       "      <td>60.0</td>\n",
       "      <td>Fri</td>\n",
       "      <td>1</td>\n",
       "      <td>汁なし担担麺</td>\n",
       "      <td>435.0</td>\n",
       "      <td>特になし</td>\n",
       "      <td>特になし</td>\n",
       "      <td>0.0</td>\n",
       "      <td>曇後一時雨、雷を伴う</td>\n",
       "      <td>14.0</td>\n",
       "      <td>24.7</td>\n",
       "    </tr>\n",
       "  </tbody>\n",
       "</table>\n",
       "<p>337 rows × 12 columns</p>\n",
       "</div>"
      ],
      "text/plain": [
       "         dateid      y week  soldout           name   kcal   remarks event  \\\n",
       "0    2014-04-01  125.0  Tue        1          メンチカツ  377.0      特になし  特になし   \n",
       "1    2014-04-02   99.0  Wed        0           肉じゃが  380.0      特になし  特になし   \n",
       "2    2014-04-03  100.0  Thu        1             酢豚  390.0      特になし  特になし   \n",
       "3    2014-04-04   90.0  Fri        1     和風ソースハンバーグ  350.0      特になし  特になし   \n",
       "4    2014-04-07  107.0  Mon        0        青梗菜牛肉炒め  387.0      特になし  特になし   \n",
       "..          ...    ...  ...      ...            ...    ...       ...   ...   \n",
       "332  2015-08-21  137.0  Fri        0         チキンカレー  418.0  お楽しみメニュー  特になし   \n",
       "333  2015-09-01   80.0  Tue        1     自家製手作りトンカツ  423.0    弁当種類増↓  特になし   \n",
       "334  2015-09-02   74.0  Wed        0       チーズメンチカツ  463.0      特になし  特になし   \n",
       "335  2015-09-03   66.0  Thu        1  鶏肉黒胡椒焼きおろしソース  420.0      特になし  特になし   \n",
       "336  2015-09-04   60.0  Fri        1         汁なし担担麺  435.0      特になし  特になし   \n",
       "\n",
       "     payday       weather  precipitation  temperature  \n",
       "0       0.0         晴時々薄曇            0.0         13.9  \n",
       "1       0.0         薄曇一時晴            0.0         15.2  \n",
       "2       0.0            大雨           65.0         13.8  \n",
       "3       0.0  晴時々曇一時雨、雷を伴う           40.0         15.3  \n",
       "4       0.0        晴後一時薄曇            0.0         11.4  \n",
       "..      ...           ...            ...          ...  \n",
       "332     0.0         曇後一時雨            2.5         26.0  \n",
       "333     0.0      雨後曇、雷を伴う           12.0         23.7  \n",
       "334     0.0        曇時々雨後晴            5.5         26.9  \n",
       "335     0.0         曇後一時雨            1.5         25.7  \n",
       "336     0.0    曇後一時雨、雷を伴う           14.0         24.7  \n",
       "\n",
       "[337 rows x 12 columns]"
      ]
     },
     "execution_count": 11,
     "metadata": {},
     "output_type": "execute_result"
    }
   ],
   "source": [
    "train_df"
   ]
  },
  {
   "cell_type": "code",
   "execution_count": 9,
   "id": "6f03c465",
   "metadata": {},
   "outputs": [
    {
     "name": "stdout",
     "output_type": "stream",
     "text": [
      "                y     soldout        kcal      payday  precipitation  \\\n",
      "count  337.000000  337.000000  337.000000  337.000000     337.000000   \n",
      "mean    65.192878    0.462908  419.189911    0.050445       5.376855   \n",
      "std     20.645712    0.499364   24.745120    0.219187      14.342239   \n",
      "min     25.000000    0.000000  324.000000    0.000000       0.000000   \n",
      "25%     53.000000    0.000000  410.000000    0.000000       0.000000   \n",
      "50%     62.000000    0.000000  423.000000    0.000000       0.000000   \n",
      "75%     72.000000    1.000000  435.000000    0.000000       4.500000   \n",
      "max    137.000000    1.000000  463.000000    1.000000     123.500000   \n",
      "\n",
      "       temperature  \n",
      "count   337.000000  \n",
      "mean     18.520772  \n",
      "std       7.708158  \n",
      "min       2.000000  \n",
      "25%      12.300000  \n",
      "50%      20.300000  \n",
      "75%      24.000000  \n",
      "max      31.500000  \n"
     ]
    }
   ],
   "source": [
    "print(train_df.describe())"
   ]
  },
  {
   "cell_type": "markdown",
   "id": "01775ed7",
   "metadata": {},
   "source": [
    "### 各カラムとyの関係を簡単に調査"
   ]
  },
  {
   "cell_type": "code",
   "execution_count": 12,
   "id": "038917e7",
   "metadata": {},
   "outputs": [
    {
     "data": {
      "text/html": [
       "<div>\n",
       "<style scoped>\n",
       "    .dataframe tbody tr th:only-of-type {\n",
       "        vertical-align: middle;\n",
       "    }\n",
       "\n",
       "    .dataframe tbody tr th {\n",
       "        vertical-align: top;\n",
       "    }\n",
       "\n",
       "    .dataframe thead th {\n",
       "        text-align: right;\n",
       "    }\n",
       "</style>\n",
       "<table border=\"1\" class=\"dataframe\">\n",
       "  <thead>\n",
       "    <tr style=\"text-align: right;\">\n",
       "      <th></th>\n",
       "      <th>dateid</th>\n",
       "      <th>y</th>\n",
       "      <th>week</th>\n",
       "      <th>soldout</th>\n",
       "      <th>name</th>\n",
       "      <th>kcal</th>\n",
       "      <th>event</th>\n",
       "      <th>payday</th>\n",
       "      <th>weather</th>\n",
       "      <th>precipitation</th>\n",
       "      <th>temperature</th>\n",
       "    </tr>\n",
       "    <tr>\n",
       "      <th>remarks</th>\n",
       "      <th></th>\n",
       "      <th></th>\n",
       "      <th></th>\n",
       "      <th></th>\n",
       "      <th></th>\n",
       "      <th></th>\n",
       "      <th></th>\n",
       "      <th></th>\n",
       "      <th></th>\n",
       "      <th></th>\n",
       "      <th></th>\n",
       "    </tr>\n",
       "  </thead>\n",
       "  <tbody>\n",
       "    <tr>\n",
       "      <th>お楽しみメニュー</th>\n",
       "      <td>2015-08-21</td>\n",
       "      <td>137.0</td>\n",
       "      <td>Wed</td>\n",
       "      <td>1</td>\n",
       "      <td>牛丼</td>\n",
       "      <td>455.0</td>\n",
       "      <td>特になし</td>\n",
       "      <td>1.0</td>\n",
       "      <td>雨後曇</td>\n",
       "      <td>13.0</td>\n",
       "      <td>31.5</td>\n",
       "    </tr>\n",
       "    <tr>\n",
       "      <th>コンビニ改装</th>\n",
       "      <td>2015-08-17</td>\n",
       "      <td>63.0</td>\n",
       "      <td>Wed</td>\n",
       "      <td>1</td>\n",
       "      <td>親子煮</td>\n",
       "      <td>423.0</td>\n",
       "      <td>特になし</td>\n",
       "      <td>1.0</td>\n",
       "      <td>雨時々曇</td>\n",
       "      <td>33.5</td>\n",
       "      <td>29.4</td>\n",
       "    </tr>\n",
       "    <tr>\n",
       "      <th>スペシャルメニュー</th>\n",
       "      <td>2014-09-26</td>\n",
       "      <td>45.0</td>\n",
       "      <td>Fri</td>\n",
       "      <td>0</td>\n",
       "      <td>ランチビュッフェ</td>\n",
       "      <td>394.0</td>\n",
       "      <td>キャリアアップ支援セミナー</td>\n",
       "      <td>0.0</td>\n",
       "      <td>晴</td>\n",
       "      <td>0.0</td>\n",
       "      <td>22.9</td>\n",
       "    </tr>\n",
       "    <tr>\n",
       "      <th>今月のこだわりメニュー</th>\n",
       "      <td>2015-07-22</td>\n",
       "      <td>70.0</td>\n",
       "      <td>Wed</td>\n",
       "      <td>1</td>\n",
       "      <td>自家製手作りトンカツ</td>\n",
       "      <td>422.0</td>\n",
       "      <td>特になし</td>\n",
       "      <td>0.0</td>\n",
       "      <td>曇一時雨</td>\n",
       "      <td>14.5</td>\n",
       "      <td>28.9</td>\n",
       "    </tr>\n",
       "    <tr>\n",
       "      <th>今月のイチオシ!</th>\n",
       "      <td>2015-06-25</td>\n",
       "      <td>53.0</td>\n",
       "      <td>Thu</td>\n",
       "      <td>0</td>\n",
       "      <td>自家製手作りトンカツ</td>\n",
       "      <td>455.0</td>\n",
       "      <td>特になし</td>\n",
       "      <td>0.0</td>\n",
       "      <td>薄曇</td>\n",
       "      <td>0.0</td>\n",
       "      <td>24.3</td>\n",
       "    </tr>\n",
       "    <tr>\n",
       "      <th>弁当種類増↓</th>\n",
       "      <td>2015-09-01</td>\n",
       "      <td>80.0</td>\n",
       "      <td>Tue</td>\n",
       "      <td>1</td>\n",
       "      <td>自家製手作りトンカツ</td>\n",
       "      <td>423.0</td>\n",
       "      <td>特になし</td>\n",
       "      <td>0.0</td>\n",
       "      <td>雨後曇、雷を伴う</td>\n",
       "      <td>12.0</td>\n",
       "      <td>23.7</td>\n",
       "    </tr>\n",
       "    <tr>\n",
       "      <th>料理長のこだわりメニュー</th>\n",
       "      <td>2014-12-17</td>\n",
       "      <td>66.0</td>\n",
       "      <td>Wed</td>\n",
       "      <td>1</td>\n",
       "      <td>豚ロースのピザ風チーズ焼き</td>\n",
       "      <td>450.0</td>\n",
       "      <td>特になし</td>\n",
       "      <td>0.0</td>\n",
       "      <td>雨一時曇</td>\n",
       "      <td>19.5</td>\n",
       "      <td>31.1</td>\n",
       "    </tr>\n",
       "    <tr>\n",
       "      <th>料理長イチオシ!</th>\n",
       "      <td>2015-04-21</td>\n",
       "      <td>76.0</td>\n",
       "      <td>Tue</td>\n",
       "      <td>1</td>\n",
       "      <td>ミックスグリル</td>\n",
       "      <td>450.0</td>\n",
       "      <td>特になし</td>\n",
       "      <td>0.0</td>\n",
       "      <td>曇</td>\n",
       "      <td>0.5</td>\n",
       "      <td>17.5</td>\n",
       "    </tr>\n",
       "    <tr>\n",
       "      <th>料理長イチオシ！</th>\n",
       "      <td>2015-03-10</td>\n",
       "      <td>90.0</td>\n",
       "      <td>Wed</td>\n",
       "      <td>1</td>\n",
       "      <td>牛肉とキノコの赤ワイン煮</td>\n",
       "      <td>440.0</td>\n",
       "      <td>特になし</td>\n",
       "      <td>1.0</td>\n",
       "      <td>雨、みぞれを伴う</td>\n",
       "      <td>10.5</td>\n",
       "      <td>7.7</td>\n",
       "    </tr>\n",
       "    <tr>\n",
       "      <th>特になし</th>\n",
       "      <td>2015-09-04</td>\n",
       "      <td>125.0</td>\n",
       "      <td>Wed</td>\n",
       "      <td>1</td>\n",
       "      <td>麻婆豆腐</td>\n",
       "      <td>463.0</td>\n",
       "      <td>特になし</td>\n",
       "      <td>1.0</td>\n",
       "      <td>雨時々曇一時雪</td>\n",
       "      <td>123.5</td>\n",
       "      <td>31.1</td>\n",
       "    </tr>\n",
       "    <tr>\n",
       "      <th>近隣に飲食店複合ビルオープン</th>\n",
       "      <td>2014-11-13</td>\n",
       "      <td>32.0</td>\n",
       "      <td>Thu</td>\n",
       "      <td>1</td>\n",
       "      <td>白身魚味噌焼き</td>\n",
       "      <td>396.0</td>\n",
       "      <td>キャリアアップ支援セミナー</td>\n",
       "      <td>0.0</td>\n",
       "      <td>快晴</td>\n",
       "      <td>0.0</td>\n",
       "      <td>15.0</td>\n",
       "    </tr>\n",
       "  </tbody>\n",
       "</table>\n",
       "</div>"
      ],
      "text/plain": [
       "                    dateid      y week  soldout           name   kcal  \\\n",
       "remarks                                                                 \n",
       "お楽しみメニュー        2015-08-21  137.0  Wed        1             牛丼  455.0   \n",
       "コンビニ改装          2015-08-17   63.0  Wed        1            親子煮  423.0   \n",
       "スペシャルメニュー       2014-09-26   45.0  Fri        0       ランチビュッフェ  394.0   \n",
       "今月のこだわりメニュー     2015-07-22   70.0  Wed        1     自家製手作りトンカツ  422.0   \n",
       "今月のイチオシ!        2015-06-25   53.0  Thu        0     自家製手作りトンカツ  455.0   \n",
       "弁当種類増↓          2015-09-01   80.0  Tue        1     自家製手作りトンカツ  423.0   \n",
       "料理長のこだわりメニュー    2014-12-17   66.0  Wed        1  豚ロースのピザ風チーズ焼き  450.0   \n",
       "料理長イチオシ!        2015-04-21   76.0  Tue        1        ミックスグリル  450.0   \n",
       "料理長イチオシ！        2015-03-10   90.0  Wed        1   牛肉とキノコの赤ワイン煮  440.0   \n",
       "特になし            2015-09-04  125.0  Wed        1           麻婆豆腐  463.0   \n",
       "近隣に飲食店複合ビルオープン  2014-11-13   32.0  Thu        1        白身魚味噌焼き  396.0   \n",
       "\n",
       "                        event  payday   weather  precipitation  temperature  \n",
       "remarks                                                                      \n",
       "お楽しみメニュー                 特になし     1.0       雨後曇           13.0         31.5  \n",
       "コンビニ改装                   特になし     1.0      雨時々曇           33.5         29.4  \n",
       "スペシャルメニュー       キャリアアップ支援セミナー     0.0         晴            0.0         22.9  \n",
       "今月のこだわりメニュー              特になし     0.0      曇一時雨           14.5         28.9  \n",
       "今月のイチオシ!                 特になし     0.0        薄曇            0.0         24.3  \n",
       "弁当種類増↓                   特になし     0.0  雨後曇、雷を伴う           12.0         23.7  \n",
       "料理長のこだわりメニュー             特になし     0.0      雨一時曇           19.5         31.1  \n",
       "料理長イチオシ!                 特になし     0.0         曇            0.5         17.5  \n",
       "料理長イチオシ！                 特になし     1.0  雨、みぞれを伴う           10.5          7.7  \n",
       "特になし                     特になし     1.0   雨時々曇一時雪          123.5         31.1  \n",
       "近隣に飲食店複合ビルオープン  キャリアアップ支援セミナー     0.0        快晴            0.0         15.0  "
      ]
     },
     "execution_count": 12,
     "metadata": {},
     "output_type": "execute_result"
    }
   ],
   "source": [
    "train_df.groupby('remarks').max()"
   ]
  },
  {
   "cell_type": "code",
   "execution_count": 13,
   "id": "fcc3744d",
   "metadata": {},
   "outputs": [
    {
     "data": {
      "text/html": [
       "<div>\n",
       "<style scoped>\n",
       "    .dataframe tbody tr th:only-of-type {\n",
       "        vertical-align: middle;\n",
       "    }\n",
       "\n",
       "    .dataframe tbody tr th {\n",
       "        vertical-align: top;\n",
       "    }\n",
       "\n",
       "    .dataframe thead th {\n",
       "        text-align: right;\n",
       "    }\n",
       "</style>\n",
       "<table border=\"1\" class=\"dataframe\">\n",
       "  <thead>\n",
       "    <tr style=\"text-align: right;\">\n",
       "      <th></th>\n",
       "      <th>y</th>\n",
       "      <th>soldout</th>\n",
       "      <th>kcal</th>\n",
       "      <th>payday</th>\n",
       "      <th>precipitation</th>\n",
       "      <th>temperature</th>\n",
       "    </tr>\n",
       "    <tr>\n",
       "      <th>weather</th>\n",
       "      <th></th>\n",
       "      <th></th>\n",
       "      <th></th>\n",
       "      <th></th>\n",
       "      <th></th>\n",
       "      <th></th>\n",
       "    </tr>\n",
       "  </thead>\n",
       "  <tbody>\n",
       "    <tr>\n",
       "      <th>大雨</th>\n",
       "      <td>297.0</td>\n",
       "      <td>2</td>\n",
       "      <td>1250.0</td>\n",
       "      <td>0.0</td>\n",
       "      <td>240.5</td>\n",
       "      <td>51.2</td>\n",
       "    </tr>\n",
       "    <tr>\n",
       "      <th>大雨一時曇</th>\n",
       "      <td>47.0</td>\n",
       "      <td>1</td>\n",
       "      <td>421.0</td>\n",
       "      <td>0.0</td>\n",
       "      <td>35.5</td>\n",
       "      <td>5.4</td>\n",
       "    </tr>\n",
       "    <tr>\n",
       "      <th>大雨後一時曇</th>\n",
       "      <td>65.0</td>\n",
       "      <td>1</td>\n",
       "      <td>420.0</td>\n",
       "      <td>0.0</td>\n",
       "      <td>67.5</td>\n",
       "      <td>21.9</td>\n",
       "    </tr>\n",
       "    <tr>\n",
       "      <th>大雨後晴</th>\n",
       "      <td>56.0</td>\n",
       "      <td>1</td>\n",
       "      <td>400.0</td>\n",
       "      <td>0.0</td>\n",
       "      <td>123.5</td>\n",
       "      <td>21.3</td>\n",
       "    </tr>\n",
       "    <tr>\n",
       "      <th>快晴</th>\n",
       "      <td>1870.0</td>\n",
       "      <td>16</td>\n",
       "      <td>13526.0</td>\n",
       "      <td>2.0</td>\n",
       "      <td>0.0</td>\n",
       "      <td>412.8</td>\n",
       "    </tr>\n",
       "    <tr>\n",
       "      <th>...</th>\n",
       "      <td>...</td>\n",
       "      <td>...</td>\n",
       "      <td>...</td>\n",
       "      <td>...</td>\n",
       "      <td>...</td>\n",
       "      <td>...</td>\n",
       "    </tr>\n",
       "    <tr>\n",
       "      <th>雨後曇、雷を伴う</th>\n",
       "      <td>80.0</td>\n",
       "      <td>1</td>\n",
       "      <td>423.0</td>\n",
       "      <td>0.0</td>\n",
       "      <td>12.0</td>\n",
       "      <td>23.7</td>\n",
       "    </tr>\n",
       "    <tr>\n",
       "      <th>雨後曇一時晴</th>\n",
       "      <td>70.0</td>\n",
       "      <td>1</td>\n",
       "      <td>428.0</td>\n",
       "      <td>0.0</td>\n",
       "      <td>5.5</td>\n",
       "      <td>19.3</td>\n",
       "    </tr>\n",
       "    <tr>\n",
       "      <th>雨時々みぞれ</th>\n",
       "      <td>89.0</td>\n",
       "      <td>0</td>\n",
       "      <td>433.0</td>\n",
       "      <td>0.0</td>\n",
       "      <td>9.0</td>\n",
       "      <td>2.6</td>\n",
       "    </tr>\n",
       "    <tr>\n",
       "      <th>雨時々曇</th>\n",
       "      <td>741.0</td>\n",
       "      <td>7</td>\n",
       "      <td>4843.0</td>\n",
       "      <td>0.0</td>\n",
       "      <td>102.5</td>\n",
       "      <td>248.1</td>\n",
       "    </tr>\n",
       "    <tr>\n",
       "      <th>雨時々曇一時雪</th>\n",
       "      <td>72.0</td>\n",
       "      <td>1</td>\n",
       "      <td>430.0</td>\n",
       "      <td>0.0</td>\n",
       "      <td>3.0</td>\n",
       "      <td>3.9</td>\n",
       "    </tr>\n",
       "  </tbody>\n",
       "</table>\n",
       "<p>62 rows × 6 columns</p>\n",
       "</div>"
      ],
      "text/plain": [
       "               y  soldout     kcal  payday  precipitation  temperature\n",
       "weather                                                               \n",
       "大雨         297.0        2   1250.0     0.0          240.5         51.2\n",
       "大雨一時曇       47.0        1    421.0     0.0           35.5          5.4\n",
       "大雨後一時曇      65.0        1    420.0     0.0           67.5         21.9\n",
       "大雨後晴        56.0        1    400.0     0.0          123.5         21.3\n",
       "快晴        1870.0       16  13526.0     2.0            0.0        412.8\n",
       "...          ...      ...      ...     ...            ...          ...\n",
       "雨後曇、雷を伴う    80.0        1    423.0     0.0           12.0         23.7\n",
       "雨後曇一時晴      70.0        1    428.0     0.0            5.5         19.3\n",
       "雨時々みぞれ      89.0        0    433.0     0.0            9.0          2.6\n",
       "雨時々曇       741.0        7   4843.0     0.0          102.5        248.1\n",
       "雨時々曇一時雪     72.0        1    430.0     0.0            3.0          3.9\n",
       "\n",
       "[62 rows x 6 columns]"
      ]
     },
     "execution_count": 13,
     "metadata": {},
     "output_type": "execute_result"
    }
   ],
   "source": [
    "train_df.groupby('weather').sum()"
   ]
  },
  {
   "cell_type": "code",
   "execution_count": 1,
   "id": "97c2eb98",
   "metadata": {},
   "outputs": [
    {
     "ename": "NameError",
     "evalue": "name 'train_df' is not defined",
     "output_type": "error",
     "traceback": [
      "\u001b[1;31m---------------------------------------------------------------------------\u001b[0m",
      "\u001b[1;31mNameError\u001b[0m                                 Traceback (most recent call last)",
      "Input \u001b[1;32mIn [1]\u001b[0m, in \u001b[0;36m<cell line: 1>\u001b[1;34m()\u001b[0m\n\u001b[1;32m----> 1\u001b[0m \u001b[43mtrain_df\u001b[49m\u001b[38;5;241m.\u001b[39mgroupby(\u001b[38;5;124m'\u001b[39m\u001b[38;5;124mname\u001b[39m\u001b[38;5;124m'\u001b[39m)\u001b[38;5;241m.\u001b[39msum()\u001b[38;5;241m.\u001b[39msort_values(\u001b[38;5;124m'\u001b[39m\u001b[38;5;124my\u001b[39m\u001b[38;5;124m'\u001b[39m,ascending\u001b[38;5;241m=\u001b[39m\u001b[38;5;28;01mFalse\u001b[39;00m)\u001b[38;5;241m.\u001b[39mhead(\u001b[38;5;241m5\u001b[39m)\n",
      "\u001b[1;31mNameError\u001b[0m: name 'train_df' is not defined"
     ]
    }
   ],
   "source": [
    "train_df.groupby('name').sum().sort_values('y',ascending=False).head(5)"
   ]
  },
  {
   "cell_type": "markdown",
   "id": "fd1a330e",
   "metadata": {},
   "source": [
    "## データの前処理"
   ]
  },
  {
   "cell_type": "code",
   "execution_count": 16,
   "id": "31a3d591",
   "metadata": {},
   "outputs": [],
   "source": [
    "from sklearn.preprocessing import LabelEncoder"
   ]
  },
  {
   "cell_type": "code",
   "execution_count": 17,
   "id": "ea447605",
   "metadata": {},
   "outputs": [],
   "source": [
    "le = LabelEncoder()"
   ]
  },
  {
   "cell_type": "markdown",
   "id": "f6d1ab93",
   "metadata": {},
   "source": [
    "### 前処理1(天気とメニューをラベルエンコーディング)"
   ]
  },
  {
   "cell_type": "code",
   "execution_count": 18,
   "id": "c1524951",
   "metadata": {},
   "outputs": [],
   "source": [
    "le_1 = le.fit(train_df['weather'])\n",
    "train_df['weather_label'] = le_1.transform(train_df['weather'])"
   ]
  },
  {
   "cell_type": "code",
   "execution_count": 19,
   "id": "52778aa3",
   "metadata": {},
   "outputs": [],
   "source": [
    "le_2 = le.fit(train_df['name'])\n",
    "train_df['name_label'] = le_1.transform(train_df['name'])"
   ]
  },
  {
   "cell_type": "code",
   "execution_count": 20,
   "id": "53e832ce",
   "metadata": {},
   "outputs": [
    {
     "data": {
      "text/html": [
       "<div>\n",
       "<style scoped>\n",
       "    .dataframe tbody tr th:only-of-type {\n",
       "        vertical-align: middle;\n",
       "    }\n",
       "\n",
       "    .dataframe tbody tr th {\n",
       "        vertical-align: top;\n",
       "    }\n",
       "\n",
       "    .dataframe thead th {\n",
       "        text-align: right;\n",
       "    }\n",
       "</style>\n",
       "<table border=\"1\" class=\"dataframe\">\n",
       "  <thead>\n",
       "    <tr style=\"text-align: right;\">\n",
       "      <th></th>\n",
       "      <th>dateid</th>\n",
       "      <th>y</th>\n",
       "      <th>week</th>\n",
       "      <th>soldout</th>\n",
       "      <th>name</th>\n",
       "      <th>kcal</th>\n",
       "      <th>remarks</th>\n",
       "      <th>event</th>\n",
       "      <th>payday</th>\n",
       "      <th>weather</th>\n",
       "      <th>precipitation</th>\n",
       "      <th>temperature</th>\n",
       "      <th>weather_label</th>\n",
       "      <th>name_label</th>\n",
       "    </tr>\n",
       "  </thead>\n",
       "  <tbody>\n",
       "    <tr>\n",
       "      <th>0</th>\n",
       "      <td>2014-04-01</td>\n",
       "      <td>125.0</td>\n",
       "      <td>Tue</td>\n",
       "      <td>1</td>\n",
       "      <td>メンチカツ</td>\n",
       "      <td>377.0</td>\n",
       "      <td>特になし</td>\n",
       "      <td>特になし</td>\n",
       "      <td>0.0</td>\n",
       "      <td>晴時々薄曇</td>\n",
       "      <td>0.0</td>\n",
       "      <td>13.9</td>\n",
       "      <td>22</td>\n",
       "      <td>98</td>\n",
       "    </tr>\n",
       "    <tr>\n",
       "      <th>1</th>\n",
       "      <td>2014-04-02</td>\n",
       "      <td>99.0</td>\n",
       "      <td>Wed</td>\n",
       "      <td>0</td>\n",
       "      <td>肉じゃが</td>\n",
       "      <td>380.0</td>\n",
       "      <td>特になし</td>\n",
       "      <td>特になし</td>\n",
       "      <td>0.0</td>\n",
       "      <td>薄曇一時晴</td>\n",
       "      <td>0.0</td>\n",
       "      <td>15.2</td>\n",
       "      <td>47</td>\n",
       "      <td>158</td>\n",
       "    </tr>\n",
       "    <tr>\n",
       "      <th>2</th>\n",
       "      <td>2014-04-03</td>\n",
       "      <td>100.0</td>\n",
       "      <td>Thu</td>\n",
       "      <td>1</td>\n",
       "      <td>酢豚</td>\n",
       "      <td>390.0</td>\n",
       "      <td>特になし</td>\n",
       "      <td>特になし</td>\n",
       "      <td>0.0</td>\n",
       "      <td>大雨</td>\n",
       "      <td>65.0</td>\n",
       "      <td>13.8</td>\n",
       "      <td>0</td>\n",
       "      <td>183</td>\n",
       "    </tr>\n",
       "    <tr>\n",
       "      <th>3</th>\n",
       "      <td>2014-04-04</td>\n",
       "      <td>90.0</td>\n",
       "      <td>Fri</td>\n",
       "      <td>1</td>\n",
       "      <td>和風ソースハンバーグ</td>\n",
       "      <td>350.0</td>\n",
       "      <td>特になし</td>\n",
       "      <td>特になし</td>\n",
       "      <td>0.0</td>\n",
       "      <td>晴時々曇一時雨、雷を伴う</td>\n",
       "      <td>40.0</td>\n",
       "      <td>15.3</td>\n",
       "      <td>19</td>\n",
       "      <td>109</td>\n",
       "    </tr>\n",
       "    <tr>\n",
       "      <th>4</th>\n",
       "      <td>2014-04-07</td>\n",
       "      <td>107.0</td>\n",
       "      <td>Mon</td>\n",
       "      <td>0</td>\n",
       "      <td>青梗菜牛肉炒め</td>\n",
       "      <td>387.0</td>\n",
       "      <td>特になし</td>\n",
       "      <td>特になし</td>\n",
       "      <td>0.0</td>\n",
       "      <td>晴後一時薄曇</td>\n",
       "      <td>0.0</td>\n",
       "      <td>11.4</td>\n",
       "      <td>9</td>\n",
       "      <td>185</td>\n",
       "    </tr>\n",
       "    <tr>\n",
       "      <th>...</th>\n",
       "      <td>...</td>\n",
       "      <td>...</td>\n",
       "      <td>...</td>\n",
       "      <td>...</td>\n",
       "      <td>...</td>\n",
       "      <td>...</td>\n",
       "      <td>...</td>\n",
       "      <td>...</td>\n",
       "      <td>...</td>\n",
       "      <td>...</td>\n",
       "      <td>...</td>\n",
       "      <td>...</td>\n",
       "      <td>...</td>\n",
       "      <td>...</td>\n",
       "    </tr>\n",
       "    <tr>\n",
       "      <th>332</th>\n",
       "      <td>2015-08-21</td>\n",
       "      <td>137.0</td>\n",
       "      <td>Fri</td>\n",
       "      <td>0</td>\n",
       "      <td>チキンカレー</td>\n",
       "      <td>418.0</td>\n",
       "      <td>お楽しみメニュー</td>\n",
       "      <td>特になし</td>\n",
       "      <td>0.0</td>\n",
       "      <td>曇後一時雨</td>\n",
       "      <td>2.5</td>\n",
       "      <td>26.0</td>\n",
       "      <td>32</td>\n",
       "      <td>52</td>\n",
       "    </tr>\n",
       "    <tr>\n",
       "      <th>333</th>\n",
       "      <td>2015-09-01</td>\n",
       "      <td>80.0</td>\n",
       "      <td>Tue</td>\n",
       "      <td>1</td>\n",
       "      <td>自家製手作りトンカツ</td>\n",
       "      <td>423.0</td>\n",
       "      <td>弁当種類増↓</td>\n",
       "      <td>特になし</td>\n",
       "      <td>0.0</td>\n",
       "      <td>雨後曇、雷を伴う</td>\n",
       "      <td>12.0</td>\n",
       "      <td>23.7</td>\n",
       "      <td>57</td>\n",
       "      <td>163</td>\n",
       "    </tr>\n",
       "    <tr>\n",
       "      <th>334</th>\n",
       "      <td>2015-09-02</td>\n",
       "      <td>74.0</td>\n",
       "      <td>Wed</td>\n",
       "      <td>0</td>\n",
       "      <td>チーズメンチカツ</td>\n",
       "      <td>463.0</td>\n",
       "      <td>特になし</td>\n",
       "      <td>特になし</td>\n",
       "      <td>0.0</td>\n",
       "      <td>曇時々雨後晴</td>\n",
       "      <td>5.5</td>\n",
       "      <td>26.9</td>\n",
       "      <td>44</td>\n",
       "      <td>66</td>\n",
       "    </tr>\n",
       "    <tr>\n",
       "      <th>335</th>\n",
       "      <td>2015-09-03</td>\n",
       "      <td>66.0</td>\n",
       "      <td>Thu</td>\n",
       "      <td>1</td>\n",
       "      <td>鶏肉黒胡椒焼きおろしソース</td>\n",
       "      <td>420.0</td>\n",
       "      <td>特になし</td>\n",
       "      <td>特になし</td>\n",
       "      <td>0.0</td>\n",
       "      <td>曇後一時雨</td>\n",
       "      <td>1.5</td>\n",
       "      <td>25.7</td>\n",
       "      <td>32</td>\n",
       "      <td>209</td>\n",
       "    </tr>\n",
       "    <tr>\n",
       "      <th>336</th>\n",
       "      <td>2015-09-04</td>\n",
       "      <td>60.0</td>\n",
       "      <td>Fri</td>\n",
       "      <td>1</td>\n",
       "      <td>汁なし担担麺</td>\n",
       "      <td>435.0</td>\n",
       "      <td>特になし</td>\n",
       "      <td>特になし</td>\n",
       "      <td>0.0</td>\n",
       "      <td>曇後一時雨、雷を伴う</td>\n",
       "      <td>14.0</td>\n",
       "      <td>24.7</td>\n",
       "      <td>33</td>\n",
       "      <td>124</td>\n",
       "    </tr>\n",
       "  </tbody>\n",
       "</table>\n",
       "<p>337 rows × 14 columns</p>\n",
       "</div>"
      ],
      "text/plain": [
       "         dateid      y week  soldout           name   kcal   remarks event  \\\n",
       "0    2014-04-01  125.0  Tue        1          メンチカツ  377.0      特になし  特になし   \n",
       "1    2014-04-02   99.0  Wed        0           肉じゃが  380.0      特になし  特になし   \n",
       "2    2014-04-03  100.0  Thu        1             酢豚  390.0      特になし  特になし   \n",
       "3    2014-04-04   90.0  Fri        1     和風ソースハンバーグ  350.0      特になし  特になし   \n",
       "4    2014-04-07  107.0  Mon        0        青梗菜牛肉炒め  387.0      特になし  特になし   \n",
       "..          ...    ...  ...      ...            ...    ...       ...   ...   \n",
       "332  2015-08-21  137.0  Fri        0         チキンカレー  418.0  お楽しみメニュー  特になし   \n",
       "333  2015-09-01   80.0  Tue        1     自家製手作りトンカツ  423.0    弁当種類増↓  特になし   \n",
       "334  2015-09-02   74.0  Wed        0       チーズメンチカツ  463.0      特になし  特になし   \n",
       "335  2015-09-03   66.0  Thu        1  鶏肉黒胡椒焼きおろしソース  420.0      特になし  特になし   \n",
       "336  2015-09-04   60.0  Fri        1         汁なし担担麺  435.0      特になし  特になし   \n",
       "\n",
       "     payday       weather  precipitation  temperature  weather_label  \\\n",
       "0       0.0         晴時々薄曇            0.0         13.9             22   \n",
       "1       0.0         薄曇一時晴            0.0         15.2             47   \n",
       "2       0.0            大雨           65.0         13.8              0   \n",
       "3       0.0  晴時々曇一時雨、雷を伴う           40.0         15.3             19   \n",
       "4       0.0        晴後一時薄曇            0.0         11.4              9   \n",
       "..      ...           ...            ...          ...            ...   \n",
       "332     0.0         曇後一時雨            2.5         26.0             32   \n",
       "333     0.0      雨後曇、雷を伴う           12.0         23.7             57   \n",
       "334     0.0        曇時々雨後晴            5.5         26.9             44   \n",
       "335     0.0         曇後一時雨            1.5         25.7             32   \n",
       "336     0.0    曇後一時雨、雷を伴う           14.0         24.7             33   \n",
       "\n",
       "     name_label  \n",
       "0            98  \n",
       "1           158  \n",
       "2           183  \n",
       "3           109  \n",
       "4           185  \n",
       "..          ...  \n",
       "332          52  \n",
       "333         163  \n",
       "334          66  \n",
       "335         209  \n",
       "336         124  \n",
       "\n",
       "[337 rows x 14 columns]"
      ]
     },
     "execution_count": 20,
     "metadata": {},
     "output_type": "execute_result"
    }
   ],
   "source": [
    "train_df"
   ]
  },
  {
   "cell_type": "markdown",
   "id": "ba3dc134",
   "metadata": {},
   "source": [
    "### 前処理2 ('weather'をカウントエンコーディング，'name'をラベルエンコーディング)"
   ]
  },
  {
   "cell_type": "code",
   "execution_count": 60,
   "id": "9294be73",
   "metadata": {},
   "outputs": [],
   "source": [
    "train_df['weather_count'] = train_df.groupby('weather')['weather'].transform('count')\n",
    "le_2 = le.fit(train_df['name'])\n",
    "train_df['name_label'] = le_2.transform(train_df['name'])"
   ]
  },
  {
   "cell_type": "markdown",
   "id": "69b18190",
   "metadata": {},
   "source": [
    "#### 特記事項があれば'1'を、なければ'0'を出力"
   ]
  },
  {
   "cell_type": "code",
   "execution_count": 21,
   "id": "61d637f7",
   "metadata": {},
   "outputs": [],
   "source": [
    "train_df['remarks_b']  = train_df['remarks']\n",
    "train_df.loc[train_df.remarks != '特になし','remarks_b']='1'\n",
    "train_df.loc[train_df.remarks == '特になし','remarks_b']='0'"
   ]
  },
  {
   "cell_type": "code",
   "execution_count": 22,
   "id": "2bed5974",
   "metadata": {},
   "outputs": [
    {
     "data": {
      "text/html": [
       "<div>\n",
       "<style scoped>\n",
       "    .dataframe tbody tr th:only-of-type {\n",
       "        vertical-align: middle;\n",
       "    }\n",
       "\n",
       "    .dataframe tbody tr th {\n",
       "        vertical-align: top;\n",
       "    }\n",
       "\n",
       "    .dataframe thead th {\n",
       "        text-align: right;\n",
       "    }\n",
       "</style>\n",
       "<table border=\"1\" class=\"dataframe\">\n",
       "  <thead>\n",
       "    <tr style=\"text-align: right;\">\n",
       "      <th></th>\n",
       "      <th>dateid</th>\n",
       "      <th>y</th>\n",
       "      <th>week</th>\n",
       "      <th>soldout</th>\n",
       "      <th>name</th>\n",
       "      <th>kcal</th>\n",
       "      <th>remarks</th>\n",
       "      <th>event</th>\n",
       "      <th>payday</th>\n",
       "      <th>weather</th>\n",
       "      <th>precipitation</th>\n",
       "      <th>temperature</th>\n",
       "      <th>weather_label</th>\n",
       "      <th>name_label</th>\n",
       "      <th>remarks_b</th>\n",
       "    </tr>\n",
       "  </thead>\n",
       "  <tbody>\n",
       "    <tr>\n",
       "      <th>0</th>\n",
       "      <td>2014-04-01</td>\n",
       "      <td>125.0</td>\n",
       "      <td>Tue</td>\n",
       "      <td>1</td>\n",
       "      <td>メンチカツ</td>\n",
       "      <td>377.0</td>\n",
       "      <td>特になし</td>\n",
       "      <td>特になし</td>\n",
       "      <td>0.0</td>\n",
       "      <td>晴時々薄曇</td>\n",
       "      <td>0.0</td>\n",
       "      <td>13.9</td>\n",
       "      <td>22</td>\n",
       "      <td>98</td>\n",
       "      <td>0</td>\n",
       "    </tr>\n",
       "    <tr>\n",
       "      <th>1</th>\n",
       "      <td>2014-04-02</td>\n",
       "      <td>99.0</td>\n",
       "      <td>Wed</td>\n",
       "      <td>0</td>\n",
       "      <td>肉じゃが</td>\n",
       "      <td>380.0</td>\n",
       "      <td>特になし</td>\n",
       "      <td>特になし</td>\n",
       "      <td>0.0</td>\n",
       "      <td>薄曇一時晴</td>\n",
       "      <td>0.0</td>\n",
       "      <td>15.2</td>\n",
       "      <td>47</td>\n",
       "      <td>158</td>\n",
       "      <td>0</td>\n",
       "    </tr>\n",
       "    <tr>\n",
       "      <th>2</th>\n",
       "      <td>2014-04-03</td>\n",
       "      <td>100.0</td>\n",
       "      <td>Thu</td>\n",
       "      <td>1</td>\n",
       "      <td>酢豚</td>\n",
       "      <td>390.0</td>\n",
       "      <td>特になし</td>\n",
       "      <td>特になし</td>\n",
       "      <td>0.0</td>\n",
       "      <td>大雨</td>\n",
       "      <td>65.0</td>\n",
       "      <td>13.8</td>\n",
       "      <td>0</td>\n",
       "      <td>183</td>\n",
       "      <td>0</td>\n",
       "    </tr>\n",
       "    <tr>\n",
       "      <th>3</th>\n",
       "      <td>2014-04-04</td>\n",
       "      <td>90.0</td>\n",
       "      <td>Fri</td>\n",
       "      <td>1</td>\n",
       "      <td>和風ソースハンバーグ</td>\n",
       "      <td>350.0</td>\n",
       "      <td>特になし</td>\n",
       "      <td>特になし</td>\n",
       "      <td>0.0</td>\n",
       "      <td>晴時々曇一時雨、雷を伴う</td>\n",
       "      <td>40.0</td>\n",
       "      <td>15.3</td>\n",
       "      <td>19</td>\n",
       "      <td>109</td>\n",
       "      <td>0</td>\n",
       "    </tr>\n",
       "    <tr>\n",
       "      <th>4</th>\n",
       "      <td>2014-04-07</td>\n",
       "      <td>107.0</td>\n",
       "      <td>Mon</td>\n",
       "      <td>0</td>\n",
       "      <td>青梗菜牛肉炒め</td>\n",
       "      <td>387.0</td>\n",
       "      <td>特になし</td>\n",
       "      <td>特になし</td>\n",
       "      <td>0.0</td>\n",
       "      <td>晴後一時薄曇</td>\n",
       "      <td>0.0</td>\n",
       "      <td>11.4</td>\n",
       "      <td>9</td>\n",
       "      <td>185</td>\n",
       "      <td>0</td>\n",
       "    </tr>\n",
       "    <tr>\n",
       "      <th>...</th>\n",
       "      <td>...</td>\n",
       "      <td>...</td>\n",
       "      <td>...</td>\n",
       "      <td>...</td>\n",
       "      <td>...</td>\n",
       "      <td>...</td>\n",
       "      <td>...</td>\n",
       "      <td>...</td>\n",
       "      <td>...</td>\n",
       "      <td>...</td>\n",
       "      <td>...</td>\n",
       "      <td>...</td>\n",
       "      <td>...</td>\n",
       "      <td>...</td>\n",
       "      <td>...</td>\n",
       "    </tr>\n",
       "    <tr>\n",
       "      <th>332</th>\n",
       "      <td>2015-08-21</td>\n",
       "      <td>137.0</td>\n",
       "      <td>Fri</td>\n",
       "      <td>0</td>\n",
       "      <td>チキンカレー</td>\n",
       "      <td>418.0</td>\n",
       "      <td>お楽しみメニュー</td>\n",
       "      <td>特になし</td>\n",
       "      <td>0.0</td>\n",
       "      <td>曇後一時雨</td>\n",
       "      <td>2.5</td>\n",
       "      <td>26.0</td>\n",
       "      <td>32</td>\n",
       "      <td>52</td>\n",
       "      <td>1</td>\n",
       "    </tr>\n",
       "    <tr>\n",
       "      <th>333</th>\n",
       "      <td>2015-09-01</td>\n",
       "      <td>80.0</td>\n",
       "      <td>Tue</td>\n",
       "      <td>1</td>\n",
       "      <td>自家製手作りトンカツ</td>\n",
       "      <td>423.0</td>\n",
       "      <td>弁当種類増↓</td>\n",
       "      <td>特になし</td>\n",
       "      <td>0.0</td>\n",
       "      <td>雨後曇、雷を伴う</td>\n",
       "      <td>12.0</td>\n",
       "      <td>23.7</td>\n",
       "      <td>57</td>\n",
       "      <td>163</td>\n",
       "      <td>1</td>\n",
       "    </tr>\n",
       "    <tr>\n",
       "      <th>334</th>\n",
       "      <td>2015-09-02</td>\n",
       "      <td>74.0</td>\n",
       "      <td>Wed</td>\n",
       "      <td>0</td>\n",
       "      <td>チーズメンチカツ</td>\n",
       "      <td>463.0</td>\n",
       "      <td>特になし</td>\n",
       "      <td>特になし</td>\n",
       "      <td>0.0</td>\n",
       "      <td>曇時々雨後晴</td>\n",
       "      <td>5.5</td>\n",
       "      <td>26.9</td>\n",
       "      <td>44</td>\n",
       "      <td>66</td>\n",
       "      <td>0</td>\n",
       "    </tr>\n",
       "    <tr>\n",
       "      <th>335</th>\n",
       "      <td>2015-09-03</td>\n",
       "      <td>66.0</td>\n",
       "      <td>Thu</td>\n",
       "      <td>1</td>\n",
       "      <td>鶏肉黒胡椒焼きおろしソース</td>\n",
       "      <td>420.0</td>\n",
       "      <td>特になし</td>\n",
       "      <td>特になし</td>\n",
       "      <td>0.0</td>\n",
       "      <td>曇後一時雨</td>\n",
       "      <td>1.5</td>\n",
       "      <td>25.7</td>\n",
       "      <td>32</td>\n",
       "      <td>209</td>\n",
       "      <td>0</td>\n",
       "    </tr>\n",
       "    <tr>\n",
       "      <th>336</th>\n",
       "      <td>2015-09-04</td>\n",
       "      <td>60.0</td>\n",
       "      <td>Fri</td>\n",
       "      <td>1</td>\n",
       "      <td>汁なし担担麺</td>\n",
       "      <td>435.0</td>\n",
       "      <td>特になし</td>\n",
       "      <td>特になし</td>\n",
       "      <td>0.0</td>\n",
       "      <td>曇後一時雨、雷を伴う</td>\n",
       "      <td>14.0</td>\n",
       "      <td>24.7</td>\n",
       "      <td>33</td>\n",
       "      <td>124</td>\n",
       "      <td>0</td>\n",
       "    </tr>\n",
       "  </tbody>\n",
       "</table>\n",
       "<p>337 rows × 15 columns</p>\n",
       "</div>"
      ],
      "text/plain": [
       "         dateid      y week  soldout           name   kcal   remarks event  \\\n",
       "0    2014-04-01  125.0  Tue        1          メンチカツ  377.0      特になし  特になし   \n",
       "1    2014-04-02   99.0  Wed        0           肉じゃが  380.0      特になし  特になし   \n",
       "2    2014-04-03  100.0  Thu        1             酢豚  390.0      特になし  特になし   \n",
       "3    2014-04-04   90.0  Fri        1     和風ソースハンバーグ  350.0      特になし  特になし   \n",
       "4    2014-04-07  107.0  Mon        0        青梗菜牛肉炒め  387.0      特になし  特になし   \n",
       "..          ...    ...  ...      ...            ...    ...       ...   ...   \n",
       "332  2015-08-21  137.0  Fri        0         チキンカレー  418.0  お楽しみメニュー  特になし   \n",
       "333  2015-09-01   80.0  Tue        1     自家製手作りトンカツ  423.0    弁当種類増↓  特になし   \n",
       "334  2015-09-02   74.0  Wed        0       チーズメンチカツ  463.0      特になし  特になし   \n",
       "335  2015-09-03   66.0  Thu        1  鶏肉黒胡椒焼きおろしソース  420.0      特になし  特になし   \n",
       "336  2015-09-04   60.0  Fri        1         汁なし担担麺  435.0      特になし  特になし   \n",
       "\n",
       "     payday       weather  precipitation  temperature  weather_label  \\\n",
       "0       0.0         晴時々薄曇            0.0         13.9             22   \n",
       "1       0.0         薄曇一時晴            0.0         15.2             47   \n",
       "2       0.0            大雨           65.0         13.8              0   \n",
       "3       0.0  晴時々曇一時雨、雷を伴う           40.0         15.3             19   \n",
       "4       0.0        晴後一時薄曇            0.0         11.4              9   \n",
       "..      ...           ...            ...          ...            ...   \n",
       "332     0.0         曇後一時雨            2.5         26.0             32   \n",
       "333     0.0      雨後曇、雷を伴う           12.0         23.7             57   \n",
       "334     0.0        曇時々雨後晴            5.5         26.9             44   \n",
       "335     0.0         曇後一時雨            1.5         25.7             32   \n",
       "336     0.0    曇後一時雨、雷を伴う           14.0         24.7             33   \n",
       "\n",
       "     name_label remarks_b  \n",
       "0            98         0  \n",
       "1           158         0  \n",
       "2           183         0  \n",
       "3           109         0  \n",
       "4           185         0  \n",
       "..          ...       ...  \n",
       "332          52         1  \n",
       "333         163         1  \n",
       "334          66         0  \n",
       "335         209         0  \n",
       "336         124         0  \n",
       "\n",
       "[337 rows x 15 columns]"
      ]
     },
     "execution_count": 22,
     "metadata": {},
     "output_type": "execute_result"
    }
   ],
   "source": [
    "##### 訓練用データの現状を確認\n",
    "train_df"
   ]
  },
  {
   "cell_type": "code",
   "execution_count": 23,
   "id": "dcf994c5",
   "metadata": {},
   "outputs": [],
   "source": [
    "### 説明変数から不要なものを削除(前処理2の場合)\n",
    "## 説明変数\n",
    "X = train_df.drop(['dateid','y','name','remarks','weather'],axis = 1)\n",
    "## 目的変数\n",
    "y = train_df['y']"
   ]
  },
  {
   "cell_type": "code",
   "execution_count": 24,
   "id": "c02604cc",
   "metadata": {},
   "outputs": [
    {
     "name": "stdout",
     "output_type": "stream",
     "text": [
      "<class 'pandas.core.frame.DataFrame'>\n",
      "RangeIndex: 337 entries, 0 to 336\n",
      "Data columns (total 10 columns):\n",
      " #   Column         Non-Null Count  Dtype  \n",
      "---  ------         --------------  -----  \n",
      " 0   week           337 non-null    object \n",
      " 1   soldout        337 non-null    int64  \n",
      " 2   kcal           337 non-null    float64\n",
      " 3   event          337 non-null    object \n",
      " 4   payday         337 non-null    float64\n",
      " 5   precipitation  337 non-null    float64\n",
      " 6   temperature    337 non-null    float64\n",
      " 7   weather_label  337 non-null    int32  \n",
      " 8   name_label     337 non-null    int32  \n",
      " 9   remarks_b      337 non-null    object \n",
      "dtypes: float64(4), int32(2), int64(1), object(3)\n",
      "memory usage: 23.8+ KB\n",
      "None\n"
     ]
    }
   ],
   "source": [
    "print(X.info())"
   ]
  },
  {
   "cell_type": "code",
   "execution_count": 25,
   "id": "b695032c",
   "metadata": {},
   "outputs": [
    {
     "name": "stdout",
     "output_type": "stream",
     "text": [
      "<class 'pandas.core.frame.DataFrame'>\n",
      "RangeIndex: 337 entries, 0 to 336\n",
      "Data columns (total 10 columns):\n",
      " #   Column         Non-Null Count  Dtype  \n",
      "---  ------         --------------  -----  \n",
      " 0   week           337 non-null    object \n",
      " 1   soldout        337 non-null    int64  \n",
      " 2   kcal           337 non-null    float64\n",
      " 3   event          337 non-null    object \n",
      " 4   payday         337 non-null    float64\n",
      " 5   precipitation  337 non-null    float64\n",
      " 6   temperature    337 non-null    float64\n",
      " 7   weather_label  337 non-null    int32  \n",
      " 8   name_label     337 non-null    int32  \n",
      " 9   remarks_b      337 non-null    int64  \n",
      "dtypes: float64(4), int32(2), int64(2), object(2)\n",
      "memory usage: 23.8+ KB\n",
      "None\n"
     ]
    }
   ],
   "source": [
    "X['remarks_b'] = X['remarks_b'].astype('int64')\n",
    "print(X.info())"
   ]
  },
  {
   "cell_type": "code",
   "execution_count": 26,
   "id": "2d1243a1",
   "metadata": {},
   "outputs": [],
   "source": [
    "## 週データのダミー変数化\n",
    "X = pd.get_dummies(X,columns=['week'])"
   ]
  },
  {
   "cell_type": "code",
   "execution_count": 27,
   "id": "0e847a73",
   "metadata": {},
   "outputs": [
    {
     "name": "stdout",
     "output_type": "stream",
     "text": [
      "     soldout   kcal  payday  precipitation  temperature  weather_label  \\\n",
      "0          1  377.0     0.0            0.0         13.9             22   \n",
      "1          0  380.0     0.0            0.0         15.2             47   \n",
      "2          1  390.0     0.0           65.0         13.8              0   \n",
      "3          1  350.0     0.0           40.0         15.3             19   \n",
      "4          0  387.0     0.0            0.0         11.4              9   \n",
      "..       ...    ...     ...            ...          ...            ...   \n",
      "332        0  418.0     0.0            2.5         26.0             32   \n",
      "333        1  423.0     0.0           12.0         23.7             57   \n",
      "334        0  463.0     0.0            5.5         26.9             44   \n",
      "335        1  420.0     0.0            1.5         25.7             32   \n",
      "336        1  435.0     0.0           14.0         24.7             33   \n",
      "\n",
      "     name_label  remarks_b  week_Fri  week_Mon  week_Thu  week_Tue  week_Wed  \\\n",
      "0            98          0         0         0         0         1         0   \n",
      "1           158          0         0         0         0         0         1   \n",
      "2           183          0         0         0         1         0         0   \n",
      "3           109          0         1         0         0         0         0   \n",
      "4           185          0         0         1         0         0         0   \n",
      "..          ...        ...       ...       ...       ...       ...       ...   \n",
      "332          52          1         1         0         0         0         0   \n",
      "333         163          1         0         0         0         1         0   \n",
      "334          66          0         0         0         0         0         1   \n",
      "335         209          0         0         0         1         0         0   \n",
      "336         124          0         1         0         0         0         0   \n",
      "\n",
      "     event_キャリアアップ支援セミナー  event_ママの会  event_特になし  \n",
      "0                      0           0           1  \n",
      "1                      0           0           1  \n",
      "2                      0           0           1  \n",
      "3                      0           0           1  \n",
      "4                      0           0           1  \n",
      "..                   ...         ...         ...  \n",
      "332                    0           0           1  \n",
      "333                    0           0           1  \n",
      "334                    0           0           1  \n",
      "335                    0           0           1  \n",
      "336                    0           0           1  \n",
      "\n",
      "[337 rows x 16 columns]\n"
     ]
    }
   ],
   "source": [
    "##13時開始お弁当持ち込み可の社内イベント'のダミー変数化\n",
    "X = pd.get_dummies(X,columns=['event'])\n",
    "print(X)"
   ]
  },
  {
   "cell_type": "code",
   "execution_count": 28,
   "id": "56d6c214",
   "metadata": {},
   "outputs": [],
   "source": [
    "###特徴量重要度を測る指標の作成\n",
    "X_feature = np.array(list(X.columns))"
   ]
  },
  {
   "cell_type": "code",
   "execution_count": 29,
   "id": "a859b155",
   "metadata": {},
   "outputs": [],
   "source": [
    "## 値の要素化\n",
    "X = X.values\n",
    "y = y.values"
   ]
  },
  {
   "cell_type": "code",
   "execution_count": 30,
   "id": "33044706",
   "metadata": {},
   "outputs": [
    {
     "name": "stdout",
     "output_type": "stream",
     "text": [
      "(337,)\n"
     ]
    }
   ],
   "source": [
    "print(y.shape)"
   ]
  },
  {
   "cell_type": "code",
   "execution_count": 31,
   "id": "f925cbc5",
   "metadata": {},
   "outputs": [],
   "source": [
    "from sklearn.linear_model import LinearRegression as LR"
   ]
  },
  {
   "cell_type": "code",
   "execution_count": 32,
   "id": "1de5bec2",
   "metadata": {},
   "outputs": [],
   "source": [
    "X_train,X_test, y_train,y_test = X[:270],X[270:],y[:270],y[270:]"
   ]
  },
  {
   "cell_type": "markdown",
   "id": "7df3a28e",
   "metadata": {},
   "source": [
    "### 線形回帰　→　質的変数が多くあまり向いていないかも"
   ]
  },
  {
   "cell_type": "code",
   "execution_count": 23,
   "id": "33e07a6a",
   "metadata": {},
   "outputs": [
    {
     "data": {
      "text/html": [
       "<style>#sk-container-id-1 {color: black;background-color: white;}#sk-container-id-1 pre{padding: 0;}#sk-container-id-1 div.sk-toggleable {background-color: white;}#sk-container-id-1 label.sk-toggleable__label {cursor: pointer;display: block;width: 100%;margin-bottom: 0;padding: 0.3em;box-sizing: border-box;text-align: center;}#sk-container-id-1 label.sk-toggleable__label-arrow:before {content: \"▸\";float: left;margin-right: 0.25em;color: #696969;}#sk-container-id-1 label.sk-toggleable__label-arrow:hover:before {color: black;}#sk-container-id-1 div.sk-estimator:hover label.sk-toggleable__label-arrow:before {color: black;}#sk-container-id-1 div.sk-toggleable__content {max-height: 0;max-width: 0;overflow: hidden;text-align: left;background-color: #f0f8ff;}#sk-container-id-1 div.sk-toggleable__content pre {margin: 0.2em;color: black;border-radius: 0.25em;background-color: #f0f8ff;}#sk-container-id-1 input.sk-toggleable__control:checked~div.sk-toggleable__content {max-height: 200px;max-width: 100%;overflow: auto;}#sk-container-id-1 input.sk-toggleable__control:checked~label.sk-toggleable__label-arrow:before {content: \"▾\";}#sk-container-id-1 div.sk-estimator input.sk-toggleable__control:checked~label.sk-toggleable__label {background-color: #d4ebff;}#sk-container-id-1 div.sk-label input.sk-toggleable__control:checked~label.sk-toggleable__label {background-color: #d4ebff;}#sk-container-id-1 input.sk-hidden--visually {border: 0;clip: rect(1px 1px 1px 1px);clip: rect(1px, 1px, 1px, 1px);height: 1px;margin: -1px;overflow: hidden;padding: 0;position: absolute;width: 1px;}#sk-container-id-1 div.sk-estimator {font-family: monospace;background-color: #f0f8ff;border: 1px dotted black;border-radius: 0.25em;box-sizing: border-box;margin-bottom: 0.5em;}#sk-container-id-1 div.sk-estimator:hover {background-color: #d4ebff;}#sk-container-id-1 div.sk-parallel-item::after {content: \"\";width: 100%;border-bottom: 1px solid gray;flex-grow: 1;}#sk-container-id-1 div.sk-label:hover label.sk-toggleable__label {background-color: #d4ebff;}#sk-container-id-1 div.sk-serial::before {content: \"\";position: absolute;border-left: 1px solid gray;box-sizing: border-box;top: 0;bottom: 0;left: 50%;z-index: 0;}#sk-container-id-1 div.sk-serial {display: flex;flex-direction: column;align-items: center;background-color: white;padding-right: 0.2em;padding-left: 0.2em;position: relative;}#sk-container-id-1 div.sk-item {position: relative;z-index: 1;}#sk-container-id-1 div.sk-parallel {display: flex;align-items: stretch;justify-content: center;background-color: white;position: relative;}#sk-container-id-1 div.sk-item::before, #sk-container-id-1 div.sk-parallel-item::before {content: \"\";position: absolute;border-left: 1px solid gray;box-sizing: border-box;top: 0;bottom: 0;left: 50%;z-index: -1;}#sk-container-id-1 div.sk-parallel-item {display: flex;flex-direction: column;z-index: 1;position: relative;background-color: white;}#sk-container-id-1 div.sk-parallel-item:first-child::after {align-self: flex-end;width: 50%;}#sk-container-id-1 div.sk-parallel-item:last-child::after {align-self: flex-start;width: 50%;}#sk-container-id-1 div.sk-parallel-item:only-child::after {width: 0;}#sk-container-id-1 div.sk-dashed-wrapped {border: 1px dashed gray;margin: 0 0.4em 0.5em 0.4em;box-sizing: border-box;padding-bottom: 0.4em;background-color: white;}#sk-container-id-1 div.sk-label label {font-family: monospace;font-weight: bold;display: inline-block;line-height: 1.2em;}#sk-container-id-1 div.sk-label-container {text-align: center;}#sk-container-id-1 div.sk-container {/* jupyter's `normalize.less` sets `[hidden] { display: none; }` but bootstrap.min.css set `[hidden] { display: none !important; }` so we also need the `!important` here to be able to override the default hidden behavior on the sphinx rendered scikit-learn.org. See: https://github.com/scikit-learn/scikit-learn/issues/21755 */display: inline-block !important;position: relative;}#sk-container-id-1 div.sk-text-repr-fallback {display: none;}</style><div id=\"sk-container-id-1\" class=\"sk-top-container\"><div class=\"sk-text-repr-fallback\"><pre>LinearRegression()</pre><b>In a Jupyter environment, please rerun this cell to show the HTML representation or trust the notebook. <br />On GitHub, the HTML representation is unable to render, please try loading this page with nbviewer.org.</b></div><div class=\"sk-container\" hidden><div class=\"sk-item\"><div class=\"sk-estimator sk-toggleable\"><input class=\"sk-toggleable__control sk-hidden--visually\" id=\"sk-estimator-id-1\" type=\"checkbox\" checked><label for=\"sk-estimator-id-1\" class=\"sk-toggleable__label sk-toggleable__label-arrow\">LinearRegression</label><div class=\"sk-toggleable__content\"><pre>LinearRegression()</pre></div></div></div></div></div>"
      ],
      "text/plain": [
       "LinearRegression()"
      ]
     },
     "execution_count": 23,
     "metadata": {},
     "output_type": "execute_result"
    }
   ],
   "source": [
    "model = LR()\n",
    "model.fit(X_train,y_train)"
   ]
  },
  {
   "cell_type": "code",
   "execution_count": 41,
   "id": "2101dfc8",
   "metadata": {},
   "outputs": [],
   "source": [
    "from sklearn.metrics import mean_squared_error as MSE"
   ]
  },
  {
   "cell_type": "code",
   "execution_count": 25,
   "id": "a16e3a1b",
   "metadata": {},
   "outputs": [
    {
     "name": "stdout",
     "output_type": "stream",
     "text": [
      "17.323901440486114\n",
      "18.293028063831915\n"
     ]
    }
   ],
   "source": [
    "#予測値の算出\n",
    "y_pred_train = model.predict(X_train)\n",
    "y_pred_test = model.predict(X_test)\n",
    "#MSEの算出\n",
    "mse_train = MSE(y_train, y_pred_train)\n",
    "mse_test = MSE(y_test, y_pred_test)\n",
    "#RMSEの算出\n",
    "rmse_train = np.sqrt(mse_train)\n",
    "rmse_test = np.sqrt(mse_test)\n",
    "#RMSEの表示\n",
    "print(rmse_train)\n",
    "print(rmse_test)"
   ]
  },
  {
   "cell_type": "markdown",
   "id": "59ed8eb1",
   "metadata": {},
   "source": [
    "### ランダムフォレスト"
   ]
  },
  {
   "cell_type": "code",
   "execution_count": 33,
   "id": "4de33ce3",
   "metadata": {},
   "outputs": [],
   "source": [
    "from sklearn.ensemble import RandomForestRegressor"
   ]
  },
  {
   "cell_type": "code",
   "execution_count": 96,
   "id": "223dcbef",
   "metadata": {},
   "outputs": [],
   "source": [
    "params = {\"n_estimators\": [10, 50,100, 300, 500], \n",
    "          \"max_depth\": [3,5,10,15, 20,None], \n",
    "          \"max_features\": [\"sqrt\", \"log2\",None]}"
   ]
  },
  {
   "cell_type": "code",
   "execution_count": 37,
   "id": "c9fbad7a",
   "metadata": {},
   "outputs": [],
   "source": [
    "## ハイパラメータ探索\n",
    "from sklearn.model_selection import GridSearchCV"
   ]
  },
  {
   "cell_type": "code",
   "execution_count": 514,
   "id": "70e5cc9b",
   "metadata": {},
   "outputs": [],
   "source": [
    "model2 = RandomForestRegressor(random_state = 30)"
   ]
  },
  {
   "cell_type": "code",
   "execution_count": 515,
   "id": "2a9fa9ae",
   "metadata": {},
   "outputs": [],
   "source": [
    "model3 = GridSearchCV(model2, params,scoring=\"neg_mean_squared_error\")"
   ]
  },
  {
   "cell_type": "code",
   "execution_count": 516,
   "id": "c0355c0f",
   "metadata": {},
   "outputs": [
    {
     "name": "stdout",
     "output_type": "stream",
     "text": [
      "{'max_depth': 3, 'max_features': None, 'n_estimators': 50}\n"
     ]
    }
   ],
   "source": [
    "model3.fit(X_train,y_train)\n",
    "print(model3.best_params_)"
   ]
  },
  {
   "cell_type": "code",
   "execution_count": 517,
   "id": "2d5a5961",
   "metadata": {},
   "outputs": [],
   "source": [
    "forest = model3.best_estimator_"
   ]
  },
  {
   "cell_type": "code",
   "execution_count": 518,
   "id": "db4ae25b",
   "metadata": {},
   "outputs": [
    {
     "name": "stdout",
     "output_type": "stream",
     "text": [
      "訓練データに対しては 13.3521383435843\n",
      "評価データに対しては 16.971582416121947\n"
     ]
    }
   ],
   "source": [
    "#予測値の算出\n",
    "y_pred_train = forest.predict(X_train)\n",
    "y_pred_test = forest.predict(X_test)\n",
    "#MSEの算出\n",
    "mse_train = MSE(y_train, y_pred_train)\n",
    "mse_test = MSE(y_test, y_pred_test)\n",
    "#RMSEの算出\n",
    "rmse_train = np.sqrt(mse_train)\n",
    "rmse_test = np.sqrt(mse_test)\n",
    "#RMSEの表示\n",
    "print('訓練データに対しては'+ ' ' + str(rmse_train))\n",
    "print('評価データに対しては'+ ' ' + str(rmse_test))"
   ]
  },
  {
   "cell_type": "markdown",
   "id": "baa035bb",
   "metadata": {},
   "source": [
    "### 前処理において'name'をラベルエンコーディング，'weather'をカウントエンコーディングとした場合"
   ]
  },
  {
   "cell_type": "code",
   "execution_count": 92,
   "id": "046aa3bd",
   "metadata": {},
   "outputs": [],
   "source": [
    "model2 = RandomForestRegressor(random_state = 45)"
   ]
  },
  {
   "cell_type": "code",
   "execution_count": 97,
   "id": "a2e40b76",
   "metadata": {},
   "outputs": [],
   "source": [
    "model3 = GridSearchCV(model2, params,scoring=\"neg_mean_squared_error\")"
   ]
  },
  {
   "cell_type": "code",
   "execution_count": 98,
   "id": "76fd11ec",
   "metadata": {},
   "outputs": [
    {
     "name": "stdout",
     "output_type": "stream",
     "text": [
      "{'max_depth': 3, 'max_features': None, 'n_estimators': 10}\n"
     ]
    }
   ],
   "source": [
    "model3.fit(X_train,y_train)\n",
    "print(model3.best_params_)"
   ]
  },
  {
   "cell_type": "code",
   "execution_count": 99,
   "id": "ac886fbb",
   "metadata": {},
   "outputs": [],
   "source": [
    "forest = model3.best_estimator_"
   ]
  },
  {
   "cell_type": "code",
   "execution_count": 100,
   "id": "7a4399ec",
   "metadata": {},
   "outputs": [
    {
     "name": "stdout",
     "output_type": "stream",
     "text": [
      "訓練データに対しては 13.549414174285275\n",
      "評価データに対しては 11.874935206148713\n"
     ]
    }
   ],
   "source": [
    "#予測値の算出\n",
    "y_pred_train = forest.predict(X_train)\n",
    "y_pred_test = forest.predict(X_test)\n",
    "#MSEの算出\n",
    "mse_train = MSE(y_train, y_pred_train)\n",
    "mse_test = MSE(y_test, y_pred_test)\n",
    "#RMSEの算出\n",
    "rmse_train = np.sqrt(mse_train)\n",
    "rmse_test = np.sqrt(mse_test)\n",
    "#RMSEの表示\n",
    "print('訓練データに対しては'+ ' ' + str(rmse_train))\n",
    "print('評価データに対しては'+ ' ' + str(rmse_test))"
   ]
  },
  {
   "cell_type": "markdown",
   "id": "5d966e1f",
   "metadata": {},
   "source": [
    "#### パラメータ探索なし(デフォルト)"
   ]
  },
  {
   "cell_type": "code",
   "execution_count": 75,
   "id": "380465e6",
   "metadata": {},
   "outputs": [
    {
     "data": {
      "text/html": [
       "<style>#sk-container-id-4 {color: black;background-color: white;}#sk-container-id-4 pre{padding: 0;}#sk-container-id-4 div.sk-toggleable {background-color: white;}#sk-container-id-4 label.sk-toggleable__label {cursor: pointer;display: block;width: 100%;margin-bottom: 0;padding: 0.3em;box-sizing: border-box;text-align: center;}#sk-container-id-4 label.sk-toggleable__label-arrow:before {content: \"▸\";float: left;margin-right: 0.25em;color: #696969;}#sk-container-id-4 label.sk-toggleable__label-arrow:hover:before {color: black;}#sk-container-id-4 div.sk-estimator:hover label.sk-toggleable__label-arrow:before {color: black;}#sk-container-id-4 div.sk-toggleable__content {max-height: 0;max-width: 0;overflow: hidden;text-align: left;background-color: #f0f8ff;}#sk-container-id-4 div.sk-toggleable__content pre {margin: 0.2em;color: black;border-radius: 0.25em;background-color: #f0f8ff;}#sk-container-id-4 input.sk-toggleable__control:checked~div.sk-toggleable__content {max-height: 200px;max-width: 100%;overflow: auto;}#sk-container-id-4 input.sk-toggleable__control:checked~label.sk-toggleable__label-arrow:before {content: \"▾\";}#sk-container-id-4 div.sk-estimator input.sk-toggleable__control:checked~label.sk-toggleable__label {background-color: #d4ebff;}#sk-container-id-4 div.sk-label input.sk-toggleable__control:checked~label.sk-toggleable__label {background-color: #d4ebff;}#sk-container-id-4 input.sk-hidden--visually {border: 0;clip: rect(1px 1px 1px 1px);clip: rect(1px, 1px, 1px, 1px);height: 1px;margin: -1px;overflow: hidden;padding: 0;position: absolute;width: 1px;}#sk-container-id-4 div.sk-estimator {font-family: monospace;background-color: #f0f8ff;border: 1px dotted black;border-radius: 0.25em;box-sizing: border-box;margin-bottom: 0.5em;}#sk-container-id-4 div.sk-estimator:hover {background-color: #d4ebff;}#sk-container-id-4 div.sk-parallel-item::after {content: \"\";width: 100%;border-bottom: 1px solid gray;flex-grow: 1;}#sk-container-id-4 div.sk-label:hover label.sk-toggleable__label {background-color: #d4ebff;}#sk-container-id-4 div.sk-serial::before {content: \"\";position: absolute;border-left: 1px solid gray;box-sizing: border-box;top: 0;bottom: 0;left: 50%;z-index: 0;}#sk-container-id-4 div.sk-serial {display: flex;flex-direction: column;align-items: center;background-color: white;padding-right: 0.2em;padding-left: 0.2em;position: relative;}#sk-container-id-4 div.sk-item {position: relative;z-index: 1;}#sk-container-id-4 div.sk-parallel {display: flex;align-items: stretch;justify-content: center;background-color: white;position: relative;}#sk-container-id-4 div.sk-item::before, #sk-container-id-4 div.sk-parallel-item::before {content: \"\";position: absolute;border-left: 1px solid gray;box-sizing: border-box;top: 0;bottom: 0;left: 50%;z-index: -1;}#sk-container-id-4 div.sk-parallel-item {display: flex;flex-direction: column;z-index: 1;position: relative;background-color: white;}#sk-container-id-4 div.sk-parallel-item:first-child::after {align-self: flex-end;width: 50%;}#sk-container-id-4 div.sk-parallel-item:last-child::after {align-self: flex-start;width: 50%;}#sk-container-id-4 div.sk-parallel-item:only-child::after {width: 0;}#sk-container-id-4 div.sk-dashed-wrapped {border: 1px dashed gray;margin: 0 0.4em 0.5em 0.4em;box-sizing: border-box;padding-bottom: 0.4em;background-color: white;}#sk-container-id-4 div.sk-label label {font-family: monospace;font-weight: bold;display: inline-block;line-height: 1.2em;}#sk-container-id-4 div.sk-label-container {text-align: center;}#sk-container-id-4 div.sk-container {/* jupyter's `normalize.less` sets `[hidden] { display: none; }` but bootstrap.min.css set `[hidden] { display: none !important; }` so we also need the `!important` here to be able to override the default hidden behavior on the sphinx rendered scikit-learn.org. See: https://github.com/scikit-learn/scikit-learn/issues/21755 */display: inline-block !important;position: relative;}#sk-container-id-4 div.sk-text-repr-fallback {display: none;}</style><div id=\"sk-container-id-4\" class=\"sk-top-container\"><div class=\"sk-text-repr-fallback\"><pre>RandomForestRegressor(random_state=23)</pre><b>In a Jupyter environment, please rerun this cell to show the HTML representation or trust the notebook. <br />On GitHub, the HTML representation is unable to render, please try loading this page with nbviewer.org.</b></div><div class=\"sk-container\" hidden><div class=\"sk-item\"><div class=\"sk-estimator sk-toggleable\"><input class=\"sk-toggleable__control sk-hidden--visually\" id=\"sk-estimator-id-4\" type=\"checkbox\" checked><label for=\"sk-estimator-id-4\" class=\"sk-toggleable__label sk-toggleable__label-arrow\">RandomForestRegressor</label><div class=\"sk-toggleable__content\"><pre>RandomForestRegressor(random_state=23)</pre></div></div></div></div></div>"
      ],
      "text/plain": [
       "RandomForestRegressor(random_state=23)"
      ]
     },
     "execution_count": 75,
     "metadata": {},
     "output_type": "execute_result"
    }
   ],
   "source": [
    "model_d = RandomForestRegressor(random_state = 23)\n",
    "model_d.fit(X_train,y_train)"
   ]
  },
  {
   "cell_type": "code",
   "execution_count": 76,
   "id": "a3de3aea",
   "metadata": {},
   "outputs": [
    {
     "name": "stdout",
     "output_type": "stream",
     "text": [
      "訓練データに対しては 5.861043390867332\n",
      "評価データに対しては 10.815385116762167\n"
     ]
    }
   ],
   "source": [
    "#予測値の算出\n",
    "y_pred_train = model_d.predict(X_train)\n",
    "y_pred_test = model_d.predict(X_test)\n",
    "#MSEの算出\n",
    "mse_train = MSE(y_train, y_pred_train)\n",
    "mse_test = MSE(y_test, y_pred_test)\n",
    "#RMSEの算出\n",
    "rmse_train = np.sqrt(mse_train)\n",
    "rmse_test = np.sqrt(mse_test)\n",
    "#RMSEの表示\n",
    "print('訓練データに対しては'+ ' ' + str(rmse_train))\n",
    "print('評価データに対しては'+ ' ' + str(rmse_test))"
   ]
  },
  {
   "cell_type": "markdown",
   "id": "03c65fb6",
   "metadata": {},
   "source": [
    "### 特徴量重要度の確認"
   ]
  },
  {
   "cell_type": "code",
   "execution_count": null,
   "id": "d8a622f2",
   "metadata": {},
   "outputs": [],
   "source": [
    "feature_importance = pd.DataFrame({'feature':,'importances':model_d.feature_importances_}).sort_values(by=\"importances\", ascending=False)"
   ]
  },
  {
   "cell_type": "markdown",
   "id": "712f10cb",
   "metadata": {},
   "source": [
    "### 前処理において'name'をラベルエンコーディング，'weather'をラベルエンコーディングとした場合"
   ]
  },
  {
   "cell_type": "code",
   "execution_count": 82,
   "id": "4099670e",
   "metadata": {},
   "outputs": [],
   "source": [
    "model2 = RandomForestRegressor(random_state = 65)"
   ]
  },
  {
   "cell_type": "code",
   "execution_count": 83,
   "id": "c14a31a5",
   "metadata": {},
   "outputs": [],
   "source": [
    "params = {\"n_estimators\": [10, 50,100, 300, 500], \n",
    "          \"max_depth\": [3,5,10,15, 20,None], \n",
    "          \"max_features\": [\"sqrt\", \"log2\",None]}"
   ]
  },
  {
   "cell_type": "code",
   "execution_count": 84,
   "id": "2d102888",
   "metadata": {},
   "outputs": [],
   "source": [
    "model4 = GridSearchCV(model2, params,scoring=\"neg_mean_squared_error\")"
   ]
  },
  {
   "cell_type": "code",
   "execution_count": 85,
   "id": "f16011ff",
   "metadata": {},
   "outputs": [
    {
     "name": "stdout",
     "output_type": "stream",
     "text": [
      "{'max_depth': 3, 'max_features': None, 'n_estimators': 10}\n"
     ]
    }
   ],
   "source": [
    "model4.fit(X_train,y_train)\n",
    "print(model4.best_params_)"
   ]
  },
  {
   "cell_type": "code",
   "execution_count": 86,
   "id": "adb7d384",
   "metadata": {},
   "outputs": [
    {
     "name": "stdout",
     "output_type": "stream",
     "text": [
      "訓練データに対しては 13.5163796499478\n",
      "評価データに対しては 11.119677015666902\n"
     ]
    }
   ],
   "source": [
    "forest2 = model4.best_estimator_\n",
    "#予測値の算出\n",
    "y_pred_train = forest2.predict(X_train)\n",
    "y_pred_test = forest2.predict(X_test)\n",
    "#MSEの算出\n",
    "mse_train = MSE(y_train, y_pred_train)\n",
    "mse_test = MSE(y_test, y_pred_test)\n",
    "#RMSEの算出\n",
    "rmse_train = np.sqrt(mse_train)\n",
    "rmse_test = np.sqrt(mse_test)\n",
    "#RMSEの表示\n",
    "print('訓練データに対しては'+ ' ' + str(rmse_train))\n",
    "print('評価データに対しては'+ ' ' + str(rmse_test))"
   ]
  },
  {
   "cell_type": "markdown",
   "id": "02f510ad",
   "metadata": {},
   "source": [
    "#### パラメータ探索なし(探索なし)"
   ]
  },
  {
   "cell_type": "code",
   "execution_count": 43,
   "id": "eea5d54e",
   "metadata": {},
   "outputs": [],
   "source": [
    "model_d2 = RandomForestRegressor(random_state = 70)"
   ]
  },
  {
   "cell_type": "code",
   "execution_count": 44,
   "id": "4ba860d3",
   "metadata": {},
   "outputs": [
    {
     "data": {
      "text/html": [
       "<style>#sk-container-id-1 {color: black;background-color: white;}#sk-container-id-1 pre{padding: 0;}#sk-container-id-1 div.sk-toggleable {background-color: white;}#sk-container-id-1 label.sk-toggleable__label {cursor: pointer;display: block;width: 100%;margin-bottom: 0;padding: 0.3em;box-sizing: border-box;text-align: center;}#sk-container-id-1 label.sk-toggleable__label-arrow:before {content: \"▸\";float: left;margin-right: 0.25em;color: #696969;}#sk-container-id-1 label.sk-toggleable__label-arrow:hover:before {color: black;}#sk-container-id-1 div.sk-estimator:hover label.sk-toggleable__label-arrow:before {color: black;}#sk-container-id-1 div.sk-toggleable__content {max-height: 0;max-width: 0;overflow: hidden;text-align: left;background-color: #f0f8ff;}#sk-container-id-1 div.sk-toggleable__content pre {margin: 0.2em;color: black;border-radius: 0.25em;background-color: #f0f8ff;}#sk-container-id-1 input.sk-toggleable__control:checked~div.sk-toggleable__content {max-height: 200px;max-width: 100%;overflow: auto;}#sk-container-id-1 input.sk-toggleable__control:checked~label.sk-toggleable__label-arrow:before {content: \"▾\";}#sk-container-id-1 div.sk-estimator input.sk-toggleable__control:checked~label.sk-toggleable__label {background-color: #d4ebff;}#sk-container-id-1 div.sk-label input.sk-toggleable__control:checked~label.sk-toggleable__label {background-color: #d4ebff;}#sk-container-id-1 input.sk-hidden--visually {border: 0;clip: rect(1px 1px 1px 1px);clip: rect(1px, 1px, 1px, 1px);height: 1px;margin: -1px;overflow: hidden;padding: 0;position: absolute;width: 1px;}#sk-container-id-1 div.sk-estimator {font-family: monospace;background-color: #f0f8ff;border: 1px dotted black;border-radius: 0.25em;box-sizing: border-box;margin-bottom: 0.5em;}#sk-container-id-1 div.sk-estimator:hover {background-color: #d4ebff;}#sk-container-id-1 div.sk-parallel-item::after {content: \"\";width: 100%;border-bottom: 1px solid gray;flex-grow: 1;}#sk-container-id-1 div.sk-label:hover label.sk-toggleable__label {background-color: #d4ebff;}#sk-container-id-1 div.sk-serial::before {content: \"\";position: absolute;border-left: 1px solid gray;box-sizing: border-box;top: 0;bottom: 0;left: 50%;z-index: 0;}#sk-container-id-1 div.sk-serial {display: flex;flex-direction: column;align-items: center;background-color: white;padding-right: 0.2em;padding-left: 0.2em;position: relative;}#sk-container-id-1 div.sk-item {position: relative;z-index: 1;}#sk-container-id-1 div.sk-parallel {display: flex;align-items: stretch;justify-content: center;background-color: white;position: relative;}#sk-container-id-1 div.sk-item::before, #sk-container-id-1 div.sk-parallel-item::before {content: \"\";position: absolute;border-left: 1px solid gray;box-sizing: border-box;top: 0;bottom: 0;left: 50%;z-index: -1;}#sk-container-id-1 div.sk-parallel-item {display: flex;flex-direction: column;z-index: 1;position: relative;background-color: white;}#sk-container-id-1 div.sk-parallel-item:first-child::after {align-self: flex-end;width: 50%;}#sk-container-id-1 div.sk-parallel-item:last-child::after {align-self: flex-start;width: 50%;}#sk-container-id-1 div.sk-parallel-item:only-child::after {width: 0;}#sk-container-id-1 div.sk-dashed-wrapped {border: 1px dashed gray;margin: 0 0.4em 0.5em 0.4em;box-sizing: border-box;padding-bottom: 0.4em;background-color: white;}#sk-container-id-1 div.sk-label label {font-family: monospace;font-weight: bold;display: inline-block;line-height: 1.2em;}#sk-container-id-1 div.sk-label-container {text-align: center;}#sk-container-id-1 div.sk-container {/* jupyter's `normalize.less` sets `[hidden] { display: none; }` but bootstrap.min.css set `[hidden] { display: none !important; }` so we also need the `!important` here to be able to override the default hidden behavior on the sphinx rendered scikit-learn.org. See: https://github.com/scikit-learn/scikit-learn/issues/21755 */display: inline-block !important;position: relative;}#sk-container-id-1 div.sk-text-repr-fallback {display: none;}</style><div id=\"sk-container-id-1\" class=\"sk-top-container\"><div class=\"sk-text-repr-fallback\"><pre>RandomForestRegressor(random_state=70)</pre><b>In a Jupyter environment, please rerun this cell to show the HTML representation or trust the notebook. <br />On GitHub, the HTML representation is unable to render, please try loading this page with nbviewer.org.</b></div><div class=\"sk-container\" hidden><div class=\"sk-item\"><div class=\"sk-estimator sk-toggleable\"><input class=\"sk-toggleable__control sk-hidden--visually\" id=\"sk-estimator-id-1\" type=\"checkbox\" checked><label for=\"sk-estimator-id-1\" class=\"sk-toggleable__label sk-toggleable__label-arrow\">RandomForestRegressor</label><div class=\"sk-toggleable__content\"><pre>RandomForestRegressor(random_state=70)</pre></div></div></div></div></div>"
      ],
      "text/plain": [
       "RandomForestRegressor(random_state=70)"
      ]
     },
     "execution_count": 44,
     "metadata": {},
     "output_type": "execute_result"
    }
   ],
   "source": [
    "model_d2.fit(X_train,y_train)"
   ]
  },
  {
   "cell_type": "code",
   "execution_count": 92,
   "id": "36fd1ca2",
   "metadata": {},
   "outputs": [
    {
     "name": "stdout",
     "output_type": "stream",
     "text": [
      "訓練データに対しては 5.546769763999117\n",
      "評価データに対しては 10.55591777156302\n"
     ]
    }
   ],
   "source": [
    "#予測値の算出\n",
    "y_pred_train = model_d2.predict(X_train)\n",
    "y_pred_test = model_d2.predict(X_test)\n",
    "#MSEの算出\n",
    "mse_train = MSE(y_train, y_pred_train)\n",
    "mse_test = MSE(y_test, y_pred_test)\n",
    "#RMSEの算出\n",
    "rmse_train = np.sqrt(mse_train)\n",
    "rmse_test = np.sqrt(mse_test)\n",
    "#RMSEの表示\n",
    "print('訓練データに対しては'+ ' ' + str(rmse_train))\n",
    "print('評価データに対しては'+ ' ' + str(rmse_test))"
   ]
  },
  {
   "cell_type": "code",
   "execution_count": 51,
   "id": "fce08709",
   "metadata": {},
   "outputs": [],
   "source": [
    "feature_importance = pd.DataFrame({'feature':X_feature,'importances': model_d2.feature_importances_}).sort_values(by=\"importances\", ascending=False)"
   ]
  },
  {
   "cell_type": "code",
   "execution_count": 52,
   "id": "79f28258",
   "metadata": {},
   "outputs": [
    {
     "data": {
      "text/html": [
       "<div>\n",
       "<style scoped>\n",
       "    .dataframe tbody tr th:only-of-type {\n",
       "        vertical-align: middle;\n",
       "    }\n",
       "\n",
       "    .dataframe tbody tr th {\n",
       "        vertical-align: top;\n",
       "    }\n",
       "\n",
       "    .dataframe thead th {\n",
       "        text-align: right;\n",
       "    }\n",
       "</style>\n",
       "<table border=\"1\" class=\"dataframe\">\n",
       "  <thead>\n",
       "    <tr style=\"text-align: right;\">\n",
       "      <th></th>\n",
       "      <th>feature</th>\n",
       "      <th>importances</th>\n",
       "    </tr>\n",
       "  </thead>\n",
       "  <tbody>\n",
       "    <tr>\n",
       "      <th>7</th>\n",
       "      <td>remarks_b</td>\n",
       "      <td>0.206514</td>\n",
       "    </tr>\n",
       "    <tr>\n",
       "      <th>8</th>\n",
       "      <td>week_Fri</td>\n",
       "      <td>0.168902</td>\n",
       "    </tr>\n",
       "    <tr>\n",
       "      <th>6</th>\n",
       "      <td>name_label</td>\n",
       "      <td>0.151057</td>\n",
       "    </tr>\n",
       "    <tr>\n",
       "      <th>1</th>\n",
       "      <td>kcal</td>\n",
       "      <td>0.141163</td>\n",
       "    </tr>\n",
       "    <tr>\n",
       "      <th>4</th>\n",
       "      <td>temperature</td>\n",
       "      <td>0.130728</td>\n",
       "    </tr>\n",
       "    <tr>\n",
       "      <th>5</th>\n",
       "      <td>weather_label</td>\n",
       "      <td>0.083350</td>\n",
       "    </tr>\n",
       "    <tr>\n",
       "      <th>3</th>\n",
       "      <td>precipitation</td>\n",
       "      <td>0.049197</td>\n",
       "    </tr>\n",
       "    <tr>\n",
       "      <th>0</th>\n",
       "      <td>soldout</td>\n",
       "      <td>0.014732</td>\n",
       "    </tr>\n",
       "    <tr>\n",
       "      <th>9</th>\n",
       "      <td>week_Mon</td>\n",
       "      <td>0.013315</td>\n",
       "    </tr>\n",
       "    <tr>\n",
       "      <th>10</th>\n",
       "      <td>week_Thu</td>\n",
       "      <td>0.008936</td>\n",
       "    </tr>\n",
       "    <tr>\n",
       "      <th>13</th>\n",
       "      <td>event_キャリアアップ支援セミナー</td>\n",
       "      <td>0.007386</td>\n",
       "    </tr>\n",
       "    <tr>\n",
       "      <th>12</th>\n",
       "      <td>week_Wed</td>\n",
       "      <td>0.007375</td>\n",
       "    </tr>\n",
       "    <tr>\n",
       "      <th>11</th>\n",
       "      <td>week_Tue</td>\n",
       "      <td>0.006222</td>\n",
       "    </tr>\n",
       "    <tr>\n",
       "      <th>15</th>\n",
       "      <td>event_特になし</td>\n",
       "      <td>0.006015</td>\n",
       "    </tr>\n",
       "    <tr>\n",
       "      <th>2</th>\n",
       "      <td>payday</td>\n",
       "      <td>0.003810</td>\n",
       "    </tr>\n",
       "    <tr>\n",
       "      <th>14</th>\n",
       "      <td>event_ママの会</td>\n",
       "      <td>0.001297</td>\n",
       "    </tr>\n",
       "  </tbody>\n",
       "</table>\n",
       "</div>"
      ],
      "text/plain": [
       "                feature  importances\n",
       "7             remarks_b     0.206514\n",
       "8              week_Fri     0.168902\n",
       "6            name_label     0.151057\n",
       "1                  kcal     0.141163\n",
       "4           temperature     0.130728\n",
       "5         weather_label     0.083350\n",
       "3         precipitation     0.049197\n",
       "0               soldout     0.014732\n",
       "9              week_Mon     0.013315\n",
       "10             week_Thu     0.008936\n",
       "13  event_キャリアアップ支援セミナー     0.007386\n",
       "12             week_Wed     0.007375\n",
       "11             week_Tue     0.006222\n",
       "15           event_特になし     0.006015\n",
       "2                payday     0.003810\n",
       "14           event_ママの会     0.001297"
      ]
     },
     "execution_count": 52,
     "metadata": {},
     "output_type": "execute_result"
    }
   ],
   "source": [
    "### 特徴量重要度の図示\n",
    "feature_importance"
   ]
  },
  {
   "cell_type": "markdown",
   "id": "ef6b431f",
   "metadata": {},
   "source": [
    "### 評価用データの読み込み"
   ]
  },
  {
   "cell_type": "code",
   "execution_count": 60,
   "id": "85c14d5d",
   "metadata": {},
   "outputs": [
    {
     "name": "stdout",
     "output_type": "stream",
     "text": [
      "         dateid week  soldout            name   kcal   remarks event  payday  \\\n",
      "0    2015-09-07  Mon        0       豚肉の柚子胡椒炒め  428.0       NaN   NaN     NaN   \n",
      "1    2015-09-08  Tue        0         鶏肉の塩麹焼き  420.0       NaN   NaN     NaN   \n",
      "2    2015-09-09  Wed        0       サバの味醂干し焼き  456.0       NaN   NaN     NaN   \n",
      "3    2015-09-10  Thu        1            塩唐揚げ  439.0       NaN   NaN     1.0   \n",
      "4    2015-09-11  Fri        0  カレーライス(ポークカレー)    NaN  お楽しみメニュー   NaN     NaN   \n",
      "..          ...  ...      ...             ...    ...       ...   ...     ...   \n",
      "139  2016-05-19  Thu        1        豚肉ザーサイ豆腐  490.0       NaN   NaN     NaN   \n",
      "140  2016-05-20  Fri        1          キーマカレー  485.0       NaN  ママの会     NaN   \n",
      "141  2016-05-23  Mon        0         鶏肉の照り焼き  505.0       NaN   NaN     NaN   \n",
      "142  2016-05-24  Tue        1         海鮮チリソース  485.0       NaN   NaN     NaN   \n",
      "143  2016-05-25  Wed        0     ぶり照り焼き・根菜添え  508.0       NaN   NaN     NaN   \n",
      "\n",
      "     weather  precipitation  temperature  \n",
      "0       雨時々曇           19.0         23.0  \n",
      "1         大雨           65.5         20.0  \n",
      "2    大雨、雷を伴う          156.5         22.4  \n",
      "3       雨一時曇           50.0         21.8  \n",
      "4       晴一時曇            0.0         23.9  \n",
      "..       ...            ...          ...  \n",
      "139     晴後薄曇            0.0         19.3  \n",
      "140        曇            0.0         17.2  \n",
      "141   薄曇後時々晴            0.0         23.5  \n",
      "142    薄曇一時晴            0.0         23.4  \n",
      "143        曇            0.0         22.2  \n",
      "\n",
      "[144 rows x 11 columns]\n"
     ]
    }
   ],
   "source": [
    "test_df = pd.read_csv(test_path)\n",
    "print(test_df)"
   ]
  },
  {
   "cell_type": "code",
   "execution_count": 78,
   "id": "d525f40a",
   "metadata": {},
   "outputs": [],
   "source": [
    "test_df['kcal'] = test_df['kcal'].fillna(method = 'ffill')\n",
    "test_df = test_df.fillna({'payday': 0.0, 'remarks':'特になし', 'event' : '特になし'})\n",
    "# 名前をラベルエンコーディング\n",
    "le = le.fit(test_df['name'])\n",
    "test_df['name_label'] = le.transform(test_df['name'])\n",
    "# 天気をカウントエンコーディング\n",
    "test_df['weather_count'] = test_df.groupby('weather')['weather'].transform('count')"
   ]
  },
  {
   "cell_type": "code",
   "execution_count": 61,
   "id": "0c3534be",
   "metadata": {},
   "outputs": [],
   "source": [
    "test_df['kcal'] = test_df['kcal'].fillna(method = 'ffill')\n",
    "test_df = test_df.fillna({'payday': 0.0, 'remarks':'特になし', 'event' : '特になし'})"
   ]
  },
  {
   "cell_type": "code",
   "execution_count": 62,
   "id": "5cd14a7b",
   "metadata": {},
   "outputs": [],
   "source": [
    "le_1 = le_1.fit(test_df['name'])\n",
    "test_df['name_label'] = le_1.transform(test_df['name'])"
   ]
  },
  {
   "cell_type": "code",
   "execution_count": 63,
   "id": "0a916b0f",
   "metadata": {},
   "outputs": [],
   "source": [
    "le_2 = le_2.fit(test_df['weather'])\n",
    "test_df['weather_label'] = le_2.transform(test_df['weather'])"
   ]
  },
  {
   "cell_type": "code",
   "execution_count": 64,
   "id": "be76306e",
   "metadata": {},
   "outputs": [
    {
     "name": "stdout",
     "output_type": "stream",
     "text": [
      "         dateid week  soldout            name   kcal   remarks event  payday  \\\n",
      "0    2015-09-07  Mon        0       豚肉の柚子胡椒炒め  428.0      特になし  特になし     0.0   \n",
      "1    2015-09-08  Tue        0         鶏肉の塩麹焼き  420.0      特になし  特になし     0.0   \n",
      "2    2015-09-09  Wed        0       サバの味醂干し焼き  456.0      特になし  特になし     0.0   \n",
      "3    2015-09-10  Thu        1            塩唐揚げ  439.0      特になし  特になし     1.0   \n",
      "4    2015-09-11  Fri        0  カレーライス(ポークカレー)  439.0  お楽しみメニュー  特になし     0.0   \n",
      "..          ...  ...      ...             ...    ...       ...   ...     ...   \n",
      "139  2016-05-19  Thu        1        豚肉ザーサイ豆腐  490.0      特になし  特になし     0.0   \n",
      "140  2016-05-20  Fri        1          キーマカレー  485.0      特になし  ママの会     0.0   \n",
      "141  2016-05-23  Mon        0         鶏肉の照り焼き  505.0      特になし  特になし     0.0   \n",
      "142  2016-05-24  Tue        1         海鮮チリソース  485.0      特になし  特になし     0.0   \n",
      "143  2016-05-25  Wed        0     ぶり照り焼き・根菜添え  508.0      特になし  特になし     0.0   \n",
      "\n",
      "     weather  precipitation  temperature  name_label  weather_label  \n",
      "0       雨時々曇           19.0         23.0          85             44  \n",
      "1         大雨           65.5         20.0         100              0  \n",
      "2    大雨、雷を伴う          156.5         22.4          28              1  \n",
      "3       雨一時曇           50.0         21.8          59             39  \n",
      "4       晴一時曇            0.0         23.9          24              8  \n",
      "..       ...            ...          ...         ...            ...  \n",
      "139     晴後薄曇            0.0         19.3          89             14  \n",
      "140        曇            0.0         17.2          25             18  \n",
      "141   薄曇後時々晴            0.0         23.5         102             34  \n",
      "142    薄曇一時晴            0.0         23.4          66             33  \n",
      "143        曇            0.0         22.2          13             18  \n",
      "\n",
      "[144 rows x 13 columns]\n"
     ]
    }
   ],
   "source": [
    "print(test_df)"
   ]
  },
  {
   "cell_type": "code",
   "execution_count": 65,
   "id": "fb38865b",
   "metadata": {},
   "outputs": [],
   "source": [
    "test_df = test_df.drop(['dateid'],axis =1)"
   ]
  },
  {
   "cell_type": "code",
   "execution_count": 66,
   "id": "095e2472",
   "metadata": {},
   "outputs": [
    {
     "name": "stdout",
     "output_type": "stream",
     "text": [
      "    week  soldout            name   kcal   remarks event  payday  weather  \\\n",
      "0    Mon        0       豚肉の柚子胡椒炒め  428.0      特になし  特になし     0.0     雨時々曇   \n",
      "1    Tue        0         鶏肉の塩麹焼き  420.0      特になし  特になし     0.0       大雨   \n",
      "2    Wed        0       サバの味醂干し焼き  456.0      特になし  特になし     0.0  大雨、雷を伴う   \n",
      "3    Thu        1            塩唐揚げ  439.0      特になし  特になし     1.0     雨一時曇   \n",
      "4    Fri        0  カレーライス(ポークカレー)  439.0  お楽しみメニュー  特になし     0.0     晴一時曇   \n",
      "..   ...      ...             ...    ...       ...   ...     ...      ...   \n",
      "139  Thu        1        豚肉ザーサイ豆腐  490.0      特になし  特になし     0.0     晴後薄曇   \n",
      "140  Fri        1          キーマカレー  485.0      特になし  ママの会     0.0        曇   \n",
      "141  Mon        0         鶏肉の照り焼き  505.0      特になし  特になし     0.0   薄曇後時々晴   \n",
      "142  Tue        1         海鮮チリソース  485.0      特になし  特になし     0.0    薄曇一時晴   \n",
      "143  Wed        0     ぶり照り焼き・根菜添え  508.0      特になし  特になし     0.0        曇   \n",
      "\n",
      "     precipitation  temperature  name_label  weather_label  \n",
      "0             19.0         23.0          85             44  \n",
      "1             65.5         20.0         100              0  \n",
      "2            156.5         22.4          28              1  \n",
      "3             50.0         21.8          59             39  \n",
      "4              0.0         23.9          24              8  \n",
      "..             ...          ...         ...            ...  \n",
      "139            0.0         19.3          89             14  \n",
      "140            0.0         17.2          25             18  \n",
      "141            0.0         23.5         102             34  \n",
      "142            0.0         23.4          66             33  \n",
      "143            0.0         22.2          13             18  \n",
      "\n",
      "[144 rows x 12 columns]\n"
     ]
    }
   ],
   "source": [
    "print(test_df)"
   ]
  },
  {
   "cell_type": "code",
   "execution_count": 67,
   "id": "3e9dfaed",
   "metadata": {},
   "outputs": [],
   "source": [
    "test_df['remarks_b'] = test_df['remarks']"
   ]
  },
  {
   "cell_type": "code",
   "execution_count": 68,
   "id": "433e3352",
   "metadata": {},
   "outputs": [
    {
     "name": "stdout",
     "output_type": "stream",
     "text": [
      "    week  soldout            name   kcal   remarks event  payday  weather  \\\n",
      "0    Mon        0       豚肉の柚子胡椒炒め  428.0      特になし  特になし     0.0     雨時々曇   \n",
      "1    Tue        0         鶏肉の塩麹焼き  420.0      特になし  特になし     0.0       大雨   \n",
      "2    Wed        0       サバの味醂干し焼き  456.0      特になし  特になし     0.0  大雨、雷を伴う   \n",
      "3    Thu        1            塩唐揚げ  439.0      特になし  特になし     1.0     雨一時曇   \n",
      "4    Fri        0  カレーライス(ポークカレー)  439.0  お楽しみメニュー  特になし     0.0     晴一時曇   \n",
      "..   ...      ...             ...    ...       ...   ...     ...      ...   \n",
      "139  Thu        1        豚肉ザーサイ豆腐  490.0      特になし  特になし     0.0     晴後薄曇   \n",
      "140  Fri        1          キーマカレー  485.0      特になし  ママの会     0.0        曇   \n",
      "141  Mon        0         鶏肉の照り焼き  505.0      特になし  特になし     0.0   薄曇後時々晴   \n",
      "142  Tue        1         海鮮チリソース  485.0      特になし  特になし     0.0    薄曇一時晴   \n",
      "143  Wed        0     ぶり照り焼き・根菜添え  508.0      特になし  特になし     0.0        曇   \n",
      "\n",
      "     precipitation  temperature  name_label  weather_label remarks_b  \n",
      "0             19.0         23.0          85             44         0  \n",
      "1             65.5         20.0         100              0         0  \n",
      "2            156.5         22.4          28              1         0  \n",
      "3             50.0         21.8          59             39         0  \n",
      "4              0.0         23.9          24              8         1  \n",
      "..             ...          ...         ...            ...       ...  \n",
      "139            0.0         19.3          89             14         0  \n",
      "140            0.0         17.2          25             18         0  \n",
      "141            0.0         23.5         102             34         0  \n",
      "142            0.0         23.4          66             33         0  \n",
      "143            0.0         22.2          13             18         0  \n",
      "\n",
      "[144 rows x 13 columns]\n"
     ]
    }
   ],
   "source": [
    "test_df['remarks_b']  = test_df['remarks']\n",
    "test_df.loc[test_df.remarks != '特になし','remarks_b']='1'\n",
    "test_df.loc[test_df.remarks == '特になし','remarks_b']='0'\n",
    "print(test_df)"
   ]
  },
  {
   "cell_type": "code",
   "execution_count": 69,
   "id": "93191434",
   "metadata": {},
   "outputs": [],
   "source": [
    "### いらないものを消去\n",
    "test_df = test_df.drop(['name','remarks','weather'],axis = 1)"
   ]
  },
  {
   "cell_type": "code",
   "execution_count": 87,
   "id": "1675f451",
   "metadata": {},
   "outputs": [
    {
     "name": "stdout",
     "output_type": "stream",
     "text": [
      "     soldout   kcal  payday  precipitation  temperature  name_label  \\\n",
      "0          0  428.0     0.0           19.0         23.0          85   \n",
      "1          0  420.0     0.0           65.5         20.0         100   \n",
      "2          0  456.0     0.0          156.5         22.4          28   \n",
      "3          1  439.0     1.0           50.0         21.8          59   \n",
      "4          0  439.0     0.0            0.0         23.9          24   \n",
      "..       ...    ...     ...            ...          ...         ...   \n",
      "139        1  490.0     0.0            0.0         19.3          89   \n",
      "140        1  485.0     0.0            0.0         17.2          25   \n",
      "141        0  505.0     0.0            0.0         23.5         102   \n",
      "142        1  485.0     0.0            0.0         23.4          66   \n",
      "143        0  508.0     0.0            0.0         22.2          13   \n",
      "\n",
      "     weather_label  remarks_b  week_Fri  week_Mon  week_Thu  week_Tue  \\\n",
      "0               44          0         0         1         0         0   \n",
      "1                0          0         0         0         0         1   \n",
      "2                1          0         0         0         0         0   \n",
      "3               39          0         0         0         1         0   \n",
      "4                8          1         1         0         0         0   \n",
      "..             ...        ...       ...       ...       ...       ...   \n",
      "139             14          0         0         0         1         0   \n",
      "140             18          0         1         0         0         0   \n",
      "141             34          0         0         1         0         0   \n",
      "142             33          0         0         0         0         1   \n",
      "143             18          0         0         0         0         0   \n",
      "\n",
      "     week_Wed  event_キャリアアップ支援セミナー  event_ママの会  event_特になし  \n",
      "0           0                    0           0           1  \n",
      "1           0                    0           0           1  \n",
      "2           1                    0           0           1  \n",
      "3           0                    0           0           1  \n",
      "4           0                    0           0           1  \n",
      "..        ...                  ...         ...         ...  \n",
      "139         0                    0           0           1  \n",
      "140         0                    0           1           0  \n",
      "141         0                    0           0           1  \n",
      "142         0                    0           0           1  \n",
      "143         1                    0           0           1  \n",
      "\n",
      "[144 rows x 16 columns]\n"
     ]
    }
   ],
   "source": [
    "print(test_df)"
   ]
  },
  {
   "cell_type": "code",
   "execution_count": 88,
   "id": "c8828dc1",
   "metadata": {},
   "outputs": [],
   "source": [
    "test_df['remarks_b'] = test_df['remarks_b'].astype('int64')"
   ]
  },
  {
   "cell_type": "code",
   "execution_count": 72,
   "id": "1581765b",
   "metadata": {},
   "outputs": [],
   "source": [
    "test_df = pd.get_dummies(test_df)"
   ]
  },
  {
   "cell_type": "code",
   "execution_count": 73,
   "id": "1882f6e0",
   "metadata": {},
   "outputs": [
    {
     "name": "stdout",
     "output_type": "stream",
     "text": [
      "     soldout   kcal  payday  precipitation  temperature  name_label  \\\n",
      "0          0  428.0     0.0           19.0         23.0          85   \n",
      "1          0  420.0     0.0           65.5         20.0         100   \n",
      "2          0  456.0     0.0          156.5         22.4          28   \n",
      "3          1  439.0     1.0           50.0         21.8          59   \n",
      "4          0  439.0     0.0            0.0         23.9          24   \n",
      "..       ...    ...     ...            ...          ...         ...   \n",
      "139        1  490.0     0.0            0.0         19.3          89   \n",
      "140        1  485.0     0.0            0.0         17.2          25   \n",
      "141        0  505.0     0.0            0.0         23.5         102   \n",
      "142        1  485.0     0.0            0.0         23.4          66   \n",
      "143        0  508.0     0.0            0.0         22.2          13   \n",
      "\n",
      "     weather_label  remarks_b  week_Fri  week_Mon  week_Thu  week_Tue  \\\n",
      "0               44          0         0         1         0         0   \n",
      "1                0          0         0         0         0         1   \n",
      "2                1          0         0         0         0         0   \n",
      "3               39          0         0         0         1         0   \n",
      "4                8          1         1         0         0         0   \n",
      "..             ...        ...       ...       ...       ...       ...   \n",
      "139             14          0         0         0         1         0   \n",
      "140             18          0         1         0         0         0   \n",
      "141             34          0         0         1         0         0   \n",
      "142             33          0         0         0         0         1   \n",
      "143             18          0         0         0         0         0   \n",
      "\n",
      "     week_Wed  event_キャリアアップ支援セミナー  event_ママの会  event_特になし  \n",
      "0           0                    0           0           1  \n",
      "1           0                    0           0           1  \n",
      "2           1                    0           0           1  \n",
      "3           0                    0           0           1  \n",
      "4           0                    0           0           1  \n",
      "..        ...                  ...         ...         ...  \n",
      "139         0                    0           0           1  \n",
      "140         0                    0           1           0  \n",
      "141         0                    0           0           1  \n",
      "142         0                    0           0           1  \n",
      "143         1                    0           0           1  \n",
      "\n",
      "[144 rows x 16 columns]\n"
     ]
    }
   ],
   "source": [
    "print(test_df)"
   ]
  },
  {
   "cell_type": "code",
   "execution_count": 74,
   "id": "406f20bc",
   "metadata": {},
   "outputs": [],
   "source": [
    "test = test_df.values"
   ]
  },
  {
   "cell_type": "code",
   "execution_count": 75,
   "id": "9d7fa1cb",
   "metadata": {},
   "outputs": [],
   "source": [
    "pred = model_d2.predict(test)"
   ]
  },
  {
   "cell_type": "code",
   "execution_count": 89,
   "id": "7274263d",
   "metadata": {},
   "outputs": [],
   "source": [
    "pred2 = forest2.predict(test)"
   ]
  },
  {
   "cell_type": "code",
   "execution_count": 80,
   "id": "ce9097ae",
   "metadata": {},
   "outputs": [
    {
     "name": "stdout",
     "output_type": "stream",
     "text": [
      "[ 70.29  67.1   62.18  68.37 110.4   63.42  60.71  55.86  66.2   55.15\n",
      "  57.91 120.04  69.15  54.74  62.61  75.32  64.2   61.49 110.42  66.93\n",
      "  63.79  60.56  62.87  46.44  66.37  57.01  65.94  65.99 118.57  56.73\n",
      "  61.11  68.24  53.94  59.94  67.57  63.52  58.97 110.39  67.64  64.85\n",
      "  64.66  62.94  67.36  65.34  61.57  62.91  61.05 110.65  65.29  63.84\n",
      "  53.43  50.84  66.91  77.28 110.36  66.72  65.45  63.17  44.93  73.21\n",
      "  66.47  68.27  58.37 111.9   70.84  69.38  65.62  58.77  46.83  67.32\n",
      "  60.31  64.02  61.37 111.77  67.8   67.    65.64  61.89  60.9   61.04\n",
      "  62.79 109.94  61.53  65.04  64.42  66.35  49.14  65.48  68.37  66.44\n",
      "  63.03  72.13  59.9   67.42  60.53  49.49  72.58  63.9   64.61  61.43\n",
      " 111.08  65.08  63.6   55.59  50.33  63.41  63.7   62.51  58.78 111.14\n",
      "  63.64  61.3   56.98  73.41  53.93  63.73  58.06  58.    61.4  110.04\n",
      "  64.47  60.33  61.3   61.9  110.97  64.05  62.07  57.74  69.19  66.78\n",
      "  52.46  65.57  62.04  58.95  59.1  110.71  63.83  69.61  55.89  61.41\n",
      "  49.69  64.59  62.24  56.6 ]\n"
     ]
    }
   ],
   "source": [
    "print(pred)"
   ]
  },
  {
   "cell_type": "code",
   "execution_count": 90,
   "id": "2609fae4",
   "metadata": {},
   "outputs": [
    {
     "name": "stdout",
     "output_type": "stream",
     "text": [
      "[ 61.74561673  64.62245823  60.78803026  62.40791277 118.57751094\n",
      "  59.02875749  59.02875749  58.73346705  63.66487175  57.06778559\n",
      "  59.69105352 114.58045211  59.02875749  58.07117101  59.69105352\n",
      "  64.59715422  61.40804861  61.40804861 118.57751094  59.69105352\n",
      "  62.39093909  61.40804861  61.40804861  57.04248159  59.69105352\n",
      "  58.73346705  62.39093909  62.36563508 118.57751094  61.40804861\n",
      "  62.36563508  64.59715422  56.08489511  61.40804861  62.36563508\n",
      "  61.40804861  61.40804861 118.57751094  61.40804861  62.36563508\n",
      "  62.36563508  62.36563508  59.27400072  62.36563508  61.40804861\n",
      "  61.40804861  62.36563508 118.57751094  62.36563508  61.40804861\n",
      "  61.40804861  57.04248159  62.36563508  68.73677457 118.57751094\n",
      "  62.36563508  61.40804861  62.36563508  57.04248159  64.59715422\n",
      "  62.36563508  62.36563508  62.36563508 118.57751094  62.36563508\n",
      "  62.36563508  61.40804861  62.36563508  56.08489511  62.36563508\n",
      "  61.40804861  61.40804861  62.36563508 118.57751094  62.36563508\n",
      "  62.36563508  62.36563508  62.36563508  62.36563508  62.36563508\n",
      "  62.36563508 118.57751094  61.40804861  62.36563508  61.40804861\n",
      "  62.36563508  57.04248159  61.40804861  62.36563508  62.36563508\n",
      "  62.36563508  64.59715422  61.40804861  64.59715422  62.36563508\n",
      "  57.04248159  64.59715422  62.36563508  62.36563508  62.36563508\n",
      " 118.57751094  62.36563508  62.36563508  62.36563508  57.04248159\n",
      "  61.40804861  62.36563508  61.40804861  61.40804861 118.57751094\n",
      "  62.36563508  62.36563508  61.40804861  64.59715422  57.04248159\n",
      "  62.36563508  61.40804861  62.36563508  63.63956775 118.57751094\n",
      "  59.69105352  62.36563508  62.36563508  62.39093909 118.57751094\n",
      "  59.69105352  59.69105352  59.69105352  67.12610621  59.69105352\n",
      "  54.36790003  63.66487175  62.39093909  61.43335261  59.69105352\n",
      " 118.57751094  59.69105352  72.69678211  58.73346705  59.69105352\n",
      "  53.41031355  59.02875749  59.02875749  58.07117101]\n"
     ]
    }
   ],
   "source": [
    "print(pred2)"
   ]
  },
  {
   "cell_type": "markdown",
   "id": "0fa13ff8",
   "metadata": {},
   "source": [
    "### 提出ファイルの作成"
   ]
  },
  {
   "cell_type": "code",
   "execution_count": 91,
   "id": "036737cb",
   "metadata": {},
   "outputs": [],
   "source": [
    "submit = pd.read_csv(submit_path,header=None)\n",
    "submit[1] = pred\n",
    "submit.to_csv(\"submit7.csv\", index=False, header=False)"
   ]
  },
  {
   "cell_type": "code",
   "execution_count": null,
   "id": "31fff495",
   "metadata": {},
   "outputs": [],
   "source": []
  }
 ],
 "metadata": {
  "kernelspec": {
   "display_name": "Python 3 (ipykernel)",
   "language": "python",
   "name": "python3"
  },
  "language_info": {
   "codemirror_mode": {
    "name": "ipython",
    "version": 3
   },
   "file_extension": ".py",
   "mimetype": "text/x-python",
   "name": "python",
   "nbconvert_exporter": "python",
   "pygments_lexer": "ipython3",
   "version": "3.9.13"
  }
 },
 "nbformat": 4,
 "nbformat_minor": 5
}
